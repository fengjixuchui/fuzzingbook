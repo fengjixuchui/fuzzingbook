{
 "cells": [
  {
   "cell_type": "markdown",
   "metadata": {
    "button": false,
    "new_sheet": false,
    "run_control": {
     "read_only": false
    }
   },
   "source": [
    "# Class Diagrams\n",
    "\n",
    "This is a simple viewer for class diagrams.  Customized towards the book."
   ]
  },
  {
   "cell_type": "markdown",
   "metadata": {
    "button": false,
    "new_sheet": false,
    "run_control": {
     "read_only": false
    }
   },
   "source": [
    "**Prerequisites**\n",
    "\n",
    "* _Refer to earlier chapters as notebooks here, as here:_ [Earlier Chapter](Fuzzer.ipynb)."
   ]
  },
  {
   "cell_type": "code",
   "execution_count": null,
   "metadata": {
    "button": false,
    "new_sheet": false,
    "run_control": {
     "read_only": false
    },
    "slideshow": {
     "slide_type": "skip"
    }
   },
   "outputs": [],
   "source": [
    "import bookutils"
   ]
  },
  {
   "cell_type": "markdown",
   "metadata": {},
   "source": [
    "## Synopsis\n",
    "<!-- Automatically generated. Do not edit. -->\n",
    "\n",
    "To [use the code provided in this chapter](Importing.ipynb), write\n",
    "\n",
    "```python\n",
    ">>> from fuzzingbook.ClassDiagram import <identifier>\n",
    "```\n",
    "\n",
    "and then make use of the following features.\n",
    "\n",
    "\n",
    "The `display_class_hierarchy()` function shows the class hierarchy for the given class.  Methods with docstrings (intended to be used by the public) are shown in bold.\n",
    "\n",
    "```python\n",
    ">>> display_class_hierarchy(GrammarFuzzer)\n",
    "```\n",
    "\n",
    "![](PICS/ClassDiagram-synopsis-1.svg)\n",
    "\n"
   ]
  },
  {
   "cell_type": "markdown",
   "metadata": {
    "button": false,
    "new_sheet": true,
    "run_control": {
     "read_only": false
    }
   },
   "source": [
    "## Getting a Class Hierarchy"
   ]
  },
  {
   "cell_type": "markdown",
   "metadata": {},
   "source": [
    "Using `mro()`, we can access the class hierarchy.  We make sure to avoid duplicates created by `class X(X)`."
   ]
  },
  {
   "cell_type": "code",
   "execution_count": null,
   "metadata": {},
   "outputs": [],
   "source": [
    "def class_hierarchy(cls):\n",
    "    superclasses = cls.mro()\n",
    "    hierarchy = []\n",
    "    last_superclass_name = \"\"\n",
    "    for superclass in superclasses:\n",
    "        if superclass.__name__ != last_superclass_name:\n",
    "            hierarchy.append(superclass)\n",
    "            last_superclass_name = superclass.__name__\n",
    "    return hierarchy"
   ]
  },
  {
   "cell_type": "markdown",
   "metadata": {},
   "source": [
    "Here's an example:"
   ]
  },
  {
   "cell_type": "code",
   "execution_count": null,
   "metadata": {},
   "outputs": [],
   "source": [
    "from GrammarCoverageFuzzer import GrammarCoverageFuzzer"
   ]
  },
  {
   "cell_type": "code",
   "execution_count": null,
   "metadata": {},
   "outputs": [],
   "source": [
    "from Fuzzer import Fuzzer"
   ]
  },
  {
   "cell_type": "code",
   "execution_count": null,
   "metadata": {},
   "outputs": [],
   "source": [
    "from GrammarFuzzer import GrammarFuzzer"
   ]
  },
  {
   "cell_type": "code",
   "execution_count": null,
   "metadata": {},
   "outputs": [],
   "source": [
    "class_hierarchy(GrammarCoverageFuzzer)"
   ]
  },
  {
   "cell_type": "markdown",
   "metadata": {},
   "source": [
    "Okay, but we also have multiple inheritance.  Things are a bit more complicated here."
   ]
  },
  {
   "cell_type": "code",
   "execution_count": null,
   "metadata": {},
   "outputs": [],
   "source": [
    "from ProbabilisticGrammarFuzzer import ProbabilisticGrammarCoverageFuzzer"
   ]
  },
  {
   "cell_type": "code",
   "execution_count": null,
   "metadata": {},
   "outputs": [],
   "source": [
    "class_hierarchy(ProbabilisticGrammarCoverageFuzzer)"
   ]
  },
  {
   "cell_type": "markdown",
   "metadata": {},
   "source": [
    "## Getting a Class Tree"
   ]
  },
  {
   "cell_type": "markdown",
   "metadata": {},
   "source": [
    "We can use `__bases__` to obtain the immediate base classes."
   ]
  },
  {
   "cell_type": "code",
   "execution_count": null,
   "metadata": {},
   "outputs": [],
   "source": [
    "ProbabilisticGrammarCoverageFuzzer.__bases__"
   ]
  },
  {
   "cell_type": "code",
   "execution_count": null,
   "metadata": {},
   "outputs": [],
   "source": [
    "def class_tree(cls):\n",
    "    ret = []\n",
    "    for base in cls.__bases__:\n",
    "        if base.__name__ == cls.__name__:\n",
    "            ret += class_tree(base)\n",
    "        else:\n",
    "            ret.append((cls, class_tree(base)))\n",
    "    return ret"
   ]
  },
  {
   "cell_type": "code",
   "execution_count": null,
   "metadata": {},
   "outputs": [],
   "source": [
    "def class_tree(cls):\n",
    "    \n",
    "    def base_tree(base):\n",
    "        while base.__name__ == cls.__name__:\n",
    "            base = base.__bases__[0]\n",
    "        return class_tree(base)\n",
    "    \n",
    "    ret = []\n",
    "    for base in cls.__bases__:\n",
    "        ret.append((cls, base_tree(base)))\n",
    "    return ret"
   ]
  },
  {
   "cell_type": "code",
   "execution_count": null,
   "metadata": {},
   "outputs": [],
   "source": [
    "class_tree(ProbabilisticGrammarCoverageFuzzer)"
   ]
  },
  {
   "cell_type": "markdown",
   "metadata": {},
   "source": [
    "Not perfect yet (multiple instances of same class), but we're getting there."
   ]
  },
  {
   "cell_type": "markdown",
   "metadata": {
    "button": false,
    "new_sheet": false,
    "run_control": {
     "read_only": false
    }
   },
   "source": [
    "## Getting methods"
   ]
  },
  {
   "cell_type": "code",
   "execution_count": null,
   "metadata": {},
   "outputs": [],
   "source": [
    "import inspect"
   ]
  },
  {
   "cell_type": "code",
   "execution_count": null,
   "metadata": {},
   "outputs": [],
   "source": [
    "def class_methods(cls):\n",
    "    def _class_methods(cls):\n",
    "        all_methods = inspect.getmembers(cls, lambda m: inspect.isfunction(m))\n",
    "        for base in cls.__bases__:\n",
    "            all_methods += _class_methods(base)\n",
    "        return all_methods\n",
    "    \n",
    "    unique_methods = []\n",
    "    methods_seen = set()\n",
    "    for (name, fun) in _class_methods(cls):\n",
    "        if name not in methods_seen:\n",
    "            unique_methods.append((name, fun))\n",
    "            methods_seen.add(name)\n",
    "            \n",
    "    return unique_methods"
   ]
  },
  {
   "cell_type": "code",
   "execution_count": null,
   "metadata": {},
   "outputs": [],
   "source": [
    "class_methods(Fuzzer)"
   ]
  },
  {
   "cell_type": "markdown",
   "metadata": {},
   "source": [
    "We're only interested in \n",
    "\n",
    "* functions _defined_ in that class\n",
    "* functions that come with a docstring"
   ]
  },
  {
   "cell_type": "code",
   "execution_count": null,
   "metadata": {},
   "outputs": [],
   "source": [
    "def public_class_methods(cls):\n",
    "    return [(name, method) for (name, method) in class_methods(cls) if method.__qualname__.startswith(cls.__name__)]"
   ]
  },
  {
   "cell_type": "code",
   "execution_count": null,
   "metadata": {},
   "outputs": [],
   "source": [
    "def doc_class_methods(cls):\n",
    "    return [(name, method) for (name, method) in public_class_methods(cls) if method.__doc__ is not None]"
   ]
  },
  {
   "cell_type": "code",
   "execution_count": null,
   "metadata": {},
   "outputs": [],
   "source": [
    "public_class_methods(GrammarCoverageFuzzer)"
   ]
  },
  {
   "cell_type": "code",
   "execution_count": null,
   "metadata": {},
   "outputs": [],
   "source": [
    "doc_class_methods(GrammarCoverageFuzzer)"
   ]
  },
  {
   "cell_type": "markdown",
   "metadata": {},
   "source": [
    "## Drawing Class Hierarchy with Method Names"
   ]
  },
  {
   "cell_type": "code",
   "execution_count": null,
   "metadata": {},
   "outputs": [],
   "source": [
    "from graphviz import Digraph"
   ]
  },
  {
   "cell_type": "code",
   "execution_count": null,
   "metadata": {},
   "outputs": [],
   "source": [
    "def display_class_hierarchy(starting_class, include_methods=True):\n",
    "    CLASS_FONT = 'Patua One, Helvetica, sans-serif'\n",
    "    METHOD_FONT = 'monospace'\n",
    "    \n",
    "    dot = Digraph(comment=starting_class.__name__ + \" hierarchy\")\n",
    "    dot.attr('node', shape='record', fontname=CLASS_FONT)\n",
    "    dot.attr('graph', rankdir='BT')\n",
    "    dot.attr('edge', arrowhead='empty')\n",
    "    edges = set()\n",
    "    \n",
    "    def method_string(name, f):\n",
    "        method_string = '<font face=\"' + METHOD_FONT + '\" point-size=\"10\">'\n",
    "        if f.__doc__ is not None:\n",
    "            method_string += '<b>' + name + '()</b>'\n",
    "        else:\n",
    "            method_string += '<font color=\"#808080\">' + name + '()</font>'\n",
    "        method_string += '</font>'\n",
    "        return method_string\n",
    "    \n",
    "    def class_methods_string(cls):\n",
    "        methods = public_class_methods(cls)\n",
    "        # return \"<br/>\".join([name + \"()\" for (name, f) in methods])\n",
    "        \n",
    "        methods_string = '<table border=\"0\" cellpadding=\"0\" cellspacing=\"0\" align=\"left\">'\n",
    "        for doc in [True, False]:\n",
    "            for (name, f) in methods:\n",
    "                if (doc and f.__doc__ is not None) or (not doc and f.__doc__ is None):\n",
    "                    methods_string += '<tr><td align=\"left\" border=\"0\">'\n",
    "                    methods_string += method_string(name, f)\n",
    "                    methods_string += '</td></tr>'\n",
    "        methods_string += '</table>'\n",
    "        return methods_string\n",
    "    \n",
    "    def display_class_node(cls):\n",
    "        name = cls.__name__\n",
    "        url = cls.__module__ + '.ipynb'\n",
    "        if include_methods:\n",
    "            methods = class_methods_string(cls)\n",
    "            spec = '<{<b><font color=\"#B03A2E\">' + cls.__name__ + '</font></b>|' + methods + '}>'\n",
    "        else:\n",
    "            spec = '<' + cls.__name__ + '>'\n",
    "        dot.node(name, spec, href=url)\n",
    "    \n",
    "    def display_class_tree(trees):\n",
    "        for tree in trees:\n",
    "            (cls, subtrees) = tree\n",
    "            display_class_node(cls)\n",
    "            for subtree in subtrees:\n",
    "                (subcls, _) = subtree\n",
    "                if (cls, subcls) not in edges:\n",
    "                    dot.edge(cls.__name__, subcls.__name__)\n",
    "                    edges.add((cls, subcls))\n",
    "            display_class_tree(subtrees)\n",
    "\n",
    "    tree = class_tree(starting_class)\n",
    "    display_class_tree(tree)\n",
    "\n",
    "    return dot"
   ]
  },
  {
   "cell_type": "code",
   "execution_count": null,
   "metadata": {},
   "outputs": [],
   "source": [
    "display_class_hierarchy(ProbabilisticGrammarCoverageFuzzer)"
   ]
  },
  {
   "cell_type": "markdown",
   "metadata": {},
   "source": [
    "## Synopsis"
   ]
  },
  {
   "cell_type": "markdown",
   "metadata": {},
   "source": [
    "The `display_class_hierarchy()` function shows the class hierarchy for the given class.  Methods with docstrings (intended to be used by the public) are shown in bold."
   ]
  },
  {
   "cell_type": "code",
   "execution_count": null,
   "metadata": {},
   "outputs": [],
   "source": [
    "display_class_hierarchy(GrammarFuzzer)"
   ]
  },
  {
   "cell_type": "markdown",
   "metadata": {
    "button": false,
    "new_sheet": true,
    "run_control": {
     "read_only": false
    }
   },
   "source": [
    "## Lessons Learned\n",
    "\n",
    "* _Lesson one_\n",
    "* _Lesson two_\n",
    "* _Lesson three_"
   ]
  },
  {
   "cell_type": "markdown",
   "metadata": {
    "button": false,
    "new_sheet": false,
    "run_control": {
     "read_only": false
    }
   },
   "source": [
    "## Next Steps\n",
    "\n",
    "_Link to subsequent chapters (notebooks) here, as in:_\n",
    "\n",
    "* [use _mutations_ on existing inputs to get more valid inputs](MutationFuzzer.ipynb)\n",
    "* [use _grammars_ (i.e., a specification of the input format) to get even more valid inputs](Grammars.ipynb)\n",
    "* [reduce _failing inputs_ for efficient debugging](Reducer.ipynb)\n"
   ]
  },
  {
   "cell_type": "markdown",
   "metadata": {},
   "source": [
    "## Background\n",
    "\n",
    "_Cite relevant works in the literature and put them into context, as in:_\n",
    "\n",
    "The idea of ensuring that each expansion in the grammar is used at least once goes back to Burkhardt \\cite{Burkhardt1967}, to be later rediscovered by Paul Purdom \\cite{Purdom1972}."
   ]
  },
  {
   "cell_type": "markdown",
   "metadata": {
    "button": false,
    "new_sheet": true,
    "run_control": {
     "read_only": false
    }
   },
   "source": [
    "## Exercises\n",
    "\n",
    "_Close the chapter with a few exercises such that people have things to do.  To make the solutions hidden (to be revealed by the user), have them start with_\n",
    "\n",
    "```markdown\n",
    "**Solution.**\n",
    "```\n",
    "\n",
    "_Your solution can then extend up to the next title (i.e., any markdown cell starting with `#`)._\n",
    "\n",
    "_Running `make metadata` will automatically add metadata to the cells such that the cells will be hidden by default, and can be uncovered by the user.  The button will be introduced above the solution._"
   ]
  },
  {
   "cell_type": "markdown",
   "metadata": {
    "button": false,
    "new_sheet": false,
    "run_control": {
     "read_only": false
    }
   },
   "source": [
    "### Exercise 1: _Title_\n",
    "\n",
    "_Text of the exercise_"
   ]
  },
  {
   "cell_type": "code",
   "execution_count": null,
   "metadata": {
    "cell_style": "center"
   },
   "outputs": [],
   "source": [
    "# Some code that is part of the exercise\n",
    "pass"
   ]
  },
  {
   "cell_type": "markdown",
   "metadata": {
    "solution2": "hidden",
    "solution2_first": true
   },
   "source": [
    "_Some more text for the exercise_"
   ]
  },
  {
   "cell_type": "markdown",
   "metadata": {
    "slideshow": {
     "slide_type": "skip"
    },
    "solution2": "hidden"
   },
   "source": [
    "**Solution.** _Some text for the solution_"
   ]
  },
  {
   "cell_type": "code",
   "execution_count": null,
   "metadata": {
    "cell_style": "split",
    "slideshow": {
     "slide_type": "skip"
    },
    "solution2": "hidden"
   },
   "outputs": [],
   "source": [
    "# Some code for the solution\n",
    "2 + 2"
   ]
  },
  {
   "cell_type": "markdown",
   "metadata": {
    "slideshow": {
     "slide_type": "skip"
    },
    "solution2": "hidden"
   },
   "source": [
    "_Some more text for the solution_"
   ]
  },
  {
   "cell_type": "markdown",
   "metadata": {
    "button": false,
    "new_sheet": false,
    "run_control": {
     "read_only": false
    },
    "solution": "hidden",
    "solution2": "hidden",
    "solution2_first": true,
    "solution_first": true
   },
   "source": [
    "### Exercise 2: _Title_\n",
    "\n",
    "_Text of the exercise_"
   ]
  },
  {
   "cell_type": "markdown",
   "metadata": {
    "button": false,
    "new_sheet": false,
    "run_control": {
     "read_only": false
    },
    "slideshow": {
     "slide_type": "skip"
    },
    "solution": "hidden",
    "solution2": "hidden"
   },
   "source": [
    "**Solution.** _Solution for the exercise_"
   ]
  }
 ],
 "metadata": {
  "ipub": {
   "bibliography": "fuzzingbook.bib",
   "toc": true
  },
  "kernelspec": {
   "display_name": "Python 3",
   "language": "python",
   "name": "python3"
  },
  "language_info": {
   "codemirror_mode": {
    "name": "ipython",
    "version": 3
   },
   "file_extension": ".py",
   "mimetype": "text/x-python",
   "name": "python",
   "nbconvert_exporter": "python",
   "pygments_lexer": "ipython3",
   "version": "3.6.8"
  },
  "toc": {
   "base_numbering": 1,
   "nav_menu": {},
   "number_sections": true,
   "sideBar": true,
   "skip_h1_title": true,
   "title_cell": "",
   "title_sidebar": "Contents",
   "toc_cell": false,
   "toc_position": {},
   "toc_section_display": true,
   "toc_window_display": true
  }
 },
 "nbformat": 4,
 "nbformat_minor": 2
}
