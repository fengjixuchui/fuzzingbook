{
 "cells": [
  {
   "cell_type": "markdown",
   "metadata": {
    "button": false,
    "new_sheet": false,
    "run_control": {
     "read_only": false
    }
   },
   "source": [
    "# Fuzzingbook Release Notes\n",
    "\n",
    "This book comes with version numbers; these correspond to the version numbers in [the Python pip package](Importing.ipynb)."
   ]
  },
  {
   "cell_type": "markdown",
   "metadata": {},
   "source": [
    "## Version 0.9.0 (in beta)\n",
    "\n",
    "* In the Web version, some not-so-critical details (typically, long implementations and logs) are only shown on demand. This is still work in progress.\n",
    "* The `fuzzingbook_utils` module used by notebooks is now renamed to `bookutils`. Code and notebooks using `fuzzingbook_utils` may still work, but will issue a deprecation warning.\n",
    "* Several minor fixes to functionality in [Parsing and Recombining Inputs](Parser.ipynb), [Concolic Fuzzing](ConcolicFuzzer.ipynb), [Symbolic Fuzzing](SymbolicFuzzer.ipynb)\n",
    "* Better style when printing from browser (colored text, smaller fonts)\n",
    "* Avoid tracking in YouTube videos\n",
    "* Several typos and other minor fixes throughout the book"
   ]
  },
  {
   "cell_type": "markdown",
   "metadata": {},
   "source": [
    "## Version 0.8.0 (released 2019-05-21)\n",
    "\n",
    "First numbered fuzzingbook release.\n",
    "\n",
    "* Includes [Python pip package](Importing.ipynb).\n",
    "* Includes _Synopsis_ sections at the beginning of each chapter, highlighting their usage in own code.\n",
    "* Describes [Tours through the Book](Tours.ipynb)."
   ]
  },
  {
   "cell_type": "markdown",
   "metadata": {},
   "source": [
    "## Chapter Releases\n",
    "\n",
    "Before switching to numbered releases, new chapters were coming out every Tuesday.\n",
    "\n",
    "1. [Introduction to Software Testing](Intro_Testing.ipynb) – 2018-10-30\n",
    "1. [Fuzzing: Breaking Things with Random Inputs](Fuzzer.ipynb) – 2018-10-30\n",
    "1. [Getting Coverage](Coverage.ipynb) – 2018-11-06\n",
    "1. [Mutation-Based Fuzzing](MutationFuzzer.ipynb) – 2018-11-06\n",
    "1. [Fuzzing with Grammars](Grammars.ipynb) – 2018-11-13\n",
    "1. [Efficient Grammar Fuzzing](GrammarFuzzer.ipynb) – 2018-11-20\n",
    "1. [Grammar Coverage](GrammarCoverageFuzzer.ipynb) – 2018-11-27\n",
    "1. [Testing Configurations](ConfigurationFuzzer.ipynb) – 2018-12-04\n",
    "1. [Parsing and Recombining Inputs](Parser.ipynb) – 2018-12-11\n",
    "1. [Probabilistic Grammar Fuzzing](ProbabilisticGrammarFuzzer.ipynb) – 2018-12-18\n",
    "1. [Fuzzing with Generators](GeneratorGrammarFuzzer.ipynb) – 2019-01-08\n",
    "1. [Fuzzing APIs](APIFuzzer.ipynb) – 2019-01-15\n",
    "1. [Carving Unit Tests](Carver.ipynb) – 2019-01-22\n",
    "1. [Reducing Failure-Inducing Inputs](Reducer.ipynb) – 2019-01-29\n",
    "1. [Web Testing](WebFuzzer.ipynb) – 2019-02-05\n",
    "1. [GUI Testing](GUIFuzzer.ipynb) – 2019-02-12\n",
    "1. [Mining Input Grammars](GrammarMiner.ipynb) – 2019-02-19\n",
    "1. [Tracking Information Flow](InformationFlow.ipynb) – 2019-03-05\n",
    "1. [Concolic Fuzzing](ConcolicFuzzer.ipynb) – 2019-03-12\n",
    "1. [Symbolic Fuzzing](SymbolicFuzzer.ipynb) – 2019-03-19\n",
    "1. [Mining Function Specifications](DynamicInvariants) – 2019-03-26\n",
    "1. [Search-Based Fuzzing](SearchBasedFuzzer.ipynb) – 2019-04-02\n",
    "1. [Evaluating Test Effectiveness with Mutation Analysis](MutationAnalysis.ipynb) – 2019-04-09\n",
    "1. [Greybox Fuzzing](GreyboxFuzzer.ipynb) – 2019-04-16\n",
    "1. [Greybox Fuzzing with Grammars](GreyboxGrammarFuzzer.ipynb) – 2019-04-30\n",
    "1. [Fuzzing in the Large](FuzzingInTheLarge.ipynb) – 2019-05-07\n",
    "1. [When to Stop Fuzzing](WhenToStopFuzzing.ipynb) – 2019-05-14\n",
    "1. [Tours through the Book](Tours.ipynb) - 2019-05-21\n",
    "\n",
    "After all chapters were out, we switched to a release-based schedule, with numbered minor and major releases coming out when they are ready."
   ]
  }
 ],
 "metadata": {
  "ipub": {
   "bibliography": "fuzzingbook.bib",
   "toc": true
  },
  "kernelspec": {
   "display_name": "Python 3",
   "language": "python",
   "name": "python3"
  },
  "language_info": {
   "codemirror_mode": {
    "name": "ipython",
    "version": 3
   },
   "file_extension": ".py",
   "mimetype": "text/x-python",
   "name": "python",
   "nbconvert_exporter": "python",
   "pygments_lexer": "ipython3",
   "version": "3.6.8"
  },
  "toc": {
   "base_numbering": 1,
   "nav_menu": {},
   "number_sections": true,
   "sideBar": true,
   "skip_h1_title": true,
   "title_cell": "",
   "title_sidebar": "Contents",
   "toc_cell": false,
   "toc_position": {},
   "toc_section_display": true,
   "toc_window_display": true
  },
  "toc-autonumbering": false
 },
 "nbformat": 4,
 "nbformat_minor": 2
}
