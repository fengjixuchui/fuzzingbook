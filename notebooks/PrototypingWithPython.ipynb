{
 "cells": [
  {
   "cell_type": "markdown",
   "metadata": {},
   "source": [
    "# Why we Prototype with Python\n",
    "\n",
    "In this book, we use Python to implement automated testing techniques, and also as the language for most of our test subjects.  Why Python?  The short answer is\n",
    "\n",
    "> Python made us amazingly _productive_.  Most techniques in this book took **2-3 days** to implement.  This is about **10-20 times faster** than for \"classic\" languages like C or Java.\n",
    "\n",
    "A factor of 10–20 in productivity is enormous, almost ridiculous.  Why is that so, and which consequences does this have for research and teaching?"
   ]
  },
  {
   "cell_type": "markdown",
   "metadata": {},
   "source": [
    "## Python is Easy\n",
    "\n",
    "Python is a high-level language that allows one to focus on the actual _algorithms_ rather than how individual bits and bytes are passed around in memory.  For this book, this is important: We want to focus on how individual techniques work, and not so much their optimization.  Focusing on algorithms allows you to toy and tinker with them, and quickly develop your own.  Once you have found out how to do things, you can still port your approach to some other language or specialized setting."
   ]
  },
  {
   "cell_type": "markdown",
   "metadata": {},
   "source": [
    "As an example, take the (in)famous triangle program, which classifies a triangle of lengths $a$, $b$, $c$ into one of three categories.  It reads like pseudocode; yet, we can easily execute it."
   ]
  },
  {
   "cell_type": "code",
   "execution_count": null,
   "metadata": {},
   "outputs": [],
   "source": [
    "def triangle(a, b, c):\n",
    "    if a == b:\n",
    "        if b == c:\n",
    "            return 'equilateral'\n",
    "        else:\n",
    "            return 'isosceles #1'\n",
    "    else:\n",
    "        if b == c:\n",
    "            return 'isosceles #2'\n",
    "        else:\n",
    "            if a == c:\n",
    "                return 'isosceles #3'\n",
    "            else:\n",
    "                return 'scalene'"
   ]
  },
  {
   "cell_type": "markdown",
   "metadata": {},
   "source": [
    "Here's an example of executing the `triangle()` function:"
   ]
  },
  {
   "cell_type": "code",
   "execution_count": null,
   "metadata": {},
   "outputs": [],
   "source": [
    "triangle(2, 3, 4)"
   ]
  },
  {
   "cell_type": "markdown",
   "metadata": {},
   "source": [
    "For the remainder of this chapter, we will use the `triangle()` function as ongoing example for a program to be tested.  Of course, the complexity of `triangle()` is a far cry from large systems, and what we show in this chapter will not apply to, say, an ecosystem of thousands of intertwined microservices.  Its point, however, is to show how easy certain techniques can be – if you have the right language and environment."
   ]
  },
  {
   "cell_type": "markdown",
   "metadata": {},
   "source": [
    "## Fuzzing is as Easy as Always"
   ]
  },
  {
   "cell_type": "markdown",
   "metadata": {},
   "source": [
    "If you want to test `triangle()` with random values, that's fairly easy to do. Just bring along one of the Python random number generators and throw them into `triangle()`."
   ]
  },
  {
   "cell_type": "code",
   "execution_count": null,
   "metadata": {},
   "outputs": [],
   "source": [
    "from random import randrange"
   ]
  },
  {
   "cell_type": "code",
   "execution_count": null,
   "metadata": {},
   "outputs": [],
   "source": [
    "for i in range(10):\n",
    "    a = randrange(1, 10)\n",
    "    b = randrange(1, 10)\n",
    "    c = randrange(1, 10)\n",
    "    \n",
    "    t = triangle(a, b, c)\n",
    "    print(f\"triangle({a}, {b}, {c}) = {repr(t)}\")"
   ]
  },
  {
   "cell_type": "markdown",
   "metadata": {},
   "source": [
    "So far, so good – but that's something you can do in pretty much any programming language. What is it that makes Python special?"
   ]
  },
  {
   "cell_type": "markdown",
   "metadata": {},
   "source": [
    "## Dynamic Analysis in Python is Extremely Easy\n",
    "\n",
    "Dynamic analysis is the ability to track what is happening during program execution.  The Python `settrace()` mechanism allows you to track all code lines, all variables, all values, as the program executes – and all this in a handful of lines of code.  Our `Coverage` class from [the chapter on coverage](Coverage.ipynb) shows how to capture a trace of all lines executed in five lines of code; such a trace easily converts into sets of lines or branches executed.  With two more lines, you can easily track all functions, arguments, variable values, too – see for instance our [chapter on dynamic invariants](DynamicInvariants).  And you can even access the source code of individual functions (and print it out, too!)  All this takes 10, maybe 20 minutes to implement."
   ]
  },
  {
   "cell_type": "markdown",
   "metadata": {},
   "source": [
    "Here is a piece of Python that does it all.  We track lines executed, and for every line, we print its source codes and the current values of all local variables:"
   ]
  },
  {
   "cell_type": "code",
   "execution_count": null,
   "metadata": {},
   "outputs": [],
   "source": [
    "import sys\n",
    "import inspect"
   ]
  },
  {
   "cell_type": "code",
   "execution_count": null,
   "metadata": {},
   "outputs": [],
   "source": [
    "def traceit(frame, event, arg):\n",
    "    function_code = frame.f_code\n",
    "    function_name = function_code.co_name\n",
    "    lineno = frame.f_lineno\n",
    "    vars = frame.f_locals\n",
    "\n",
    "    source = inspect.getsource(frame.f_code).splitlines()\n",
    "    loc = f\"{function_name}:{lineno} {source[lineno]}\"\n",
    "    vars = \", \".join(f\"{name} = {vars[name]}\" for name in vars)\n",
    "\n",
    "    print(f\"{loc:50} ({vars})\")\n",
    "\n",
    "    return traceit"
   ]
  },
  {
   "cell_type": "markdown",
   "metadata": {},
   "source": [
    "The function `sys.settrace()` registers `traceit()` as a trace function; it will then trace the given invocation of `triangle()`:"
   ]
  },
  {
   "cell_type": "code",
   "execution_count": null,
   "metadata": {},
   "outputs": [],
   "source": [
    "def triangle_traced():\n",
    "    sys.settrace(traceit)\n",
    "    triangle(2, 2, 1)\n",
    "    sys.settrace(None)"
   ]
  },
  {
   "cell_type": "code",
   "execution_count": null,
   "metadata": {},
   "outputs": [],
   "source": [
    "triangle_traced()"
   ]
  },
  {
   "cell_type": "markdown",
   "metadata": {},
   "source": [
    "In comparison, try to build such a dynamic analysis for, say, C.  You can either _instrument_ the code to track all lines executed and record variable values, storing the resulting info in some database.  This will take you _weeks,_ if not _months_ to implement.  You can also run your code through a debugger (step-print-step-print-step-print); but again, programming the interaction can take days.  And once you have the first results, you'll probably realize you need something else or better, so you go back to the drawing board.  Not fun."
   ]
  },
  {
   "cell_type": "markdown",
   "metadata": {},
   "source": [
    "Together with a dynamic analysis such as the one above, you can make fuzzing much smarter. Search-based testing, for instance, evolves a population of inputs towards a particular goal, such as coverage. With a good dynamic analysis, you can quickly implement search-based strategies for arbitrary goals."
   ]
  },
  {
   "cell_type": "markdown",
   "metadata": {},
   "source": [
    "## Static Analysis in Python can be Easy\n",
    "\n",
    "Static analysis refers to the ability to analyze _program code_ without actually executing it. Statically analyzing Python code to deduce any property can be a nightmare, because the language is so highly dynamic. (More on that below.)\n",
    "\n",
    "If your static analysis does not have to be _sound_, – for instance, because you only use it to _support_ and _guide_ another technique such as  testing – then a static analysis in Python can be very simple.  The `ast` module allows you to turn any Python function into an abstract syntax tree (AST), which you then can traverse as you like.  Here's the AST for our `triangle()` function:"
   ]
  },
  {
   "cell_type": "code",
   "execution_count": null,
   "metadata": {},
   "outputs": [],
   "source": [
    "import ast\n",
    "import astor\n",
    "import showast"
   ]
  },
  {
   "cell_type": "code",
   "execution_count": null,
   "metadata": {},
   "outputs": [],
   "source": [
    "triangle_source = inspect.getsource(triangle)\n",
    "triangle_ast = ast.parse(triangle_source)\n",
    "showast.show_ast(triangle_ast)"
   ]
  },
  {
   "cell_type": "markdown",
   "metadata": {},
   "source": [
    "Now suppose one wants to identify all `triangle` branches and their conditions using static analysis.  You would traverse the AST, searching for `If` nodes, and take their first child (the condition).  This is easy as well:"
   ]
  },
  {
   "cell_type": "code",
   "execution_count": null,
   "metadata": {},
   "outputs": [],
   "source": [
    "def collect_conditions(tree):\n",
    "    conditions = []\n",
    "\n",
    "    def traverse(node):\n",
    "        if isinstance(node, ast.If):\n",
    "            cond = astor.to_source(node.test).strip()\n",
    "            conditions.append(cond)\n",
    "\n",
    "        for child in ast.iter_child_nodes(node):\n",
    "            traverse(child)\n",
    "\n",
    "    traverse(tree)\n",
    "    return conditions"
   ]
  },
  {
   "cell_type": "markdown",
   "metadata": {},
   "source": [
    "Here are the four `if` conditions occurring in the `triangle()` code:"
   ]
  },
  {
   "cell_type": "code",
   "execution_count": null,
   "metadata": {},
   "outputs": [],
   "source": [
    "collect_conditions(triangle_ast)"
   ]
  },
  {
   "cell_type": "markdown",
   "metadata": {},
   "source": [
    "Not only can we extract individual program elements, we can also change them at will and convert the tree back into source code.  Program transformations (say, for instrumentation or mutation analysis) are a breeze.  The above code took five minutes to write.  Again, try that in Java or C."
   ]
  },
  {
   "cell_type": "markdown",
   "metadata": {},
   "source": [
    "## There's a Python interface for Everything\n",
    "\n",
    "Let's get back to testing.  We have shown how to extract conditions from code.  To reach a particular location in the `triangle()` function, one needs to find a solution for the _path conditions_ leading to that branch.  To reach the last line in `triangle()` (the `'scalene'` branch), we have to find a solution for \n",
    "$$a \\ne b \\land b \\ne c \\land a \\ne c$$\n",
    "\n",
    "\n",
    "We can make use of a _constraint_ solver for this, such as Microsoft's [_Z3_ solver](https://github.com/Z3Prover/z3):"
   ]
  },
  {
   "cell_type": "code",
   "execution_count": null,
   "metadata": {},
   "outputs": [],
   "source": [
    "import z3"
   ]
  },
  {
   "cell_type": "markdown",
   "metadata": {},
   "source": [
    "Let us use Z3 to find a solution for the `'scalene'` branch condition:"
   ]
  },
  {
   "cell_type": "code",
   "execution_count": null,
   "metadata": {},
   "outputs": [],
   "source": [
    "a = z3.Int('a')\n",
    "b = z3.Int('b')\n",
    "c = z3.Int('c')"
   ]
  },
  {
   "cell_type": "code",
   "execution_count": null,
   "metadata": {},
   "outputs": [],
   "source": [
    "s = z3.Solver()\n",
    "s.add(z3.And(a > 0, b > 0, c > 0))  # Triangle edges are positive\n",
    "s.add(z3.And(a != b, b != c, a != c))  # Our condition\n",
    "s.check()"
   ]
  },
  {
   "cell_type": "markdown",
   "metadata": {},
   "source": [
    "Z3 has shown us that there is a solution (\"sat\" = \"satisfiable\"). Let us get one:"
   ]
  },
  {
   "cell_type": "code",
   "execution_count": null,
   "metadata": {},
   "outputs": [],
   "source": [
    "m = s.model()\n",
    "m"
   ]
  },
  {
   "cell_type": "markdown",
   "metadata": {},
   "source": [
    "We can use this solution right away for testing the `triangle()` function and find that it indeed covers the `'scalene'` branch. The method `as_long()` converts the Z3 results into numerical values."
   ]
  },
  {
   "cell_type": "code",
   "execution_count": null,
   "metadata": {},
   "outputs": [],
   "source": [
    "triangle(m[a].as_long(), m[b].as_long(), m[c].as_long())"
   ]
  },
  {
   "cell_type": "markdown",
   "metadata": {},
   "source": [
    "Let us find all conditions we need to solve, by exploring all paths in the tree. We turn these paths to Z3 format right away:"
   ]
  },
  {
   "cell_type": "code",
   "execution_count": null,
   "metadata": {},
   "outputs": [],
   "source": [
    "def collect_path_conditions(tree):\n",
    "    paths = []\n",
    "\n",
    "    def traverse_if_children(children, context, cond):\n",
    "        old_paths = len(paths)\n",
    "        for child in children:\n",
    "            traverse(child, context + [cond])\n",
    "        if len(paths) == old_paths:\n",
    "            paths.append(context + [cond])\n",
    "\n",
    "    def traverse(node, context):\n",
    "        if isinstance(node, ast.If):\n",
    "            cond = astor.to_source(node.test).strip()\n",
    "            not_cond = \"z3.Not\" + cond\n",
    "\n",
    "            traverse_if_children(node.body, context, cond)\n",
    "            traverse_if_children(node.orelse, context, not_cond)\n",
    "\n",
    "        else:\n",
    "            for child in ast.iter_child_nodes(node):\n",
    "                traverse(child, context)\n",
    "\n",
    "    traverse(tree, [])\n",
    "    \n",
    "    return [\"z3.And(\" + \", \".join(path) + \")\" for path in paths]"
   ]
  },
  {
   "cell_type": "code",
   "execution_count": null,
   "metadata": {},
   "outputs": [],
   "source": [
    "path_conditions = collect_path_conditions(triangle_ast)\n",
    "path_conditions"
   ]
  },
  {
   "cell_type": "markdown",
   "metadata": {},
   "source": [
    "Now all we need to do is to feed these constraints into Z3. We see that we easily cover all branches:"
   ]
  },
  {
   "cell_type": "code",
   "execution_count": null,
   "metadata": {},
   "outputs": [],
   "source": [
    "for path_condition in path_conditions:\n",
    "    s = z3.Solver()\n",
    "    s.add(a > 0, b > 0, c > 0)\n",
    "    eval(f\"s.check({path_condition})\")\n",
    "    m = s.model()\n",
    "    print(m, triangle(m[a].as_long(), m[b].as_long(), m[c].as_long()))"
   ]
  },
  {
   "cell_type": "markdown",
   "metadata": {},
   "source": [
    "Success! We have covered all branches of the triangle program!"
   ]
  },
  {
   "cell_type": "markdown",
   "metadata": {},
   "source": [
    "Now, the above is still very limited – and tailored to the capabilities of the `triangle()` code. A full implementation would actually\n",
    "\n",
    "* translate entire Python conditions into Z3 syntax (if possible),\n",
    "* handle more control flow constructs such as returns, assertions, exceptions\n",
    "* and half a million things more (loops, calls, you name it)\n",
    "\n",
    "Some of these may not be supported by the Z3 theories."
   ]
  },
  {
   "cell_type": "markdown",
   "metadata": {},
   "source": [
    "To make it easier for a constraint solver to find solutions, you could also provide _concrete values_ observed from earlier executions that already are known to reach specific paths in the program.  Such concrete values would be gathered from the tracing mechanisms above, and boom: you would have a pretty powerful and scalable concolic (concrete-symbolic) test generator."
   ]
  },
  {
   "cell_type": "markdown",
   "metadata": {},
   "source": [
    "Now, the above might take you a day or two, and as you expand your test generator beyond `triangle()`, you will add more and more features.  The nice part is that every of these features you will invent might actually be a research contribution – something nobody has thought of before.  Whatever idea you might have: you can quickly implement it and try it out in a prototype.  And again, this will be orders of magnitude faster than for conventional languages."
   ]
  },
  {
   "cell_type": "markdown",
   "metadata": {},
   "source": [
    "## Things that will not work\n",
    "\n",
    "Python has a reputation for being hard to analyze statically, and this is true; its dynamic nature makes it hard for traditional static analysis to exclude specific behaviors.  \n",
    "\n",
    "We see Python as a great language for prototyping automated testing and dynamic analysis techniques, and as a good language to illustrate _lightweight_ static and symbolic analysis techniques that would be used as _guidance_ and _support_ for other techniques (say, for generating software tests).  But if you want to _prove_ specific properties (or the absence thereof) by static analysis of code only, Python is a challenge, to say the least; and there are areas for which we would definitely _warn_ against using it.  "
   ]
  },
  {
   "cell_type": "markdown",
   "metadata": {},
   "source": [
    "### (No) Type Checking\n",
    "\n",
    "Using Python to demonstrate _static type checking_ will be suboptimal (to say the least) because, well, Python programs typically do not come with type annotations.  You _can_, of course, annotate variables with types, as we assume in the [chapter on Symbolic Fuzzing](SymbolicFuzzer.ipynb):"
   ]
  },
  {
   "cell_type": "code",
   "execution_count": null,
   "metadata": {},
   "outputs": [],
   "source": [
    "def typed_triangle(a: int, b: int, c: int) -> str:\n",
    "    return triangle(a, b, c)"
   ]
  },
  {
   "cell_type": "markdown",
   "metadata": {},
   "source": [
    "Most real-world Python code will not be annotated with types, though.  While you can also _retrofit them_, as discussed in [our chapter on dynamic invariants](DynamicInvariants.ipynb), Python simply is not a good domain to illustrate type checking. If you want to show the beauty and usefulness of type checking, use a strongly typed language like Java or Haskell."
   ]
  },
  {
   "cell_type": "markdown",
   "metadata": {},
   "source": [
    "### (No) Program Proofs\n",
    "\n",
    "Python is a highly dynamic language in which you can change _anything_ at runtime.  It is no problem assigning a variable different types, as in"
   ]
  },
  {
   "cell_type": "code",
   "execution_count": null,
   "metadata": {},
   "outputs": [],
   "source": [
    "x = 42\n",
    "x = \"a string\""
   ]
  },
  {
   "cell_type": "markdown",
   "metadata": {},
   "source": [
    "or change the existence (and scope) of a variable depending on some runtime condition:"
   ]
  },
  {
   "cell_type": "code",
   "execution_count": null,
   "metadata": {},
   "outputs": [],
   "source": [
    "p1, p2 = True, False\n",
    "\n",
    "if p1:\n",
    "    x = 42\n",
    "if p2:\n",
    "    del x\n",
    "    \n",
    "# Does x exist at this point?"
   ]
  },
  {
   "cell_type": "markdown",
   "metadata": {},
   "source": [
    "Such properties make symbolic reasoning on code (including static analysis and type checking) much harder, if not outright impossible.  If you need lightweight static and symbolic analysis techniques as _guidance_ for other techniques (say, as test generation), then imprecision may not hurt much; but if you want to derive _guarantees_ from your code, do not use Python as test subject; again, strongly statically typed languages like Java and Haskell (or some very restricted toy language) are much better grounds for experimentation."
   ]
  },
  {
   "cell_type": "markdown",
   "metadata": {},
   "source": [
    "This does not mean that languages like Python should _not_ be statically checked.  On the contrary, the widespread usage of Python calls loudly for better static checking tools.  But if you want to teach or research static and symbolic techniques, we definitely would not use Python as our language of choice."
   ]
  },
  {
   "cell_type": "markdown",
   "metadata": {},
   "source": [
    "## Lessons Learned\n",
    "\n",
    "Python is a great language for prototyping testing and debugging tools:\n",
    "\n",
    "* In Python, dynamic analysis and static analysis are extremely easy to implement.\n",
    "* Python provides an enormous infrastructure for parsing, handling programs as trees, and constraint solving.\n",
    "* These can make you develop new techniques within _hours_ instead of weeks.\n",
    "\n",
    "Python is _not_ a great domain for pure symbolic code analysis, though.\n",
    "\n",
    "* There is little to no static typing\n",
    "* The language is highly dynamic with little to no static guarantees\n",
    "\n",
    "However, even a potentially _unsound_ symbolic analysis can still guide test generation – and this again is very easy to build."
   ]
  },
  {
   "cell_type": "markdown",
   "metadata": {},
   "source": [
    "## Background\n",
    "\n",
    "The _triangle problem_ is adapted from \"The Art of Software Testing\" by Myers and Sandler \\cite{Myers2004}. It is a allegedly simple problem but which reveals a surprising depth when you think about all the things that might go wrong.\n",
    "\n",
    "The _Z3 solver_ we use in this chapter was developed at Microsoft Research under the lead of Leonardo de Moura and Nikolaj Bjørner \\cite{z3}. It is one of the most powerful and most popular solvers."
   ]
  }
 ],
 "metadata": {
  "kernelspec": {
   "display_name": "Python 3",
   "language": "python",
   "name": "python3"
  },
  "language_info": {
   "codemirror_mode": {
    "name": "ipython",
    "version": 3
   },
   "file_extension": ".py",
   "mimetype": "text/x-python",
   "name": "python",
   "nbconvert_exporter": "python",
   "pygments_lexer": "ipython3",
   "version": "3.6.10"
  }
 },
 "nbformat": 4,
 "nbformat_minor": 4
}
