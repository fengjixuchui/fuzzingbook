{
 "cells": [
  {
   "cell_type": "markdown",
   "metadata": {},
   "source": [
    "# A Bug in Quicksort"
   ]
  },
  {
   "cell_type": "markdown",
   "metadata": {},
   "source": [
    "Here's the [source](https://www.codementor.io/@garethdwyer/quicksort-tutorial-python-implementation-with-line-by-line-explanation-p9h7jd3r6) (not shown to probands)"
   ]
  },
  {
   "cell_type": "markdown",
   "metadata": {},
   "source": [
    "## How Quicksort Works"
   ]
  },
  {
   "cell_type": "markdown",
   "metadata": {},
   "source": [
    "Let's start with the easy part - the idea. We have a list of numbers that isn't sorted. We pick a point in this list called the _pivot_, and make sure that all larger numbers are to the right of that pivot and all the smaller numbers are to the left of the pivot."
   ]
  },
  {
   "cell_type": "markdown",
   "metadata": {},
   "source": [
    "This is what `partition()` does. It takes a list `xs` of numbers (only considering `xs` from `xs[start]` to `xs[end]`), picks the pivot as the last element, and then swaps all elements according to the rule above."
   ]
  },
  {
   "cell_type": "code",
   "execution_count": null,
   "metadata": {},
   "outputs": [],
   "source": [
    "def partition(xs, start, end):\n",
    "    follower = start\n",
    "    leader = start\n",
    "\n",
    "    while leader < end:\n",
    "        if xs[leader] <= xs[end]:\n",
    "            xs[follower], xs[leader] = xs[leader], xs[follower]  # Swap xs[follower] and xs[leader]\n",
    "            follower = follower + 1\n",
    "\n",
    "        leader = leader + 1\n",
    "        \n",
    "    xs[follower], xs[end] = xs[end], xs[follower]\n",
    "    return follower"
   ]
  },
  {
   "cell_type": "markdown",
   "metadata": {},
   "source": [
    "Here is an example. `partition()` returns the index of the pivot:"
   ]
  },
  {
   "cell_type": "code",
   "execution_count": null,
   "metadata": {},
   "outputs": [],
   "source": [
    "xs = [1, 10, 4, 2, 2, 7, 8, 5]\n",
    "pivot = partition(xs, 0, len(xs) - 1)\n",
    "pivot"
   ]
  },
  {
   "cell_type": "markdown",
   "metadata": {},
   "source": [
    "The value of the pivot is at the index:"
   ]
  },
  {
   "cell_type": "code",
   "execution_count": null,
   "metadata": {},
   "outputs": [],
   "source": [
    "xs[pivot]"
   ]
  },
  {
   "cell_type": "markdown",
   "metadata": {},
   "source": [
    "And the list is arranged such that all smaller elements are to the left, and all larger elements are to the right:"
   ]
  },
  {
   "cell_type": "code",
   "execution_count": null,
   "metadata": {},
   "outputs": [],
   "source": [
    "xs"
   ]
  },
  {
   "cell_type": "markdown",
   "metadata": {},
   "source": [
    "This assertion checks that the result is correct"
   ]
  },
  {
   "cell_type": "code",
   "execution_count": null,
   "metadata": {},
   "outputs": [],
   "source": [
    "assert xs == [1, 4, 2, 2, 5, 7, 8, 10]"
   ]
  },
  {
   "cell_type": "markdown",
   "metadata": {},
   "source": [
    "The following helper function first partitions the array and then applies the partition function on the two halves:"
   ]
  },
  {
   "cell_type": "code",
   "execution_count": null,
   "metadata": {},
   "outputs": [],
   "source": [
    "def _quicksort(xs, start, end):\n",
    "    if start >= end:\n",
    "        return  # Nothing to sort\n",
    "\n",
    "    p = partition(xs, start, end)\n",
    "    _quicksort(xs, start + 1, p)\n",
    "    _quicksort(xs, p, end - 1)"
   ]
  },
  {
   "cell_type": "markdown",
   "metadata": {},
   "source": [
    "The main function actually does it all together:"
   ]
  },
  {
   "cell_type": "code",
   "execution_count": null,
   "metadata": {},
   "outputs": [],
   "source": [
    "def quicksort(xs):\n",
    "    _quicksort(xs, 0, len(xs) - 1)"
   ]
  },
  {
   "cell_type": "markdown",
   "metadata": {},
   "source": [
    "and it does the right thing on our `xs` example:"
   ]
  },
  {
   "cell_type": "code",
   "execution_count": null,
   "metadata": {},
   "outputs": [],
   "source": [
    "xs = [1, 10, 4, 2, 2, 7, 8, 5]\n",
    "quicksort(xs)\n",
    "xs"
   ]
  },
  {
   "cell_type": "markdown",
   "metadata": {},
   "source": [
    "Again, we use an assertion to check that the result is correct"
   ]
  },
  {
   "cell_type": "code",
   "execution_count": null,
   "metadata": {},
   "outputs": [],
   "source": [
    "assert xs == [1, 4, 2, 2, 5, 7, 8, 10]"
   ]
  },
  {
   "cell_type": "markdown",
   "metadata": {},
   "source": [
    "Great, isn't it? Unfortunately, there's a bug in the above implementation, as illustrated in this example:"
   ]
  },
  {
   "cell_type": "code",
   "execution_count": null,
   "metadata": {},
   "outputs": [],
   "source": [
    "xs_bug = [4, 8, 2, 1]\n",
    "quicksort(xs_bug)\n",
    "xs_bug"
   ]
  },
  {
   "cell_type": "markdown",
   "metadata": {},
   "source": [
    "This clearly is not sorted properly. Provide a _fixed_ definition of `partition()`, `_quicksort()`, or `quicksort()` that fixes the error. You can redefine the function right in the next window, replacing `fixed_function` and `parameters` appropriately:"
   ]
  },
  {
   "cell_type": "code",
   "execution_count": null,
   "metadata": {},
   "outputs": [],
   "source": [
    "def fixed_function(parameters):\n",
    "    ..."
   ]
  },
  {
   "cell_type": "markdown",
   "metadata": {},
   "source": [
    "If your redefinition is correct, the following assertion should hold:"
   ]
  },
  {
   "cell_type": "code",
   "execution_count": null,
   "metadata": {},
   "outputs": [],
   "source": [
    "xs_bug = [4, 8, 2, 1]\n",
    "quicksort(xs_bug)\n",
    "assert xs_bug == [4, 8, 2, 1]"
   ]
  },
  {
   "cell_type": "markdown",
   "metadata": {},
   "source": [
    "## Optional: Additional Tests"
   ]
  },
  {
   "cell_type": "markdown",
   "metadata": {},
   "source": [
    "The following functions provide additional inputs and oracles that allow you to test quicksort() with it. The following code does this in a conventional way:"
   ]
  },
  {
   "cell_type": "code",
   "execution_count": null,
   "metadata": {},
   "outputs": [],
   "source": [
    "import random"
   ]
  },
  {
   "cell_type": "code",
   "execution_count": null,
   "metadata": {},
   "outputs": [],
   "source": [
    "def is_sorted(xs):\n",
    "    for i in range(0, len(xs) - 1):\n",
    "        if xs[i] > xs[i + 1]:\n",
    "            return False\n",
    "    return True"
   ]
  },
  {
   "cell_type": "code",
   "execution_count": null,
   "metadata": {},
   "outputs": [],
   "source": [
    "assert is_sorted([1, 2, 2])\n",
    "assert is_sorted([1, 1, 2])\n",
    "assert is_sorted([])"
   ]
  },
  {
   "cell_type": "code",
   "execution_count": null,
   "metadata": {},
   "outputs": [],
   "source": [
    "assert not is_sorted([3, 2, 2])\n",
    "assert not is_sorted([2, 2, 1])"
   ]
  },
  {
   "cell_type": "code",
   "execution_count": null,
   "metadata": {},
   "outputs": [],
   "source": [
    "def random_array():\n",
    "    len = random.randrange(0, 10)\n",
    "    xs = []\n",
    "    for i in range(len):\n",
    "        xs.append(random.randrange(0, 10))\n",
    "    return xs"
   ]
  },
  {
   "cell_type": "code",
   "execution_count": null,
   "metadata": {},
   "outputs": [],
   "source": [
    "for i in range(10):\n",
    "    print (random_array())"
   ]
  },
  {
   "cell_type": "code",
   "execution_count": null,
   "metadata": {},
   "outputs": [],
   "source": [
    "def test_quicksort(n = 1000):\n",
    "    for i in range(n):\n",
    "        xs = random_array()\n",
    "        print(\"In: \", xs)\n",
    "        quicksort(xs)\n",
    "        print(\"Out: \", xs)\n",
    "        assert is_sorted(xs)"
   ]
  },
  {
   "cell_type": "code",
   "execution_count": null,
   "metadata": {},
   "outputs": [],
   "source": [
    "test_quicksort()"
   ]
  },
  {
   "cell_type": "markdown",
   "metadata": {},
   "source": [
    "## Optional: Diagnosis"
   ]
  },
  {
   "cell_type": "markdown",
   "metadata": {},
   "source": [
    "We can provide users with a ALHAZEN-generated diagnosis – say, \n",
    "\n",
    "> for an input $[x, y, z]$, `quicksort()` fails whenever $x > y$ and $y \\le z$ holds.\n",
    "\n",
    "(Actually, the exact diagnosis may be a bit more detailed than that.)"
   ]
  },
  {
   "cell_type": "code",
   "execution_count": null,
   "metadata": {},
   "outputs": [],
   "source": [
    "xs = [2, 1, 3]; quicksort(xs); xs"
   ]
  }
 ],
 "metadata": {
  "kernelspec": {
   "display_name": "Python 3",
   "language": "python",
   "name": "python3"
  },
  "language_info": {
   "codemirror_mode": {
    "name": "ipython",
    "version": 3
   },
   "file_extension": ".py",
   "mimetype": "text/x-python",
   "name": "python",
   "nbconvert_exporter": "python",
   "pygments_lexer": "ipython3",
   "version": "3.6.8"
  }
 },
 "nbformat": 4,
 "nbformat_minor": 2
}
