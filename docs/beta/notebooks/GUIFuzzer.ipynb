{
 "cells": [
  {
   "cell_type": "markdown",
   "metadata": {
    "button": false,
    "new_sheet": false,
    "run_control": {
     "read_only": false
    },
    "slideshow": {
     "slide_type": "slide"
    }
   },
   "source": [
    "# Testing Graphical User Interfaces\n",
    "\n",
    "In this chapter, we explore how to generate tests for Graphical User Interfaces (GUIs), abstracting from our [previous examples on Web testing](WebFuzzer.ipynb).  Building on general means to extract user interface elements and to activate them, our techniques generalize to arbitrary graphical user interfaces, from rich Web applications to mobile apps, and systematically explore user interfaces through forms and navigation elements."
   ]
  },
  {
   "cell_type": "markdown",
   "metadata": {
    "button": false,
    "new_sheet": false,
    "run_control": {
     "read_only": false
    },
    "slideshow": {
     "slide_type": "subslide"
    }
   },
   "source": [
    "**Prerequisites**\n",
    "\n",
    "* We build on the Web server introduced in the [chapter on Web testing](WebFuzzer.ipynb)."
   ]
  },
  {
   "cell_type": "markdown",
   "metadata": {
    "slideshow": {
     "slide_type": "slide"
    }
   },
   "source": [
    "## Synopsis\n",
    "<!-- Automatically generated. Do not edit. -->\n",
    "\n",
    "To [use the code provided in this chapter](Importing.ipynb), write\n",
    "\n",
    "```python\n",
    ">>> from fuzzingbook.GUIFuzzer import <identifier>\n",
    "```\n",
    "\n",
    "and then make use of the following features.\n",
    "\n",
    "\n",
    "This chapter demonstrates how to programmatically interact with user interfaces, using Selenium on Web browsers.  It provides an experimental  `GUICoverageFuzzer` class that automatically explores a user interface by systematically interacting with all available user interface elements.\n",
    "\n",
    "The function `start_webdriver()` starts a headless Web browser in the background and returns a _GUI driver_ as handle for further communication.\n",
    "\n",
    "```python\n",
    ">>> gui_driver = start_webdriver()\n",
    "```\n",
    "We let it the browser open the URL of the server we want to investigate (in this case, the vulnerable server from [the chapter on Web fuzzing](WebFuzzer.ipynb)) and obtain a screen shot.\n",
    "\n",
    "```python\n",
    ">>> gui_driver.get(httpd_url)\n",
    ">>> Image(gui_driver.get_screenshot_as_png())\n",
    "```\n",
    "\n",
    "![](PICS/GUIFuzzer-synopsis-1.png)\n",
    "\n",
    "The `GUICoverageFuzzer` class explores the user interface and builds a _grammar_ that encodes all states as well as the user interactions required to move from one state to the next.  It is paired with a `GUIRunner` which interacts with the GUI driver.\n",
    "\n",
    "```python\n",
    ">>> gui_fuzzer = GUICoverageFuzzer(gui_driver)\n",
    ">>> gui_runner = GUIRunner(gui_driver)\n",
    "```\n",
    "The `explore_all()` method extracts all states and all transitions from a Web user interface.\n",
    "\n",
    "```python\n",
    ">>> gui_fuzzer.explore_all(gui_runner)\n",
    "```\n",
    "The grammar embeds a finite state automation and is best visualized as such.\n",
    "\n",
    "```python\n",
    ">>> fsm_diagram(gui_fuzzer.grammar)\n",
    "```\n",
    "\n",
    "![](PICS/GUIFuzzer-synopsis-2.svg)\n",
    "\n",
    "The GUI Fuzzer `fuzz()` method produces sequences of interactions that follow paths through the finite state machine.  Since `GUICoverageFuzzer` is derived from `CoverageFuzzer` (see the [chapter on coverage-based grammar fuzzing](GrammarCoverageFuzzer.ipynb)), it automatically covers (a) as many transitions between states as well as (b) as many form elements as possible.  In our case, the first set of actions explores the transition via the \"order form\" link; the second set then goes until the \"<end>\" state.\n",
    "\n",
    "```python\n",
    ">>> gui_driver.get(httpd_url)\n",
    ">>> actions = gui_fuzzer.fuzz()\n",
    ">>> print(actions)\n",
    "click('terms and conditions')\n",
    "click('order form')\n",
    "fill('email', 'V@l')\n",
    "check('terms', False)\n",
    "fill('city', 'E')\n",
    "fill('name', 'MI')\n",
    "fill('zip', '3')\n",
    "submit('submit')\n",
    "click('order form')\n",
    "fill('email', 'e@J')\n",
    "check('terms', True)\n",
    "fill('city', 'i')\n",
    "fill('name', 'a')\n",
    "fill('zip', '4')\n",
    "submit('submit')\n",
    "\n",
    "\n",
    "```\n",
    "These actions can be fed into the GUI runner, which will execute them on the given GUI driver.\n",
    "\n",
    "```python\n",
    ">>> gui_driver.get(httpd_url)\n",
    ">>> result, outcome = gui_runner.run(actions)\n",
    ">>> Image(gui_driver.get_screenshot_as_png())\n",
    "```\n",
    "\n",
    "![](PICS/GUIFuzzer-synopsis-3.png)\n",
    "\n",
    "Further invocations of `fuzz()` will further cover the model – for instance, exploring the terms and conditions.\n",
    "\n",
    "A tool like `GUICoverageFuzzer` will provide \"deep\" exploration of user interfaces, even filling out forms to explore what is behind them. Keep in mind, though, that `GUICoverageFuzzer` is experimental: It only supports a subset of HTML form and link features, and does not take JavaScript into account.\n",
    "\n"
   ]
  },
  {
   "cell_type": "markdown",
   "metadata": {
    "button": false,
    "new_sheet": true,
    "run_control": {
     "read_only": false
    },
    "slideshow": {
     "slide_type": "slide"
    }
   },
   "source": [
    "## Automated GUI Interaction\n",
    "\n",
    "In the [chapter on Web testing](WebFuzzer.ipynb), we have shown how to test Web-based interfaces by directly interacting with a Web server using the HTTP protocol, and processing the retrieved HTML pages to identify user interface elements.  While these techniques work well for user interfaces that are based on HTML only, they fail as soon as there are interactive elements that use JavaScript to execute code within the browser, and generate and change the user interface without having to interact with the browser."
   ]
  },
  {
   "cell_type": "markdown",
   "metadata": {
    "button": false,
    "new_sheet": true,
    "run_control": {
     "read_only": false
    },
    "slideshow": {
     "slide_type": "subslide"
    }
   },
   "source": [
    "In this chapter, we therefore take a different approach to user interface testing.  Rather than using HTTP and HTML as the mechanisms for interaction, we leverage a dedicated _UI testing framework_, which allows us to\n",
    "\n",
    "* query the program under test for available user interface elements, and\n",
    "* query the UI elements for how they can be interacted with.\n",
    "\n",
    "Although we will again illustrate our approach using a Web server, the approach easily generalizes to _arbitrary user interfaces_.  In fact, the UI testing framework we use, *Selenium*, also comes in variants that run for Android apps."
   ]
  },
  {
   "cell_type": "markdown",
   "metadata": {
    "button": false,
    "new_sheet": true,
    "run_control": {
     "read_only": false
    },
    "slideshow": {
     "slide_type": "subslide"
    }
   },
   "source": [
    "### Our Web Server, Again\n",
    "\n",
    "As in the [chapter on Web testing](WebFuzzer.ipynb), we run a Web server that allows us to order products."
   ]
  },
  {
   "cell_type": "code",
   "execution_count": 1,
   "metadata": {
    "button": false,
    "new_sheet": false,
    "run_control": {
     "read_only": false
    },
    "slideshow": {
     "slide_type": "skip"
    }
   },
   "outputs": [],
   "source": [
    "import fuzzingbook_utils"
   ]
  },
  {
   "cell_type": "code",
   "execution_count": 2,
   "metadata": {
    "slideshow": {
     "slide_type": "skip"
    }
   },
   "outputs": [],
   "source": [
    "from WebFuzzer import init_db, start_httpd, webbrowser, print_httpd_messages, print_url, ORDERS_DB"
   ]
  },
  {
   "cell_type": "code",
   "execution_count": 3,
   "metadata": {
    "slideshow": {
     "slide_type": "skip"
    }
   },
   "outputs": [],
   "source": [
    "import html"
   ]
  },
  {
   "cell_type": "code",
   "execution_count": 4,
   "metadata": {
    "slideshow": {
     "slide_type": "fragment"
    }
   },
   "outputs": [],
   "source": [
    "db = init_db()"
   ]
  },
  {
   "cell_type": "markdown",
   "metadata": {
    "slideshow": {
     "slide_type": "fragment"
    }
   },
   "source": [
    "This is the address of our web server:"
   ]
  },
  {
   "cell_type": "code",
   "execution_count": 5,
   "metadata": {
    "slideshow": {
     "slide_type": "fragment"
    }
   },
   "outputs": [
    {
     "data": {
      "text/html": [
       "<pre><a href=\"http://127.0.0.1:8800\">http://127.0.0.1:8800</a></pre>"
      ],
      "text/plain": [
       "<IPython.core.display.HTML object>"
      ]
     },
     "metadata": {},
     "output_type": "display_data"
    }
   ],
   "source": [
    "httpd_process, httpd_url = start_httpd()\n",
    "print_url(httpd_url)"
   ]
  },
  {
   "cell_type": "markdown",
   "metadata": {
    "slideshow": {
     "slide_type": "fragment"
    }
   },
   "source": [
    "Using `webbrowser()`, we can retrieve the HTML of the home page, and use `HTML()` to render it."
   ]
  },
  {
   "cell_type": "code",
   "execution_count": 6,
   "metadata": {
    "slideshow": {
     "slide_type": "skip"
    }
   },
   "outputs": [],
   "source": [
    "from IPython.display import display, Image"
   ]
  },
  {
   "cell_type": "code",
   "execution_count": 7,
   "metadata": {
    "slideshow": {
     "slide_type": "skip"
    }
   },
   "outputs": [],
   "source": [
    "from fuzzingbook_utils import HTML, rich_output"
   ]
  },
  {
   "cell_type": "code",
   "execution_count": 8,
   "metadata": {
    "slideshow": {
     "slide_type": "fragment"
    }
   },
   "outputs": [
    {
     "data": {
      "text/html": [
       "<pre style=\"background: NavajoWhite;\">127.0.0.1 - - [21/Dec/2019 22:22:01] \"GET / HTTP/1.1\" 200 -\n",
       "</pre>"
      ],
      "text/plain": [
       "<IPython.core.display.HTML object>"
      ]
     },
     "metadata": {},
     "output_type": "display_data"
    },
    {
     "data": {
      "text/html": [
       "\n",
       "<html><body>\n",
       "<form action=\"/order\" style=\"border:3px; border-style:solid; border-color:#FF0000; padding: 1em;\">\n",
       "  <strong id=\"title\" style=\"font-size: x-large\">Fuzzingbook Swag Order Form</strong>\n",
       "  <p>\n",
       "  Yes! Please send me at your earliest convenience\n",
       "  <select name=\"item\">\n",
       "  <option value=\"tshirt\">One FuzzingBook T-Shirt</option>\n",
       "<option value=\"drill\">One FuzzingBook Rotary Hammer</option>\n",
       "<option value=\"lockset\">One FuzzingBook Lock Set</option>\n",
       "\n",
       "  </select>\n",
       "  <br>\n",
       "  <table>\n",
       "  <tr><td>\n",
       "  <label for=\"name\">Name: </label><input type=\"text\" name=\"name\">\n",
       "  </td><td>\n",
       "  <label for=\"email\">Email: </label><input type=\"email\" name=\"email\"><br>\n",
       "  </td></tr>\n",
       "  <tr><td>\n",
       "  <label for=\"city\">City: </label><input type=\"text\" name=\"city\">\n",
       "  </td><td>\n",
       "  <label for=\"zip\">ZIP Code: </label><input type=\"number\" name=\"zip\">\n",
       "  </tr></tr>\n",
       "  </table>\n",
       "  <input type=\"checkbox\" name=\"terms\"><label for=\"terms\">I have read\n",
       "  the <a href=\"/terms\">terms and conditions</a></label>.<br>\n",
       "  <input type=\"submit\" name=\"submit\" value=\"Place order\">\n",
       "</p>\n",
       "</form>\n",
       "</body></html>\n"
      ],
      "text/plain": [
       "<IPython.core.display.HTML object>"
      ]
     },
     "execution_count": 8,
     "metadata": {},
     "output_type": "execute_result"
    }
   ],
   "source": [
    "HTML(webbrowser(httpd_url))"
   ]
  },
  {
   "cell_type": "markdown",
   "metadata": {
    "button": false,
    "new_sheet": false,
    "run_control": {
     "read_only": false
    },
    "slideshow": {
     "slide_type": "subslide"
    }
   },
   "source": [
    "### Remote Control with Selenium\n",
    "\n",
    "Let us take a look at the GUI above.  In contrast to the [chapter on Web testing](WebFuzzer.ipynb), we do not assume we can access the HTML source of the current page.  All we assume is that there is a set of *user interface elements* we can interact with."
   ]
  },
  {
   "cell_type": "markdown",
   "metadata": {
    "slideshow": {
     "slide_type": "fragment"
    }
   },
   "source": [
    "[Selenium](https://www.seleniumhq.org) is a framework for testing Web applications by _automating interaction in the browser_.  Selenium provides an API that allows one to launch a Web browser, query the state of the user interface, and interact with individual user interface elements.  The Selenium API is available in a number of languages; we use the [Selenium API for Python](https://selenium-python.readthedocs.io/index.html)."
   ]
  },
  {
   "cell_type": "markdown",
   "metadata": {
    "slideshow": {
     "slide_type": "subslide"
    }
   },
   "source": [
    "A Selenium *web driver* is the interface between a program and a browser controlled by the program."
   ]
  },
  {
   "cell_type": "code",
   "execution_count": 9,
   "metadata": {
    "slideshow": {
     "slide_type": "skip"
    }
   },
   "outputs": [],
   "source": [
    "from selenium import webdriver"
   ]
  },
  {
   "cell_type": "markdown",
   "metadata": {
    "slideshow": {
     "slide_type": "fragment"
    }
   },
   "source": [
    "The following code starts a Firefox browser in the background, which we then control through the web driver."
   ]
  },
  {
   "cell_type": "code",
   "execution_count": 10,
   "metadata": {
    "slideshow": {
     "slide_type": "fragment"
    }
   },
   "outputs": [],
   "source": [
    "BROWSER = 'firefox'"
   ]
  },
  {
   "cell_type": "markdown",
   "metadata": {
    "slideshow": {
     "slide_type": "subslide"
    }
   },
   "source": [
    "**Note:** If you don't have Firefox installed, you can also set `BROWSER` to `'chrome'` to use Google Chrome instead."
   ]
  },
  {
   "cell_type": "code",
   "execution_count": 11,
   "metadata": {
    "slideshow": {
     "slide_type": "fragment"
    }
   },
   "outputs": [],
   "source": [
    "# BROWSER = 'chrome'"
   ]
  },
  {
   "cell_type": "markdown",
   "metadata": {
    "slideshow": {
     "slide_type": "fragment"
    }
   },
   "source": [
    "The browser is _headless_, meaning that it does not show on the screen."
   ]
  },
  {
   "cell_type": "code",
   "execution_count": 12,
   "metadata": {
    "slideshow": {
     "slide_type": "fragment"
    }
   },
   "outputs": [],
   "source": [
    "HEADLESS = True"
   ]
  },
  {
   "cell_type": "markdown",
   "metadata": {
    "slideshow": {
     "slide_type": "subslide"
    }
   },
   "source": [
    "**Note**: If the notebook server runs locally (i.e. on the same machine on which you are seeing this), you can also set `HEADLESS` to `False` and see what happens right on the screen as you execute the notebook cells.  This is very much recommended for interactive sessions."
   ]
  },
  {
   "cell_type": "code",
   "execution_count": 13,
   "metadata": {
    "slideshow": {
     "slide_type": "subslide"
    }
   },
   "outputs": [],
   "source": [
    "def start_webdriver(browser=BROWSER, headless=HEADLESS, zoom=1.4):\n",
    "    if browser == 'firefox':\n",
    "        options = webdriver.FirefoxOptions()\n",
    "    if browser == 'chrome':\n",
    "        options = webdriver.ChromeOptions()\n",
    "\n",
    "    if headless and browser == 'chrome':\n",
    "        options.add_argument('headless')\n",
    "    else:\n",
    "        options.headless = headless\n",
    "    \n",
    "    # Start the browser, and obtain a _web driver_ object such that we can interact with it.\n",
    "    if browser == 'firefox':\n",
    "        # For firefox, set a higher resolution for our screenshots\n",
    "        profile = webdriver.firefox.firefox_profile.FirefoxProfile()\n",
    "        profile.set_preference(\"layout.css.devPixelsPerPx\", repr(zoom))\n",
    "        gui_driver = webdriver.Firefox(firefox_profile=profile, options=options)\n",
    "        \n",
    "        # We set the window size such that it fits our order form exactly;\n",
    "        # this is useful for not wasting too much space when taking screen shots.\n",
    "        gui_driver.set_window_size(700, 300)\n",
    "\n",
    "    elif browser == 'chrome':\n",
    "        gui_driver = webdriver.Chrome(options=options)\n",
    "        gui_driver.set_window_size(700, 210 if headless else 340)\n",
    "            \n",
    "    return gui_driver"
   ]
  },
  {
   "cell_type": "code",
   "execution_count": 14,
   "metadata": {
    "slideshow": {
     "slide_type": "subslide"
    }
   },
   "outputs": [],
   "source": [
    "gui_driver = start_webdriver(browser=BROWSER, headless=HEADLESS)"
   ]
  },
  {
   "cell_type": "markdown",
   "metadata": {
    "slideshow": {
     "slide_type": "fragment"
    }
   },
   "source": [
    "We can now interact with the browser programmatically.  First, we have it navigate to the URL of our Web server:"
   ]
  },
  {
   "cell_type": "code",
   "execution_count": 15,
   "metadata": {
    "slideshow": {
     "slide_type": "fragment"
    }
   },
   "outputs": [],
   "source": [
    "gui_driver.get(httpd_url)"
   ]
  },
  {
   "cell_type": "markdown",
   "metadata": {
    "slideshow": {
     "slide_type": "fragment"
    }
   },
   "source": [
    "We see that the home page is actually accessed, together with a (failing) request to get a page icon:"
   ]
  },
  {
   "cell_type": "code",
   "execution_count": 16,
   "metadata": {
    "slideshow": {
     "slide_type": "fragment"
    }
   },
   "outputs": [
    {
     "data": {
      "text/html": [
       "<pre style=\"background: NavajoWhite;\">127.0.0.1 - - [21/Dec/2019 22:22:04] \"GET / HTTP/1.1\" 200 -\n",
       "</pre>"
      ],
      "text/plain": [
       "<IPython.core.display.HTML object>"
      ]
     },
     "metadata": {},
     "output_type": "display_data"
    },
    {
     "data": {
      "text/html": [
       "<pre style=\"background: NavajoWhite;\">127.0.0.1 - - [21/Dec/2019 22:22:04] \"GET /favicon.ico HTTP/1.1\" 404 -\n",
       "</pre>"
      ],
      "text/plain": [
       "<IPython.core.display.HTML object>"
      ]
     },
     "metadata": {},
     "output_type": "display_data"
    }
   ],
   "source": [
    "print_httpd_messages()"
   ]
  },
  {
   "cell_type": "markdown",
   "metadata": {
    "slideshow": {
     "slide_type": "fragment"
    }
   },
   "source": [
    "To see what the \"headless\" browser displays, we can obtain a screenshot.  We see that it actually displays the home page."
   ]
  },
  {
   "cell_type": "code",
   "execution_count": 17,
   "metadata": {
    "slideshow": {
     "slide_type": "fragment"
    }
   },
   "outputs": [
    {
     "data": {
      "image/png": "[encoded data removed]",
      "text/plain": [
       "<IPython.core.display.Image object>"
      ]
     },
     "execution_count": 17,
     "metadata": {},
     "output_type": "execute_result"
    }
   ],
   "source": [
    "Image(gui_driver.get_screenshot_as_png())"
   ]
  },
  {
   "cell_type": "markdown",
   "metadata": {
    "slideshow": {
     "slide_type": "subslide"
    }
   },
   "source": [
    "### Filling out Forms\n",
    "\n",
    "To interact with the Web page through Selenium and the browser, we can _query_ Selenium for individual elements.  For instance, we can access the UI element whose `name` attribute (as defined in HTML) is `\"name\"`."
   ]
  },
  {
   "cell_type": "code",
   "execution_count": 18,
   "metadata": {
    "slideshow": {
     "slide_type": "fragment"
    }
   },
   "outputs": [],
   "source": [
    "name = gui_driver.find_element_by_name(\"name\")"
   ]
  },
  {
   "cell_type": "markdown",
   "metadata": {
    "slideshow": {
     "slide_type": "fragment"
    }
   },
   "source": [
    "Once we have an element, we can interact with it.  Since `name` is a text field, we can send it a string using the `send_keys()` method; the string will be translated into appropriate key strokes."
   ]
  },
  {
   "cell_type": "code",
   "execution_count": 19,
   "metadata": {
    "slideshow": {
     "slide_type": "fragment"
    }
   },
   "outputs": [],
   "source": [
    "name.send_keys(\"Jane Doe\")"
   ]
  },
  {
   "cell_type": "markdown",
   "metadata": {
    "slideshow": {
     "slide_type": "fragment"
    }
   },
   "source": [
    "In the screenshot, we can see that the `name` field is now filled:"
   ]
  },
  {
   "cell_type": "code",
   "execution_count": 20,
   "metadata": {
    "slideshow": {
     "slide_type": "fragment"
    }
   },
   "outputs": [
    {
     "data": {
      "image/png": "[encoded data removed]",
      "text/plain": [
       "<IPython.core.display.Image object>"
      ]
     },
     "execution_count": 20,
     "metadata": {},
     "output_type": "execute_result"
    }
   ],
   "source": [
    "Image(gui_driver.get_screenshot_as_png())"
   ]
  },
  {
   "cell_type": "markdown",
   "metadata": {
    "slideshow": {
     "slide_type": "subslide"
    }
   },
   "source": [
    "In a similar fashion, we can fill out the email, city, and ZIP fields:"
   ]
  },
  {
   "cell_type": "code",
   "execution_count": 21,
   "metadata": {
    "slideshow": {
     "slide_type": "fragment"
    }
   },
   "outputs": [],
   "source": [
    "email = gui_driver.find_element_by_name(\"email\")\n",
    "email.send_keys(\"j.doe@example.com\")"
   ]
  },
  {
   "cell_type": "code",
   "execution_count": 22,
   "metadata": {
    "slideshow": {
     "slide_type": "fragment"
    }
   },
   "outputs": [],
   "source": [
    "city = gui_driver.find_element_by_name('city')\n",
    "city.send_keys(\"Seattle\")"
   ]
  },
  {
   "cell_type": "code",
   "execution_count": 23,
   "metadata": {
    "slideshow": {
     "slide_type": "fragment"
    }
   },
   "outputs": [],
   "source": [
    "zip = gui_driver.find_element_by_name('zip')\n",
    "zip.send_keys(\"98104\")"
   ]
  },
  {
   "cell_type": "code",
   "execution_count": 24,
   "metadata": {
    "slideshow": {
     "slide_type": "fragment"
    }
   },
   "outputs": [
    {
     "data": {
      "image/png": "[encoded data removed]",
      "text/plain": [
       "<IPython.core.display.Image object>"
      ]
     },
     "execution_count": 24,
     "metadata": {},
     "output_type": "execute_result"
    }
   ],
   "source": [
    "Image(gui_driver.get_screenshot_as_png())"
   ]
  },
  {
   "cell_type": "markdown",
   "metadata": {
    "slideshow": {
     "slide_type": "fragment"
    }
   },
   "source": [
    "The check box for terms and conditions is not filled out, but clicked instead using the `click()` method."
   ]
  },
  {
   "cell_type": "code",
   "execution_count": 25,
   "metadata": {
    "slideshow": {
     "slide_type": "fragment"
    }
   },
   "outputs": [],
   "source": [
    "terms = gui_driver.find_element_by_name('terms')\n",
    "terms.click()"
   ]
  },
  {
   "cell_type": "code",
   "execution_count": 26,
   "metadata": {
    "slideshow": {
     "slide_type": "subslide"
    }
   },
   "outputs": [
    {
     "data": {
      "image/png": "[encoded data removed]",
      "text/plain": [
       "<IPython.core.display.Image object>"
      ]
     },
     "execution_count": 26,
     "metadata": {},
     "output_type": "execute_result"
    }
   ],
   "source": [
    "Image(gui_driver.get_screenshot_as_png())"
   ]
  },
  {
   "cell_type": "markdown",
   "metadata": {
    "slideshow": {
     "slide_type": "fragment"
    }
   },
   "source": [
    "The form is now fully filled out.  By clicking on the `submit` button, we can place the order:"
   ]
  },
  {
   "cell_type": "code",
   "execution_count": 27,
   "metadata": {
    "slideshow": {
     "slide_type": "fragment"
    }
   },
   "outputs": [],
   "source": [
    "submit = gui_driver.find_element_by_name('submit')\n",
    "submit.click()"
   ]
  },
  {
   "cell_type": "markdown",
   "metadata": {
    "slideshow": {
     "slide_type": "fragment"
    }
   },
   "source": [
    "We see that the order is being processed, and that the Web browser has switched to the confirmation page."
   ]
  },
  {
   "cell_type": "code",
   "execution_count": 28,
   "metadata": {
    "slideshow": {
     "slide_type": "fragment"
    }
   },
   "outputs": [
    {
     "data": {
      "text/html": [
       "<pre style=\"background: NavajoWhite;\">127.0.0.1 - - [21/Dec/2019 22:22:05] INSERT INTO orders VALUES ('tshirt', 'Jane Doe', 'j.doe@example.com', 'Seattle', '98104')\n",
       "</pre>"
      ],
      "text/plain": [
       "<IPython.core.display.HTML object>"
      ]
     },
     "metadata": {},
     "output_type": "display_data"
    },
    {
     "data": {
      "text/html": [
       "<pre style=\"background: NavajoWhite;\">127.0.0.1 - - [21/Dec/2019 22:22:05] \"GET /order?item=tshirt&name=Jane+Doe&email=j.doe%40example.com&city=Seattle&zip=98104&terms=on&submit=Place+order HTTP/1.1\" 200 -\n",
       "</pre>"
      ],
      "text/plain": [
       "<IPython.core.display.HTML object>"
      ]
     },
     "metadata": {},
     "output_type": "display_data"
    }
   ],
   "source": [
    "print_httpd_messages()"
   ]
  },
  {
   "cell_type": "code",
   "execution_count": 29,
   "metadata": {
    "slideshow": {
     "slide_type": "fragment"
    }
   },
   "outputs": [
    {
     "data": {
      "image/png": "[encoded data removed]",
      "text/plain": [
       "<IPython.core.display.Image object>"
      ]
     },
     "execution_count": 29,
     "metadata": {},
     "output_type": "execute_result"
    }
   ],
   "source": [
    "Image(gui_driver.get_screenshot_as_png())"
   ]
  },
  {
   "cell_type": "markdown",
   "metadata": {
    "slideshow": {
     "slide_type": "subslide"
    }
   },
   "source": [
    "### Navigating\n",
    "\n",
    "Just as we fill out forms, we can also navigate through a Web site by clicking on links.  Let us go back to the home page:"
   ]
  },
  {
   "cell_type": "code",
   "execution_count": 30,
   "metadata": {
    "slideshow": {
     "slide_type": "fragment"
    }
   },
   "outputs": [],
   "source": [
    "gui_driver.back()"
   ]
  },
  {
   "cell_type": "code",
   "execution_count": 31,
   "metadata": {
    "slideshow": {
     "slide_type": "fragment"
    }
   },
   "outputs": [
    {
     "data": {
      "image/png": "[encoded data removed]",
      "text/plain": [
       "<IPython.core.display.Image object>"
      ]
     },
     "execution_count": 31,
     "metadata": {},
     "output_type": "execute_result"
    }
   ],
   "source": [
    "Image(gui_driver.get_screenshot_as_png())"
   ]
  },
  {
   "cell_type": "markdown",
   "metadata": {
    "slideshow": {
     "slide_type": "fragment"
    }
   },
   "source": [
    "We can query the web driver for all elements of a particular type.  Querying for HTML anchor elements (`<a>`) for instance, gives us all links on a page."
   ]
  },
  {
   "cell_type": "code",
   "execution_count": 32,
   "metadata": {
    "button": false,
    "new_sheet": false,
    "run_control": {
     "read_only": false
    },
    "slideshow": {
     "slide_type": "subslide"
    }
   },
   "outputs": [],
   "source": [
    "links = gui_driver.find_elements_by_tag_name(\"a\")"
   ]
  },
  {
   "cell_type": "markdown",
   "metadata": {
    "slideshow": {
     "slide_type": "fragment"
    }
   },
   "source": [
    "We can query the attributes of UI elements – for instance, the URL the first anchor on the page links to:"
   ]
  },
  {
   "cell_type": "code",
   "execution_count": 33,
   "metadata": {
    "slideshow": {
     "slide_type": "fragment"
    }
   },
   "outputs": [
    {
     "data": {
      "text/plain": [
       "'http://127.0.0.1:8800/terms'"
      ]
     },
     "execution_count": 33,
     "metadata": {},
     "output_type": "execute_result"
    }
   ],
   "source": [
    "links[0].get_attribute('href')"
   ]
  },
  {
   "cell_type": "markdown",
   "metadata": {
    "slideshow": {
     "slide_type": "subslide"
    }
   },
   "source": [
    "What happens if we click on it?  Very simple: We switch to the Web page being referenced."
   ]
  },
  {
   "cell_type": "code",
   "execution_count": 34,
   "metadata": {
    "slideshow": {
     "slide_type": "fragment"
    }
   },
   "outputs": [],
   "source": [
    "links[0].click()"
   ]
  },
  {
   "cell_type": "code",
   "execution_count": 35,
   "metadata": {
    "slideshow": {
     "slide_type": "fragment"
    }
   },
   "outputs": [
    {
     "data": {
      "text/html": [
       "<pre style=\"background: NavajoWhite;\">127.0.0.1 - - [21/Dec/2019 22:22:05] \"GET /terms HTTP/1.1\" 200 -\n",
       "</pre>"
      ],
      "text/plain": [
       "<IPython.core.display.HTML object>"
      ]
     },
     "metadata": {},
     "output_type": "display_data"
    }
   ],
   "source": [
    "print_httpd_messages()"
   ]
  },
  {
   "cell_type": "code",
   "execution_count": 36,
   "metadata": {
    "slideshow": {
     "slide_type": "fragment"
    }
   },
   "outputs": [
    {
     "data": {
      "image/png": "[encoded data removed]",
      "text/plain": [
       "<IPython.core.display.Image object>"
      ]
     },
     "execution_count": 36,
     "metadata": {},
     "output_type": "execute_result"
    }
   ],
   "source": [
    "Image(gui_driver.get_screenshot_as_png())"
   ]
  },
  {
   "cell_type": "markdown",
   "metadata": {
    "slideshow": {
     "slide_type": "fragment"
    }
   },
   "source": [
    "Okay.  Let's get back to our home page again."
   ]
  },
  {
   "cell_type": "code",
   "execution_count": 37,
   "metadata": {
    "slideshow": {
     "slide_type": "fragment"
    }
   },
   "outputs": [],
   "source": [
    "gui_driver.back()"
   ]
  },
  {
   "cell_type": "code",
   "execution_count": 38,
   "metadata": {
    "slideshow": {
     "slide_type": "fragment"
    }
   },
   "outputs": [],
   "source": [
    "print_httpd_messages()"
   ]
  },
  {
   "cell_type": "code",
   "execution_count": 39,
   "metadata": {
    "slideshow": {
     "slide_type": "fragment"
    }
   },
   "outputs": [
    {
     "data": {
      "image/png": "[encoded data removed]",
      "text/plain": [
       "<IPython.core.display.Image object>"
      ]
     },
     "execution_count": 39,
     "metadata": {},
     "output_type": "execute_result"
    }
   ],
   "source": [
    "Image(gui_driver.get_screenshot_as_png())"
   ]
  },
  {
   "cell_type": "markdown",
   "metadata": {
    "slideshow": {
     "slide_type": "subslide"
    }
   },
   "source": [
    "### Writing Test Cases\n",
    "\n",
    "The above calls, interacting with a user interface automatically, are typically used in *Selenium tests* – that is, code snippets that interact with a Web site, occasionally checking whether everything works as expected.  The following code, for instance, places an order just as above.  It then retrieves the `title` element and checks whether the title contains a \"Thank you\" message, indicating success."
   ]
  },
  {
   "cell_type": "code",
   "execution_count": 40,
   "metadata": {
    "slideshow": {
     "slide_type": "subslide"
    }
   },
   "outputs": [],
   "source": [
    "def test_successful_order(driver, url):\n",
    "    name = \"Walter White\"\n",
    "    email = \"white@jpwynne.edu\"\n",
    "    city = \"Albuquerque\"\n",
    "    zip_code = \"87101\"\n",
    "    \n",
    "    driver.get(url)\n",
    "    driver.find_element_by_name(\"name\").send_keys(name)\n",
    "    driver.find_element_by_name(\"email\").send_keys(email)\n",
    "    driver.find_element_by_name('city').send_keys(city)\n",
    "    driver.find_element_by_name('zip').send_keys(zip_code)\n",
    "    driver.find_element_by_name('terms').click()\n",
    "    driver.find_element_by_name('submit').click()\n",
    "    \n",
    "    title = driver.find_element_by_id('title')\n",
    "    assert title is not None\n",
    "    assert title.text.find(\"Thank you\") >= 0\n",
    "\n",
    "    confirmation = driver.find_element_by_id(\"confirmation\")\n",
    "    assert confirmation is not None\n",
    "\n",
    "    assert confirmation.text.find(name) >= 0\n",
    "    assert confirmation.text.find(email) >= 0\n",
    "    assert confirmation.text.find(city) >= 0\n",
    "    assert confirmation.text.find(zip_code) >= 0\n",
    "    \n",
    "    return True"
   ]
  },
  {
   "cell_type": "code",
   "execution_count": 41,
   "metadata": {
    "slideshow": {
     "slide_type": "subslide"
    }
   },
   "outputs": [
    {
     "data": {
      "text/plain": [
       "True"
      ]
     },
     "execution_count": 41,
     "metadata": {},
     "output_type": "execute_result"
    }
   ],
   "source": [
    "test_successful_order(gui_driver, httpd_url)"
   ]
  },
  {
   "cell_type": "markdown",
   "metadata": {
    "slideshow": {
     "slide_type": "fragment"
    }
   },
   "source": [
    "In a similar vein, we can set up automated test cases for unsuccessful orders, canceling orders, changing orders, and many more.  All these test cases would be automatically run after any change to the program code, ensuring the Web application still works."
   ]
  },
  {
   "cell_type": "markdown",
   "metadata": {
    "slideshow": {
     "slide_type": "fragment"
    }
   },
   "source": [
    "Of course, writing such tests is quite some effort.  Hence, in the remainder of this chapter, we will again explore how to automatically generate them."
   ]
  },
  {
   "cell_type": "markdown",
   "metadata": {
    "button": false,
    "new_sheet": false,
    "run_control": {
     "read_only": false
    },
    "slideshow": {
     "slide_type": "subslide"
    }
   },
   "source": [
    "## Retrieving User Interface Actions\n",
    "\n",
    "To automatically interact with a user interface, we first need to find out which elements there are, and which user interactions (or short *actions*) they support."
   ]
  },
  {
   "cell_type": "markdown",
   "metadata": {
    "button": false,
    "new_sheet": false,
    "run_control": {
     "read_only": false
    },
    "slideshow": {
     "slide_type": "subslide"
    }
   },
   "source": [
    "### User Interface Elements\n",
    "\n",
    "We start with finding available user elements.  Let us get back to the order form."
   ]
  },
  {
   "cell_type": "code",
   "execution_count": 42,
   "metadata": {
    "slideshow": {
     "slide_type": "fragment"
    }
   },
   "outputs": [],
   "source": [
    "gui_driver.get(httpd_url)"
   ]
  },
  {
   "cell_type": "code",
   "execution_count": 43,
   "metadata": {
    "slideshow": {
     "slide_type": "fragment"
    }
   },
   "outputs": [
    {
     "data": {
      "image/png": "[encoded data removed]",
      "text/plain": [
       "<IPython.core.display.Image object>"
      ]
     },
     "execution_count": 43,
     "metadata": {},
     "output_type": "execute_result"
    }
   ],
   "source": [
    "Image(gui_driver.get_screenshot_as_png())"
   ]
  },
  {
   "cell_type": "markdown",
   "metadata": {
    "slideshow": {
     "slide_type": "fragment"
    }
   },
   "source": [
    "Using `find_elements_by_tag_name()` (and other similar `find_elements_...()` functions), we can retrieve all elements of a particular type, such as HTML `input` elements."
   ]
  },
  {
   "cell_type": "code",
   "execution_count": 44,
   "metadata": {
    "button": false,
    "new_sheet": false,
    "run_control": {
     "read_only": false
    },
    "slideshow": {
     "slide_type": "subslide"
    }
   },
   "outputs": [],
   "source": [
    "ui_elements = gui_driver.find_elements_by_tag_name(\"input\")"
   ]
  },
  {
   "cell_type": "markdown",
   "metadata": {
    "slideshow": {
     "slide_type": "fragment"
    }
   },
   "source": [
    "For each element, we can retrieve its HTML attributes, using `get_attribute()`.  We can thus retrieve the `name` and `type` of each input element (if defined)."
   ]
  },
  {
   "cell_type": "code",
   "execution_count": 45,
   "metadata": {
    "slideshow": {
     "slide_type": "subslide"
    }
   },
   "outputs": [
    {
     "name": "stdout",
     "output_type": "stream",
     "text": [
      "Name: name       | Type: text       | Text: \n",
      "Name: email      | Type: email      | Text: \n",
      "Name: city       | Type: text       | Text: \n",
      "Name: zip        | Type: number     | Text: \n",
      "Name: terms      | Type: checkbox   | Text: \n",
      "Name: submit     | Type: submit     | Text: \n"
     ]
    }
   ],
   "source": [
    "for element in ui_elements:\n",
    "    print(\"Name: %-10s | Type: %-10s | Text: %s\" % (element.get_attribute('name'), element.get_attribute('type'), element.text))"
   ]
  },
  {
   "cell_type": "code",
   "execution_count": 46,
   "metadata": {
    "button": false,
    "new_sheet": false,
    "run_control": {
     "read_only": false
    },
    "slideshow": {
     "slide_type": "subslide"
    }
   },
   "outputs": [],
   "source": [
    "ui_elements = gui_driver.find_elements_by_tag_name(\"a\")"
   ]
  },
  {
   "cell_type": "code",
   "execution_count": 47,
   "metadata": {
    "slideshow": {
     "slide_type": "fragment"
    }
   },
   "outputs": [
    {
     "name": "stdout",
     "output_type": "stream",
     "text": [
      "Name:            | Type:            | Text: terms and conditions\n"
     ]
    }
   ],
   "source": [
    "for element in ui_elements:\n",
    "    print(\"Name: %-10s | Type: %-10s | Text: %s\" % (element.get_attribute('name'), element.get_attribute('type'), element.text))"
   ]
  },
  {
   "cell_type": "markdown",
   "metadata": {
    "slideshow": {
     "slide_type": "subslide"
    }
   },
   "source": [
    "### User Interface Actions\n",
    "\n",
    "Similarly to what we did in the [chapter on Web fuzzing](WebFuzzer.ipynb), our idea is now to mine a _grammar_ for the user interface – first for an individual user interface *page* (i.e., a single Web page), later for all pages offered by the application.  The idea is that a grammar defines _legal sequences of actions_ – clicks and keystrokes – that can be applied on the application."
   ]
  },
  {
   "cell_type": "markdown",
   "metadata": {
    "slideshow": {
     "slide_type": "subslide"
    }
   },
   "source": [
    "We assume the following actions:\n",
    "\n",
    "1. `fill(<name>, <text>)` – fill the UI input element named `<name>` with the text `<text>`.\n",
    "1. `check(<name>, <value>)` – set the UI checkbox `<name>` to the given value `<value>` (True or False)\n",
    "1. `submit(<name>)` – submit the form by clicking on the UI element `<name>`.\n",
    "1. `click(<name>)` – click on the UI element `<name>`, typically for following a link."
   ]
  },
  {
   "cell_type": "markdown",
   "metadata": {
    "slideshow": {
     "slide_type": "subslide"
    }
   },
   "source": [
    "This sequence of actions, for instance would fill out the order form:\n",
    "\n",
    "```python\n",
    "fill('name', \"Walter White\")\n",
    "fill('email', \"white@jpwynne.edu\")\n",
    "fill('city', \"Albuquerque\")\n",
    "fill('zip', \"87101\")\n",
    "check('terms', True)\n",
    "submit('submit')\n",
    "```"
   ]
  },
  {
   "cell_type": "markdown",
   "metadata": {
    "slideshow": {
     "slide_type": "subslide"
    }
   },
   "source": [
    "Our set of actions is deliberately defined to be small – for real user interfaces, one would also have to define interactions such as swipes, double clicks, long clicks, right button clicks, modifier keys, and more.  Selenium supports all of this; but in the interest of simplicity, we focus on the most important set of interactions."
   ]
  },
  {
   "cell_type": "markdown",
   "metadata": {
    "slideshow": {
     "slide_type": "subslide"
    },
    "toc-hr-collapsed": false
   },
   "source": [
    "### Retrieving Actions\n",
    "\n",
    "As a first step in mining an action grammar, we need to be able to retrieve possible interactions.  We introduce a class `GUIGrammarMiner`, which is set to do precisely that."
   ]
  },
  {
   "cell_type": "code",
   "execution_count": 48,
   "metadata": {
    "slideshow": {
     "slide_type": "fragment"
    }
   },
   "outputs": [],
   "source": [
    "class GUIGrammarMiner(object):\n",
    "    def __init__(self, driver, stay_on_host=True):\n",
    "        self.driver = driver\n",
    "        self.stay_on_host = stay_on_host\n",
    "        self.grammar = {}"
   ]
  },
  {
   "cell_type": "markdown",
   "metadata": {
    "slideshow": {
     "slide_type": "subslide"
    }
   },
   "source": [
    "Our first task is to obtain the set of possible interactions.  Given a single UI page, the method `mine_input_actions()` of `GUIGrammarMiner` returns a set of *actions* as defined above.  It first gets all `input` elements, followed by `button` elements, finally followed by links (`a` elements), and merges them into a set.  (We use a `frozenset` here since we want to use the set as an index later.)"
   ]
  },
  {
   "cell_type": "code",
   "execution_count": 49,
   "metadata": {
    "slideshow": {
     "slide_type": "fragment"
    }
   },
   "outputs": [],
   "source": [
    "class GUIGrammarMiner(GUIGrammarMiner):\n",
    "    def mine_state_actions(self):\n",
    "        return frozenset(self.mine_input_element_actions()\n",
    "            | self.mine_button_element_actions()\n",
    "            | self.mine_a_element_actions())"
   ]
  },
  {
   "cell_type": "markdown",
   "metadata": {
    "slideshow": {
     "slide_type": "subslide"
    }
   },
   "source": [
    "#### Input Element Actions\n",
    "\n",
    "Mining input actions goes through the set of input elements, and returns an action depending on the input type.  If the input field is a text, for instance, the associated action is `fill()`; for checkboxes, the action is `check()`."
   ]
  },
  {
   "cell_type": "markdown",
   "metadata": {
    "slideshow": {
     "slide_type": "fragment"
    }
   },
   "source": [
    "The respective values are placeholders depending on the type; if the input field is a number, for instance, the value becomes `<number>`.  As these actions later become part of the grammar, they will be expanded into actual values during grammar expansion."
   ]
  },
  {
   "cell_type": "code",
   "execution_count": 50,
   "metadata": {
    "slideshow": {
     "slide_type": "skip"
    }
   },
   "outputs": [],
   "source": [
    "from selenium.common.exceptions import StaleElementReferenceException"
   ]
  },
  {
   "cell_type": "code",
   "execution_count": 51,
   "metadata": {
    "slideshow": {
     "slide_type": "subslide"
    }
   },
   "outputs": [],
   "source": [
    "class GUIGrammarMiner(GUIGrammarMiner):\n",
    "    def mine_input_element_actions(self):\n",
    "        actions = set()\n",
    "        \n",
    "        for elem in self.driver.find_elements_by_tag_name(\"input\"):\n",
    "            try:\n",
    "                input_type = elem.get_attribute(\"type\")\n",
    "                input_name = elem.get_attribute(\"name\")\n",
    "                if input_name is None:\n",
    "                    input_name = elem.text\n",
    "\n",
    "                if input_type in [\"checkbox\", \"radio\"]:\n",
    "                    actions.add(\"check('%s', <boolean>)\" % html.escape(input_name))\n",
    "                elif input_type in [\"text\", \"number\", \"email\", \"password\"]:\n",
    "                    actions.add(\"fill('%s', '<%s>')\" % (html.escape(input_name), html.escape(input_type)))\n",
    "                elif input_type in [\"button\", \"submit\"]:\n",
    "                    actions.add(\"submit('%s')\" % html.escape(input_name))\n",
    "                elif input_type in [\"hidden\"]:\n",
    "                    pass\n",
    "                else:\n",
    "                    # TODO: Handle more types here\n",
    "                    actions.add(\"fill('%s', <%s>)\" % (html.escape(input_name), html.escape(input_type)))\n",
    "            except StaleElementReferenceException:\n",
    "                pass\n",
    "\n",
    "        return actions"
   ]
  },
  {
   "cell_type": "markdown",
   "metadata": {
    "slideshow": {
     "slide_type": "subslide"
    }
   },
   "source": [
    "Applied on our order form, we see that the method gets us all input actions:"
   ]
  },
  {
   "cell_type": "code",
   "execution_count": 52,
   "metadata": {
    "slideshow": {
     "slide_type": "fragment"
    }
   },
   "outputs": [
    {
     "data": {
      "text/plain": [
       "{\"check('terms', <boolean>)\",\n",
       " \"fill('city', '<text>')\",\n",
       " \"fill('email', '<email>')\",\n",
       " \"fill('name', '<text>')\",\n",
       " \"fill('zip', '<number>')\",\n",
       " \"submit('submit')\"}"
      ]
     },
     "execution_count": 52,
     "metadata": {},
     "output_type": "execute_result"
    }
   ],
   "source": [
    "gui_grammar_miner = GUIGrammarMiner(gui_driver)\n",
    "gui_grammar_miner.mine_input_element_actions()"
   ]
  },
  {
   "cell_type": "markdown",
   "metadata": {
    "slideshow": {
     "slide_type": "subslide"
    }
   },
   "source": [
    "#### Button Element Actions\n",
    "\n",
    "Mining buttons works in a similar way:"
   ]
  },
  {
   "cell_type": "code",
   "execution_count": 53,
   "metadata": {
    "slideshow": {
     "slide_type": "subslide"
    }
   },
   "outputs": [],
   "source": [
    "class GUIGrammarMiner(GUIGrammarMiner):\n",
    "    def mine_button_element_actions(self):\n",
    "        actions = set()\n",
    "        \n",
    "        for elem in self.driver.find_elements_by_tag_name(\"button\"):\n",
    "            try:\n",
    "                button_type = elem.get_attribute(\"type\")\n",
    "                button_name = elem.get_attribute(\"name\")\n",
    "                if button_name is None:\n",
    "                    button_name = elem.text\n",
    "                if button_type == \"submit\":\n",
    "                    actions.add(\"submit('%s')\" % html.escape(button_name))\n",
    "                elif button_type != \"reset\":\n",
    "                    actions.add(\"click('%s')\" % html.escape(button_name))\n",
    "            except StaleElementReferenceException:\n",
    "                pass\n",
    "\n",
    "        return actions"
   ]
  },
  {
   "cell_type": "markdown",
   "metadata": {
    "slideshow": {
     "slide_type": "subslide"
    }
   },
   "source": [
    "Our order form has no `button` elements.  (The `submit` button is an `input` element, and was handled above)."
   ]
  },
  {
   "cell_type": "code",
   "execution_count": 54,
   "metadata": {
    "slideshow": {
     "slide_type": "fragment"
    }
   },
   "outputs": [
    {
     "data": {
      "text/plain": [
       "set()"
      ]
     },
     "execution_count": 54,
     "metadata": {},
     "output_type": "execute_result"
    }
   ],
   "source": [
    "gui_grammar_miner = GUIGrammarMiner(gui_driver)\n",
    "gui_grammar_miner.mine_button_element_actions()"
   ]
  },
  {
   "cell_type": "markdown",
   "metadata": {
    "slideshow": {
     "slide_type": "subslide"
    }
   },
   "source": [
    "#### Link Element Actions\n",
    "\n",
    "When following links, we need to make sure that we stay on the current host – we want to explore a single Web site only, not all of the Internet.  To this end, we check the `href` attribute of the link to check whether it still points to the same host.  If it does not, we give it a special action `ignore()`, which, as the name suggests, will later be ignored as it comes to executing these actions.  We still return an action, though, as we use the set of actions to characterize a state in the application."
   ]
  },
  {
   "cell_type": "code",
   "execution_count": 55,
   "metadata": {
    "slideshow": {
     "slide_type": "subslide"
    }
   },
   "outputs": [],
   "source": [
    "class GUIGrammarMiner(GUIGrammarMiner):\n",
    "    def mine_a_element_actions(self):\n",
    "        actions = set()\n",
    "\n",
    "        for elem in self.driver.find_elements_by_tag_name(\"a\"):\n",
    "            try:\n",
    "                a_href = elem.get_attribute(\"href\")\n",
    "                if a_href is not None:\n",
    "                    if self.follow_link(a_href):\n",
    "                        actions.add(\"click('%s')\" % html.escape(elem.text))\n",
    "                    else:\n",
    "                        actions.add(\"ignore('%s')\" % html.escape(elem.text))\n",
    "            except StaleElementReferenceException:\n",
    "                pass\n",
    "\n",
    "        return actions"
   ]
  },
  {
   "cell_type": "markdown",
   "metadata": {
    "slideshow": {
     "slide_type": "subslide"
    }
   },
   "source": [
    "To check whether we can follow a link, the method `follow_link()` checks the URL:"
   ]
  },
  {
   "cell_type": "code",
   "execution_count": 56,
   "metadata": {
    "slideshow": {
     "slide_type": "skip"
    }
   },
   "outputs": [],
   "source": [
    "from urllib.parse import urljoin, urlsplit"
   ]
  },
  {
   "cell_type": "code",
   "execution_count": 57,
   "metadata": {
    "slideshow": {
     "slide_type": "fragment"
    }
   },
   "outputs": [],
   "source": [
    "class GUIGrammarMiner(GUIGrammarMiner):\n",
    "    def follow_link(self, link):\n",
    "        if not self.stay_on_host:\n",
    "            return True\n",
    "        \n",
    "        current_url = self.driver.current_url\n",
    "        target_url = urljoin(current_url, link)\n",
    "        return urlsplit(current_url).hostname == urlsplit(target_url).hostname       "
   ]
  },
  {
   "cell_type": "markdown",
   "metadata": {
    "slideshow": {
     "slide_type": "fragment"
    }
   },
   "source": [
    "In our application, we would not be allowed to follow a link to `foo.bar`:"
   ]
  },
  {
   "cell_type": "code",
   "execution_count": 58,
   "metadata": {
    "slideshow": {
     "slide_type": "fragment"
    }
   },
   "outputs": [],
   "source": [
    "gui_grammar_miner = GUIGrammarMiner(gui_driver)"
   ]
  },
  {
   "cell_type": "code",
   "execution_count": 59,
   "metadata": {
    "slideshow": {
     "slide_type": "fragment"
    }
   },
   "outputs": [
    {
     "data": {
      "text/plain": [
       "False"
      ]
     },
     "execution_count": 59,
     "metadata": {},
     "output_type": "execute_result"
    }
   ],
   "source": [
    "gui_grammar_miner.follow_link(\"ftp://foo.bar/\")"
   ]
  },
  {
   "cell_type": "markdown",
   "metadata": {
    "slideshow": {
     "slide_type": "subslide"
    }
   },
   "source": [
    "Following a link to `localhost`, though, works well:"
   ]
  },
  {
   "cell_type": "code",
   "execution_count": 60,
   "metadata": {
    "slideshow": {
     "slide_type": "fragment"
    }
   },
   "outputs": [
    {
     "data": {
      "text/plain": [
       "True"
      ]
     },
     "execution_count": 60,
     "metadata": {},
     "output_type": "execute_result"
    }
   ],
   "source": [
    "gui_grammar_miner.follow_link(\"https://127.0.0.1/\")"
   ]
  },
  {
   "cell_type": "markdown",
   "metadata": {
    "slideshow": {
     "slide_type": "fragment"
    }
   },
   "source": [
    "When adapting this for other user interfaces, similar measures would be taken to ensure we stay in the same application."
   ]
  },
  {
   "cell_type": "markdown",
   "metadata": {
    "slideshow": {
     "slide_type": "fragment"
    }
   },
   "source": [
    "Running this method on our page gets us the set of links:"
   ]
  },
  {
   "cell_type": "code",
   "execution_count": 61,
   "metadata": {
    "slideshow": {
     "slide_type": "fragment"
    }
   },
   "outputs": [
    {
     "data": {
      "text/plain": [
       "{\"click('terms and conditions')\"}"
      ]
     },
     "execution_count": 61,
     "metadata": {},
     "output_type": "execute_result"
    }
   ],
   "source": [
    "gui_grammar_miner = GUIGrammarMiner(gui_driver)\n",
    "gui_grammar_miner.mine_a_element_actions()"
   ]
  },
  {
   "cell_type": "markdown",
   "metadata": {
    "slideshow": {
     "slide_type": "subslide"
    }
   },
   "source": [
    "#### All Together\n",
    "\n",
    "Let us now apply `mine_state_actions()` on our current page to retrieve all elements.  We see that we get the union of all three sets."
   ]
  },
  {
   "cell_type": "code",
   "execution_count": 62,
   "metadata": {
    "slideshow": {
     "slide_type": "fragment"
    }
   },
   "outputs": [
    {
     "data": {
      "text/plain": [
       "frozenset({\"check('terms', <boolean>)\",\n",
       "           \"click('terms and conditions')\",\n",
       "           \"fill('city', '<text>')\",\n",
       "           \"fill('email', '<email>')\",\n",
       "           \"fill('name', '<text>')\",\n",
       "           \"fill('zip', '<number>')\",\n",
       "           \"submit('submit')\"})"
      ]
     },
     "execution_count": 62,
     "metadata": {},
     "output_type": "execute_result"
    }
   ],
   "source": [
    "gui_grammar_miner = GUIGrammarMiner(gui_driver)\n",
    "gui_grammar_miner.mine_state_actions()"
   ]
  },
  {
   "cell_type": "markdown",
   "metadata": {
    "slideshow": {
     "slide_type": "subslide"
    }
   },
   "source": [
    "We assume that we can identify a user interface *state* from the set of interactive elements it contains – that is, the current Web page is identified by the set above.  This is in contrast to [Web fuzzing](WebFuzzer.ipynb), where we assumed the URL to uniquely characterize a page – but with JavaScript, the URL can stay unchanged although the page contents change, and UIs other than the Web may have no concept of unique URLs.  Therefore, we say that the way a UI can be interacted with uniquely defines its state."
   ]
  },
  {
   "cell_type": "markdown",
   "metadata": {
    "slideshow": {
     "slide_type": "slide"
    }
   },
   "source": [
    "## Models for User Interfaces"
   ]
  },
  {
   "cell_type": "markdown",
   "metadata": {
    "slideshow": {
     "slide_type": "subslide"
    }
   },
   "source": [
    "### User Interfaces as Finite State Machines\n",
    "\n",
    "Now that we can retrieve UI elements from a page, let us go and systematically explore a user interface.  The idea is to represent the user interface as a *finite state machine* – that is, a sequence of *states* that can be reached by interacting with the individual user interface elements."
   ]
  },
  {
   "cell_type": "markdown",
   "metadata": {
    "slideshow": {
     "slide_type": "fragment"
    }
   },
   "source": [
    "Let us illustrate such a finite state machine by looking our Web server.  The following diagram shows the states our server can be in:"
   ]
  },
  {
   "cell_type": "code",
   "execution_count": 63,
   "metadata": {
    "slideshow": {
     "slide_type": "skip"
    }
   },
   "outputs": [],
   "source": [
    "from graphviz import Digraph"
   ]
  },
  {
   "cell_type": "code",
   "execution_count": 64,
   "metadata": {
    "slideshow": {
     "slide_type": "skip"
    }
   },
   "outputs": [],
   "source": [
    "from IPython.display import display"
   ]
  },
  {
   "cell_type": "code",
   "execution_count": 65,
   "metadata": {
    "slideshow": {
     "slide_type": "skip"
    }
   },
   "outputs": [],
   "source": [
    "from GrammarFuzzer import dot_escape"
   ]
  },
  {
   "cell_type": "code",
   "execution_count": 66,
   "metadata": {
    "slideshow": {
     "slide_type": "subslide"
    }
   },
   "outputs": [
    {
     "data": {
      "image/svg+xml": [
       "<?xml version=\"1.0\" encoding=\"UTF-8\" standalone=\"no\"?>\n",
       "<!DOCTYPE svg PUBLIC \"-//W3C//DTD SVG 1.1//EN\"\n",
       " \"http://www.w3.org/Graphics/SVG/1.1/DTD/svg11.dtd\">\n",
       "<!-- Generated by graphviz version 2.40.1 (20161225.0304)\n",
       " -->\n",
       "<!-- Title: %3 Pages: 1 -->\n",
       "<svg width=\"556pt\" height=\"219pt\"\n",
       " viewBox=\"0.00 0.00 556.04 219.00\" xmlns=\"http://www.w3.org/2000/svg\" xmlns:xlink=\"http://www.w3.org/1999/xlink\">\n",
       "<g id=\"graph0\" class=\"graph\" transform=\"scale(1 1) rotate(0) translate(4 215)\">\n",
       "<title>%3</title>\n",
       "<polygon fill=\"#ffffff\" stroke=\"transparent\" points=\"-4,4 -4,-215 552.0409,-215 552.0409,4 -4,4\"/>\n",
       "<!-- \\&lt;start\\&gt; -->\n",
       "<g id=\"node1\" class=\"node\">\n",
       "<title>\\&lt;start\\&gt;</title>\n",
       "<ellipse fill=\"none\" stroke=\"#000000\" cx=\"286.0409\" cy=\"-193\" rx=\"36.2938\" ry=\"18\"/>\n",
       "<text text-anchor=\"middle\" x=\"286.0409\" y=\"-189.3\" font-family=\"Times,serif\" font-size=\"14.00\" fill=\"#000000\">&lt;start&gt;</text>\n",
       "</g>\n",
       "<!-- \\&lt;Order Form\\&gt; -->\n",
       "<g id=\"node2\" class=\"node\">\n",
       "<title>\\&lt;Order Form\\&gt;</title>\n",
       "<ellipse fill=\"none\" stroke=\"#000000\" cx=\"286.0409\" cy=\"-120\" rx=\"64.189\" ry=\"18\"/>\n",
       "<text text-anchor=\"middle\" x=\"286.0409\" y=\"-116.3\" font-family=\"Times,serif\" font-size=\"14.00\" fill=\"#000000\">&lt;Order Form&gt;</text>\n",
       "</g>\n",
       "<!-- \\&lt;start\\&gt;&#45;&gt;\\&lt;Order Form\\&gt; -->\n",
       "<g id=\"edge1\" class=\"edge\">\n",
       "<title>\\&lt;start\\&gt;&#45;&gt;\\&lt;Order Form\\&gt;</title>\n",
       "<path fill=\"none\" stroke=\"#000000\" d=\"M286.0409,-174.9551C286.0409,-166.8828 286.0409,-157.1764 286.0409,-148.1817\"/>\n",
       "<polygon fill=\"#000000\" stroke=\"#000000\" points=\"289.541,-148.0903 286.0409,-138.0904 282.541,-148.0904 289.541,-148.0903\"/>\n",
       "</g>\n",
       "<!-- \\&lt;Terms and Conditions\\&gt; -->\n",
       "<g id=\"node3\" class=\"node\">\n",
       "<title>\\&lt;Terms and Conditions\\&gt;</title>\n",
       "<ellipse fill=\"none\" stroke=\"#000000\" cx=\"102.0409\" cy=\"-18\" rx=\"102.0819\" ry=\"18\"/>\n",
       "<text text-anchor=\"middle\" x=\"102.0409\" y=\"-14.3\" font-family=\"Times,serif\" font-size=\"14.00\" fill=\"#000000\">&lt;Terms and Conditions&gt;</text>\n",
       "</g>\n",
       "<!-- \\&lt;Order Form\\&gt;&#45;&gt;\\&lt;Terms and Conditions\\&gt; -->\n",
       "<g id=\"edge2\" class=\"edge\">\n",
       "<title>\\&lt;Order Form\\&gt;&#45;&gt;\\&lt;Terms and Conditions\\&gt;</title>\n",
       "<path fill=\"none\" stroke=\"#000000\" d=\"M223.9991,-115.1509C154.8254,-109.1018 51.0175,-97.8486 39.0409,-84 30.3192,-73.9149 32.3486,-65.5321 39.0409,-54 42.0384,-48.8348 46.0861,-44.3482 50.6923,-40.4658\"/>\n",
       "<polygon fill=\"#000000\" stroke=\"#000000\" points=\"52.8686,-43.2106 58.8846,-34.4895 48.7431,-37.5554 52.8686,-43.2106\"/>\n",
       "<text text-anchor=\"middle\" x=\"120.5409\" y=\"-65.3\" font-family=\"Times,serif\" font-size=\"14.00\" fill=\"#000000\">click(&#39;Terms and conditions&#39;)</text>\n",
       "</g>\n",
       "<!-- \\&lt;Thank You\\&gt; -->\n",
       "<g id=\"node4\" class=\"node\">\n",
       "<title>\\&lt;Thank You\\&gt;</title>\n",
       "<ellipse fill=\"none\" stroke=\"#000000\" cx=\"406.0409\" cy=\"-18\" rx=\"62.2891\" ry=\"18\"/>\n",
       "<text text-anchor=\"middle\" x=\"406.0409\" y=\"-14.3\" font-family=\"Times,serif\" font-size=\"14.00\" fill=\"#000000\">&lt;Thank You&gt;</text>\n",
       "</g>\n",
       "<!-- \\&lt;Order Form\\&gt;&#45;&gt;\\&lt;Thank You\\&gt; -->\n",
       "<g id=\"edge3\" class=\"edge\">\n",
       "<title>\\&lt;Order Form\\&gt;&#45;&gt;\\&lt;Thank You\\&gt;</title>\n",
       "<path fill=\"none\" stroke=\"#000000\" d=\"M307.2083,-102.808C313.8136,-97.0828 320.9574,-90.502 327.0409,-84 338.5197,-71.7317 337.6797,-65.3785 350.0409,-54 355.5949,-48.8876 361.96,-44.0406 368.3607,-39.6563\"/>\n",
       "<polygon fill=\"#000000\" stroke=\"#000000\" points=\"370.5836,-42.3847 377.0384,-33.9831 366.7532,-36.5257 370.5836,-42.3847\"/>\n",
       "<text text-anchor=\"start\" x=\"350.0409\" y=\"-72.8\" font-family=\"Times,serif\" font-size=\"14.00\" fill=\"#000000\">fill(...)</text>\n",
       "<text text-anchor=\"middle\" x=\"395.5409\" y=\"-57.8\" font-family=\"Times,serif\" font-size=\"14.00\" fill=\"#000000\">submit(&#39;submit&#39;)</text>\n",
       "</g>\n",
       "<!-- \\&lt;Terms and Conditions\\&gt;&#45;&gt;\\&lt;Order Form\\&gt; -->\n",
       "<g id=\"edge4\" class=\"edge\">\n",
       "<title>\\&lt;Terms and Conditions\\&gt;&#45;&gt;\\&lt;Order Form\\&gt;</title>\n",
       "<path fill=\"none\" stroke=\"#000000\" d=\"M162.518,-32.5559C176.4406,-37.7867 190.5248,-44.7653 202.0409,-54 214.3536,-63.8734 209.5579,-73.1729 221.0409,-84 227.3147,-89.9154 234.7437,-95.1961 242.297,-99.7702\"/>\n",
       "<polygon fill=\"#000000\" stroke=\"#000000\" points=\"240.7365,-102.9091 251.1592,-104.811 244.1974,-96.8245 240.7365,-102.9091\"/>\n",
       "<text text-anchor=\"middle\" x=\"272.0409\" y=\"-65.3\" font-family=\"Times,serif\" font-size=\"14.00\" fill=\"#000000\">click(&#39;order form&#39;)</text>\n",
       "</g>\n",
       "<!-- \\&lt;Thank You\\&gt;&#45;&gt;\\&lt;Order Form\\&gt; -->\n",
       "<g id=\"edge5\" class=\"edge\">\n",
       "<title>\\&lt;Thank You\\&gt;&#45;&gt;\\&lt;Order Form\\&gt;</title>\n",
       "<path fill=\"none\" stroke=\"#000000\" d=\"M427.7489,-34.98C433.1179,-40.4175 438.1554,-46.8925 441.0409,-54 446.0565,-66.354 449.3343,-73.5598 441.0409,-84 430.1641,-97.6926 392.1394,-106.6465 356.4772,-112.1999\"/>\n",
       "<polygon fill=\"#000000\" stroke=\"#000000\" points=\"355.8848,-108.7494 346.5058,-113.6772 356.9107,-115.6738 355.8848,-108.7494\"/>\n",
       "<text text-anchor=\"middle\" x=\"497.0409\" y=\"-65.3\" font-family=\"Times,serif\" font-size=\"14.00\" fill=\"#000000\">click(&#39;order form&#39;)</text>\n",
       "</g>\n",
       "</g>\n",
       "</svg>\n"
      ],
      "text/plain": [
       "<graphviz.dot.Digraph at 0x11aecc0f0>"
      ]
     },
     "metadata": {},
     "output_type": "display_data"
    }
   ],
   "source": [
    "dot = Digraph(comment=\"Finite State Machine\")\n",
    "dot.node(dot_escape('<start>'))\n",
    "dot.edge(dot_escape('<start>'), dot_escape('<Order Form>'))\n",
    "dot.edge(dot_escape('<Order Form>'), dot_escape('<Terms and Conditions>'), \"click('Terms and conditions')\")\n",
    "dot.edge(dot_escape('<Order Form>'), dot_escape('<Thank You>'), \"fill(...)\\lsubmit('submit')\")\n",
    "dot.edge(dot_escape('<Terms and Conditions>'), dot_escape('<Order Form>'), \"click('order form')\")\n",
    "dot.edge(dot_escape('<Thank You>'), dot_escape('<Order Form>'), \"click('order form')\")\n",
    "display(dot)"
   ]
  },
  {
   "cell_type": "markdown",
   "metadata": {
    "slideshow": {
     "slide_type": "subslide"
    }
   },
   "source": [
    "Initially, we are in the `<Order Form>` state.  From here, we can click on `Terms and Conditions`, and we'll be in the `Terms and Conditions` state, showing the page with the same title.  We can also fill out the form and place the order, having us end in the `Thank You` state (again showing the page with the same title).  From both `<Terms and Conditions>` and `<Thank You>`, we can return to the order form by clicking on the `order form` link."
   ]
  },
  {
   "cell_type": "markdown",
   "metadata": {
    "slideshow": {
     "slide_type": "subslide"
    }
   },
   "source": [
    "### State Machines as Grammars\n",
    "\n",
    "To systematically explore a user interface, we must retrieve its finite state machine, and eventually cover all states and transitions.  In the presence of forms, such an exploration is difficult, as we need a special mechanism to fill out forms and submit the values to get to the next state.  There is a trick, though, which allows us to have a single representation for both states and (form) values.  We can *embed the finite state machine into a grammar*, which is then used for both states and form values."
   ]
  },
  {
   "cell_type": "markdown",
   "metadata": {
    "slideshow": {
     "slide_type": "subslide"
    }
   },
   "source": [
    "To embed a finite state machine into a grammar, we proceed as follows:\n",
    "\n",
    "1. Every _state_ $\\langle s \\rangle$ in the finite state machine becomes a _symbol_ $\\langle s \\rangle$ in the grammar.\n",
    "2. Every _transition_ in the finite state machine from $\\langle s \\rangle$ to $\\langle t \\rangle$ and actions $a_1, a_2, \\dots$ becomes an _alternative_ of $\\langle s \\rangle$ in the form $a_1, a_2, dots$ $\\langle t \\rangle$ in the grammar."
   ]
  },
  {
   "cell_type": "markdown",
   "metadata": {
    "slideshow": {
     "slide_type": "subslide"
    }
   },
   "source": [
    "The above finite state machine thus gets encoded into the grammar\n",
    "\n",
    "```\n",
    "<start> ::= <Order Form>\n",
    "<Order Form> ::= click('Terms and Conditions') <Terms and Conditions> | \n",
    "                 fill(...) submit('submit') <Thank You>\n",
    "<Terms and Conditions> ::= click('order form') <Order Form>\n",
    "<Thank You> ::= click('order form') <Order Form>\n",
    "```"
   ]
  },
  {
   "cell_type": "markdown",
   "metadata": {
    "slideshow": {
     "slide_type": "subslide"
    }
   },
   "source": [
    "Expanding this grammar gets us a stream of actions, navigating through the user interface:\n",
    "\n",
    "```\n",
    "fill(...) submit('submit') click('order form') click('Terms and Conditions') click('order form') ...\n",
    "```\n",
    "\n",
    "This stream is actually _infinite_ (as one can interact with the UI forever); to have it end, one can introduce an alternative `<end>` that simply expands to the empty string, without having any expansion (state) follow."
   ]
  },
  {
   "cell_type": "markdown",
   "metadata": {
    "slideshow": {
     "slide_type": "subslide"
    }
   },
   "source": [
    "### Retrieving State Grammars\n",
    "\n",
    "Let us build a method that retrieves a grammar from the _current state_ of a user interface.  We first define a constant `GUI_GRAMMAR` that servers as template for all sorts of input types.  We will use this to fill out forms."
   ]
  },
  {
   "cell_type": "markdown",
   "metadata": {
    "slideshow": {
     "slide_type": "fragment"
    }
   },
   "source": [
    "\\todo{}: Have a generic interface `BaseGrammarMiner` with `__init__()` and `mine_grammar()`"
   ]
  },
  {
   "cell_type": "code",
   "execution_count": 67,
   "metadata": {
    "slideshow": {
     "slide_type": "skip"
    }
   },
   "outputs": [],
   "source": [
    "from Grammars import new_symbol"
   ]
  },
  {
   "cell_type": "code",
   "execution_count": 68,
   "metadata": {
    "slideshow": {
     "slide_type": "skip"
    }
   },
   "outputs": [],
   "source": [
    "from Grammars import nonterminals, START_SYMBOL\n",
    "from Grammars import extend_grammar, unreachable_nonterminals, opts, crange, srange\n",
    "from Grammars import syntax_diagram, is_valid_grammar"
   ]
  },
  {
   "cell_type": "code",
   "execution_count": 69,
   "metadata": {
    "slideshow": {
     "slide_type": "subslide"
    }
   },
   "outputs": [],
   "source": [
    "class GUIGrammarMiner(GUIGrammarMiner):\n",
    "    START_STATE = \"<state>\"\n",
    "    UNEXPLORED_STATE = \"<unexplored>\"\n",
    "    FINAL_STATE = \"<end>\"\n",
    "\n",
    "    GUI_GRAMMAR = ({\n",
    "        START_SYMBOL: [START_STATE],\n",
    "        UNEXPLORED_STATE: [\"\"],\n",
    "        FINAL_STATE: [\"\"],\n",
    "\n",
    "        \"<text>\": [\"<string>\"],\n",
    "        \"<string>\": [\"<character>\", \"<string><character>\"],\n",
    "        \"<character>\": [\"<letter>\", \"<digit>\", \"<special>\"],\n",
    "        \"<letter>\": crange('a', 'z') + crange('A', 'Z'),\n",
    "        \n",
    "        \"<number>\": [\"<digits>\"],\n",
    "        \"<digits>\": [\"<digit>\", \"<digits><digit>\"],\n",
    "        \"<digit>\": crange('0', '9'),\n",
    "        \n",
    "        \"<special>\": srange(\". !\"),\n",
    "\n",
    "        \"<email>\": [\"<letters>@<letters>\"],\n",
    "        \"<letters>\": [\"<letter>\", \"<letters><letter>\"],\n",
    "        \n",
    "        \"<boolean>\": [\"True\", \"False\"],\n",
    "\n",
    "        # Use a fixed password in case we need to repeat it\n",
    "        \"<password>\": [\"abcABC.123\"],\n",
    "        \n",
    "        \"<hidden>\": \"<string>\",\n",
    "    })"
   ]
  },
  {
   "cell_type": "code",
   "execution_count": 70,
   "metadata": {
    "slideshow": {
     "slide_type": "subslide"
    }
   },
   "outputs": [
    {
     "name": "stdout",
     "output_type": "stream",
     "text": [
      "start\n"
     ]
    },
    {
     "data": {
      "image/svg+xml": [
       "<svg class=\"railroad-diagram\" height=\"62\" viewBox=\"0 0 182.5 62\" width=\"182.5\" xmlns=\"http://www.w3.org/2000/svg\">\n",
       "<g transform=\"translate(.5 .5)\">\n",
       "<style>/* <![CDATA[ */\n",
       "    svg.railroad-diagram {\n",
       "    }\n",
       "    svg.railroad-diagram path {\n",
       "        stroke-width:3;\n",
       "        stroke:black;\n",
       "        fill:white;\n",
       "    }\n",
       "    svg.railroad-diagram text {\n",
       "        font:14px \"Fira Mono\", monospace;\n",
       "        text-anchor:middle;\n",
       "    }\n",
       "    svg.railroad-diagram text.label{\n",
       "        text-anchor:start;\n",
       "    }\n",
       "    svg.railroad-diagram text.comment{\n",
       "        font:italic 12px \"Fira Mono\", monospace;\n",
       "    }\n",
       "    svg.railroad-diagram rect{\n",
       "        stroke-width:2;\n",
       "        stroke:black;\n",
       "        fill:mistyrose;\n",
       "    }\n",
       "\n",
       "/* ]]> */\n",
       "</style><g>\n",
       "<path d=\"M20 21v20m10 -20v20m-10 -10h20\"/></g><g>\n",
       "<path d=\"M40 31h0.0\"/><path d=\"M142.5 31h0.0\"/><path d=\"M40.0 31h20\"/><g>\n",
       "<path d=\"M60.0 31h0.0\"/><path d=\"M122.5 31h0.0\"/><g class=\"non-terminal\">\n",
       "<path d=\"M60.0 31h0.0\"/><path d=\"M122.5 31h0.0\"/><rect height=\"22\" width=\"62.5\" x=\"60.0\" y=\"20\"/><text x=\"91.25\" y=\"35\">state</text></g></g><path d=\"M122.5 31h20\"/></g><path d=\"M 142.5 31 h 20 m -10 -10 v 20 m 10 -20 v 20\"/></g></svg>"
      ],
      "text/plain": [
       "<IPython.core.display.SVG object>"
      ]
     },
     "metadata": {},
     "output_type": "display_data"
    },
    {
     "name": "stdout",
     "output_type": "stream",
     "text": [
      "unexplored\n"
     ]
    },
    {
     "data": {
      "image/svg+xml": [
       "<svg class=\"railroad-diagram\" height=\"62\" viewBox=\"0 0 140.0 62\" width=\"140.0\" xmlns=\"http://www.w3.org/2000/svg\">\n",
       "<g transform=\"translate(.5 .5)\">\n",
       "<style>/* <![CDATA[ */\n",
       "    svg.railroad-diagram {\n",
       "    }\n",
       "    svg.railroad-diagram path {\n",
       "        stroke-width:3;\n",
       "        stroke:black;\n",
       "        fill:white;\n",
       "    }\n",
       "    svg.railroad-diagram text {\n",
       "        font:14px \"Fira Mono\", monospace;\n",
       "        text-anchor:middle;\n",
       "    }\n",
       "    svg.railroad-diagram text.label{\n",
       "        text-anchor:start;\n",
       "    }\n",
       "    svg.railroad-diagram text.comment{\n",
       "        font:italic 12px \"Fira Mono\", monospace;\n",
       "    }\n",
       "    svg.railroad-diagram rect{\n",
       "        stroke-width:2;\n",
       "        stroke:black;\n",
       "        fill:mistyrose;\n",
       "    }\n",
       "\n",
       "/* ]]> */\n",
       "</style><g>\n",
       "<path d=\"M20 21v20m10 -20v20m-10 -10h20\"/></g><g>\n",
       "<path d=\"M40 31h0.0\"/><path d=\"M100.0 31h0.0\"/><path d=\"M40.0 31h20\"/><g>\n",
       "<path d=\"M60.0 31h0.0\"/><path d=\"M80.0 31h0.0\"/><g class=\"terminal\">\n",
       "<path d=\"M60.0 31h0.0\"/><path d=\"M80.0 31h0.0\"/><rect height=\"22\" rx=\"10\" ry=\"10\" width=\"20.0\" x=\"60.0\" y=\"20\"/><text x=\"70.0\" y=\"35\"/></g></g><path d=\"M80.0 31h20\"/></g><path d=\"M 100.0 31 h 20 m -10 -10 v 20 m 10 -20 v 20\"/></g></svg>"
      ],
      "text/plain": [
       "<IPython.core.display.SVG object>"
      ]
     },
     "metadata": {},
     "output_type": "display_data"
    },
    {
     "name": "stdout",
     "output_type": "stream",
     "text": [
      "end\n"
     ]
    },
    {
     "data": {
      "image/svg+xml": [
       "<svg class=\"railroad-diagram\" height=\"62\" viewBox=\"0 0 140.0 62\" width=\"140.0\" xmlns=\"http://www.w3.org/2000/svg\">\n",
       "<g transform=\"translate(.5 .5)\">\n",
       "<style>/* <![CDATA[ */\n",
       "    svg.railroad-diagram {\n",
       "    }\n",
       "    svg.railroad-diagram path {\n",
       "        stroke-width:3;\n",
       "        stroke:black;\n",
       "        fill:white;\n",
       "    }\n",
       "    svg.railroad-diagram text {\n",
       "        font:14px \"Fira Mono\", monospace;\n",
       "        text-anchor:middle;\n",
       "    }\n",
       "    svg.railroad-diagram text.label{\n",
       "        text-anchor:start;\n",
       "    }\n",
       "    svg.railroad-diagram text.comment{\n",
       "        font:italic 12px \"Fira Mono\", monospace;\n",
       "    }\n",
       "    svg.railroad-diagram rect{\n",
       "        stroke-width:2;\n",
       "        stroke:black;\n",
       "        fill:mistyrose;\n",
       "    }\n",
       "\n",
       "/* ]]> */\n",
       "</style><g>\n",
       "<path d=\"M20 21v20m10 -20v20m-10 -10h20\"/></g><g>\n",
       "<path d=\"M40 31h0.0\"/><path d=\"M100.0 31h0.0\"/><path d=\"M40.0 31h20\"/><g>\n",
       "<path d=\"M60.0 31h0.0\"/><path d=\"M80.0 31h0.0\"/><g class=\"terminal\">\n",
       "<path d=\"M60.0 31h0.0\"/><path d=\"M80.0 31h0.0\"/><rect height=\"22\" rx=\"10\" ry=\"10\" width=\"20.0\" x=\"60.0\" y=\"20\"/><text x=\"70.0\" y=\"35\"/></g></g><path d=\"M80.0 31h20\"/></g><path d=\"M 100.0 31 h 20 m -10 -10 v 20 m 10 -20 v 20\"/></g></svg>"
      ],
      "text/plain": [
       "<IPython.core.display.SVG object>"
      ]
     },
     "metadata": {},
     "output_type": "display_data"
    },
    {
     "name": "stdout",
     "output_type": "stream",
     "text": [
      "text\n"
     ]
    },
    {
     "data": {
      "image/svg+xml": [
       "<svg class=\"railroad-diagram\" height=\"62\" viewBox=\"0 0 191.0 62\" width=\"191.0\" xmlns=\"http://www.w3.org/2000/svg\">\n",
       "<g transform=\"translate(.5 .5)\">\n",
       "<style>/* <![CDATA[ */\n",
       "    svg.railroad-diagram {\n",
       "    }\n",
       "    svg.railroad-diagram path {\n",
       "        stroke-width:3;\n",
       "        stroke:black;\n",
       "        fill:white;\n",
       "    }\n",
       "    svg.railroad-diagram text {\n",
       "        font:14px \"Fira Mono\", monospace;\n",
       "        text-anchor:middle;\n",
       "    }\n",
       "    svg.railroad-diagram text.label{\n",
       "        text-anchor:start;\n",
       "    }\n",
       "    svg.railroad-diagram text.comment{\n",
       "        font:italic 12px \"Fira Mono\", monospace;\n",
       "    }\n",
       "    svg.railroad-diagram rect{\n",
       "        stroke-width:2;\n",
       "        stroke:black;\n",
       "        fill:mistyrose;\n",
       "    }\n",
       "\n",
       "/* ]]> */\n",
       "</style><g>\n",
       "<path d=\"M20 21v20m10 -20v20m-10 -10h20\"/></g><g>\n",
       "<path d=\"M40 31h0.0\"/><path d=\"M151.0 31h0.0\"/><path d=\"M40.0 31h20\"/><g>\n",
       "<path d=\"M60.0 31h0.0\"/><path d=\"M131.0 31h0.0\"/><g class=\"non-terminal\">\n",
       "<path d=\"M60.0 31h0.0\"/><path d=\"M131.0 31h0.0\"/><rect height=\"22\" width=\"71.0\" x=\"60.0\" y=\"20\"/><text x=\"95.5\" y=\"35\">string</text></g></g><path d=\"M131.0 31h20\"/></g><path d=\"M 151.0 31 h 20 m -10 -10 v 20 m 10 -20 v 20\"/></g></svg>"
      ],
      "text/plain": [
       "<IPython.core.display.SVG object>"
      ]
     },
     "metadata": {},
     "output_type": "display_data"
    },
    {
     "name": "stdout",
     "output_type": "stream",
     "text": [
      "string\n"
     ]
    },
    {
     "data": {
      "image/svg+xml": [
       "<svg class=\"railroad-diagram\" height=\"92\" viewBox=\"0 0 307.5 92\" width=\"307.5\" xmlns=\"http://www.w3.org/2000/svg\">\n",
       "<g transform=\"translate(.5 .5)\">\n",
       "<style>/* <![CDATA[ */\n",
       "    svg.railroad-diagram {\n",
       "    }\n",
       "    svg.railroad-diagram path {\n",
       "        stroke-width:3;\n",
       "        stroke:black;\n",
       "        fill:white;\n",
       "    }\n",
       "    svg.railroad-diagram text {\n",
       "        font:14px \"Fira Mono\", monospace;\n",
       "        text-anchor:middle;\n",
       "    }\n",
       "    svg.railroad-diagram text.label{\n",
       "        text-anchor:start;\n",
       "    }\n",
       "    svg.railroad-diagram text.comment{\n",
       "        font:italic 12px \"Fira Mono\", monospace;\n",
       "    }\n",
       "    svg.railroad-diagram rect{\n",
       "        stroke-width:2;\n",
       "        stroke:black;\n",
       "        fill:mistyrose;\n",
       "    }\n",
       "\n",
       "/* ]]> */\n",
       "</style><g>\n",
       "<path d=\"M20 51v20m10 -20v20m-10 -10h20\"/></g><g>\n",
       "<path d=\"M40 61h0.0\"/><path d=\"M267.5 61h0.0\"/><path d=\"M40.0 61a10 10 0 0 0 10 -10v-10a10 10 0 0 1 10 -10\"/><g>\n",
       "<path d=\"M60.0 31h45.5\"/><path d=\"M202.0 31h45.5\"/><g class=\"non-terminal\">\n",
       "<path d=\"M105.5 31h0.0\"/><path d=\"M202.0 31h0.0\"/><rect height=\"22\" width=\"96.5\" x=\"105.5\" y=\"20\"/><text x=\"153.75\" y=\"35\">character</text></g></g><path d=\"M247.5 31a10 10 0 0 1 10 10v10a10 10 0 0 0 10 10\"/><path d=\"M40.0 61h20\"/><g>\n",
       "<path d=\"M60.0 61h0.0\"/><path d=\"M247.5 61h0.0\"/><g class=\"non-terminal\">\n",
       "<path d=\"M60.0 61h0.0\"/><path d=\"M131.0 61h0.0\"/><rect height=\"22\" width=\"71.0\" x=\"60.0\" y=\"50\"/><text x=\"95.5\" y=\"65\">string</text></g><path d=\"M131.0 61h10\"/><path d=\"M141.0 61h10\"/><g class=\"non-terminal\">\n",
       "<path d=\"M151.0 61h0.0\"/><path d=\"M247.5 61h0.0\"/><rect height=\"22\" width=\"96.5\" x=\"151.0\" y=\"50\"/><text x=\"199.25\" y=\"65\">character</text></g></g><path d=\"M247.5 61h20\"/></g><path d=\"M 267.5 61 h 20 m -10 -10 v 20 m 10 -20 v 20\"/></g></svg>"
      ],
      "text/plain": [
       "<IPython.core.display.SVG object>"
      ]
     },
     "metadata": {},
     "output_type": "display_data"
    },
    {
     "name": "stdout",
     "output_type": "stream",
     "text": [
      "character\n"
     ]
    },
    {
     "data": {
      "image/svg+xml": [
       "<svg class=\"railroad-diagram\" height=\"122\" viewBox=\"0 0 199.5 122\" width=\"199.5\" xmlns=\"http://www.w3.org/2000/svg\">\n",
       "<g transform=\"translate(.5 .5)\">\n",
       "<style>/* <![CDATA[ */\n",
       "    svg.railroad-diagram {\n",
       "    }\n",
       "    svg.railroad-diagram path {\n",
       "        stroke-width:3;\n",
       "        stroke:black;\n",
       "        fill:white;\n",
       "    }\n",
       "    svg.railroad-diagram text {\n",
       "        font:14px \"Fira Mono\", monospace;\n",
       "        text-anchor:middle;\n",
       "    }\n",
       "    svg.railroad-diagram text.label{\n",
       "        text-anchor:start;\n",
       "    }\n",
       "    svg.railroad-diagram text.comment{\n",
       "        font:italic 12px \"Fira Mono\", monospace;\n",
       "    }\n",
       "    svg.railroad-diagram rect{\n",
       "        stroke-width:2;\n",
       "        stroke:black;\n",
       "        fill:mistyrose;\n",
       "    }\n",
       "\n",
       "/* ]]> */\n",
       "</style><g>\n",
       "<path d=\"M20 51v20m10 -20v20m-10 -10h20\"/></g><g>\n",
       "<path d=\"M40 61h0.0\"/><path d=\"M159.5 61h0.0\"/><path d=\"M40.0 61a10 10 0 0 0 10 -10v-10a10 10 0 0 1 10 -10\"/><g>\n",
       "<path d=\"M60.0 31h4.25\"/><path d=\"M135.25 31h4.25\"/><g class=\"non-terminal\">\n",
       "<path d=\"M64.25 31h0.0\"/><path d=\"M135.25 31h0.0\"/><rect height=\"22\" width=\"71.0\" x=\"64.25\" y=\"20\"/><text x=\"99.75\" y=\"35\">letter</text></g></g><path d=\"M139.5 31a10 10 0 0 1 10 10v10a10 10 0 0 0 10 10\"/><path d=\"M40.0 61h20\"/><g>\n",
       "<path d=\"M60.0 61h8.5\"/><path d=\"M131.0 61h8.5\"/><g class=\"non-terminal\">\n",
       "<path d=\"M68.5 61h0.0\"/><path d=\"M131.0 61h0.0\"/><rect height=\"22\" width=\"62.5\" x=\"68.5\" y=\"50\"/><text x=\"99.75\" y=\"65\">digit</text></g></g><path d=\"M139.5 61h20\"/><path d=\"M40.0 61a10 10 0 0 1 10 10v10a10 10 0 0 0 10 10\"/><g>\n",
       "<path d=\"M60.0 91h0.0\"/><path d=\"M139.5 91h0.0\"/><g class=\"non-terminal\">\n",
       "<path d=\"M60.0 91h0.0\"/><path d=\"M139.5 91h0.0\"/><rect height=\"22\" width=\"79.5\" x=\"60.0\" y=\"80\"/><text x=\"99.75\" y=\"95\">special</text></g></g><path d=\"M139.5 91a10 10 0 0 0 10 -10v-10a10 10 0 0 1 10 -10\"/></g><path d=\"M 159.5 61 h 20 m -10 -10 v 20 m 10 -20 v 20\"/></g></svg>"
      ],
      "text/plain": [
       "<IPython.core.display.SVG object>"
      ]
     },
     "metadata": {},
     "output_type": "display_data"
    },
    {
     "name": "stdout",
     "output_type": "stream",
     "text": [
      "letter\n"
     ]
    },
    {
     "data": {
      "image/svg+xml": [
       "<svg class=\"railroad-diagram\" height=\"348\" viewBox=\"0 0 611.0 348\" width=\"611.0\" xmlns=\"http://www.w3.org/2000/svg\">\n",
       "<g transform=\"translate(.5 .5)\">\n",
       "<style>/* <![CDATA[ */\n",
       "    svg.railroad-diagram {\n",
       "    }\n",
       "    svg.railroad-diagram path {\n",
       "        stroke-width:3;\n",
       "        stroke:black;\n",
       "        fill:white;\n",
       "    }\n",
       "    svg.railroad-diagram text {\n",
       "        font:14px \"Fira Mono\", monospace;\n",
       "        text-anchor:middle;\n",
       "    }\n",
       "    svg.railroad-diagram text.label{\n",
       "        text-anchor:start;\n",
       "    }\n",
       "    svg.railroad-diagram text.comment{\n",
       "        font:italic 12px \"Fira Mono\", monospace;\n",
       "    }\n",
       "    svg.railroad-diagram rect{\n",
       "        stroke-width:2;\n",
       "        stroke:black;\n",
       "        fill:mistyrose;\n",
       "    }\n",
       "\n",
       "/* ]]> */\n",
       "</style><g>\n",
       "<path d=\"M20 179v20m10 -20v20m-10 -10h20\"/></g><g>\n",
       "<path d=\"M40 189h0.0\"/><path d=\"M571.0 189h0.0\"/><path d=\"M40.0 189a10 10 0 0 0 10 -10v-149a10 10 0 0 1 10 -10h412.5\"/><path d=\"M138.5 328h412.5a10 10 0 0 0 10 -10v-119a10 10 0 0 1 10 -10\"/><path d=\"M40.0 189h10\"/><g>\n",
       "<path d=\"M50.0 189h0.0\"/><path d=\"M118.5 189h0.0\"/><path d=\"M50.0 189a10 10 0 0 0 10 -10v-10a10 10 0 0 1 10 -10\"/><g>\n",
       "<path d=\"M70.0 159h0.0\"/><path d=\"M98.5 159h0.0\"/><g class=\"terminal\">\n",
       "<path d=\"M70.0 159h0.0\"/><path d=\"M98.5 159h0.0\"/><rect height=\"22\" rx=\"10\" ry=\"10\" width=\"28.5\" x=\"70.0\" y=\"148\"/><text x=\"84.25\" y=\"163\">e</text></g></g><path d=\"M98.5 159a10 10 0 0 1 10 10v10a10 10 0 0 0 10 10\"/><path d=\"M50.0 189a10 10 0 0 0 10 -10v-40a10 10 0 0 1 10 -10\"/><g>\n",
       "<path d=\"M70.0 129h0.0\"/><path d=\"M98.5 129h0.0\"/><g class=\"terminal\">\n",
       "<path d=\"M70.0 129h0.0\"/><path d=\"M98.5 129h0.0\"/><rect height=\"22\" rx=\"10\" ry=\"10\" width=\"28.5\" x=\"70.0\" y=\"118\"/><text x=\"84.25\" y=\"133\">d</text></g></g><path d=\"M98.5 129a10 10 0 0 1 10 10v40a10 10 0 0 0 10 10\"/><path d=\"M50.0 189a10 10 0 0 0 10 -10v-70a10 10 0 0 1 10 -10\"/><g>\n",
       "<path d=\"M70.0 99h0.0\"/><path d=\"M98.5 99h0.0\"/><g class=\"terminal\">\n",
       "<path d=\"M70.0 99h0.0\"/><path d=\"M98.5 99h0.0\"/><rect height=\"22\" rx=\"10\" ry=\"10\" width=\"28.5\" x=\"70.0\" y=\"88\"/><text x=\"84.25\" y=\"103\">c</text></g></g><path d=\"M98.5 99a10 10 0 0 1 10 10v70a10 10 0 0 0 10 10\"/><path d=\"M50.0 189a10 10 0 0 0 10 -10v-100a10 10 0 0 1 10 -10\"/><g>\n",
       "<path d=\"M70.0 69h0.0\"/><path d=\"M98.5 69h0.0\"/><g class=\"terminal\">\n",
       "<path d=\"M70.0 69h0.0\"/><path d=\"M98.5 69h0.0\"/><rect height=\"22\" rx=\"10\" ry=\"10\" width=\"28.5\" x=\"70.0\" y=\"58\"/><text x=\"84.25\" y=\"73\">b</text></g></g><path d=\"M98.5 69a10 10 0 0 1 10 10v100a10 10 0 0 0 10 10\"/><path d=\"M50.0 189a10 10 0 0 0 10 -10v-130a10 10 0 0 1 10 -10\"/><g>\n",
       "<path d=\"M70.0 39h0.0\"/><path d=\"M98.5 39h0.0\"/><g class=\"terminal\">\n",
       "<path d=\"M70.0 39h0.0\"/><path d=\"M98.5 39h0.0\"/><rect height=\"22\" rx=\"10\" ry=\"10\" width=\"28.5\" x=\"70.0\" y=\"28\"/><text x=\"84.25\" y=\"43\">a</text></g></g><path d=\"M98.5 39a10 10 0 0 1 10 10v130a10 10 0 0 0 10 10\"/><path d=\"M50.0 189h20\"/><g>\n",
       "<path d=\"M70.0 189h0.0\"/><path d=\"M98.5 189h0.0\"/><g class=\"terminal\">\n",
       "<path d=\"M70.0 189h0.0\"/><path d=\"M98.5 189h0.0\"/><rect height=\"22\" rx=\"10\" ry=\"10\" width=\"28.5\" x=\"70.0\" y=\"178\"/><text x=\"84.25\" y=\"193\">f</text></g></g><path d=\"M98.5 189h20\"/><path d=\"M50.0 189a10 10 0 0 1 10 10v10a10 10 0 0 0 10 10\"/><g>\n",
       "<path d=\"M70.0 219h0.0\"/><path d=\"M98.5 219h0.0\"/><g class=\"terminal\">\n",
       "<path d=\"M70.0 219h0.0\"/><path d=\"M98.5 219h0.0\"/><rect height=\"22\" rx=\"10\" ry=\"10\" width=\"28.5\" x=\"70.0\" y=\"208\"/><text x=\"84.25\" y=\"223\">g</text></g></g><path d=\"M98.5 219a10 10 0 0 0 10 -10v-10a10 10 0 0 1 10 -10\"/><path d=\"M50.0 189a10 10 0 0 1 10 10v40a10 10 0 0 0 10 10\"/><g>\n",
       "<path d=\"M70.0 249h0.0\"/><path d=\"M98.5 249h0.0\"/><g class=\"terminal\">\n",
       "<path d=\"M70.0 249h0.0\"/><path d=\"M98.5 249h0.0\"/><rect height=\"22\" rx=\"10\" ry=\"10\" width=\"28.5\" x=\"70.0\" y=\"238\"/><text x=\"84.25\" y=\"253\">h</text></g></g><path d=\"M98.5 249a10 10 0 0 0 10 -10v-40a10 10 0 0 1 10 -10\"/><path d=\"M50.0 189a10 10 0 0 1 10 10v70a10 10 0 0 0 10 10\"/><g>\n",
       "<path d=\"M70.0 279h0.0\"/><path d=\"M98.5 279h0.0\"/><g class=\"terminal\">\n",
       "<path d=\"M70.0 279h0.0\"/><path d=\"M98.5 279h0.0\"/><rect height=\"22\" rx=\"10\" ry=\"10\" width=\"28.5\" x=\"70.0\" y=\"268\"/><text x=\"84.25\" y=\"283\">i</text></g></g><path d=\"M98.5 279a10 10 0 0 0 10 -10v-70a10 10 0 0 1 10 -10\"/><path d=\"M50.0 189a10 10 0 0 1 10 10v100a10 10 0 0 0 10 10\"/><g>\n",
       "<path d=\"M70.0 309h0.0\"/><path d=\"M98.5 309h0.0\"/><g class=\"terminal\">\n",
       "<path d=\"M70.0 309h0.0\"/><path d=\"M98.5 309h0.0\"/><rect height=\"22\" rx=\"10\" ry=\"10\" width=\"28.5\" x=\"70.0\" y=\"298\"/><text x=\"84.25\" y=\"313\">j</text></g></g><path d=\"M98.5 309a10 10 0 0 0 10 -10v-100a10 10 0 0 1 10 -10\"/></g><path d=\"M118.5 189a10 10 0 0 1 10 10v119a10 10 0 0 0 10 10\"/><path d=\"M118.5 20a10 10 0 0 1 10 10v149a10 10 0 0 0 10 10\"/><g>\n",
       "<path d=\"M138.5 189h0.0\"/><path d=\"M207.0 189h0.0\"/><path d=\"M138.5 189a10 10 0 0 0 10 -10v-10a10 10 0 0 1 10 -10\"/><g>\n",
       "<path d=\"M158.5 159h0.0\"/><path d=\"M187.0 159h0.0\"/><g class=\"terminal\">\n",
       "<path d=\"M158.5 159h0.0\"/><path d=\"M187.0 159h0.0\"/><rect height=\"22\" rx=\"10\" ry=\"10\" width=\"28.5\" x=\"158.5\" y=\"148\"/><text x=\"172.75\" y=\"163\">o</text></g></g><path d=\"M187.0 159a10 10 0 0 1 10 10v10a10 10 0 0 0 10 10\"/><path d=\"M138.5 189a10 10 0 0 0 10 -10v-40a10 10 0 0 1 10 -10\"/><g>\n",
       "<path d=\"M158.5 129h0.0\"/><path d=\"M187.0 129h0.0\"/><g class=\"terminal\">\n",
       "<path d=\"M158.5 129h0.0\"/><path d=\"M187.0 129h0.0\"/><rect height=\"22\" rx=\"10\" ry=\"10\" width=\"28.5\" x=\"158.5\" y=\"118\"/><text x=\"172.75\" y=\"133\">n</text></g></g><path d=\"M187.0 129a10 10 0 0 1 10 10v40a10 10 0 0 0 10 10\"/><path d=\"M138.5 189a10 10 0 0 0 10 -10v-70a10 10 0 0 1 10 -10\"/><g>\n",
       "<path d=\"M158.5 99h0.0\"/><path d=\"M187.0 99h0.0\"/><g class=\"terminal\">\n",
       "<path d=\"M158.5 99h0.0\"/><path d=\"M187.0 99h0.0\"/><rect height=\"22\" rx=\"10\" ry=\"10\" width=\"28.5\" x=\"158.5\" y=\"88\"/><text x=\"172.75\" y=\"103\">m</text></g></g><path d=\"M187.0 99a10 10 0 0 1 10 10v70a10 10 0 0 0 10 10\"/><path d=\"M138.5 189a10 10 0 0 0 10 -10v-100a10 10 0 0 1 10 -10\"/><g>\n",
       "<path d=\"M158.5 69h0.0\"/><path d=\"M187.0 69h0.0\"/><g class=\"terminal\">\n",
       "<path d=\"M158.5 69h0.0\"/><path d=\"M187.0 69h0.0\"/><rect height=\"22\" rx=\"10\" ry=\"10\" width=\"28.5\" x=\"158.5\" y=\"58\"/><text x=\"172.75\" y=\"73\">l</text></g></g><path d=\"M187.0 69a10 10 0 0 1 10 10v100a10 10 0 0 0 10 10\"/><path d=\"M138.5 189a10 10 0 0 0 10 -10v-130a10 10 0 0 1 10 -10\"/><g>\n",
       "<path d=\"M158.5 39h0.0\"/><path d=\"M187.0 39h0.0\"/><g class=\"terminal\">\n",
       "<path d=\"M158.5 39h0.0\"/><path d=\"M187.0 39h0.0\"/><rect height=\"22\" rx=\"10\" ry=\"10\" width=\"28.5\" x=\"158.5\" y=\"28\"/><text x=\"172.75\" y=\"43\">k</text></g></g><path d=\"M187.0 39a10 10 0 0 1 10 10v130a10 10 0 0 0 10 10\"/><path d=\"M138.5 189h20\"/><g>\n",
       "<path d=\"M158.5 189h0.0\"/><path d=\"M187.0 189h0.0\"/><g class=\"terminal\">\n",
       "<path d=\"M158.5 189h0.0\"/><path d=\"M187.0 189h0.0\"/><rect height=\"22\" rx=\"10\" ry=\"10\" width=\"28.5\" x=\"158.5\" y=\"178\"/><text x=\"172.75\" y=\"193\">p</text></g></g><path d=\"M187.0 189h20\"/><path d=\"M138.5 189a10 10 0 0 1 10 10v10a10 10 0 0 0 10 10\"/><g>\n",
       "<path d=\"M158.5 219h0.0\"/><path d=\"M187.0 219h0.0\"/><g class=\"terminal\">\n",
       "<path d=\"M158.5 219h0.0\"/><path d=\"M187.0 219h0.0\"/><rect height=\"22\" rx=\"10\" ry=\"10\" width=\"28.5\" x=\"158.5\" y=\"208\"/><text x=\"172.75\" y=\"223\">q</text></g></g><path d=\"M187.0 219a10 10 0 0 0 10 -10v-10a10 10 0 0 1 10 -10\"/><path d=\"M138.5 189a10 10 0 0 1 10 10v40a10 10 0 0 0 10 10\"/><g>\n",
       "<path d=\"M158.5 249h0.0\"/><path d=\"M187.0 249h0.0\"/><g class=\"terminal\">\n",
       "<path d=\"M158.5 249h0.0\"/><path d=\"M187.0 249h0.0\"/><rect height=\"22\" rx=\"10\" ry=\"10\" width=\"28.5\" x=\"158.5\" y=\"238\"/><text x=\"172.75\" y=\"253\">r</text></g></g><path d=\"M187.0 249a10 10 0 0 0 10 -10v-40a10 10 0 0 1 10 -10\"/><path d=\"M138.5 189a10 10 0 0 1 10 10v70a10 10 0 0 0 10 10\"/><g>\n",
       "<path d=\"M158.5 279h0.0\"/><path d=\"M187.0 279h0.0\"/><g class=\"terminal\">\n",
       "<path d=\"M158.5 279h0.0\"/><path d=\"M187.0 279h0.0\"/><rect height=\"22\" rx=\"10\" ry=\"10\" width=\"28.5\" x=\"158.5\" y=\"268\"/><text x=\"172.75\" y=\"283\">s</text></g></g><path d=\"M187.0 279a10 10 0 0 0 10 -10v-70a10 10 0 0 1 10 -10\"/><path d=\"M138.5 189a10 10 0 0 1 10 10v100a10 10 0 0 0 10 10\"/><g>\n",
       "<path d=\"M158.5 309h0.0\"/><path d=\"M187.0 309h0.0\"/><g class=\"terminal\">\n",
       "<path d=\"M158.5 309h0.0\"/><path d=\"M187.0 309h0.0\"/><rect height=\"22\" rx=\"10\" ry=\"10\" width=\"28.5\" x=\"158.5\" y=\"298\"/><text x=\"172.75\" y=\"313\">t</text></g></g><path d=\"M187.0 309a10 10 0 0 0 10 -10v-100a10 10 0 0 1 10 -10\"/></g><path d=\"M207.0 189a10 10 0 0 1 10 10v119a10 10 0 0 0 10 10\"/><path d=\"M207.0 20a10 10 0 0 1 10 10v149a10 10 0 0 0 10 10\"/><g>\n",
       "<path d=\"M227.0 189h0.0\"/><path d=\"M295.5 189h0.0\"/><path d=\"M227.0 189a10 10 0 0 0 10 -10v-10a10 10 0 0 1 10 -10\"/><g>\n",
       "<path d=\"M247.0 159h0.0\"/><path d=\"M275.5 159h0.0\"/><g class=\"terminal\">\n",
       "<path d=\"M247.0 159h0.0\"/><path d=\"M275.5 159h0.0\"/><rect height=\"22\" rx=\"10\" ry=\"10\" width=\"28.5\" x=\"247.0\" y=\"148\"/><text x=\"261.25\" y=\"163\">y</text></g></g><path d=\"M275.5 159a10 10 0 0 1 10 10v10a10 10 0 0 0 10 10\"/><path d=\"M227.0 189a10 10 0 0 0 10 -10v-40a10 10 0 0 1 10 -10\"/><g>\n",
       "<path d=\"M247.0 129h0.0\"/><path d=\"M275.5 129h0.0\"/><g class=\"terminal\">\n",
       "<path d=\"M247.0 129h0.0\"/><path d=\"M275.5 129h0.0\"/><rect height=\"22\" rx=\"10\" ry=\"10\" width=\"28.5\" x=\"247.0\" y=\"118\"/><text x=\"261.25\" y=\"133\">x</text></g></g><path d=\"M275.5 129a10 10 0 0 1 10 10v40a10 10 0 0 0 10 10\"/><path d=\"M227.0 189a10 10 0 0 0 10 -10v-70a10 10 0 0 1 10 -10\"/><g>\n",
       "<path d=\"M247.0 99h0.0\"/><path d=\"M275.5 99h0.0\"/><g class=\"terminal\">\n",
       "<path d=\"M247.0 99h0.0\"/><path d=\"M275.5 99h0.0\"/><rect height=\"22\" rx=\"10\" ry=\"10\" width=\"28.5\" x=\"247.0\" y=\"88\"/><text x=\"261.25\" y=\"103\">w</text></g></g><path d=\"M275.5 99a10 10 0 0 1 10 10v70a10 10 0 0 0 10 10\"/><path d=\"M227.0 189a10 10 0 0 0 10 -10v-100a10 10 0 0 1 10 -10\"/><g>\n",
       "<path d=\"M247.0 69h0.0\"/><path d=\"M275.5 69h0.0\"/><g class=\"terminal\">\n",
       "<path d=\"M247.0 69h0.0\"/><path d=\"M275.5 69h0.0\"/><rect height=\"22\" rx=\"10\" ry=\"10\" width=\"28.5\" x=\"247.0\" y=\"58\"/><text x=\"261.25\" y=\"73\">v</text></g></g><path d=\"M275.5 69a10 10 0 0 1 10 10v100a10 10 0 0 0 10 10\"/><path d=\"M227.0 189a10 10 0 0 0 10 -10v-130a10 10 0 0 1 10 -10\"/><g>\n",
       "<path d=\"M247.0 39h0.0\"/><path d=\"M275.5 39h0.0\"/><g class=\"terminal\">\n",
       "<path d=\"M247.0 39h0.0\"/><path d=\"M275.5 39h0.0\"/><rect height=\"22\" rx=\"10\" ry=\"10\" width=\"28.5\" x=\"247.0\" y=\"28\"/><text x=\"261.25\" y=\"43\">u</text></g></g><path d=\"M275.5 39a10 10 0 0 1 10 10v130a10 10 0 0 0 10 10\"/><path d=\"M227.0 189h20\"/><g>\n",
       "<path d=\"M247.0 189h0.0\"/><path d=\"M275.5 189h0.0\"/><g class=\"terminal\">\n",
       "<path d=\"M247.0 189h0.0\"/><path d=\"M275.5 189h0.0\"/><rect height=\"22\" rx=\"10\" ry=\"10\" width=\"28.5\" x=\"247.0\" y=\"178\"/><text x=\"261.25\" y=\"193\">z</text></g></g><path d=\"M275.5 189h20\"/><path d=\"M227.0 189a10 10 0 0 1 10 10v10a10 10 0 0 0 10 10\"/><g>\n",
       "<path d=\"M247.0 219h0.0\"/><path d=\"M275.5 219h0.0\"/><g class=\"terminal\">\n",
       "<path d=\"M247.0 219h0.0\"/><path d=\"M275.5 219h0.0\"/><rect height=\"22\" rx=\"10\" ry=\"10\" width=\"28.5\" x=\"247.0\" y=\"208\"/><text x=\"261.25\" y=\"223\">A</text></g></g><path d=\"M275.5 219a10 10 0 0 0 10 -10v-10a10 10 0 0 1 10 -10\"/><path d=\"M227.0 189a10 10 0 0 1 10 10v40a10 10 0 0 0 10 10\"/><g>\n",
       "<path d=\"M247.0 249h0.0\"/><path d=\"M275.5 249h0.0\"/><g class=\"terminal\">\n",
       "<path d=\"M247.0 249h0.0\"/><path d=\"M275.5 249h0.0\"/><rect height=\"22\" rx=\"10\" ry=\"10\" width=\"28.5\" x=\"247.0\" y=\"238\"/><text x=\"261.25\" y=\"253\">B</text></g></g><path d=\"M275.5 249a10 10 0 0 0 10 -10v-40a10 10 0 0 1 10 -10\"/><path d=\"M227.0 189a10 10 0 0 1 10 10v70a10 10 0 0 0 10 10\"/><g>\n",
       "<path d=\"M247.0 279h0.0\"/><path d=\"M275.5 279h0.0\"/><g class=\"terminal\">\n",
       "<path d=\"M247.0 279h0.0\"/><path d=\"M275.5 279h0.0\"/><rect height=\"22\" rx=\"10\" ry=\"10\" width=\"28.5\" x=\"247.0\" y=\"268\"/><text x=\"261.25\" y=\"283\">C</text></g></g><path d=\"M275.5 279a10 10 0 0 0 10 -10v-70a10 10 0 0 1 10 -10\"/><path d=\"M227.0 189a10 10 0 0 1 10 10v100a10 10 0 0 0 10 10\"/><g>\n",
       "<path d=\"M247.0 309h0.0\"/><path d=\"M275.5 309h0.0\"/><g class=\"terminal\">\n",
       "<path d=\"M247.0 309h0.0\"/><path d=\"M275.5 309h0.0\"/><rect height=\"22\" rx=\"10\" ry=\"10\" width=\"28.5\" x=\"247.0\" y=\"298\"/><text x=\"261.25\" y=\"313\">D</text></g></g><path d=\"M275.5 309a10 10 0 0 0 10 -10v-100a10 10 0 0 1 10 -10\"/></g><path d=\"M295.5 189a10 10 0 0 1 10 10v119a10 10 0 0 0 10 10\"/><path d=\"M295.5 20a10 10 0 0 1 10 10v149a10 10 0 0 0 10 10\"/><g>\n",
       "<path d=\"M315.5 189h0.0\"/><path d=\"M384.0 189h0.0\"/><path d=\"M315.5 189a10 10 0 0 0 10 -10v-10a10 10 0 0 1 10 -10\"/><g>\n",
       "<path d=\"M335.5 159h0.0\"/><path d=\"M364.0 159h0.0\"/><g class=\"terminal\">\n",
       "<path d=\"M335.5 159h0.0\"/><path d=\"M364.0 159h0.0\"/><rect height=\"22\" rx=\"10\" ry=\"10\" width=\"28.5\" x=\"335.5\" y=\"148\"/><text x=\"349.75\" y=\"163\">I</text></g></g><path d=\"M364.0 159a10 10 0 0 1 10 10v10a10 10 0 0 0 10 10\"/><path d=\"M315.5 189a10 10 0 0 0 10 -10v-40a10 10 0 0 1 10 -10\"/><g>\n",
       "<path d=\"M335.5 129h0.0\"/><path d=\"M364.0 129h0.0\"/><g class=\"terminal\">\n",
       "<path d=\"M335.5 129h0.0\"/><path d=\"M364.0 129h0.0\"/><rect height=\"22\" rx=\"10\" ry=\"10\" width=\"28.5\" x=\"335.5\" y=\"118\"/><text x=\"349.75\" y=\"133\">H</text></g></g><path d=\"M364.0 129a10 10 0 0 1 10 10v40a10 10 0 0 0 10 10\"/><path d=\"M315.5 189a10 10 0 0 0 10 -10v-70a10 10 0 0 1 10 -10\"/><g>\n",
       "<path d=\"M335.5 99h0.0\"/><path d=\"M364.0 99h0.0\"/><g class=\"terminal\">\n",
       "<path d=\"M335.5 99h0.0\"/><path d=\"M364.0 99h0.0\"/><rect height=\"22\" rx=\"10\" ry=\"10\" width=\"28.5\" x=\"335.5\" y=\"88\"/><text x=\"349.75\" y=\"103\">G</text></g></g><path d=\"M364.0 99a10 10 0 0 1 10 10v70a10 10 0 0 0 10 10\"/><path d=\"M315.5 189a10 10 0 0 0 10 -10v-100a10 10 0 0 1 10 -10\"/><g>\n",
       "<path d=\"M335.5 69h0.0\"/><path d=\"M364.0 69h0.0\"/><g class=\"terminal\">\n",
       "<path d=\"M335.5 69h0.0\"/><path d=\"M364.0 69h0.0\"/><rect height=\"22\" rx=\"10\" ry=\"10\" width=\"28.5\" x=\"335.5\" y=\"58\"/><text x=\"349.75\" y=\"73\">F</text></g></g><path d=\"M364.0 69a10 10 0 0 1 10 10v100a10 10 0 0 0 10 10\"/><path d=\"M315.5 189a10 10 0 0 0 10 -10v-130a10 10 0 0 1 10 -10\"/><g>\n",
       "<path d=\"M335.5 39h0.0\"/><path d=\"M364.0 39h0.0\"/><g class=\"terminal\">\n",
       "<path d=\"M335.5 39h0.0\"/><path d=\"M364.0 39h0.0\"/><rect height=\"22\" rx=\"10\" ry=\"10\" width=\"28.5\" x=\"335.5\" y=\"28\"/><text x=\"349.75\" y=\"43\">E</text></g></g><path d=\"M364.0 39a10 10 0 0 1 10 10v130a10 10 0 0 0 10 10\"/><path d=\"M315.5 189h20\"/><g>\n",
       "<path d=\"M335.5 189h0.0\"/><path d=\"M364.0 189h0.0\"/><g class=\"terminal\">\n",
       "<path d=\"M335.5 189h0.0\"/><path d=\"M364.0 189h0.0\"/><rect height=\"22\" rx=\"10\" ry=\"10\" width=\"28.5\" x=\"335.5\" y=\"178\"/><text x=\"349.75\" y=\"193\">J</text></g></g><path d=\"M364.0 189h20\"/><path d=\"M315.5 189a10 10 0 0 1 10 10v10a10 10 0 0 0 10 10\"/><g>\n",
       "<path d=\"M335.5 219h0.0\"/><path d=\"M364.0 219h0.0\"/><g class=\"terminal\">\n",
       "<path d=\"M335.5 219h0.0\"/><path d=\"M364.0 219h0.0\"/><rect height=\"22\" rx=\"10\" ry=\"10\" width=\"28.5\" x=\"335.5\" y=\"208\"/><text x=\"349.75\" y=\"223\">K</text></g></g><path d=\"M364.0 219a10 10 0 0 0 10 -10v-10a10 10 0 0 1 10 -10\"/><path d=\"M315.5 189a10 10 0 0 1 10 10v40a10 10 0 0 0 10 10\"/><g>\n",
       "<path d=\"M335.5 249h0.0\"/><path d=\"M364.0 249h0.0\"/><g class=\"terminal\">\n",
       "<path d=\"M335.5 249h0.0\"/><path d=\"M364.0 249h0.0\"/><rect height=\"22\" rx=\"10\" ry=\"10\" width=\"28.5\" x=\"335.5\" y=\"238\"/><text x=\"349.75\" y=\"253\">L</text></g></g><path d=\"M364.0 249a10 10 0 0 0 10 -10v-40a10 10 0 0 1 10 -10\"/><path d=\"M315.5 189a10 10 0 0 1 10 10v70a10 10 0 0 0 10 10\"/><g>\n",
       "<path d=\"M335.5 279h0.0\"/><path d=\"M364.0 279h0.0\"/><g class=\"terminal\">\n",
       "<path d=\"M335.5 279h0.0\"/><path d=\"M364.0 279h0.0\"/><rect height=\"22\" rx=\"10\" ry=\"10\" width=\"28.5\" x=\"335.5\" y=\"268\"/><text x=\"349.75\" y=\"283\">M</text></g></g><path d=\"M364.0 279a10 10 0 0 0 10 -10v-70a10 10 0 0 1 10 -10\"/><path d=\"M315.5 189a10 10 0 0 1 10 10v100a10 10 0 0 0 10 10\"/><g>\n",
       "<path d=\"M335.5 309h0.0\"/><path d=\"M364.0 309h0.0\"/><g class=\"terminal\">\n",
       "<path d=\"M335.5 309h0.0\"/><path d=\"M364.0 309h0.0\"/><rect height=\"22\" rx=\"10\" ry=\"10\" width=\"28.5\" x=\"335.5\" y=\"298\"/><text x=\"349.75\" y=\"313\">N</text></g></g><path d=\"M364.0 309a10 10 0 0 0 10 -10v-100a10 10 0 0 1 10 -10\"/></g><path d=\"M384.0 189a10 10 0 0 1 10 10v119a10 10 0 0 0 10 10\"/><path d=\"M384.0 20a10 10 0 0 1 10 10v149a10 10 0 0 0 10 10\"/><g>\n",
       "<path d=\"M404.0 189h0.0\"/><path d=\"M472.5 189h0.0\"/><path d=\"M404.0 189a10 10 0 0 0 10 -10v-10a10 10 0 0 1 10 -10\"/><g>\n",
       "<path d=\"M424.0 159h0.0\"/><path d=\"M452.5 159h0.0\"/><g class=\"terminal\">\n",
       "<path d=\"M424.0 159h0.0\"/><path d=\"M452.5 159h0.0\"/><rect height=\"22\" rx=\"10\" ry=\"10\" width=\"28.5\" x=\"424.0\" y=\"148\"/><text x=\"438.25\" y=\"163\">S</text></g></g><path d=\"M452.5 159a10 10 0 0 1 10 10v10a10 10 0 0 0 10 10\"/><path d=\"M404.0 189a10 10 0 0 0 10 -10v-40a10 10 0 0 1 10 -10\"/><g>\n",
       "<path d=\"M424.0 129h0.0\"/><path d=\"M452.5 129h0.0\"/><g class=\"terminal\">\n",
       "<path d=\"M424.0 129h0.0\"/><path d=\"M452.5 129h0.0\"/><rect height=\"22\" rx=\"10\" ry=\"10\" width=\"28.5\" x=\"424.0\" y=\"118\"/><text x=\"438.25\" y=\"133\">R</text></g></g><path d=\"M452.5 129a10 10 0 0 1 10 10v40a10 10 0 0 0 10 10\"/><path d=\"M404.0 189a10 10 0 0 0 10 -10v-70a10 10 0 0 1 10 -10\"/><g>\n",
       "<path d=\"M424.0 99h0.0\"/><path d=\"M452.5 99h0.0\"/><g class=\"terminal\">\n",
       "<path d=\"M424.0 99h0.0\"/><path d=\"M452.5 99h0.0\"/><rect height=\"22\" rx=\"10\" ry=\"10\" width=\"28.5\" x=\"424.0\" y=\"88\"/><text x=\"438.25\" y=\"103\">Q</text></g></g><path d=\"M452.5 99a10 10 0 0 1 10 10v70a10 10 0 0 0 10 10\"/><path d=\"M404.0 189a10 10 0 0 0 10 -10v-100a10 10 0 0 1 10 -10\"/><g>\n",
       "<path d=\"M424.0 69h0.0\"/><path d=\"M452.5 69h0.0\"/><g class=\"terminal\">\n",
       "<path d=\"M424.0 69h0.0\"/><path d=\"M452.5 69h0.0\"/><rect height=\"22\" rx=\"10\" ry=\"10\" width=\"28.5\" x=\"424.0\" y=\"58\"/><text x=\"438.25\" y=\"73\">P</text></g></g><path d=\"M452.5 69a10 10 0 0 1 10 10v100a10 10 0 0 0 10 10\"/><path d=\"M404.0 189a10 10 0 0 0 10 -10v-130a10 10 0 0 1 10 -10\"/><g>\n",
       "<path d=\"M424.0 39h0.0\"/><path d=\"M452.5 39h0.0\"/><g class=\"terminal\">\n",
       "<path d=\"M424.0 39h0.0\"/><path d=\"M452.5 39h0.0\"/><rect height=\"22\" rx=\"10\" ry=\"10\" width=\"28.5\" x=\"424.0\" y=\"28\"/><text x=\"438.25\" y=\"43\">O</text></g></g><path d=\"M452.5 39a10 10 0 0 1 10 10v130a10 10 0 0 0 10 10\"/><path d=\"M404.0 189h20\"/><g>\n",
       "<path d=\"M424.0 189h0.0\"/><path d=\"M452.5 189h0.0\"/><g class=\"terminal\">\n",
       "<path d=\"M424.0 189h0.0\"/><path d=\"M452.5 189h0.0\"/><rect height=\"22\" rx=\"10\" ry=\"10\" width=\"28.5\" x=\"424.0\" y=\"178\"/><text x=\"438.25\" y=\"193\">T</text></g></g><path d=\"M452.5 189h20\"/><path d=\"M404.0 189a10 10 0 0 1 10 10v10a10 10 0 0 0 10 10\"/><g>\n",
       "<path d=\"M424.0 219h0.0\"/><path d=\"M452.5 219h0.0\"/><g class=\"terminal\">\n",
       "<path d=\"M424.0 219h0.0\"/><path d=\"M452.5 219h0.0\"/><rect height=\"22\" rx=\"10\" ry=\"10\" width=\"28.5\" x=\"424.0\" y=\"208\"/><text x=\"438.25\" y=\"223\">U</text></g></g><path d=\"M452.5 219a10 10 0 0 0 10 -10v-10a10 10 0 0 1 10 -10\"/><path d=\"M404.0 189a10 10 0 0 1 10 10v40a10 10 0 0 0 10 10\"/><g>\n",
       "<path d=\"M424.0 249h0.0\"/><path d=\"M452.5 249h0.0\"/><g class=\"terminal\">\n",
       "<path d=\"M424.0 249h0.0\"/><path d=\"M452.5 249h0.0\"/><rect height=\"22\" rx=\"10\" ry=\"10\" width=\"28.5\" x=\"424.0\" y=\"238\"/><text x=\"438.25\" y=\"253\">V</text></g></g><path d=\"M452.5 249a10 10 0 0 0 10 -10v-40a10 10 0 0 1 10 -10\"/><path d=\"M404.0 189a10 10 0 0 1 10 10v70a10 10 0 0 0 10 10\"/><g>\n",
       "<path d=\"M424.0 279h0.0\"/><path d=\"M452.5 279h0.0\"/><g class=\"terminal\">\n",
       "<path d=\"M424.0 279h0.0\"/><path d=\"M452.5 279h0.0\"/><rect height=\"22\" rx=\"10\" ry=\"10\" width=\"28.5\" x=\"424.0\" y=\"268\"/><text x=\"438.25\" y=\"283\">W</text></g></g><path d=\"M452.5 279a10 10 0 0 0 10 -10v-70a10 10 0 0 1 10 -10\"/><path d=\"M404.0 189a10 10 0 0 1 10 10v100a10 10 0 0 0 10 10\"/><g>\n",
       "<path d=\"M424.0 309h0.0\"/><path d=\"M452.5 309h0.0\"/><g class=\"terminal\">\n",
       "<path d=\"M424.0 309h0.0\"/><path d=\"M452.5 309h0.0\"/><rect height=\"22\" rx=\"10\" ry=\"10\" width=\"28.5\" x=\"424.0\" y=\"298\"/><text x=\"438.25\" y=\"313\">X</text></g></g><path d=\"M452.5 309a10 10 0 0 0 10 -10v-100a10 10 0 0 1 10 -10\"/></g><path d=\"M472.5 189a10 10 0 0 1 10 10v119a10 10 0 0 0 10 10\"/><path d=\"M472.5 20a10 10 0 0 1 10 10v149a10 10 0 0 0 10 10\"/><g>\n",
       "<path d=\"M492.5 189h0.0\"/><path d=\"M561.0 189h0.0\"/><path d=\"M492.5 189a10 10 0 0 0 10 -10v-10a10 10 0 0 1 10 -10\"/><g>\n",
       "<path d=\"M512.5 159h0.0\"/><path d=\"M541.0 159h0.0\"/><g class=\"terminal\">\n",
       "<path d=\"M512.5 159h0.0\"/><path d=\"M541.0 159h0.0\"/><rect height=\"22\" rx=\"10\" ry=\"10\" width=\"28.5\" x=\"512.5\" y=\"148\"/><text x=\"526.75\" y=\"163\">Y</text></g></g><path d=\"M541.0 159a10 10 0 0 1 10 10v10a10 10 0 0 0 10 10\"/><path d=\"M492.5 189h20\"/><g>\n",
       "<path d=\"M512.5 189h0.0\"/><path d=\"M541.0 189h0.0\"/><g class=\"terminal\">\n",
       "<path d=\"M512.5 189h0.0\"/><path d=\"M541.0 189h0.0\"/><rect height=\"22\" rx=\"10\" ry=\"10\" width=\"28.5\" x=\"512.5\" y=\"178\"/><text x=\"526.75\" y=\"193\">Z</text></g></g><path d=\"M541.0 189h20\"/></g><path d=\"M561.0 189h10\"/></g><path d=\"M 571.0 189 h 20 m -10 -10 v 20 m 10 -20 v 20\"/></g></svg>"
      ],
      "text/plain": [
       "<IPython.core.display.SVG object>"
      ]
     },
     "metadata": {},
     "output_type": "display_data"
    },
    {
     "name": "stdout",
     "output_type": "stream",
     "text": [
      "number\n"
     ]
    },
    {
     "data": {
      "image/svg+xml": [
       "<svg class=\"railroad-diagram\" height=\"62\" viewBox=\"0 0 191.0 62\" width=\"191.0\" xmlns=\"http://www.w3.org/2000/svg\">\n",
       "<g transform=\"translate(.5 .5)\">\n",
       "<style>/* <![CDATA[ */\n",
       "    svg.railroad-diagram {\n",
       "    }\n",
       "    svg.railroad-diagram path {\n",
       "        stroke-width:3;\n",
       "        stroke:black;\n",
       "        fill:white;\n",
       "    }\n",
       "    svg.railroad-diagram text {\n",
       "        font:14px \"Fira Mono\", monospace;\n",
       "        text-anchor:middle;\n",
       "    }\n",
       "    svg.railroad-diagram text.label{\n",
       "        text-anchor:start;\n",
       "    }\n",
       "    svg.railroad-diagram text.comment{\n",
       "        font:italic 12px \"Fira Mono\", monospace;\n",
       "    }\n",
       "    svg.railroad-diagram rect{\n",
       "        stroke-width:2;\n",
       "        stroke:black;\n",
       "        fill:mistyrose;\n",
       "    }\n",
       "\n",
       "/* ]]> */\n",
       "</style><g>\n",
       "<path d=\"M20 21v20m10 -20v20m-10 -10h20\"/></g><g>\n",
       "<path d=\"M40 31h0.0\"/><path d=\"M151.0 31h0.0\"/><path d=\"M40.0 31h20\"/><g>\n",
       "<path d=\"M60.0 31h0.0\"/><path d=\"M131.0 31h0.0\"/><g class=\"non-terminal\">\n",
       "<path d=\"M60.0 31h0.0\"/><path d=\"M131.0 31h0.0\"/><rect height=\"22\" width=\"71.0\" x=\"60.0\" y=\"20\"/><text x=\"95.5\" y=\"35\">digits</text></g></g><path d=\"M131.0 31h20\"/></g><path d=\"M 151.0 31 h 20 m -10 -10 v 20 m 10 -20 v 20\"/></g></svg>"
      ],
      "text/plain": [
       "<IPython.core.display.SVG object>"
      ]
     },
     "metadata": {},
     "output_type": "display_data"
    },
    {
     "name": "stdout",
     "output_type": "stream",
     "text": [
      "digits\n"
     ]
    },
    {
     "data": {
      "image/svg+xml": [
       "<svg class=\"railroad-diagram\" height=\"92\" viewBox=\"0 0 273.5 92\" width=\"273.5\" xmlns=\"http://www.w3.org/2000/svg\">\n",
       "<g transform=\"translate(.5 .5)\">\n",
       "<style>/* <![CDATA[ */\n",
       "    svg.railroad-diagram {\n",
       "    }\n",
       "    svg.railroad-diagram path {\n",
       "        stroke-width:3;\n",
       "        stroke:black;\n",
       "        fill:white;\n",
       "    }\n",
       "    svg.railroad-diagram text {\n",
       "        font:14px \"Fira Mono\", monospace;\n",
       "        text-anchor:middle;\n",
       "    }\n",
       "    svg.railroad-diagram text.label{\n",
       "        text-anchor:start;\n",
       "    }\n",
       "    svg.railroad-diagram text.comment{\n",
       "        font:italic 12px \"Fira Mono\", monospace;\n",
       "    }\n",
       "    svg.railroad-diagram rect{\n",
       "        stroke-width:2;\n",
       "        stroke:black;\n",
       "        fill:mistyrose;\n",
       "    }\n",
       "\n",
       "/* ]]> */\n",
       "</style><g>\n",
       "<path d=\"M20 51v20m10 -20v20m-10 -10h20\"/></g><g>\n",
       "<path d=\"M40 61h0.0\"/><path d=\"M233.5 61h0.0\"/><path d=\"M40.0 61a10 10 0 0 0 10 -10v-10a10 10 0 0 1 10 -10\"/><g>\n",
       "<path d=\"M60.0 31h45.5\"/><path d=\"M168.0 31h45.5\"/><g class=\"non-terminal\">\n",
       "<path d=\"M105.5 31h0.0\"/><path d=\"M168.0 31h0.0\"/><rect height=\"22\" width=\"62.5\" x=\"105.5\" y=\"20\"/><text x=\"136.75\" y=\"35\">digit</text></g></g><path d=\"M213.5 31a10 10 0 0 1 10 10v10a10 10 0 0 0 10 10\"/><path d=\"M40.0 61h20\"/><g>\n",
       "<path d=\"M60.0 61h0.0\"/><path d=\"M213.5 61h0.0\"/><g class=\"non-terminal\">\n",
       "<path d=\"M60.0 61h0.0\"/><path d=\"M131.0 61h0.0\"/><rect height=\"22\" width=\"71.0\" x=\"60.0\" y=\"50\"/><text x=\"95.5\" y=\"65\">digits</text></g><path d=\"M131.0 61h10\"/><path d=\"M141.0 61h10\"/><g class=\"non-terminal\">\n",
       "<path d=\"M151.0 61h0.0\"/><path d=\"M213.5 61h0.0\"/><rect height=\"22\" width=\"62.5\" x=\"151.0\" y=\"50\"/><text x=\"182.25\" y=\"65\">digit</text></g></g><path d=\"M213.5 61h20\"/></g><path d=\"M 233.5 61 h 20 m -10 -10 v 20 m 10 -20 v 20\"/></g></svg>"
      ],
      "text/plain": [
       "<IPython.core.display.SVG object>"
      ]
     },
     "metadata": {},
     "output_type": "display_data"
    },
    {
     "name": "stdout",
     "output_type": "stream",
     "text": [
      "digit\n"
     ]
    },
    {
     "data": {
      "image/svg+xml": [
       "<svg class=\"railroad-diagram\" height=\"109\" viewBox=\"0 0 522.5 109\" width=\"522.5\" xmlns=\"http://www.w3.org/2000/svg\">\n",
       "<g transform=\"translate(.5 .5)\">\n",
       "<style>/* <![CDATA[ */\n",
       "    svg.railroad-diagram {\n",
       "    }\n",
       "    svg.railroad-diagram path {\n",
       "        stroke-width:3;\n",
       "        stroke:black;\n",
       "        fill:white;\n",
       "    }\n",
       "    svg.railroad-diagram text {\n",
       "        font:14px \"Fira Mono\", monospace;\n",
       "        text-anchor:middle;\n",
       "    }\n",
       "    svg.railroad-diagram text.label{\n",
       "        text-anchor:start;\n",
       "    }\n",
       "    svg.railroad-diagram text.comment{\n",
       "        font:italic 12px \"Fira Mono\", monospace;\n",
       "    }\n",
       "    svg.railroad-diagram rect{\n",
       "        stroke-width:2;\n",
       "        stroke:black;\n",
       "        fill:mistyrose;\n",
       "    }\n",
       "\n",
       "/* ]]> */\n",
       "</style><g>\n",
       "<path d=\"M20 59v20m10 -20v20m-10 -10h20\"/></g><g>\n",
       "<path d=\"M40 69h0.0\"/><path d=\"M482.5 69h0.0\"/><path d=\"M40.0 69a10 10 0 0 0 10 -10v-29a10 10 0 0 1 10 -10h324.0\"/><path d=\"M138.5 89h324.0a10 10 0 0 0 10 -10v0a10 10 0 0 1 10 -10\"/><path d=\"M40.0 69h10\"/><g>\n",
       "<path d=\"M50.0 69h0.0\"/><path d=\"M118.5 69h0.0\"/><path d=\"M50.0 69a10 10 0 0 0 10 -10v-10a10 10 0 0 1 10 -10\"/><g>\n",
       "<path d=\"M70.0 39h0.0\"/><path d=\"M98.5 39h0.0\"/><g class=\"terminal\">\n",
       "<path d=\"M70.0 39h0.0\"/><path d=\"M98.5 39h0.0\"/><rect height=\"22\" rx=\"10\" ry=\"10\" width=\"28.5\" x=\"70.0\" y=\"28\"/><text x=\"84.25\" y=\"43\">0</text></g></g><path d=\"M98.5 39a10 10 0 0 1 10 10v10a10 10 0 0 0 10 10\"/><path d=\"M50.0 69h20\"/><g>\n",
       "<path d=\"M70.0 69h0.0\"/><path d=\"M98.5 69h0.0\"/><g class=\"terminal\">\n",
       "<path d=\"M70.0 69h0.0\"/><path d=\"M98.5 69h0.0\"/><rect height=\"22\" rx=\"10\" ry=\"10\" width=\"28.5\" x=\"70.0\" y=\"58\"/><text x=\"84.25\" y=\"73\">1</text></g></g><path d=\"M98.5 69h20\"/></g><path d=\"M118.5 69a10 10 0 0 1 10 10v0a10 10 0 0 0 10 10\"/><path d=\"M118.5 20a10 10 0 0 1 10 10v29a10 10 0 0 0 10 10\"/><g>\n",
       "<path d=\"M138.5 69h0.0\"/><path d=\"M207.0 69h0.0\"/><path d=\"M138.5 69a10 10 0 0 0 10 -10v-10a10 10 0 0 1 10 -10\"/><g>\n",
       "<path d=\"M158.5 39h0.0\"/><path d=\"M187.0 39h0.0\"/><g class=\"terminal\">\n",
       "<path d=\"M158.5 39h0.0\"/><path d=\"M187.0 39h0.0\"/><rect height=\"22\" rx=\"10\" ry=\"10\" width=\"28.5\" x=\"158.5\" y=\"28\"/><text x=\"172.75\" y=\"43\">2</text></g></g><path d=\"M187.0 39a10 10 0 0 1 10 10v10a10 10 0 0 0 10 10\"/><path d=\"M138.5 69h20\"/><g>\n",
       "<path d=\"M158.5 69h0.0\"/><path d=\"M187.0 69h0.0\"/><g class=\"terminal\">\n",
       "<path d=\"M158.5 69h0.0\"/><path d=\"M187.0 69h0.0\"/><rect height=\"22\" rx=\"10\" ry=\"10\" width=\"28.5\" x=\"158.5\" y=\"58\"/><text x=\"172.75\" y=\"73\">3</text></g></g><path d=\"M187.0 69h20\"/></g><path d=\"M207.0 69a10 10 0 0 1 10 10v0a10 10 0 0 0 10 10\"/><path d=\"M207.0 20a10 10 0 0 1 10 10v29a10 10 0 0 0 10 10\"/><g>\n",
       "<path d=\"M227.0 69h0.0\"/><path d=\"M295.5 69h0.0\"/><path d=\"M227.0 69a10 10 0 0 0 10 -10v-10a10 10 0 0 1 10 -10\"/><g>\n",
       "<path d=\"M247.0 39h0.0\"/><path d=\"M275.5 39h0.0\"/><g class=\"terminal\">\n",
       "<path d=\"M247.0 39h0.0\"/><path d=\"M275.5 39h0.0\"/><rect height=\"22\" rx=\"10\" ry=\"10\" width=\"28.5\" x=\"247.0\" y=\"28\"/><text x=\"261.25\" y=\"43\">4</text></g></g><path d=\"M275.5 39a10 10 0 0 1 10 10v10a10 10 0 0 0 10 10\"/><path d=\"M227.0 69h20\"/><g>\n",
       "<path d=\"M247.0 69h0.0\"/><path d=\"M275.5 69h0.0\"/><g class=\"terminal\">\n",
       "<path d=\"M247.0 69h0.0\"/><path d=\"M275.5 69h0.0\"/><rect height=\"22\" rx=\"10\" ry=\"10\" width=\"28.5\" x=\"247.0\" y=\"58\"/><text x=\"261.25\" y=\"73\">5</text></g></g><path d=\"M275.5 69h20\"/></g><path d=\"M295.5 69a10 10 0 0 1 10 10v0a10 10 0 0 0 10 10\"/><path d=\"M295.5 20a10 10 0 0 1 10 10v29a10 10 0 0 0 10 10\"/><g>\n",
       "<path d=\"M315.5 69h0.0\"/><path d=\"M384.0 69h0.0\"/><path d=\"M315.5 69a10 10 0 0 0 10 -10v-10a10 10 0 0 1 10 -10\"/><g>\n",
       "<path d=\"M335.5 39h0.0\"/><path d=\"M364.0 39h0.0\"/><g class=\"terminal\">\n",
       "<path d=\"M335.5 39h0.0\"/><path d=\"M364.0 39h0.0\"/><rect height=\"22\" rx=\"10\" ry=\"10\" width=\"28.5\" x=\"335.5\" y=\"28\"/><text x=\"349.75\" y=\"43\">6</text></g></g><path d=\"M364.0 39a10 10 0 0 1 10 10v10a10 10 0 0 0 10 10\"/><path d=\"M315.5 69h20\"/><g>\n",
       "<path d=\"M335.5 69h0.0\"/><path d=\"M364.0 69h0.0\"/><g class=\"terminal\">\n",
       "<path d=\"M335.5 69h0.0\"/><path d=\"M364.0 69h0.0\"/><rect height=\"22\" rx=\"10\" ry=\"10\" width=\"28.5\" x=\"335.5\" y=\"58\"/><text x=\"349.75\" y=\"73\">7</text></g></g><path d=\"M364.0 69h20\"/></g><path d=\"M384.0 69a10 10 0 0 1 10 10v0a10 10 0 0 0 10 10\"/><path d=\"M384.0 20a10 10 0 0 1 10 10v29a10 10 0 0 0 10 10\"/><g>\n",
       "<path d=\"M404.0 69h0.0\"/><path d=\"M472.5 69h0.0\"/><path d=\"M404.0 69a10 10 0 0 0 10 -10v-10a10 10 0 0 1 10 -10\"/><g>\n",
       "<path d=\"M424.0 39h0.0\"/><path d=\"M452.5 39h0.0\"/><g class=\"terminal\">\n",
       "<path d=\"M424.0 39h0.0\"/><path d=\"M452.5 39h0.0\"/><rect height=\"22\" rx=\"10\" ry=\"10\" width=\"28.5\" x=\"424.0\" y=\"28\"/><text x=\"438.25\" y=\"43\">8</text></g></g><path d=\"M452.5 39a10 10 0 0 1 10 10v10a10 10 0 0 0 10 10\"/><path d=\"M404.0 69h20\"/><g>\n",
       "<path d=\"M424.0 69h0.0\"/><path d=\"M452.5 69h0.0\"/><g class=\"terminal\">\n",
       "<path d=\"M424.0 69h0.0\"/><path d=\"M452.5 69h0.0\"/><rect height=\"22\" rx=\"10\" ry=\"10\" width=\"28.5\" x=\"424.0\" y=\"58\"/><text x=\"438.25\" y=\"73\">9</text></g></g><path d=\"M452.5 69h20\"/></g><path d=\"M472.5 69h10\"/></g><path d=\"M 482.5 69 h 20 m -10 -10 v 20 m 10 -20 v 20\"/></g></svg>"
      ],
      "text/plain": [
       "<IPython.core.display.SVG object>"
      ]
     },
     "metadata": {},
     "output_type": "display_data"
    },
    {
     "name": "stdout",
     "output_type": "stream",
     "text": [
      "special\n"
     ]
    },
    {
     "data": {
      "image/svg+xml": [
       "<svg class=\"railroad-diagram\" height=\"122\" viewBox=\"0 0 148.5 122\" width=\"148.5\" xmlns=\"http://www.w3.org/2000/svg\">\n",
       "<g transform=\"translate(.5 .5)\">\n",
       "<style>/* <![CDATA[ */\n",
       "    svg.railroad-diagram {\n",
       "    }\n",
       "    svg.railroad-diagram path {\n",
       "        stroke-width:3;\n",
       "        stroke:black;\n",
       "        fill:white;\n",
       "    }\n",
       "    svg.railroad-diagram text {\n",
       "        font:14px \"Fira Mono\", monospace;\n",
       "        text-anchor:middle;\n",
       "    }\n",
       "    svg.railroad-diagram text.label{\n",
       "        text-anchor:start;\n",
       "    }\n",
       "    svg.railroad-diagram text.comment{\n",
       "        font:italic 12px \"Fira Mono\", monospace;\n",
       "    }\n",
       "    svg.railroad-diagram rect{\n",
       "        stroke-width:2;\n",
       "        stroke:black;\n",
       "        fill:mistyrose;\n",
       "    }\n",
       "\n",
       "/* ]]> */\n",
       "</style><g>\n",
       "<path d=\"M20 51v20m10 -20v20m-10 -10h20\"/></g><g>\n",
       "<path d=\"M40 61h0.0\"/><path d=\"M108.5 61h0.0\"/><path d=\"M40.0 61a10 10 0 0 0 10 -10v-10a10 10 0 0 1 10 -10\"/><g>\n",
       "<path d=\"M60.0 31h0.0\"/><path d=\"M88.5 31h0.0\"/><g class=\"terminal\">\n",
       "<path d=\"M60.0 31h0.0\"/><path d=\"M88.5 31h0.0\"/><rect height=\"22\" rx=\"10\" ry=\"10\" width=\"28.5\" x=\"60.0\" y=\"20\"/><text x=\"74.25\" y=\"35\">.</text></g></g><path d=\"M88.5 31a10 10 0 0 1 10 10v10a10 10 0 0 0 10 10\"/><path d=\"M40.0 61h20\"/><g>\n",
       "<path d=\"M60.0 61h0.0\"/><path d=\"M88.5 61h0.0\"/><g class=\"terminal\">\n",
       "<path d=\"M60.0 61h0.0\"/><path d=\"M88.5 61h0.0\"/><rect height=\"22\" rx=\"10\" ry=\"10\" width=\"28.5\" x=\"60.0\" y=\"50\"/><text x=\"74.25\" y=\"65\"> </text></g></g><path d=\"M88.5 61h20\"/><path d=\"M40.0 61a10 10 0 0 1 10 10v10a10 10 0 0 0 10 10\"/><g>\n",
       "<path d=\"M60.0 91h0.0\"/><path d=\"M88.5 91h0.0\"/><g class=\"terminal\">\n",
       "<path d=\"M60.0 91h0.0\"/><path d=\"M88.5 91h0.0\"/><rect height=\"22\" rx=\"10\" ry=\"10\" width=\"28.5\" x=\"60.0\" y=\"80\"/><text x=\"74.25\" y=\"95\">!</text></g></g><path d=\"M88.5 91a10 10 0 0 0 10 -10v-10a10 10 0 0 1 10 -10\"/></g><path d=\"M 108.5 61 h 20 m -10 -10 v 20 m 10 -20 v 20\"/></g></svg>"
      ],
      "text/plain": [
       "<IPython.core.display.SVG object>"
      ]
     },
     "metadata": {},
     "output_type": "display_data"
    },
    {
     "name": "stdout",
     "output_type": "stream",
     "text": [
      "email\n"
     ]
    },
    {
     "data": {
      "image/svg+xml": [
       "<svg class=\"railroad-diagram\" height=\"62\" viewBox=\"0 0 347.5 62\" width=\"347.5\" xmlns=\"http://www.w3.org/2000/svg\">\n",
       "<g transform=\"translate(.5 .5)\">\n",
       "<style>/* <![CDATA[ */\n",
       "    svg.railroad-diagram {\n",
       "    }\n",
       "    svg.railroad-diagram path {\n",
       "        stroke-width:3;\n",
       "        stroke:black;\n",
       "        fill:white;\n",
       "    }\n",
       "    svg.railroad-diagram text {\n",
       "        font:14px \"Fira Mono\", monospace;\n",
       "        text-anchor:middle;\n",
       "    }\n",
       "    svg.railroad-diagram text.label{\n",
       "        text-anchor:start;\n",
       "    }\n",
       "    svg.railroad-diagram text.comment{\n",
       "        font:italic 12px \"Fira Mono\", monospace;\n",
       "    }\n",
       "    svg.railroad-diagram rect{\n",
       "        stroke-width:2;\n",
       "        stroke:black;\n",
       "        fill:mistyrose;\n",
       "    }\n",
       "\n",
       "/* ]]> */\n",
       "</style><g>\n",
       "<path d=\"M20 21v20m10 -20v20m-10 -10h20\"/></g><g>\n",
       "<path d=\"M40 31h0.0\"/><path d=\"M307.5 31h0.0\"/><path d=\"M40.0 31h20\"/><g>\n",
       "<path d=\"M60.0 31h0.0\"/><path d=\"M287.5 31h0.0\"/><g class=\"non-terminal\">\n",
       "<path d=\"M60.0 31h0.0\"/><path d=\"M139.5 31h0.0\"/><rect height=\"22\" width=\"79.5\" x=\"60.0\" y=\"20\"/><text x=\"99.75\" y=\"35\">letters</text></g><path d=\"M139.5 31h10\"/><path d=\"M149.5 31h10\"/><g class=\"terminal\">\n",
       "<path d=\"M159.5 31h0.0\"/><path d=\"M188.0 31h0.0\"/><rect height=\"22\" rx=\"10\" ry=\"10\" width=\"28.5\" x=\"159.5\" y=\"20\"/><text x=\"173.75\" y=\"35\">@</text></g><path d=\"M188.0 31h10\"/><path d=\"M198.0 31h10\"/><g class=\"non-terminal\">\n",
       "<path d=\"M208.0 31h0.0\"/><path d=\"M287.5 31h0.0\"/><rect height=\"22\" width=\"79.5\" x=\"208.0\" y=\"20\"/><text x=\"247.75\" y=\"35\">letters</text></g></g><path d=\"M287.5 31h20\"/></g><path d=\"M 307.5 31 h 20 m -10 -10 v 20 m 10 -20 v 20\"/></g></svg>"
      ],
      "text/plain": [
       "<IPython.core.display.SVG object>"
      ]
     },
     "metadata": {},
     "output_type": "display_data"
    },
    {
     "name": "stdout",
     "output_type": "stream",
     "text": [
      "letters\n"
     ]
    },
    {
     "data": {
      "image/svg+xml": [
       "<svg class=\"railroad-diagram\" height=\"92\" viewBox=\"0 0 290.5 92\" width=\"290.5\" xmlns=\"http://www.w3.org/2000/svg\">\n",
       "<g transform=\"translate(.5 .5)\">\n",
       "<style>/* <![CDATA[ */\n",
       "    svg.railroad-diagram {\n",
       "    }\n",
       "    svg.railroad-diagram path {\n",
       "        stroke-width:3;\n",
       "        stroke:black;\n",
       "        fill:white;\n",
       "    }\n",
       "    svg.railroad-diagram text {\n",
       "        font:14px \"Fira Mono\", monospace;\n",
       "        text-anchor:middle;\n",
       "    }\n",
       "    svg.railroad-diagram text.label{\n",
       "        text-anchor:start;\n",
       "    }\n",
       "    svg.railroad-diagram text.comment{\n",
       "        font:italic 12px \"Fira Mono\", monospace;\n",
       "    }\n",
       "    svg.railroad-diagram rect{\n",
       "        stroke-width:2;\n",
       "        stroke:black;\n",
       "        fill:mistyrose;\n",
       "    }\n",
       "\n",
       "/* ]]> */\n",
       "</style><g>\n",
       "<path d=\"M20 51v20m10 -20v20m-10 -10h20\"/></g><g>\n",
       "<path d=\"M40 61h0.0\"/><path d=\"M250.5 61h0.0\"/><path d=\"M40.0 61a10 10 0 0 0 10 -10v-10a10 10 0 0 1 10 -10\"/><g>\n",
       "<path d=\"M60.0 31h49.75\"/><path d=\"M180.75 31h49.75\"/><g class=\"non-terminal\">\n",
       "<path d=\"M109.75 31h0.0\"/><path d=\"M180.75 31h0.0\"/><rect height=\"22\" width=\"71.0\" x=\"109.75\" y=\"20\"/><text x=\"145.25\" y=\"35\">letter</text></g></g><path d=\"M230.5 31a10 10 0 0 1 10 10v10a10 10 0 0 0 10 10\"/><path d=\"M40.0 61h20\"/><g>\n",
       "<path d=\"M60.0 61h0.0\"/><path d=\"M230.5 61h0.0\"/><g class=\"non-terminal\">\n",
       "<path d=\"M60.0 61h0.0\"/><path d=\"M139.5 61h0.0\"/><rect height=\"22\" width=\"79.5\" x=\"60.0\" y=\"50\"/><text x=\"99.75\" y=\"65\">letters</text></g><path d=\"M139.5 61h10\"/><path d=\"M149.5 61h10\"/><g class=\"non-terminal\">\n",
       "<path d=\"M159.5 61h0.0\"/><path d=\"M230.5 61h0.0\"/><rect height=\"22\" width=\"71.0\" x=\"159.5\" y=\"50\"/><text x=\"195.0\" y=\"65\">letter</text></g></g><path d=\"M230.5 61h20\"/></g><path d=\"M 250.5 61 h 20 m -10 -10 v 20 m 10 -20 v 20\"/></g></svg>"
      ],
      "text/plain": [
       "<IPython.core.display.SVG object>"
      ]
     },
     "metadata": {},
     "output_type": "display_data"
    },
    {
     "name": "stdout",
     "output_type": "stream",
     "text": [
      "boolean\n"
     ]
    },
    {
     "data": {
      "image/svg+xml": [
       "<svg class=\"railroad-diagram\" height=\"92\" viewBox=\"0 0 182.5 92\" width=\"182.5\" xmlns=\"http://www.w3.org/2000/svg\">\n",
       "<g transform=\"translate(.5 .5)\">\n",
       "<style>/* <![CDATA[ */\n",
       "    svg.railroad-diagram {\n",
       "    }\n",
       "    svg.railroad-diagram path {\n",
       "        stroke-width:3;\n",
       "        stroke:black;\n",
       "        fill:white;\n",
       "    }\n",
       "    svg.railroad-diagram text {\n",
       "        font:14px \"Fira Mono\", monospace;\n",
       "        text-anchor:middle;\n",
       "    }\n",
       "    svg.railroad-diagram text.label{\n",
       "        text-anchor:start;\n",
       "    }\n",
       "    svg.railroad-diagram text.comment{\n",
       "        font:italic 12px \"Fira Mono\", monospace;\n",
       "    }\n",
       "    svg.railroad-diagram rect{\n",
       "        stroke-width:2;\n",
       "        stroke:black;\n",
       "        fill:mistyrose;\n",
       "    }\n",
       "\n",
       "/* ]]> */\n",
       "</style><g>\n",
       "<path d=\"M20 51v20m10 -20v20m-10 -10h20\"/></g><g>\n",
       "<path d=\"M40 61h0.0\"/><path d=\"M142.5 61h0.0\"/><path d=\"M40.0 61a10 10 0 0 0 10 -10v-10a10 10 0 0 1 10 -10\"/><g>\n",
       "<path d=\"M60.0 31h4.25\"/><path d=\"M118.25 31h4.25\"/><g class=\"terminal\">\n",
       "<path d=\"M64.25 31h0.0\"/><path d=\"M118.25 31h0.0\"/><rect height=\"22\" rx=\"10\" ry=\"10\" width=\"54.0\" x=\"64.25\" y=\"20\"/><text x=\"91.25\" y=\"35\">True</text></g></g><path d=\"M122.5 31a10 10 0 0 1 10 10v10a10 10 0 0 0 10 10\"/><path d=\"M40.0 61h20\"/><g>\n",
       "<path d=\"M60.0 61h0.0\"/><path d=\"M122.5 61h0.0\"/><g class=\"terminal\">\n",
       "<path d=\"M60.0 61h0.0\"/><path d=\"M122.5 61h0.0\"/><rect height=\"22\" rx=\"10\" ry=\"10\" width=\"62.5\" x=\"60.0\" y=\"50\"/><text x=\"91.25\" y=\"65\">False</text></g></g><path d=\"M122.5 61h20\"/></g><path d=\"M 142.5 61 h 20 m -10 -10 v 20 m 10 -20 v 20\"/></g></svg>"
      ],
      "text/plain": [
       "<IPython.core.display.SVG object>"
      ]
     },
     "metadata": {},
     "output_type": "display_data"
    },
    {
     "name": "stdout",
     "output_type": "stream",
     "text": [
      "password\n"
     ]
    },
    {
     "data": {
      "image/svg+xml": [
       "<svg class=\"railroad-diagram\" height=\"62\" viewBox=\"0 0 225.0 62\" width=\"225.0\" xmlns=\"http://www.w3.org/2000/svg\">\n",
       "<g transform=\"translate(.5 .5)\">\n",
       "<style>/* <![CDATA[ */\n",
       "    svg.railroad-diagram {\n",
       "    }\n",
       "    svg.railroad-diagram path {\n",
       "        stroke-width:3;\n",
       "        stroke:black;\n",
       "        fill:white;\n",
       "    }\n",
       "    svg.railroad-diagram text {\n",
       "        font:14px \"Fira Mono\", monospace;\n",
       "        text-anchor:middle;\n",
       "    }\n",
       "    svg.railroad-diagram text.label{\n",
       "        text-anchor:start;\n",
       "    }\n",
       "    svg.railroad-diagram text.comment{\n",
       "        font:italic 12px \"Fira Mono\", monospace;\n",
       "    }\n",
       "    svg.railroad-diagram rect{\n",
       "        stroke-width:2;\n",
       "        stroke:black;\n",
       "        fill:mistyrose;\n",
       "    }\n",
       "\n",
       "/* ]]> */\n",
       "</style><g>\n",
       "<path d=\"M20 21v20m10 -20v20m-10 -10h20\"/></g><g>\n",
       "<path d=\"M40 31h0.0\"/><path d=\"M185.0 31h0.0\"/><path d=\"M40.0 31h20\"/><g>\n",
       "<path d=\"M60.0 31h0.0\"/><path d=\"M165.0 31h0.0\"/><g class=\"terminal\">\n",
       "<path d=\"M60.0 31h0.0\"/><path d=\"M165.0 31h0.0\"/><rect height=\"22\" rx=\"10\" ry=\"10\" width=\"105.0\" x=\"60.0\" y=\"20\"/><text x=\"112.5\" y=\"35\">abcABC.123</text></g></g><path d=\"M165.0 31h20\"/></g><path d=\"M 185.0 31 h 20 m -10 -10 v 20 m 10 -20 v 20\"/></g></svg>"
      ],
      "text/plain": [
       "<IPython.core.display.SVG object>"
      ]
     },
     "metadata": {},
     "output_type": "display_data"
    },
    {
     "name": "stdout",
     "output_type": "stream",
     "text": [
      "hidden\n"
     ]
    },
    {
     "data": {
      "image/svg+xml": [
       "<svg class=\"railroad-diagram\" height=\"80\" viewBox=\"0 0 788.0 80\" width=\"788.0\" xmlns=\"http://www.w3.org/2000/svg\">\n",
       "<g transform=\"translate(.5 .5)\">\n",
       "<style>/* <![CDATA[ */\n",
       "    svg.railroad-diagram {\n",
       "    }\n",
       "    svg.railroad-diagram path {\n",
       "        stroke-width:3;\n",
       "        stroke:black;\n",
       "        fill:white;\n",
       "    }\n",
       "    svg.railroad-diagram text {\n",
       "        font:14px \"Fira Mono\", monospace;\n",
       "        text-anchor:middle;\n",
       "    }\n",
       "    svg.railroad-diagram text.label{\n",
       "        text-anchor:start;\n",
       "    }\n",
       "    svg.railroad-diagram text.comment{\n",
       "        font:italic 12px \"Fira Mono\", monospace;\n",
       "    }\n",
       "    svg.railroad-diagram rect{\n",
       "        stroke-width:2;\n",
       "        stroke:black;\n",
       "        fill:mistyrose;\n",
       "    }\n",
       "\n",
       "/* ]]> */\n",
       "</style><g>\n",
       "<path d=\"M20 30v20m10 -20v20m-10 -10h20\"/></g><g>\n",
       "<path d=\"M40 40h0.0\"/><path d=\"M748.0 40h0.0\"/><path d=\"M40.0 40a10 10 0 0 0 10 -10v0a10 10 0 0 1 10 -10h589.5\"/><path d=\"M138.5 60h589.5a10 10 0 0 0 10 -10v0a10 10 0 0 1 10 -10\"/><path d=\"M40.0 40h10\"/><g>\n",
       "<path d=\"M50.0 40h0.0\"/><path d=\"M118.5 40h0.0\"/><path d=\"M50.0 40h20\"/><g>\n",
       "<path d=\"M70.0 40h0.0\"/><path d=\"M98.5 40h0.0\"/><g class=\"terminal\">\n",
       "<path d=\"M70.0 40h0.0\"/><path d=\"M98.5 40h0.0\"/><rect height=\"22\" rx=\"10\" ry=\"10\" width=\"28.5\" x=\"70.0\" y=\"29\"/><text x=\"84.25\" y=\"44\">&lt;</text></g></g><path d=\"M98.5 40h20\"/></g><path d=\"M118.5 40a10 10 0 0 1 10 10v0a10 10 0 0 0 10 10\"/><path d=\"M118.5 20a10 10 0 0 1 10 10v0a10 10 0 0 0 10 10\"/><g>\n",
       "<path d=\"M138.5 40h0.0\"/><path d=\"M207.0 40h0.0\"/><path d=\"M138.5 40h20\"/><g>\n",
       "<path d=\"M158.5 40h0.0\"/><path d=\"M187.0 40h0.0\"/><g class=\"terminal\">\n",
       "<path d=\"M158.5 40h0.0\"/><path d=\"M187.0 40h0.0\"/><rect height=\"22\" rx=\"10\" ry=\"10\" width=\"28.5\" x=\"158.5\" y=\"29\"/><text x=\"172.75\" y=\"44\">s</text></g></g><path d=\"M187.0 40h20\"/></g><path d=\"M207.0 40a10 10 0 0 1 10 10v0a10 10 0 0 0 10 10\"/><path d=\"M207.0 20a10 10 0 0 1 10 10v0a10 10 0 0 0 10 10\"/><g>\n",
       "<path d=\"M227.0 40h0.0\"/><path d=\"M295.5 40h0.0\"/><path d=\"M227.0 40h20\"/><g>\n",
       "<path d=\"M247.0 40h0.0\"/><path d=\"M275.5 40h0.0\"/><g class=\"terminal\">\n",
       "<path d=\"M247.0 40h0.0\"/><path d=\"M275.5 40h0.0\"/><rect height=\"22\" rx=\"10\" ry=\"10\" width=\"28.5\" x=\"247.0\" y=\"29\"/><text x=\"261.25\" y=\"44\">t</text></g></g><path d=\"M275.5 40h20\"/></g><path d=\"M295.5 40a10 10 0 0 1 10 10v0a10 10 0 0 0 10 10\"/><path d=\"M295.5 20a10 10 0 0 1 10 10v0a10 10 0 0 0 10 10\"/><g>\n",
       "<path d=\"M315.5 40h0.0\"/><path d=\"M384.0 40h0.0\"/><path d=\"M315.5 40h20\"/><g>\n",
       "<path d=\"M335.5 40h0.0\"/><path d=\"M364.0 40h0.0\"/><g class=\"terminal\">\n",
       "<path d=\"M335.5 40h0.0\"/><path d=\"M364.0 40h0.0\"/><rect height=\"22\" rx=\"10\" ry=\"10\" width=\"28.5\" x=\"335.5\" y=\"29\"/><text x=\"349.75\" y=\"44\">r</text></g></g><path d=\"M364.0 40h20\"/></g><path d=\"M384.0 40a10 10 0 0 1 10 10v0a10 10 0 0 0 10 10\"/><path d=\"M384.0 20a10 10 0 0 1 10 10v0a10 10 0 0 0 10 10\"/><g>\n",
       "<path d=\"M404.0 40h0.0\"/><path d=\"M472.5 40h0.0\"/><path d=\"M404.0 40h20\"/><g>\n",
       "<path d=\"M424.0 40h0.0\"/><path d=\"M452.5 40h0.0\"/><g class=\"terminal\">\n",
       "<path d=\"M424.0 40h0.0\"/><path d=\"M452.5 40h0.0\"/><rect height=\"22\" rx=\"10\" ry=\"10\" width=\"28.5\" x=\"424.0\" y=\"29\"/><text x=\"438.25\" y=\"44\">i</text></g></g><path d=\"M452.5 40h20\"/></g><path d=\"M472.5 40a10 10 0 0 1 10 10v0a10 10 0 0 0 10 10\"/><path d=\"M472.5 20a10 10 0 0 1 10 10v0a10 10 0 0 0 10 10\"/><g>\n",
       "<path d=\"M492.5 40h0.0\"/><path d=\"M561.0 40h0.0\"/><path d=\"M492.5 40h20\"/><g>\n",
       "<path d=\"M512.5 40h0.0\"/><path d=\"M541.0 40h0.0\"/><g class=\"terminal\">\n",
       "<path d=\"M512.5 40h0.0\"/><path d=\"M541.0 40h0.0\"/><rect height=\"22\" rx=\"10\" ry=\"10\" width=\"28.5\" x=\"512.5\" y=\"29\"/><text x=\"526.75\" y=\"44\">n</text></g></g><path d=\"M541.0 40h20\"/></g><path d=\"M561.0 40a10 10 0 0 1 10 10v0a10 10 0 0 0 10 10\"/><path d=\"M561.0 20a10 10 0 0 1 10 10v0a10 10 0 0 0 10 10\"/><g>\n",
       "<path d=\"M581.0 40h0.0\"/><path d=\"M649.5 40h0.0\"/><path d=\"M581.0 40h20\"/><g>\n",
       "<path d=\"M601.0 40h0.0\"/><path d=\"M629.5 40h0.0\"/><g class=\"terminal\">\n",
       "<path d=\"M601.0 40h0.0\"/><path d=\"M629.5 40h0.0\"/><rect height=\"22\" rx=\"10\" ry=\"10\" width=\"28.5\" x=\"601.0\" y=\"29\"/><text x=\"615.25\" y=\"44\">g</text></g></g><path d=\"M629.5 40h20\"/></g><path d=\"M649.5 40a10 10 0 0 1 10 10v0a10 10 0 0 0 10 10\"/><path d=\"M649.5 20a10 10 0 0 1 10 10v0a10 10 0 0 0 10 10\"/><g>\n",
       "<path d=\"M669.5 40h0.0\"/><path d=\"M738.0 40h0.0\"/><path d=\"M669.5 40h20\"/><g>\n",
       "<path d=\"M689.5 40h0.0\"/><path d=\"M718.0 40h0.0\"/><g class=\"terminal\">\n",
       "<path d=\"M689.5 40h0.0\"/><path d=\"M718.0 40h0.0\"/><rect height=\"22\" rx=\"10\" ry=\"10\" width=\"28.5\" x=\"689.5\" y=\"29\"/><text x=\"703.75\" y=\"44\">&gt;</text></g></g><path d=\"M718.0 40h20\"/></g><path d=\"M738.0 40h10\"/></g><path d=\"M 748.0 40 h 20 m -10 -10 v 20 m 10 -20 v 20\"/></g></svg>"
      ],
      "text/plain": [
       "<IPython.core.display.SVG object>"
      ]
     },
     "metadata": {},
     "output_type": "display_data"
    }
   ],
   "source": [
    "syntax_diagram(GUIGrammarMiner.GUI_GRAMMAR)"
   ]
  },
  {
   "cell_type": "markdown",
   "metadata": {
    "slideshow": {
     "slide_type": "subslide"
    }
   },
   "source": [
    "The method `mine_state_grammar()` goes through the actions mined from the page (using `mine_state_actions()`) and creates a grammar for the current state.  For each `click()` and `submit()` action, it assumes a new state follows, and introduces an appropriate state symbol into the grammar – a state symbol that now will be marked as `<unexplored>`, but will be expanded later as the appropriate state is seen."
   ]
  },
  {
   "cell_type": "code",
   "execution_count": 71,
   "metadata": {
    "slideshow": {
     "slide_type": "subslide"
    }
   },
   "outputs": [],
   "source": [
    "class GUIGrammarMiner(GUIGrammarMiner):\n",
    "    def new_state_symbol(self, grammar):\n",
    "        return new_symbol(grammar, self.START_STATE)\n",
    "\n",
    "    def mine_state_grammar(self, grammar={}, state_symbol=None):\n",
    "        grammar = extend_grammar(self.GUI_GRAMMAR, grammar)\n",
    "\n",
    "        if state_symbol is None:\n",
    "            state_symbol = self.new_state_symbol(grammar)\n",
    "            grammar[state_symbol] = []\n",
    "\n",
    "        alternatives = []\n",
    "        form = \"\"\n",
    "        submit = None\n",
    "\n",
    "        for action in self.mine_state_actions():\n",
    "            if action.startswith(\"submit\"):\n",
    "                submit = action\n",
    "                \n",
    "            elif action.startswith(\"click\"):\n",
    "                link_target = self.new_state_symbol(grammar)\n",
    "                grammar[link_target] = [self.UNEXPLORED_STATE]\n",
    "                alternatives.append(action + '\\n' + link_target)\n",
    "                \n",
    "            elif action.startswith(\"ignore\"):\n",
    "                pass\n",
    "\n",
    "            else:  # fill(), check() actions\n",
    "                if len(form) > 0:\n",
    "                    form += '\\n'\n",
    "                form += action\n",
    "\n",
    "        if submit is not None:\n",
    "            if len(form) > 0:\n",
    "                form += '\\n'\n",
    "            form += submit\n",
    "\n",
    "        if len(form) > 0:\n",
    "            form_target = self.new_state_symbol(grammar)\n",
    "            grammar[form_target] = [self.UNEXPLORED_STATE]\n",
    "            alternatives.append(form + '\\n' + form_target)\n",
    "            \n",
    "        alternatives += [self.FINAL_STATE]\n",
    "\n",
    "        grammar[state_symbol] = alternatives\n",
    "        \n",
    "        # Remove unused parts\n",
    "        for nonterminal in unreachable_nonterminals(grammar):\n",
    "            del grammar[nonterminal]\n",
    "\n",
    "        assert is_valid_grammar(grammar)\n",
    "        \n",
    "        return grammar"
   ]
  },
  {
   "cell_type": "markdown",
   "metadata": {
    "slideshow": {
     "slide_type": "subslide"
    }
   },
   "source": [
    "Let us show `mine_state_grammar()` in action.  Here's the grammar for the home page:"
   ]
  },
  {
   "cell_type": "code",
   "execution_count": 72,
   "metadata": {
    "slideshow": {
     "slide_type": "fragment"
    }
   },
   "outputs": [],
   "source": [
    "gui_grammar_miner = GUIGrammarMiner(gui_driver)\n",
    "state_grammar = gui_grammar_miner.mine_state_grammar()"
   ]
  },
  {
   "cell_type": "markdown",
   "metadata": {
    "slideshow": {
     "slide_type": "fragment"
    }
   },
   "source": [
    "From the start state (`<state>`), we can go and either click on \"terms and conditions\", ending in `<state-1>`, or fill out the form, ending in `<state-2>`."
   ]
  },
  {
   "cell_type": "code",
   "execution_count": 73,
   "metadata": {
    "slideshow": {
     "slide_type": "fragment"
    }
   },
   "outputs": [
    {
     "data": {
      "text/plain": [
       "[\"click('terms and conditions')\\n<state-1>\",\n",
       " \"fill('email', '<email>')\\ncheck('terms', <boolean>)\\nfill('city', '<text>')\\nfill('name', '<text>')\\nfill('zip', '<number>')\\nsubmit('submit')\\n<state-2>\",\n",
       " '<end>']"
      ]
     },
     "execution_count": 73,
     "metadata": {},
     "output_type": "execute_result"
    }
   ],
   "source": [
    "state_grammar[GUIGrammarMiner.START_STATE]"
   ]
  },
  {
   "cell_type": "markdown",
   "metadata": {
    "slideshow": {
     "slide_type": "fragment"
    }
   },
   "source": [
    "Both these states are yet unexplored:"
   ]
  },
  {
   "cell_type": "code",
   "execution_count": 74,
   "metadata": {
    "slideshow": {
     "slide_type": "fragment"
    }
   },
   "outputs": [
    {
     "data": {
      "text/plain": [
       "['<unexplored>']"
      ]
     },
     "execution_count": 74,
     "metadata": {},
     "output_type": "execute_result"
    }
   ],
   "source": [
    "state_grammar['<state-1>']"
   ]
  },
  {
   "cell_type": "code",
   "execution_count": 75,
   "metadata": {
    "slideshow": {
     "slide_type": "subslide"
    }
   },
   "outputs": [
    {
     "data": {
      "text/plain": [
       "['<unexplored>']"
      ]
     },
     "execution_count": 75,
     "metadata": {},
     "output_type": "execute_result"
    }
   ],
   "source": [
    "state_grammar['<state-2>']"
   ]
  },
  {
   "cell_type": "code",
   "execution_count": 76,
   "metadata": {
    "slideshow": {
     "slide_type": "fragment"
    }
   },
   "outputs": [
    {
     "data": {
      "text/plain": [
       "['']"
      ]
     },
     "execution_count": 76,
     "metadata": {},
     "output_type": "execute_result"
    }
   ],
   "source": [
    "state_grammar['<unexplored>']"
   ]
  },
  {
   "cell_type": "markdown",
   "metadata": {
    "slideshow": {
     "slide_type": "fragment"
    }
   },
   "source": [
    "To better see the state structure, the function `fsm_diagram()` shows the resulting state grammar as a finite state machine.  (This assumes that the grammar actually encodes a state machine.)"
   ]
  },
  {
   "cell_type": "code",
   "execution_count": 77,
   "metadata": {
    "slideshow": {
     "slide_type": "skip"
    }
   },
   "outputs": [],
   "source": [
    "from collections import deque"
   ]
  },
  {
   "cell_type": "code",
   "execution_count": 78,
   "metadata": {
    "slideshow": {
     "slide_type": "skip"
    }
   },
   "outputs": [],
   "source": [
    "from fuzzingbook_utils import unicode_escape"
   ]
  },
  {
   "cell_type": "code",
   "execution_count": 79,
   "metadata": {
    "slideshow": {
     "slide_type": "subslide"
    }
   },
   "outputs": [],
   "source": [
    "def fsm_diagram(grammar, start_symbol=START_SYMBOL):\n",
    "    def left_align(label):\n",
    "        return dot_escape(label.replace('\\n', r'\\l')).replace(r'\\\\l', '\\\\l')\n",
    "\n",
    "    dot = Digraph(comment=\"Grammar as Finite State Machine\")\n",
    "\n",
    "    symbols = deque([start_symbol])\n",
    "    symbols_seen = set()\n",
    "    \n",
    "    while len(symbols) > 0:\n",
    "        symbol = symbols.popleft()\n",
    "        symbols_seen.add(symbol)\n",
    "        dot.node(symbol, dot_escape(unicode_escape(symbol)))\n",
    "        \n",
    "        for expansion in grammar[symbol]:\n",
    "            nts = nonterminals(expansion)\n",
    "            if len(nts) > 0:\n",
    "                target_symbol = nts[-1]\n",
    "                if target_symbol not in symbols_seen:\n",
    "                    symbols.append(target_symbol)\n",
    "\n",
    "                label = expansion.replace(target_symbol, '')\n",
    "                dot.edge(symbol, target_symbol, left_align(unicode_escape(label)))\n",
    "                         \n",
    "                \n",
    "    return display(dot)"
   ]
  },
  {
   "cell_type": "markdown",
   "metadata": {
    "slideshow": {
     "slide_type": "subslide"
    }
   },
   "source": [
    "Here's our current grammar as a state machine.  We see that it nicely reflects what we can see from our Web server's home page:"
   ]
  },
  {
   "cell_type": "code",
   "execution_count": 80,
   "metadata": {
    "slideshow": {
     "slide_type": "fragment"
    }
   },
   "outputs": [
    {
     "data": {
      "image/svg+xml": [
       "<?xml version=\"1.0\" encoding=\"UTF-8\" standalone=\"no\"?>\n",
       "<!DOCTYPE svg PUBLIC \"-//W3C//DTD SVG 1.1//EN\"\n",
       " \"http://www.w3.org/Graphics/SVG/1.1/DTD/svg11.dtd\">\n",
       "<!-- Generated by graphviz version 2.40.1 (20161225.0304)\n",
       " -->\n",
       "<!-- Title: %3 Pages: 1 -->\n",
       "<svg width=\"412pt\" height=\"352pt\"\n",
       " viewBox=\"0.00 0.00 411.94 352.00\" xmlns=\"http://www.w3.org/2000/svg\" xmlns:xlink=\"http://www.w3.org/1999/xlink\">\n",
       "<g id=\"graph0\" class=\"graph\" transform=\"scale(1 1) rotate(0) translate(4 348)\">\n",
       "<title>%3</title>\n",
       "<polygon fill=\"#ffffff\" stroke=\"transparent\" points=\"-4,4 -4,-348 407.9429,-348 407.9429,4 -4,4\"/>\n",
       "<!-- start -->\n",
       "<g id=\"node1\" class=\"node\">\n",
       "<title>start</title>\n",
       "<ellipse fill=\"none\" stroke=\"#000000\" cx=\"208.496\" cy=\"-326\" rx=\"36.2938\" ry=\"18\"/>\n",
       "<text text-anchor=\"middle\" x=\"208.496\" y=\"-322.3\" font-family=\"Times,serif\" font-size=\"14.00\" fill=\"#000000\">&lt;start&gt;</text>\n",
       "</g>\n",
       "<!-- state -->\n",
       "<g id=\"node2\" class=\"node\">\n",
       "<title>state</title>\n",
       "<ellipse fill=\"none\" stroke=\"#000000\" cx=\"208.496\" cy=\"-253\" rx=\"37.8943\" ry=\"18\"/>\n",
       "<text text-anchor=\"middle\" x=\"208.496\" y=\"-249.3\" font-family=\"Times,serif\" font-size=\"14.00\" fill=\"#000000\">&lt;state&gt;</text>\n",
       "</g>\n",
       "<!-- start&#45;&gt;state -->\n",
       "<g id=\"edge1\" class=\"edge\">\n",
       "<title>start&#45;&gt;state</title>\n",
       "<path fill=\"none\" stroke=\"#000000\" d=\"M208.496,-307.9551C208.496,-299.8828 208.496,-290.1764 208.496,-281.1817\"/>\n",
       "<polygon fill=\"#000000\" stroke=\"#000000\" points=\"211.9961,-281.0903 208.496,-271.0904 204.9961,-281.0904 211.9961,-281.0903\"/>\n",
       "</g>\n",
       "<!-- state&#45;1 -->\n",
       "<g id=\"node3\" class=\"node\">\n",
       "<title>state&#45;1</title>\n",
       "<ellipse fill=\"none\" stroke=\"#000000\" cx=\"45.496\" cy=\"-91\" rx=\"45.4919\" ry=\"18\"/>\n",
       "<text text-anchor=\"middle\" x=\"45.496\" y=\"-87.3\" font-family=\"Times,serif\" font-size=\"14.00\" fill=\"#000000\">&lt;state&#45;1&gt;</text>\n",
       "</g>\n",
       "<!-- state&#45;&gt;state&#45;1 -->\n",
       "<g id=\"edge2\" class=\"edge\">\n",
       "<title>state&#45;&gt;state&#45;1</title>\n",
       "<path fill=\"none\" stroke=\"#000000\" d=\"M170.9534,-251.1602C122.383,-247.9032 41.8089,-239.2201 23.496,-217 -1.944,-186.1324 12.662,-165.5049 23.496,-127 24.4085,-123.7566 25.7035,-120.5164 27.2139,-117.3831\"/>\n",
       "<polygon fill=\"#000000\" stroke=\"#000000\" points=\"30.4065,-118.8446 32.2248,-108.407 24.2944,-115.4325 30.4065,-118.8446\"/>\n",
       "<text text-anchor=\"start\" x=\"23.496\" y=\"-168.3\" font-family=\"Times,serif\" font-size=\"14.00\" fill=\"#000000\">click(&#39;terms and conditions&#39;)</text>\n",
       "</g>\n",
       "<!-- state&#45;2 -->\n",
       "<g id=\"node4\" class=\"node\">\n",
       "<title>state&#45;2</title>\n",
       "<ellipse fill=\"none\" stroke=\"#000000\" cx=\"172.496\" cy=\"-91\" rx=\"45.4919\" ry=\"18\"/>\n",
       "<text text-anchor=\"middle\" x=\"172.496\" y=\"-87.3\" font-family=\"Times,serif\" font-size=\"14.00\" fill=\"#000000\">&lt;state&#45;2&gt;</text>\n",
       "</g>\n",
       "<!-- state&#45;&gt;state&#45;2 -->\n",
       "<g id=\"edge3\" class=\"edge\">\n",
       "<title>state&#45;&gt;state&#45;2</title>\n",
       "<path fill=\"none\" stroke=\"#000000\" d=\"M206.4682,-234.8057C203.4539,-210.084 196.9911,-164.6469 186.496,-127 185.7194,-124.2143 184.8071,-121.3455 183.827,-118.5007\"/>\n",
       "<polygon fill=\"#000000\" stroke=\"#000000\" points=\"187.0907,-117.2353 180.3314,-109.0766 180.5276,-119.6697 187.0907,-117.2353\"/>\n",
       "<text text-anchor=\"start\" x=\"204.496\" y=\"-205.8\" font-family=\"Times,serif\" font-size=\"14.00\" fill=\"#000000\">fill(&#39;email&#39;, &#39;&lt;email&gt;&#39;)</text>\n",
       "<text text-anchor=\"start\" x=\"204.496\" y=\"-190.8\" font-family=\"Times,serif\" font-size=\"14.00\" fill=\"#000000\">check(&#39;terms&#39;, &lt;boolean&gt;)</text>\n",
       "<text text-anchor=\"start\" x=\"204.496\" y=\"-175.8\" font-family=\"Times,serif\" font-size=\"14.00\" fill=\"#000000\">fill(&#39;city&#39;, &#39;&lt;text&gt;&#39;)</text>\n",
       "<text text-anchor=\"start\" x=\"204.496\" y=\"-160.8\" font-family=\"Times,serif\" font-size=\"14.00\" fill=\"#000000\">fill(&#39;name&#39;, &#39;&lt;text&gt;&#39;)</text>\n",
       "<text text-anchor=\"start\" x=\"204.496\" y=\"-145.8\" font-family=\"Times,serif\" font-size=\"14.00\" fill=\"#000000\">fill(&#39;zip&#39;, &#39;&lt;number&gt;&#39;)</text>\n",
       "<text text-anchor=\"start\" x=\"204.496\" y=\"-130.8\" font-family=\"Times,serif\" font-size=\"14.00\" fill=\"#000000\">submit(&#39;submit&#39;)</text>\n",
       "</g>\n",
       "<!-- end -->\n",
       "<g id=\"node5\" class=\"node\">\n",
       "<title>end</title>\n",
       "<ellipse fill=\"none\" stroke=\"#000000\" cx=\"369.496\" cy=\"-91\" rx=\"34.394\" ry=\"18\"/>\n",
       "<text text-anchor=\"middle\" x=\"369.496\" y=\"-87.3\" font-family=\"Times,serif\" font-size=\"14.00\" fill=\"#000000\">&lt;end&gt;</text>\n",
       "</g>\n",
       "<!-- state&#45;&gt;end -->\n",
       "<g id=\"edge4\" class=\"edge\">\n",
       "<title>state&#45;&gt;end</title>\n",
       "<path fill=\"none\" stroke=\"#000000\" d=\"M245.3186,-248.705C283.7048,-243.4287 340.2334,-233.1386 354.496,-217 378.0388,-190.3605 377.8598,-147.235 374.5115,-118.9958\"/>\n",
       "<polygon fill=\"#000000\" stroke=\"#000000\" points=\"377.9609,-118.3892 373.1159,-108.9671 371.0277,-119.3541 377.9609,-118.3892\"/>\n",
       "</g>\n",
       "<!-- unexplored -->\n",
       "<g id=\"node6\" class=\"node\">\n",
       "<title>unexplored</title>\n",
       "<ellipse fill=\"none\" stroke=\"#000000\" cx=\"99.496\" cy=\"-18\" rx=\"61.99\" ry=\"18\"/>\n",
       "<text text-anchor=\"middle\" x=\"99.496\" y=\"-14.3\" font-family=\"Times,serif\" font-size=\"14.00\" fill=\"#000000\">&lt;unexplored&gt;</text>\n",
       "</g>\n",
       "<!-- state&#45;1&#45;&gt;unexplored -->\n",
       "<g id=\"edge5\" class=\"edge\">\n",
       "<title>state&#45;1&#45;&gt;unexplored</title>\n",
       "<path fill=\"none\" stroke=\"#000000\" d=\"M58.2932,-73.7C64.8545,-64.8301 72.9801,-53.8455 80.2768,-43.9815\"/>\n",
       "<polygon fill=\"#000000\" stroke=\"#000000\" points=\"83.2822,-45.8039 86.4155,-35.6829 77.6546,-41.6409 83.2822,-45.8039\"/>\n",
       "</g>\n",
       "<!-- state&#45;2&#45;&gt;unexplored -->\n",
       "<g id=\"edge6\" class=\"edge\">\n",
       "<title>state&#45;2&#45;&gt;unexplored</title>\n",
       "<path fill=\"none\" stroke=\"#000000\" d=\"M155.5648,-74.0688C146.2104,-64.7145 134.4214,-52.9255 124.0701,-42.5742\"/>\n",
       "<polygon fill=\"#000000\" stroke=\"#000000\" points=\"126.3882,-39.9425 116.8422,-35.3463 121.4384,-44.8922 126.3882,-39.9425\"/>\n",
       "</g>\n",
       "</g>\n",
       "</svg>\n"
      ],
      "text/plain": [
       "<graphviz.dot.Digraph at 0x11c001eb8>"
      ]
     },
     "metadata": {},
     "output_type": "display_data"
    }
   ],
   "source": [
    "fsm_diagram(state_grammar)"
   ]
  },
  {
   "cell_type": "markdown",
   "metadata": {
    "slideshow": {
     "slide_type": "fragment"
    }
   },
   "source": [
    "Given the grammar, we can use any of our grammar fuzzers to create valid input sequences:"
   ]
  },
  {
   "cell_type": "code",
   "execution_count": 81,
   "metadata": {
    "slideshow": {
     "slide_type": "skip"
    }
   },
   "outputs": [],
   "source": [
    "from GrammarFuzzer import GrammarFuzzer"
   ]
  },
  {
   "cell_type": "code",
   "execution_count": 82,
   "metadata": {
    "slideshow": {
     "slide_type": "subslide"
    }
   },
   "outputs": [
    {
     "name": "stdout",
     "output_type": "stream",
     "text": [
      "fill('email', 'G@C')\n",
      "check('terms', True)\n",
      "fill('city', 'MUq')\n",
      "fill('name', '.')\n",
      "fill('zip', '7')\n",
      "submit('submit')\n",
      "\n"
     ]
    }
   ],
   "source": [
    "gui_fuzzer = GrammarFuzzer(state_grammar)\n",
    "while True:\n",
    "    action = gui_fuzzer.fuzz()\n",
    "    if action.find('submit(') > 0:\n",
    "        break\n",
    "print(action)"
   ]
  },
  {
   "cell_type": "markdown",
   "metadata": {
    "slideshow": {
     "slide_type": "subslide"
    }
   },
   "source": [
    "These actions, however, must also be _executed_ such that we can explore the user interface.  This is what we do in the next section."
   ]
  },
  {
   "cell_type": "markdown",
   "metadata": {
    "slideshow": {
     "slide_type": "subslide"
    }
   },
   "source": [
    "### Executing User Interface Actions"
   ]
  },
  {
   "cell_type": "markdown",
   "metadata": {
    "slideshow": {
     "slide_type": "fragment"
    }
   },
   "source": [
    "To execute actions, we introduce a `Runner` class, conveniently named `GUIRunner`.  The aim of its `run()` method is to execute the actions as given in an action string.  The way we do this is fairly simple: We introduce four methods named `fill()`, `check()`, `submit()` and `click()`, and run `exec()` on the action string to have the Python interpreter invoke these methods."
   ]
  },
  {
   "cell_type": "markdown",
   "metadata": {
    "slideshow": {
     "slide_type": "subslide"
    }
   },
   "source": [
    "Running `exec()` on third-party input is dangerous, as the names of UI elements may contain valid Python code.  We restrict access to the four functions defined above, and also set `__builtins__` to the empty dictionary such that built-in Python functions are not available during `exec()`.  This will prevent accidents, but as we will see in the [chapter on information flow](InformationFlow.ipynb), it is still possible to inject Python code.  To prevent such injection attacks, we use `html.escape()` to quote angle and quote characters in all third-party strings."
   ]
  },
  {
   "cell_type": "code",
   "execution_count": 83,
   "metadata": {
    "slideshow": {
     "slide_type": "skip"
    }
   },
   "outputs": [],
   "source": [
    "from Fuzzer import Runner"
   ]
  },
  {
   "cell_type": "code",
   "execution_count": 84,
   "metadata": {
    "slideshow": {
     "slide_type": "subslide"
    }
   },
   "outputs": [],
   "source": [
    "class GUIRunner(Runner):\n",
    "    def __init__(self, driver):\n",
    "        self.driver = driver\n",
    "        \n",
    "    def run(self, inp):\n",
    "        def fill(name, value):\n",
    "            self.do_fill(html.unescape(name), html.unescape(value))\n",
    "        def check(name, state):\n",
    "            self.do_check(html.unescape(name), state)\n",
    "        def submit(name):\n",
    "            self.do_submit(html.unescape(name))\n",
    "        def click(name):\n",
    "            self.do_click(html.unescape(name))\n",
    "        \n",
    "        exec(inp, {'__builtins__': {}},\n",
    "                  {'fill': fill, 'check': check, 'submit': submit, 'click': click})\n",
    "        \n",
    "        return inp, self.PASS"
   ]
  },
  {
   "cell_type": "markdown",
   "metadata": {
    "slideshow": {
     "slide_type": "subslide"
    }
   },
   "source": [
    "To identify elements in an action, we first search them by their name, and then by the displayed link text."
   ]
  },
  {
   "cell_type": "code",
   "execution_count": 85,
   "metadata": {
    "slideshow": {
     "slide_type": "skip"
    }
   },
   "outputs": [],
   "source": [
    "from selenium.common.exceptions import NoSuchElementException\n",
    "from selenium.common.exceptions import ElementClickInterceptedException, ElementNotInteractableException"
   ]
  },
  {
   "cell_type": "code",
   "execution_count": 86,
   "metadata": {
    "slideshow": {
     "slide_type": "fragment"
    }
   },
   "outputs": [],
   "source": [
    "class GUIRunner(GUIRunner):\n",
    "    def find_element(self, name):\n",
    "        try:\n",
    "            return self.driver.find_element_by_name(name)\n",
    "        except NoSuchElementException:\n",
    "            return self.driver.find_element_by_link_text(name)"
   ]
  },
  {
   "cell_type": "markdown",
   "metadata": {
    "slideshow": {
     "slide_type": "fragment"
    }
   },
   "source": [
    "The implementations of the actions simply defer to the appropriate Selenium methods, introducing explicit delays such that the page can reload and refresh."
   ]
  },
  {
   "cell_type": "code",
   "execution_count": 87,
   "metadata": {
    "slideshow": {
     "slide_type": "skip"
    }
   },
   "outputs": [],
   "source": [
    "from selenium.webdriver.support.ui import WebDriverWait"
   ]
  },
  {
   "cell_type": "code",
   "execution_count": 88,
   "metadata": {
    "slideshow": {
     "slide_type": "subslide"
    }
   },
   "outputs": [],
   "source": [
    "class GUIRunner(GUIRunner):\n",
    "    # Delays (in seconds)\n",
    "    DELAY_AFTER_FILL = 0.1\n",
    "    DELAY_AFTER_CHECK = 0.1\n",
    "    DELAY_AFTER_SUBMIT = 1\n",
    "    DELAY_AFTER_CLICK = 1"
   ]
  },
  {
   "cell_type": "code",
   "execution_count": 89,
   "metadata": {
    "slideshow": {
     "slide_type": "fragment"
    }
   },
   "outputs": [],
   "source": [
    "class GUIRunner(GUIRunner):\n",
    "    def do_fill(self, name, value):\n",
    "        element = self.find_element(name)\n",
    "        element.send_keys(value)\n",
    "        WebDriverWait(self.driver, self.DELAY_AFTER_FILL)"
   ]
  },
  {
   "cell_type": "code",
   "execution_count": 90,
   "metadata": {
    "slideshow": {
     "slide_type": "subslide"
    }
   },
   "outputs": [],
   "source": [
    "class GUIRunner(GUIRunner):\n",
    "    def do_check(self, name, state):\n",
    "        element = self.find_element(name)\n",
    "        if bool(state) != bool(element.is_selected()):\n",
    "            element.click()\n",
    "        WebDriverWait(self.driver, self.DELAY_AFTER_CHECK)"
   ]
  },
  {
   "cell_type": "code",
   "execution_count": 91,
   "metadata": {
    "slideshow": {
     "slide_type": "fragment"
    }
   },
   "outputs": [],
   "source": [
    "class GUIRunner(GUIRunner):\n",
    "    def do_submit(self, name):\n",
    "        element = self.find_element(name)\n",
    "        element.click()\n",
    "        WebDriverWait(self.driver, self.DELAY_AFTER_SUBMIT)"
   ]
  },
  {
   "cell_type": "code",
   "execution_count": 92,
   "metadata": {
    "slideshow": {
     "slide_type": "subslide"
    }
   },
   "outputs": [],
   "source": [
    "class GUIRunner(GUIRunner):\n",
    "    def do_click(self, name):\n",
    "        element = self.find_element(name)\n",
    "        element.click()\n",
    "        WebDriverWait(self.driver, self.DELAY_AFTER_CLICK)"
   ]
  },
  {
   "cell_type": "markdown",
   "metadata": {
    "slideshow": {
     "slide_type": "fragment"
    }
   },
   "source": [
    "Let us try out `GUIRunner`.  We create a runner on our Web server, and let it execute a `fill()` action:"
   ]
  },
  {
   "cell_type": "code",
   "execution_count": 93,
   "metadata": {
    "slideshow": {
     "slide_type": "fragment"
    }
   },
   "outputs": [],
   "source": [
    "gui_driver.get(httpd_url)"
   ]
  },
  {
   "cell_type": "code",
   "execution_count": 94,
   "metadata": {
    "slideshow": {
     "slide_type": "fragment"
    }
   },
   "outputs": [],
   "source": [
    "gui_runner = GUIRunner(gui_driver)"
   ]
  },
  {
   "cell_type": "code",
   "execution_count": 95,
   "metadata": {
    "slideshow": {
     "slide_type": "fragment"
    }
   },
   "outputs": [
    {
     "data": {
      "text/plain": [
       "(\"fill('name', 'Walter White')\", 'PASS')"
      ]
     },
     "execution_count": 95,
     "metadata": {},
     "output_type": "execute_result"
    }
   ],
   "source": [
    "gui_runner.run(\"fill('name', 'Walter White')\")"
   ]
  },
  {
   "cell_type": "code",
   "execution_count": 96,
   "metadata": {
    "slideshow": {
     "slide_type": "fragment"
    }
   },
   "outputs": [
    {
     "data": {
      "image/png": "[encoded data removed]",
      "text/plain": [
       "<IPython.core.display.Image object>"
      ]
     },
     "execution_count": 96,
     "metadata": {},
     "output_type": "execute_result"
    }
   ],
   "source": [
    "Image(gui_driver.get_screenshot_as_png())"
   ]
  },
  {
   "cell_type": "markdown",
   "metadata": {
    "slideshow": {
     "slide_type": "fragment"
    }
   },
   "source": [
    "A `submit()` action submits the order.  (Note that our Web server does no effort whatsoever to validate the form.)"
   ]
  },
  {
   "cell_type": "code",
   "execution_count": 97,
   "metadata": {
    "slideshow": {
     "slide_type": "subslide"
    }
   },
   "outputs": [
    {
     "data": {
      "text/plain": [
       "(\"submit('submit')\", 'PASS')"
      ]
     },
     "execution_count": 97,
     "metadata": {},
     "output_type": "execute_result"
    }
   ],
   "source": [
    "gui_runner.run(\"submit('submit')\")"
   ]
  },
  {
   "cell_type": "code",
   "execution_count": 98,
   "metadata": {
    "slideshow": {
     "slide_type": "fragment"
    }
   },
   "outputs": [
    {
     "data": {
      "image/png": "[encoded data removed]",
      "text/plain": [
       "<IPython.core.display.Image object>"
      ]
     },
     "execution_count": 98,
     "metadata": {},
     "output_type": "execute_result"
    }
   ],
   "source": [
    "Image(gui_driver.get_screenshot_as_png())"
   ]
  },
  {
   "cell_type": "markdown",
   "metadata": {
    "slideshow": {
     "slide_type": "fragment"
    }
   },
   "source": [
    "Of course, we can also execute action sequences generated from the grammar.  This allows us to fill the form again and again, using values matching the type given in the form."
   ]
  },
  {
   "cell_type": "code",
   "execution_count": 99,
   "metadata": {
    "slideshow": {
     "slide_type": "fragment"
    }
   },
   "outputs": [],
   "source": [
    "gui_driver.get(httpd_url)"
   ]
  },
  {
   "cell_type": "code",
   "execution_count": 100,
   "metadata": {
    "slideshow": {
     "slide_type": "fragment"
    }
   },
   "outputs": [],
   "source": [
    "gui_fuzzer = GrammarFuzzer(state_grammar)"
   ]
  },
  {
   "cell_type": "code",
   "execution_count": 101,
   "metadata": {
    "slideshow": {
     "slide_type": "fragment"
    }
   },
   "outputs": [],
   "source": [
    "while True:\n",
    "    action = gui_fuzzer.fuzz()\n",
    "    if action.find('submit(') > 0:\n",
    "        break"
   ]
  },
  {
   "cell_type": "code",
   "execution_count": 102,
   "metadata": {
    "slideshow": {
     "slide_type": "subslide"
    }
   },
   "outputs": [
    {
     "name": "stdout",
     "output_type": "stream",
     "text": [
      "fill('email', 'Vxbz@D')\n",
      "check('terms', False)\n",
      "fill('city', 'E')\n",
      "fill('name', '2J')\n",
      "fill('zip', '0')\n",
      "submit('submit')\n",
      "\n"
     ]
    }
   ],
   "source": [
    "print(action)"
   ]
  },
  {
   "cell_type": "code",
   "execution_count": 103,
   "metadata": {
    "slideshow": {
     "slide_type": "fragment"
    }
   },
   "outputs": [
    {
     "data": {
      "text/plain": [
       "(\"fill('email', 'Vxbz@D')\\ncheck('terms', False)\\nfill('city', 'E')\\nfill('name', '2J')\\nfill('zip', '0')\\nsubmit('submit')\\n\",\n",
       " 'PASS')"
      ]
     },
     "execution_count": 103,
     "metadata": {},
     "output_type": "execute_result"
    }
   ],
   "source": [
    "gui_runner.run(action)"
   ]
  },
  {
   "cell_type": "code",
   "execution_count": 104,
   "metadata": {
    "slideshow": {
     "slide_type": "fragment"
    }
   },
   "outputs": [
    {
     "data": {
      "image/png": "[encoded data removed]",
      "text/plain": [
       "<IPython.core.display.Image object>"
      ]
     },
     "execution_count": 104,
     "metadata": {},
     "output_type": "execute_result"
    }
   ],
   "source": [
    "Image(gui_driver.get_screenshot_as_png())"
   ]
  },
  {
   "cell_type": "markdown",
   "metadata": {
    "slideshow": {
     "slide_type": "slide"
    }
   },
   "source": [
    "## Exploring User Interfaces\n",
    "\n",
    "So far, our grammar retrieval and execution of actions is limited to the current user interface state (i.e., the current page shown).  To systematically explore a user interface, we must explore all states, notably those ending in `<unexplored>` – and whenever we reach a new state, again retrieve its grammar such that we may be able to reach other states.  Since some states can only be reached by generating inputs, test generation and user interface exploration _take place at the same time._  \n",
    "\n",
    "Consequently, we introduce a `GUIFuzzer` class, which generates inputs for all forms and follows all links, and which updates its grammar (i.e., its user interface model as a finite state machine) every time it encounters a new state. "
   ]
  },
  {
   "cell_type": "markdown",
   "metadata": {
    "slideshow": {
     "slide_type": "subslide"
    }
   },
   "source": [
    "Exploring states and updating the grammar at the same time is a fairly complex operation, so we need to introduce quite a number of methods before we can put this to use.  The `GUIFuzzer` constructor sets three important attributes:\n",
    "\n",
    "1. `state_symbol`: This holds the symbol of the current state (e.g. `<state-1>`).\n",
    "2. `state`: This holds the set of actions for the current state, as returned by the `GUIGrammarMiner` method `mine_state_actions()`.\n",
    "3. `states_seen`: This maps the states seen (as in `state`) to the respective symbols.\n",
    "\n",
    "Let us show these three attributes after initialization."
   ]
  },
  {
   "cell_type": "code",
   "execution_count": 105,
   "metadata": {
    "slideshow": {
     "slide_type": "skip"
    }
   },
   "outputs": [],
   "source": [
    "from Grammars import is_nonterminal"
   ]
  },
  {
   "cell_type": "code",
   "execution_count": 106,
   "metadata": {
    "slideshow": {
     "slide_type": "skip"
    }
   },
   "outputs": [],
   "source": [
    "from GrammarFuzzer import GrammarFuzzer"
   ]
  },
  {
   "cell_type": "code",
   "execution_count": 107,
   "metadata": {
    "slideshow": {
     "slide_type": "subslide"
    }
   },
   "outputs": [],
   "source": [
    "class GUIFuzzer(GrammarFuzzer):\n",
    "    def __init__(self, driver, \n",
    "                 stay_on_host=True,\n",
    "                 log_gui_exploration=False, \n",
    "                 disp_gui_exploration=False, \n",
    "                 **kwargs):\n",
    "        self.driver = driver\n",
    "        self.miner = GUIGrammarMiner(driver)\n",
    "        self.stay_on_host = True\n",
    "        self.log_gui_exploration = log_gui_exploration\n",
    "        self.disp_gui_exploration = disp_gui_exploration\n",
    "        self.initial_url = driver.current_url\n",
    "\n",
    "        self.states_seen = {}  # Maps states to symbols\n",
    "        self.state_symbol = GUIGrammarMiner.START_STATE\n",
    "        self.state = self.miner.mine_state_actions()\n",
    "        self.states_seen[self.state] = self.state_symbol\n",
    "        \n",
    "        grammar = self.miner.mine_state_grammar()\n",
    "        super().__init__(grammar, **kwargs)"
   ]
  },
  {
   "cell_type": "code",
   "execution_count": 108,
   "metadata": {
    "slideshow": {
     "slide_type": "subslide"
    }
   },
   "outputs": [],
   "source": [
    "gui_driver.get(httpd_url)"
   ]
  },
  {
   "cell_type": "markdown",
   "metadata": {
    "slideshow": {
     "slide_type": "fragment"
    }
   },
   "source": [
    "The initial state symbol is always `<state>`:"
   ]
  },
  {
   "cell_type": "code",
   "execution_count": 109,
   "metadata": {
    "slideshow": {
     "slide_type": "fragment"
    }
   },
   "outputs": [
    {
     "data": {
      "text/plain": [
       "'<state>'"
      ]
     },
     "execution_count": 109,
     "metadata": {},
     "output_type": "execute_result"
    }
   ],
   "source": [
    "gui_fuzzer = GUIFuzzer(gui_driver)\n",
    "gui_fuzzer.state_symbol"
   ]
  },
  {
   "cell_type": "markdown",
   "metadata": {
    "slideshow": {
     "slide_type": "fragment"
    }
   },
   "source": [
    "The current state is characterized by the available UI actions:"
   ]
  },
  {
   "cell_type": "code",
   "execution_count": 110,
   "metadata": {
    "slideshow": {
     "slide_type": "fragment"
    }
   },
   "outputs": [
    {
     "data": {
      "text/plain": [
       "frozenset({\"check('terms', <boolean>)\",\n",
       "           \"click('terms and conditions')\",\n",
       "           \"fill('city', '<text>')\",\n",
       "           \"fill('email', '<email>')\",\n",
       "           \"fill('name', '<text>')\",\n",
       "           \"fill('zip', '<number>')\",\n",
       "           \"submit('submit')\"})"
      ]
     },
     "execution_count": 110,
     "metadata": {},
     "output_type": "execute_result"
    }
   ],
   "source": [
    "gui_fuzzer.state"
   ]
  },
  {
   "cell_type": "markdown",
   "metadata": {
    "slideshow": {
     "slide_type": "fragment"
    }
   },
   "source": [
    "`states_seen` maps this state to its symbol:"
   ]
  },
  {
   "cell_type": "code",
   "execution_count": 111,
   "metadata": {
    "slideshow": {
     "slide_type": "subslide"
    }
   },
   "outputs": [
    {
     "data": {
      "text/plain": [
       "'<state>'"
      ]
     },
     "execution_count": 111,
     "metadata": {},
     "output_type": "execute_result"
    }
   ],
   "source": [
    "gui_fuzzer.states_seen[gui_fuzzer.state]"
   ]
  },
  {
   "cell_type": "markdown",
   "metadata": {
    "slideshow": {
     "slide_type": "fragment"
    }
   },
   "source": [
    "The `restart()` method gets us back to the initial URL and resets the state.  This is what we use with every new exploration."
   ]
  },
  {
   "cell_type": "code",
   "execution_count": 112,
   "metadata": {
    "slideshow": {
     "slide_type": "fragment"
    }
   },
   "outputs": [],
   "source": [
    "class GUIFuzzer(GUIFuzzer):\n",
    "    def restart(self):\n",
    "        self.driver.get(self.initial_url)\n",
    "        self.state = GUIGrammarMiner.START_STATE"
   ]
  },
  {
   "cell_type": "markdown",
   "metadata": {
    "slideshow": {
     "slide_type": "fragment"
    }
   },
   "source": [
    "When producing a sequence of actions from the grammar, we want to know which final state we are to be in.  We can retrieve this path from the _derivation tree_ produced – it is the last symbol being expanded."
   ]
  },
  {
   "cell_type": "code",
   "execution_count": 113,
   "metadata": {
    "slideshow": {
     "slide_type": "fragment"
    }
   },
   "outputs": [],
   "source": [
    "while True:\n",
    "    action = gui_fuzzer.fuzz()\n",
    "    if action.find('click(') >= 0:\n",
    "        break"
   ]
  },
  {
   "cell_type": "code",
   "execution_count": 114,
   "metadata": {
    "slideshow": {
     "slide_type": "skip"
    }
   },
   "outputs": [],
   "source": [
    "from GrammarFuzzer import display_tree"
   ]
  },
  {
   "cell_type": "code",
   "execution_count": 115,
   "metadata": {
    "slideshow": {
     "slide_type": "subslide"
    }
   },
   "outputs": [
    {
     "data": {
      "image/svg+xml": [
       "<?xml version=\"1.0\" encoding=\"UTF-8\" standalone=\"no\"?>\n",
       "<!DOCTYPE svg PUBLIC \"-//W3C//DTD SVG 1.1//EN\"\n",
       " \"http://www.w3.org/Graphics/SVG/1.1/DTD/svg11.dtd\">\n",
       "<!-- Generated by graphviz version 2.40.1 (20161225.0304)\n",
       " -->\n",
       "<!-- Title: %3 Pages: 1 -->\n",
       "<svg width=\"252pt\" height=\"212pt\"\n",
       " viewBox=\"0.00 0.00 252.00 212.00\" xmlns=\"http://www.w3.org/2000/svg\" xmlns:xlink=\"http://www.w3.org/1999/xlink\">\n",
       "<g id=\"graph0\" class=\"graph\" transform=\"scale(1 1) rotate(0) translate(4 208)\">\n",
       "<title>%3</title>\n",
       "<polygon fill=\"#ffffff\" stroke=\"transparent\" points=\"-4,4 -4,-208 248,-208 248,4 -4,4\"/>\n",
       "<!-- 0 -->\n",
       "<g id=\"node1\" class=\"node\">\n",
       "<title>0</title>\n",
       "<text text-anchor=\"middle\" x=\"141.5\" y=\"-192.8\" font-family=\"Times,serif\" font-size=\"14.00\" fill=\"#000000\">&lt;start&gt;</text>\n",
       "</g>\n",
       "<!-- 1 -->\n",
       "<g id=\"node2\" class=\"node\">\n",
       "<title>1</title>\n",
       "<text text-anchor=\"middle\" x=\"141.5\" y=\"-141.8\" font-family=\"Times,serif\" font-size=\"14.00\" fill=\"#000000\">&lt;state&gt;</text>\n",
       "</g>\n",
       "<!-- 0&#45;&gt;1 -->\n",
       "<g id=\"edge1\" class=\"edge\">\n",
       "<title>0&#45;&gt;1</title>\n",
       "<path fill=\"none\" stroke=\"#000000\" d=\"M141.5,-188.9748C141.5,-182.195 141.5,-171.966 141.5,-163.1331\"/>\n",
       "<polygon fill=\"#000000\" stroke=\"#000000\" points=\"145.0001,-163.0561 141.5,-153.0561 138.0001,-163.0561 145.0001,-163.0561\"/>\n",
       "</g>\n",
       "<!-- 2 -->\n",
       "<g id=\"node3\" class=\"node\">\n",
       "<title>2</title>\n",
       "<text text-anchor=\"middle\" x=\"79.5\" y=\"-90.8\" font-family=\"Times,serif\" font-size=\"14.00\" fill=\"#000000\">click(&#39;terms and conditions&#39;)</text>\n",
       "</g>\n",
       "<!-- 1&#45;&gt;2 -->\n",
       "<g id=\"edge2\" class=\"edge\">\n",
       "<title>1&#45;&gt;2</title>\n",
       "<path fill=\"none\" stroke=\"#000000\" d=\"M132.3517,-137.9748C123.0106,-130.291 108.2838,-118.177 96.7456,-108.6859\"/>\n",
       "<polygon fill=\"#000000\" stroke=\"#000000\" points=\"98.6322,-105.7058 88.6858,-102.0561 94.1853,-111.1119 98.6322,-105.7058\"/>\n",
       "</g>\n",
       "<!-- 3 -->\n",
       "<g id=\"node4\" class=\"node\">\n",
       "<title>3</title>\n",
       "<text text-anchor=\"middle\" x=\"204.5\" y=\"-90.8\" font-family=\"Times,serif\" font-size=\"14.00\" fill=\"#000000\">&lt;state&#45;1&gt;</text>\n",
       "</g>\n",
       "<!-- 1&#45;&gt;3 -->\n",
       "<g id=\"edge3\" class=\"edge\">\n",
       "<title>1&#45;&gt;3</title>\n",
       "<path fill=\"none\" stroke=\"#000000\" d=\"M150.7959,-137.9748C160.3807,-130.2157 175.5459,-117.939 187.3201,-108.4075\"/>\n",
       "<polygon fill=\"#000000\" stroke=\"#000000\" points=\"189.5957,-111.0685 195.166,-102.0561 185.1913,-105.6278 189.5957,-111.0685\"/>\n",
       "</g>\n",
       "<!-- 4 -->\n",
       "<g id=\"node5\" class=\"node\">\n",
       "<title>4</title>\n",
       "<text text-anchor=\"middle\" x=\"204.5\" y=\"-39.8\" font-family=\"Times,serif\" font-size=\"14.00\" fill=\"#000000\">&lt;unexplored&gt;</text>\n",
       "</g>\n",
       "<!-- 3&#45;&gt;4 -->\n",
       "<g id=\"edge4\" class=\"edge\">\n",
       "<title>3&#45;&gt;4</title>\n",
       "<path fill=\"none\" stroke=\"#000000\" d=\"M204.5,-86.9748C204.5,-80.195 204.5,-69.966 204.5,-61.1331\"/>\n",
       "<polygon fill=\"#000000\" stroke=\"#000000\" points=\"208.0001,-61.0561 204.5,-51.0561 201.0001,-61.0561 208.0001,-61.0561\"/>\n",
       "</g>\n",
       "<!-- 5 -->\n",
       "<g id=\"node6\" class=\"node\">\n",
       "<title>5</title>\n",
       "</g>\n",
       "<!-- 4&#45;&gt;5 -->\n",
       "<g id=\"edge5\" class=\"edge\">\n",
       "<title>4&#45;&gt;5</title>\n",
       "<path fill=\"none\" stroke=\"#000000\" d=\"M204.5,-35.9229C204.5,-35.8742 204.5,-35.8253 204.5,-35.7763\"/>\n",
       "<polygon fill=\"#000000\" stroke=\"#000000\" points=\"208.0068,-45.6264 204.5,-35.6288 201.0068,-45.6311 208.0068,-45.6264\"/>\n",
       "</g>\n",
       "</g>\n",
       "</svg>\n"
      ],
      "text/plain": [
       "<graphviz.dot.Digraph at 0x11c05ccf8>"
      ]
     },
     "execution_count": 115,
     "metadata": {},
     "output_type": "execute_result"
    }
   ],
   "source": [
    "tree = gui_fuzzer.derivation_tree\n",
    "display_tree(tree)"
   ]
  },
  {
   "cell_type": "code",
   "execution_count": 116,
   "metadata": {
    "slideshow": {
     "slide_type": "fragment"
    }
   },
   "outputs": [],
   "source": [
    "class GUIFuzzer(GUIFuzzer):\n",
    "    def fsm_path(self, tree):\n",
    "        \"\"\"Return sequence of state symbols\"\"\"\n",
    "        (node, children) = tree\n",
    "        if node == GUIGrammarMiner.UNEXPLORED_STATE:\n",
    "            return []\n",
    "        elif children is None or len(children) == 0:\n",
    "            return [node]\n",
    "        else:\n",
    "            return [node] + self.fsm_path(children[-1])"
   ]
  },
  {
   "cell_type": "markdown",
   "metadata": {
    "slideshow": {
     "slide_type": "fragment"
    }
   },
   "source": [
    "This is the path in the finite state machine towards the \"fuzzed\" state:"
   ]
  },
  {
   "cell_type": "code",
   "execution_count": 117,
   "metadata": {
    "slideshow": {
     "slide_type": "subslide"
    }
   },
   "outputs": [
    {
     "data": {
      "text/plain": [
       "['<start>', '<state>', '<state-1>']"
      ]
     },
     "execution_count": 117,
     "metadata": {},
     "output_type": "execute_result"
    }
   ],
   "source": [
    "gui_fuzzer = GUIFuzzer(gui_driver)\n",
    "gui_fuzzer.fsm_path(tree)"
   ]
  },
  {
   "cell_type": "markdown",
   "metadata": {
    "slideshow": {
     "slide_type": "fragment"
    }
   },
   "source": [
    "This is its last element:"
   ]
  },
  {
   "cell_type": "code",
   "execution_count": 118,
   "metadata": {
    "slideshow": {
     "slide_type": "fragment"
    }
   },
   "outputs": [],
   "source": [
    "class GUIFuzzer(GUIFuzzer):\n",
    "    def fsm_last_state_symbol(self, tree):\n",
    "        \"\"\"Return current (expected) state symbol\"\"\"\n",
    "        for state in reversed(self.fsm_path(tree)):\n",
    "            if is_nonterminal(state):\n",
    "                return state\n",
    "        assert False"
   ]
  },
  {
   "cell_type": "code",
   "execution_count": 119,
   "metadata": {
    "slideshow": {
     "slide_type": "fragment"
    }
   },
   "outputs": [
    {
     "data": {
      "text/plain": [
       "'<state-1>'"
      ]
     },
     "execution_count": 119,
     "metadata": {},
     "output_type": "execute_result"
    }
   ],
   "source": [
    "gui_fuzzer = GUIFuzzer(gui_driver)\n",
    "gui_fuzzer.fsm_last_state_symbol(tree)"
   ]
  },
  {
   "cell_type": "markdown",
   "metadata": {
    "slideshow": {
     "slide_type": "subslide"
    }
   },
   "source": [
    "As we run (`run()`) the fuzzer, we create an action (via `fuzz()`) and retrieve and update the state symbol (`state_symbol`) we are supposed to be in after running this action.  After actually running the action in the given `GUIRunner`, we retrieve and update the current state, using `update_state()`."
   ]
  },
  {
   "cell_type": "code",
   "execution_count": 120,
   "metadata": {
    "slideshow": {
     "slide_type": "subslide"
    }
   },
   "outputs": [],
   "source": [
    "class GUIFuzzer(GUIFuzzer):\n",
    "    def run(self, runner):\n",
    "        assert isinstance(runner, GUIRunner)\n",
    "        \n",
    "        self.restart()\n",
    "        action = self.fuzz()\n",
    "        self.state_symbol = self.fsm_last_state_symbol(self.derivation_tree)\n",
    "\n",
    "        if self.log_gui_exploration:\n",
    "            print(\"Action\", action.strip(), \"->\", self.state_symbol)\n",
    "\n",
    "        result, outcome = runner.run(action)\n",
    "        \n",
    "        if self.state_symbol != GUIGrammarMiner.FINAL_STATE:\n",
    "            self.update_state()\n",
    "\n",
    "        return self.state_symbol, outcome"
   ]
  },
  {
   "cell_type": "markdown",
   "metadata": {
    "slideshow": {
     "slide_type": "subslide"
    }
   },
   "source": [
    "When updating the current state, we check whether we are in a new or in a previously seen state, and invoke `update_new_state()` or `update_existing_state()`, respectively."
   ]
  },
  {
   "cell_type": "code",
   "execution_count": 121,
   "metadata": {
    "slideshow": {
     "slide_type": "fragment"
    }
   },
   "outputs": [],
   "source": [
    "class GUIFuzzer(GUIFuzzer):\n",
    "    def update_state(self):\n",
    "        if self.disp_gui_exploration:\n",
    "            display(Image(self.driver.get_screenshot_as_png()))\n",
    "\n",
    "        self.state = self.miner.mine_state_actions()\n",
    "        if self.state not in self.states_seen:\n",
    "            self.states_seen[self.state] = self.state_symbol\n",
    "            self.update_new_state()\n",
    "        else:\n",
    "            self.update_existing_state()"
   ]
  },
  {
   "cell_type": "markdown",
   "metadata": {
    "slideshow": {
     "slide_type": "subslide"
    }
   },
   "source": [
    "Finding a new state means that we mine a new grammar for the newly found state, and update our existing grammar with it."
   ]
  },
  {
   "cell_type": "code",
   "execution_count": 122,
   "metadata": {
    "slideshow": {
     "slide_type": "fragment"
    }
   },
   "outputs": [],
   "source": [
    "class GUIFuzzer(GUIFuzzer):\n",
    "    def set_grammar(self, new_grammar):\n",
    "        self.grammar = new_grammar\n",
    "        \n",
    "        if self.disp_gui_exploration and rich_output():\n",
    "            display(fsm_diagram(self.grammar))"
   ]
  },
  {
   "cell_type": "code",
   "execution_count": 123,
   "metadata": {
    "slideshow": {
     "slide_type": "subslide"
    }
   },
   "outputs": [],
   "source": [
    "class GUIFuzzer(GUIFuzzer):\n",
    "    def update_new_state(self):\n",
    "        if self.log_gui_exploration:\n",
    "            print(\"In new state\", unicode_escape(self.state_symbol), unicode_escape(repr(self.state)))\n",
    "\n",
    "        state_grammar = self.miner.mine_state_grammar(grammar=self.grammar, \n",
    "                                                      state_symbol=self.state_symbol)\n",
    "        del state_grammar[START_SYMBOL]\n",
    "        del state_grammar[GUIGrammarMiner.START_STATE]\n",
    "        self.set_grammar(extend_grammar(self.grammar, state_grammar))"
   ]
  },
  {
   "cell_type": "markdown",
   "metadata": {
    "slideshow": {
     "slide_type": "subslide"
    }
   },
   "source": [
    "If we find an existing state, we need to _merge_ both states.  If, for instance, we find that we are in existing `<state-1>` rather than in the expected `<state-3>`, we replace all instances of `<state-3>` in the grammar by `<state-1>`.  The method `replace_symbol()` takes care of the renaming; `update_existing_state()` sets the grammar accordingly."
   ]
  },
  {
   "cell_type": "code",
   "execution_count": 124,
   "metadata": {
    "slideshow": {
     "slide_type": "skip"
    }
   },
   "outputs": [],
   "source": [
    "from Grammars import exp_string, exp_opts"
   ]
  },
  {
   "cell_type": "code",
   "execution_count": 125,
   "metadata": {
    "slideshow": {
     "slide_type": "subslide"
    }
   },
   "outputs": [],
   "source": [
    "def replace_symbol(grammar, old_symbol, new_symbol):\n",
    "    \"\"\"Return a grammar in which all occurrences of `old_symbol` are replaced by `new_symbol`\"\"\"\n",
    "    new_grammar = {}\n",
    "    \n",
    "    for symbol in grammar:\n",
    "        new_expansions = []\n",
    "        for expansion in grammar[symbol]:\n",
    "            new_expansion_string = exp_string(expansion).replace(old_symbol, new_symbol)\n",
    "            if len(exp_opts(expansion)) > 0:\n",
    "                new_expansion = (new_expansion_string, exp_opts(expansion))\n",
    "            else:\n",
    "                new_expansion = new_expansion_string\n",
    "            new_expansions.append(new_expansion)\n",
    "                \n",
    "        new_grammar[symbol] = new_expansions\n",
    "        \n",
    "    # Remove unused parts\n",
    "    for nonterminal in unreachable_nonterminals(new_grammar):\n",
    "        del new_grammar[nonterminal]\n",
    "\n",
    "    return new_grammar"
   ]
  },
  {
   "cell_type": "code",
   "execution_count": 126,
   "metadata": {
    "slideshow": {
     "slide_type": "subslide"
    }
   },
   "outputs": [],
   "source": [
    "class GUIFuzzer(GUIFuzzer):            \n",
    "    def update_existing_state(self):\n",
    "        if self.log_gui_exploration:\n",
    "            print(\"In existing state\", self.states_seen[self.state])\n",
    "\n",
    "        if self.state_symbol != self.states_seen[self.state]:\n",
    "            if self.log_gui_exploration:\n",
    "                print(\"Replacing expected state %s by %s\" %\n",
    "                      (self.state_symbol, self.states_seen[self.state]))\n",
    "            \n",
    "            new_grammar = replace_symbol(self.grammar, self.state_symbol, \n",
    "                                         self.states_seen[self.state])\n",
    "            self.state_symbol = self.states_seen[self.state]\n",
    "            self.set_grammar(new_grammar)"
   ]
  },
  {
   "cell_type": "markdown",
   "metadata": {
    "slideshow": {
     "slide_type": "subslide"
    }
   },
   "source": [
    "This concludes our definitions for `GUIFuzzer`.  We can now put it to use, enabling its logging mechanisms to see what it is doing."
   ]
  },
  {
   "cell_type": "code",
   "execution_count": 127,
   "metadata": {
    "slideshow": {
     "slide_type": "fragment"
    }
   },
   "outputs": [],
   "source": [
    "gui_driver.get(httpd_url)"
   ]
  },
  {
   "cell_type": "code",
   "execution_count": 128,
   "metadata": {
    "slideshow": {
     "slide_type": "fragment"
    }
   },
   "outputs": [],
   "source": [
    "gui_fuzzer = GUIFuzzer(gui_driver, log_gui_exploration=True, disp_gui_exploration=True)"
   ]
  },
  {
   "cell_type": "markdown",
   "metadata": {
    "slideshow": {
     "slide_type": "fragment"
    }
   },
   "source": [
    "Running it the first time yields a new state:"
   ]
  },
  {
   "cell_type": "code",
   "execution_count": 129,
   "metadata": {
    "slideshow": {
     "slide_type": "fragment"
    }
   },
   "outputs": [
    {
     "name": "stdout",
     "output_type": "stream",
     "text": [
      "Action  -> <end>\n"
     ]
    },
    {
     "data": {
      "text/plain": [
       "('<end>', 'PASS')"
      ]
     },
     "execution_count": 129,
     "metadata": {},
     "output_type": "execute_result"
    }
   ],
   "source": [
    "gui_fuzzer.run(gui_runner)"
   ]
  },
  {
   "cell_type": "markdown",
   "metadata": {
    "slideshow": {
     "slide_type": "fragment"
    }
   },
   "source": [
    "The next actions fill out the order form."
   ]
  },
  {
   "cell_type": "code",
   "execution_count": 130,
   "metadata": {
    "slideshow": {
     "slide_type": "fragment"
    }
   },
   "outputs": [
    {
     "name": "stdout",
     "output_type": "stream",
     "text": [
      "Action  -> <end>\n"
     ]
    },
    {
     "data": {
      "text/plain": [
       "('<end>', 'PASS')"
      ]
     },
     "execution_count": 130,
     "metadata": {},
     "output_type": "execute_result"
    }
   ],
   "source": [
    "gui_fuzzer.run(gui_runner)"
   ]
  },
  {
   "cell_type": "code",
   "execution_count": 131,
   "metadata": {
    "slideshow": {
     "slide_type": "subslide"
    }
   },
   "outputs": [
    {
     "name": "stdout",
     "output_type": "stream",
     "text": [
      "Action fill('email', 'w@t')\n",
      "check('terms', True)\n",
      "fill('city', ' ')\n",
      "fill('name', 'F')\n",
      "fill('zip', '9')\n",
      "submit('submit') -> <state-2>\n"
     ]
    },
    {
     "data": {
      "image/png": "[encoded data removed]",
      "text/plain": [
       "<IPython.core.display.Image object>"
      ]
     },
     "metadata": {},
     "output_type": "display_data"
    },
    {
     "name": "stdout",
     "output_type": "stream",
     "text": [
      "In new state <state-2> frozenset({\"click('order form')\"})\n"
     ]
    },
    {
     "data": {
      "image/svg+xml": [
       "<?xml version=\"1.0\" encoding=\"UTF-8\" standalone=\"no\"?>\n",
       "<!DOCTYPE svg PUBLIC \"-//W3C//DTD SVG 1.1//EN\"\n",
       " \"http://www.w3.org/Graphics/SVG/1.1/DTD/svg11.dtd\">\n",
       "<!-- Generated by graphviz version 2.40.1 (20161225.0304)\n",
       " -->\n",
       "<!-- Title: %3 Pages: 1 -->\n",
       "<svg width=\"402pt\" height=\"460pt\"\n",
       " viewBox=\"0.00 0.00 401.89 460.00\" xmlns=\"http://www.w3.org/2000/svg\" xmlns:xlink=\"http://www.w3.org/1999/xlink\">\n",
       "<g id=\"graph0\" class=\"graph\" transform=\"scale(1 1) rotate(0) translate(4 456)\">\n",
       "<title>%3</title>\n",
       "<polygon fill=\"#ffffff\" stroke=\"transparent\" points=\"-4,4 -4,-456 397.8873,-456 397.8873,4 -4,4\"/>\n",
       "<!-- start -->\n",
       "<g id=\"node1\" class=\"node\">\n",
       "<title>start</title>\n",
       "<ellipse fill=\"none\" stroke=\"#000000\" cx=\"220.496\" cy=\"-434\" rx=\"36.2938\" ry=\"18\"/>\n",
       "<text text-anchor=\"middle\" x=\"220.496\" y=\"-430.3\" font-family=\"Times,serif\" font-size=\"14.00\" fill=\"#000000\">&lt;start&gt;</text>\n",
       "</g>\n",
       "<!-- state -->\n",
       "<g id=\"node2\" class=\"node\">\n",
       "<title>state</title>\n",
       "<ellipse fill=\"none\" stroke=\"#000000\" cx=\"220.496\" cy=\"-361\" rx=\"37.8943\" ry=\"18\"/>\n",
       "<text text-anchor=\"middle\" x=\"220.496\" y=\"-357.3\" font-family=\"Times,serif\" font-size=\"14.00\" fill=\"#000000\">&lt;state&gt;</text>\n",
       "</g>\n",
       "<!-- start&#45;&gt;state -->\n",
       "<g id=\"edge1\" class=\"edge\">\n",
       "<title>start&#45;&gt;state</title>\n",
       "<path fill=\"none\" stroke=\"#000000\" d=\"M220.496,-415.9551C220.496,-407.8828 220.496,-398.1764 220.496,-389.1817\"/>\n",
       "<polygon fill=\"#000000\" stroke=\"#000000\" points=\"223.9961,-389.0903 220.496,-379.0904 216.9961,-389.0904 223.9961,-389.0903\"/>\n",
       "</g>\n",
       "<!-- state&#45;1 -->\n",
       "<g id=\"node3\" class=\"node\">\n",
       "<title>state&#45;1</title>\n",
       "<ellipse fill=\"none\" stroke=\"#000000\" cx=\"45.496\" cy=\"-145\" rx=\"45.4919\" ry=\"18\"/>\n",
       "<text text-anchor=\"middle\" x=\"45.496\" y=\"-141.3\" font-family=\"Times,serif\" font-size=\"14.00\" fill=\"#000000\">&lt;state&#45;1&gt;</text>\n",
       "</g>\n",
       "<!-- state&#45;&gt;state&#45;1 -->\n",
       "<g id=\"edge2\" class=\"edge\">\n",
       "<title>state&#45;&gt;state&#45;1</title>\n",
       "<path fill=\"none\" stroke=\"#000000\" d=\"M183.1059,-357.8661C140.1638,-353.4266 73.5529,-343.6811 57.496,-325 21.1079,-282.6649 29.5735,-212.0225 38.0734,-173.0142\"/>\n",
       "<polygon fill=\"#000000\" stroke=\"#000000\" points=\"41.5693,-173.4344 40.4344,-162.9005 34.7526,-171.843 41.5693,-173.4344\"/>\n",
       "<text text-anchor=\"start\" x=\"57.496\" y=\"-276.3\" font-family=\"Times,serif\" font-size=\"14.00\" fill=\"#000000\">click(&#39;terms and conditions&#39;)</text>\n",
       "</g>\n",
       "<!-- state&#45;2 -->\n",
       "<g id=\"node4\" class=\"node\">\n",
       "<title>state&#45;2</title>\n",
       "<ellipse fill=\"none\" stroke=\"#000000\" cx=\"220.496\" cy=\"-199\" rx=\"45.4919\" ry=\"18\"/>\n",
       "<text text-anchor=\"middle\" x=\"220.496\" y=\"-195.3\" font-family=\"Times,serif\" font-size=\"14.00\" fill=\"#000000\">&lt;state&#45;2&gt;</text>\n",
       "</g>\n",
       "<!-- state&#45;&gt;state&#45;2 -->\n",
       "<g id=\"edge3\" class=\"edge\">\n",
       "<title>state&#45;&gt;state&#45;2</title>\n",
       "<path fill=\"none\" stroke=\"#000000\" d=\"M220.496,-342.7314C220.496,-314.778 220.496,-261.1418 220.496,-227.882\"/>\n",
       "<polygon fill=\"#000000\" stroke=\"#000000\" points=\"223.9961,-227.4503 220.496,-217.4503 216.9961,-227.4504 223.9961,-227.4503\"/>\n",
       "<text text-anchor=\"start\" x=\"220.496\" y=\"-313.8\" font-family=\"Times,serif\" font-size=\"14.00\" fill=\"#000000\">fill(&#39;email&#39;, &#39;&lt;email&gt;&#39;)</text>\n",
       "<text text-anchor=\"start\" x=\"220.496\" y=\"-298.8\" font-family=\"Times,serif\" font-size=\"14.00\" fill=\"#000000\">check(&#39;terms&#39;, &lt;boolean&gt;)</text>\n",
       "<text text-anchor=\"start\" x=\"220.496\" y=\"-283.8\" font-family=\"Times,serif\" font-size=\"14.00\" fill=\"#000000\">fill(&#39;city&#39;, &#39;&lt;text&gt;&#39;)</text>\n",
       "<text text-anchor=\"start\" x=\"220.496\" y=\"-268.8\" font-family=\"Times,serif\" font-size=\"14.00\" fill=\"#000000\">fill(&#39;name&#39;, &#39;&lt;text&gt;&#39;)</text>\n",
       "<text text-anchor=\"start\" x=\"220.496\" y=\"-253.8\" font-family=\"Times,serif\" font-size=\"14.00\" fill=\"#000000\">fill(&#39;zip&#39;, &#39;&lt;number&gt;&#39;)</text>\n",
       "<text text-anchor=\"start\" x=\"220.496\" y=\"-238.8\" font-family=\"Times,serif\" font-size=\"14.00\" fill=\"#000000\">submit(&#39;submit&#39;)</text>\n",
       "</g>\n",
       "<!-- end -->\n",
       "<g id=\"node5\" class=\"node\">\n",
       "<title>end</title>\n",
       "<ellipse fill=\"none\" stroke=\"#000000\" cx=\"357.496\" cy=\"-91\" rx=\"34.394\" ry=\"18\"/>\n",
       "<text text-anchor=\"middle\" x=\"357.496\" y=\"-87.3\" font-family=\"Times,serif\" font-size=\"14.00\" fill=\"#000000\">&lt;end&gt;</text>\n",
       "</g>\n",
       "<!-- state&#45;&gt;end -->\n",
       "<g id=\"edge4\" class=\"edge\">\n",
       "<title>state&#45;&gt;end</title>\n",
       "<path fill=\"none\" stroke=\"#000000\" d=\"M257.5882,-357.097C296.5689,-352.14 354.0742,-342.1054 367.496,-325 414.9676,-264.4999 386.8411,-165.6801 368.9059,-118.178\"/>\n",
       "<polygon fill=\"#000000\" stroke=\"#000000\" points=\"372.0569,-116.6254 365.1564,-108.5859 365.5373,-119.1739 372.0569,-116.6254\"/>\n",
       "</g>\n",
       "<!-- unexplored -->\n",
       "<g id=\"node6\" class=\"node\">\n",
       "<title>unexplored</title>\n",
       "<ellipse fill=\"none\" stroke=\"#000000\" cx=\"111.496\" cy=\"-18\" rx=\"61.99\" ry=\"18\"/>\n",
       "<text text-anchor=\"middle\" x=\"111.496\" y=\"-14.3\" font-family=\"Times,serif\" font-size=\"14.00\" fill=\"#000000\">&lt;unexplored&gt;</text>\n",
       "</g>\n",
       "<!-- state&#45;1&#45;&gt;unexplored -->\n",
       "<g id=\"edge5\" class=\"edge\">\n",
       "<title>state&#45;1&#45;&gt;unexplored</title>\n",
       "<path fill=\"none\" stroke=\"#000000\" d=\"M54.673,-127.3412C65.7912,-105.947 84.6348,-69.6875 97.5521,-44.8314\"/>\n",
       "<polygon fill=\"#000000\" stroke=\"#000000\" points=\"100.6784,-46.4056 102.1841,-35.9182 94.4671,-43.1776 100.6784,-46.4056\"/>\n",
       "</g>\n",
       "<!-- state&#45;2&#45;&gt;end -->\n",
       "<g id=\"edge7\" class=\"edge\">\n",
       "<title>state&#45;2&#45;&gt;end</title>\n",
       "<path fill=\"none\" stroke=\"#000000\" d=\"M260.6454,-190.3366C278.9107,-184.85 299.8803,-176.2191 315.496,-163 329.6303,-151.0349 340.1286,-133.0408 347.0942,-118.035\"/>\n",
       "<polygon fill=\"#000000\" stroke=\"#000000\" points=\"350.3763,-119.2645 351.1642,-108.699 343.9595,-116.4671 350.3763,-119.2645\"/>\n",
       "</g>\n",
       "<!-- state&#45;3 -->\n",
       "<g id=\"node7\" class=\"node\">\n",
       "<title>state&#45;3</title>\n",
       "<ellipse fill=\"none\" stroke=\"#000000\" cx=\"186.496\" cy=\"-91\" rx=\"45.4919\" ry=\"18\"/>\n",
       "<text text-anchor=\"middle\" x=\"186.496\" y=\"-87.3\" font-family=\"Times,serif\" font-size=\"14.00\" fill=\"#000000\">&lt;state&#45;3&gt;</text>\n",
       "</g>\n",
       "<!-- state&#45;2&#45;&gt;state&#45;3 -->\n",
       "<g id=\"edge6\" class=\"edge\">\n",
       "<title>state&#45;2&#45;&gt;state&#45;3</title>\n",
       "<path fill=\"none\" stroke=\"#000000\" d=\"M214.7283,-180.6793C209.3719,-163.6649 201.3227,-138.0967 195.1877,-118.6091\"/>\n",
       "<polygon fill=\"#000000\" stroke=\"#000000\" points=\"198.5198,-117.5376 192.1784,-109.0502 191.8429,-119.6397 198.5198,-117.5376\"/>\n",
       "<text text-anchor=\"start\" x=\"209.496\" y=\"-141.3\" font-family=\"Times,serif\" font-size=\"14.00\" fill=\"#000000\">click(&#39;order form&#39;)</text>\n",
       "</g>\n",
       "<!-- state&#45;3&#45;&gt;unexplored -->\n",
       "<g id=\"edge8\" class=\"edge\">\n",
       "<title>state&#45;3&#45;&gt;unexplored</title>\n",
       "<path fill=\"none\" stroke=\"#000000\" d=\"M169.1009,-74.0688C159.4903,-64.7145 147.3783,-52.9255 136.7434,-42.5742\"/>\n",
       "<polygon fill=\"#000000\" stroke=\"#000000\" points=\"138.9247,-39.8131 129.3175,-35.3463 134.0422,-44.8293 138.9247,-39.8131\"/>\n",
       "</g>\n",
       "</g>\n",
       "</svg>\n"
      ],
      "text/plain": [
       "<graphviz.dot.Digraph at 0x11c0f9e80>"
      ]
     },
     "metadata": {},
     "output_type": "display_data"
    },
    {
     "data": {
      "text/plain": [
       "None"
      ]
     },
     "metadata": {},
     "output_type": "display_data"
    },
    {
     "data": {
      "text/plain": [
       "('<state-2>', 'PASS')"
      ]
     },
     "execution_count": 131,
     "metadata": {},
     "output_type": "execute_result"
    }
   ],
   "source": [
    "gui_fuzzer.run(gui_runner)"
   ]
  },
  {
   "cell_type": "markdown",
   "metadata": {
    "slideshow": {
     "slide_type": "subslide"
    }
   },
   "source": [
    "At this point, our GUI model is fairly complete already.  In order to systematically cover _all_ states, random exploration is not efficient enough, though."
   ]
  },
  {
   "cell_type": "markdown",
   "metadata": {
    "slideshow": {
     "slide_type": "slide"
    }
   },
   "source": [
    "## Covering States\n",
    "\n",
    "During exploration as well as during testing, we want to _cover_ all states and transitions between states.  How can we achieve this?"
   ]
  },
  {
   "cell_type": "markdown",
   "metadata": {
    "slideshow": {
     "slide_type": "fragment"
    }
   },
   "source": [
    "It turns out that _we already have this._  Our `GrammarCoverageFuzzer` from the [chapter on coverage-based grammar testing](GrammarCoverageFuzzer.ipynb) strives to systematically _cover all expansion alternatives_ in a grammar.  In the finite state model, these expansion alternatives translate into transitions between states.  Hence, applying the coverage strategy from `GrammarCoverageFuzzer` to our state grammars would automatically cover one transition after another."
   ]
  },
  {
   "cell_type": "markdown",
   "metadata": {
    "slideshow": {
     "slide_type": "subslide"
    }
   },
   "source": [
    "How do we get these features into `GUIFuzzer`?  Using _multiple inheritance_, we can create a class `GUICoverageFuzzer` which combines the `run()` method from `GUIFuzzer` with the coverage choices from `GrammarCoverageFuzzer`."
   ]
  },
  {
   "cell_type": "code",
   "execution_count": 132,
   "metadata": {
    "slideshow": {
     "slide_type": "skip"
    }
   },
   "outputs": [],
   "source": [
    "from GrammarCoverageFuzzer import GrammarCoverageFuzzer"
   ]
  },
  {
   "cell_type": "code",
   "execution_count": 133,
   "metadata": {
    "slideshow": {
     "slide_type": "skip"
    }
   },
   "outputs": [],
   "source": [
    "from fuzzingbook_utils import inheritance_conflicts"
   ]
  },
  {
   "cell_type": "markdown",
   "metadata": {
    "slideshow": {
     "slide_type": "fragment"
    }
   },
   "source": [
    "Since the `__init__()` constructor is defined in both superclasses, we need to define our own constructor that serves both:"
   ]
  },
  {
   "cell_type": "code",
   "execution_count": 134,
   "metadata": {
    "slideshow": {
     "slide_type": "fragment"
    }
   },
   "outputs": [
    {
     "data": {
      "text/plain": [
       "['__init__']"
      ]
     },
     "execution_count": 134,
     "metadata": {},
     "output_type": "execute_result"
    }
   ],
   "source": [
    "inheritance_conflicts(GUIFuzzer, GrammarCoverageFuzzer)"
   ]
  },
  {
   "cell_type": "code",
   "execution_count": 135,
   "metadata": {
    "slideshow": {
     "slide_type": "fragment"
    }
   },
   "outputs": [],
   "source": [
    "class GUICoverageFuzzer(GUIFuzzer, GrammarCoverageFuzzer):\n",
    "    def __init__(self, *args, **kwargs):\n",
    "        GUIFuzzer.__init__(self, *args, **kwargs)\n",
    "        self.reset_coverage()"
   ]
  },
  {
   "cell_type": "markdown",
   "metadata": {
    "slideshow": {
     "slide_type": "fragment"
    }
   },
   "source": [
    "With `GUICoverageFuzzer`, we can set up a method `explore_all()` that keeps on running the fuzzer until there are no unexplored states anymore:"
   ]
  },
  {
   "cell_type": "code",
   "execution_count": 136,
   "metadata": {
    "slideshow": {
     "slide_type": "subslide"
    }
   },
   "outputs": [],
   "source": [
    "class GUICoverageFuzzer(GUICoverageFuzzer):            \n",
    "    def explore_all(self, runner, max_actions=100):\n",
    "        actions = 0\n",
    "        while GUIGrammarMiner.UNEXPLORED_STATE in self.grammar and actions < max_actions:\n",
    "            actions += 1\n",
    "            if self.log_gui_exploration:\n",
    "                print(\"Run #\" + repr(actions))\n",
    "            try:\n",
    "                self.run(runner)\n",
    "            except ElementClickInterceptedException:\n",
    "                pass\n",
    "            except ElementNotInteractableException:\n",
    "                pass\n",
    "            except NoSuchElementException:\n",
    "                pass"
   ]
  },
  {
   "cell_type": "markdown",
   "metadata": {
    "slideshow": {
     "slide_type": "subslide"
    }
   },
   "source": [
    "Let us use this to fully explore our Web server:"
   ]
  },
  {
   "cell_type": "code",
   "execution_count": 137,
   "metadata": {
    "slideshow": {
     "slide_type": "fragment"
    }
   },
   "outputs": [],
   "source": [
    "gui_driver.get(httpd_url)"
   ]
  },
  {
   "cell_type": "code",
   "execution_count": 138,
   "metadata": {
    "slideshow": {
     "slide_type": "fragment"
    }
   },
   "outputs": [],
   "source": [
    "gui_fuzzer = GUICoverageFuzzer(gui_driver)"
   ]
  },
  {
   "cell_type": "code",
   "execution_count": 139,
   "metadata": {
    "slideshow": {
     "slide_type": "fragment"
    }
   },
   "outputs": [],
   "source": [
    "gui_fuzzer.explore_all(gui_runner)"
   ]
  },
  {
   "cell_type": "markdown",
   "metadata": {
    "slideshow": {
     "slide_type": "fragment"
    }
   },
   "source": [
    "Success! We have covered all states:"
   ]
  },
  {
   "cell_type": "code",
   "execution_count": 140,
   "metadata": {
    "slideshow": {
     "slide_type": "fragment"
    }
   },
   "outputs": [
    {
     "data": {
      "image/svg+xml": [
       "<?xml version=\"1.0\" encoding=\"UTF-8\" standalone=\"no\"?>\n",
       "<!DOCTYPE svg PUBLIC \"-//W3C//DTD SVG 1.1//EN\"\n",
       " \"http://www.w3.org/Graphics/SVG/1.1/DTD/svg11.dtd\">\n",
       "<!-- Generated by graphviz version 2.40.1 (20161225.0304)\n",
       " -->\n",
       "<!-- Title: %3 Pages: 1 -->\n",
       "<svg width=\"620pt\" height=\"352pt\"\n",
       " viewBox=\"0.00 0.00 620.29 352.00\" xmlns=\"http://www.w3.org/2000/svg\" xmlns:xlink=\"http://www.w3.org/1999/xlink\">\n",
       "<g id=\"graph0\" class=\"graph\" transform=\"scale(1 1) rotate(0) translate(4 348)\">\n",
       "<title>%3</title>\n",
       "<polygon fill=\"#ffffff\" stroke=\"transparent\" points=\"-4,4 -4,-348 616.2856,-348 616.2856,4 -4,4\"/>\n",
       "<!-- start -->\n",
       "<g id=\"node1\" class=\"node\">\n",
       "<title>start</title>\n",
       "<ellipse fill=\"none\" stroke=\"#000000\" cx=\"325.559\" cy=\"-326\" rx=\"36.2938\" ry=\"18\"/>\n",
       "<text text-anchor=\"middle\" x=\"325.559\" y=\"-322.3\" font-family=\"Times,serif\" font-size=\"14.00\" fill=\"#000000\">&lt;start&gt;</text>\n",
       "</g>\n",
       "<!-- state -->\n",
       "<g id=\"node2\" class=\"node\">\n",
       "<title>state</title>\n",
       "<ellipse fill=\"none\" stroke=\"#000000\" cx=\"325.559\" cy=\"-253\" rx=\"37.8943\" ry=\"18\"/>\n",
       "<text text-anchor=\"middle\" x=\"325.559\" y=\"-249.3\" font-family=\"Times,serif\" font-size=\"14.00\" fill=\"#000000\">&lt;state&gt;</text>\n",
       "</g>\n",
       "<!-- start&#45;&gt;state -->\n",
       "<g id=\"edge1\" class=\"edge\">\n",
       "<title>start&#45;&gt;state</title>\n",
       "<path fill=\"none\" stroke=\"#000000\" d=\"M325.559,-307.9551C325.559,-299.8828 325.559,-290.1764 325.559,-281.1817\"/>\n",
       "<polygon fill=\"#000000\" stroke=\"#000000\" points=\"329.0591,-281.0903 325.559,-271.0904 322.0591,-281.0904 329.0591,-281.0903\"/>\n",
       "</g>\n",
       "<!-- state&#45;1 -->\n",
       "<g id=\"node3\" class=\"node\">\n",
       "<title>state&#45;1</title>\n",
       "<ellipse fill=\"none\" stroke=\"#000000\" cx=\"200.559\" cy=\"-91\" rx=\"45.4919\" ry=\"18\"/>\n",
       "<text text-anchor=\"middle\" x=\"200.559\" y=\"-87.3\" font-family=\"Times,serif\" font-size=\"14.00\" fill=\"#000000\">&lt;state&#45;1&gt;</text>\n",
       "</g>\n",
       "<!-- state&#45;&gt;state&#45;1 -->\n",
       "<g id=\"edge2\" class=\"edge\">\n",
       "<title>state&#45;&gt;state&#45;1</title>\n",
       "<path fill=\"none\" stroke=\"#000000\" d=\"M287.9696,-251.326C210.145,-247.4741 37.132,-236.7616 19.559,-217 -7.0216,-187.109 -5.817,-157.9202 19.559,-127 35.276,-107.8491 98.0593,-98.6985 145.3065,-94.4548\"/>\n",
       "<polygon fill=\"#000000\" stroke=\"#000000\" points=\"145.7619,-97.9289 155.4311,-93.5979 145.1715,-90.9538 145.7619,-97.9289\"/>\n",
       "<text text-anchor=\"start\" x=\"19.559\" y=\"-168.3\" font-family=\"Times,serif\" font-size=\"14.00\" fill=\"#000000\">click(&#39;terms and conditions&#39;)</text>\n",
       "</g>\n",
       "<!-- state&#45;2 -->\n",
       "<g id=\"node4\" class=\"node\">\n",
       "<title>state&#45;2</title>\n",
       "<ellipse fill=\"none\" stroke=\"#000000\" cx=\"409.559\" cy=\"-91\" rx=\"45.4919\" ry=\"18\"/>\n",
       "<text text-anchor=\"middle\" x=\"409.559\" y=\"-87.3\" font-family=\"Times,serif\" font-size=\"14.00\" fill=\"#000000\">&lt;state&#45;2&gt;</text>\n",
       "</g>\n",
       "<!-- state&#45;&gt;state&#45;2 -->\n",
       "<g id=\"edge3\" class=\"edge\">\n",
       "<title>state&#45;&gt;state&#45;2</title>\n",
       "<path fill=\"none\" stroke=\"#000000\" d=\"M320.0242,-234.9601C313.1594,-208.7877 304.8239,-159.834 326.559,-127 334.0896,-115.6239 346.0651,-107.8231 358.6022,-102.4812\"/>\n",
       "<polygon fill=\"#000000\" stroke=\"#000000\" points=\"360.1077,-105.6543 368.2346,-98.8569 357.6426,-99.1027 360.1077,-105.6543\"/>\n",
       "<text text-anchor=\"start\" x=\"326.559\" y=\"-205.8\" font-family=\"Times,serif\" font-size=\"14.00\" fill=\"#000000\">fill(&#39;email&#39;, &#39;&lt;email&gt;&#39;)</text>\n",
       "<text text-anchor=\"start\" x=\"326.559\" y=\"-190.8\" font-family=\"Times,serif\" font-size=\"14.00\" fill=\"#000000\">check(&#39;terms&#39;, &lt;boolean&gt;)</text>\n",
       "<text text-anchor=\"start\" x=\"326.559\" y=\"-175.8\" font-family=\"Times,serif\" font-size=\"14.00\" fill=\"#000000\">fill(&#39;city&#39;, &#39;&lt;text&gt;&#39;)</text>\n",
       "<text text-anchor=\"start\" x=\"326.559\" y=\"-160.8\" font-family=\"Times,serif\" font-size=\"14.00\" fill=\"#000000\">fill(&#39;name&#39;, &#39;&lt;text&gt;&#39;)</text>\n",
       "<text text-anchor=\"start\" x=\"326.559\" y=\"-145.8\" font-family=\"Times,serif\" font-size=\"14.00\" fill=\"#000000\">fill(&#39;zip&#39;, &#39;&lt;number&gt;&#39;)</text>\n",
       "<text text-anchor=\"start\" x=\"326.559\" y=\"-130.8\" font-family=\"Times,serif\" font-size=\"14.00\" fill=\"#000000\">submit(&#39;submit&#39;)</text>\n",
       "</g>\n",
       "<!-- end -->\n",
       "<g id=\"node5\" class=\"node\">\n",
       "<title>end</title>\n",
       "<ellipse fill=\"none\" stroke=\"#000000\" cx=\"409.559\" cy=\"-18\" rx=\"34.394\" ry=\"18\"/>\n",
       "<text text-anchor=\"middle\" x=\"409.559\" y=\"-14.3\" font-family=\"Times,serif\" font-size=\"14.00\" fill=\"#000000\">&lt;end&gt;</text>\n",
       "</g>\n",
       "<!-- state&#45;&gt;end -->\n",
       "<g id=\"edge4\" class=\"edge\">\n",
       "<title>state&#45;&gt;end</title>\n",
       "<path fill=\"none\" stroke=\"#000000\" d=\"M363.147,-250.6776C433.5438,-245.9431 579.5487,-234.1529 594.559,-217 620.9007,-186.8982 614.4058,-161.729 594.559,-127 563.7784,-73.1385 494.8403,-43.2426 450.3606,-28.9147\"/>\n",
       "<polygon fill=\"#000000\" stroke=\"#000000\" points=\"451.3032,-25.5427 440.7153,-25.9273 449.2321,-32.2293 451.3032,-25.5427\"/>\n",
       "</g>\n",
       "<!-- state&#45;1&#45;&gt;state -->\n",
       "<g id=\"edge5\" class=\"edge\">\n",
       "<title>state&#45;1&#45;&gt;state</title>\n",
       "<path fill=\"none\" stroke=\"#000000\" d=\"M195.3433,-109.0438C188.8335,-135.6645 181.2799,-185.6845 205.559,-217 214.9283,-229.0847 250.2054,-238.7545 280.1047,-245.0166\"/>\n",
       "<polygon fill=\"#000000\" stroke=\"#000000\" points=\"279.4988,-248.4648 289.9931,-247.0082 280.881,-241.6026 279.4988,-248.4648\"/>\n",
       "<text text-anchor=\"start\" x=\"205.559\" y=\"-168.3\" font-family=\"Times,serif\" font-size=\"14.00\" fill=\"#000000\">click(&#39;order form&#39;)</text>\n",
       "</g>\n",
       "<!-- state&#45;1&#45;&gt;end -->\n",
       "<g id=\"edge6\" class=\"edge\">\n",
       "<title>state&#45;1&#45;&gt;end</title>\n",
       "<path fill=\"none\" stroke=\"#000000\" d=\"M235.0711,-78.9455C272.4281,-65.8974 331.8696,-45.1355 370.805,-31.5361\"/>\n",
       "<polygon fill=\"#000000\" stroke=\"#000000\" points=\"372.4347,-34.6743 380.7213,-28.0725 370.1265,-28.0658 372.4347,-34.6743\"/>\n",
       "</g>\n",
       "<!-- state&#45;2&#45;&gt;state -->\n",
       "<g id=\"edge7\" class=\"edge\">\n",
       "<title>state&#45;2&#45;&gt;state</title>\n",
       "<path fill=\"none\" stroke=\"#000000\" d=\"M444.5179,-102.8416C455.4594,-108.3858 466.2993,-116.2134 472.559,-127 492.6361,-161.5964 497.2512,-185.531 472.559,-217 460.2382,-232.7022 410.7697,-242.4461 372.5835,-247.7735\"/>\n",
       "<polygon fill=\"#000000\" stroke=\"#000000\" points=\"372.1013,-244.3067 362.6512,-249.097 373.0259,-251.2454 372.1013,-244.3067\"/>\n",
       "<text text-anchor=\"start\" x=\"488.559\" y=\"-168.3\" font-family=\"Times,serif\" font-size=\"14.00\" fill=\"#000000\">click(&#39;order form&#39;)</text>\n",
       "</g>\n",
       "<!-- state&#45;2&#45;&gt;end -->\n",
       "<g id=\"edge8\" class=\"edge\">\n",
       "<title>state&#45;2&#45;&gt;end</title>\n",
       "<path fill=\"none\" stroke=\"#000000\" d=\"M409.559,-72.9551C409.559,-64.8828 409.559,-55.1764 409.559,-46.1817\"/>\n",
       "<polygon fill=\"#000000\" stroke=\"#000000\" points=\"413.0591,-46.0903 409.559,-36.0904 406.0591,-46.0904 413.0591,-46.0903\"/>\n",
       "</g>\n",
       "</g>\n",
       "</svg>\n"
      ],
      "text/plain": [
       "<graphviz.dot.Digraph at 0x11c05ceb8>"
      ]
     },
     "metadata": {},
     "output_type": "display_data"
    }
   ],
   "source": [
    "fsm_diagram(gui_fuzzer.grammar)"
   ]
  },
  {
   "cell_type": "markdown",
   "metadata": {
    "slideshow": {
     "slide_type": "fragment"
    }
   },
   "source": [
    "We can retrieve the expansions covered so far, which of course cover all states."
   ]
  },
  {
   "cell_type": "code",
   "execution_count": 141,
   "metadata": {
    "slideshow": {
     "slide_type": "subslide"
    }
   },
   "outputs": [
    {
     "data": {
      "text/plain": [
       "{'<boolean> -> False',\n",
       " '<boolean> -> True',\n",
       " '<character> -> <digit>',\n",
       " '<character> -> <letter>',\n",
       " '<character> -> <special>',\n",
       " '<digit> -> 1',\n",
       " '<digit> -> 4',\n",
       " '<digit> -> 5',\n",
       " '<digit> -> 6',\n",
       " '<digit> -> 7',\n",
       " '<digit> -> 8',\n",
       " '<digits> -> <digit>',\n",
       " '<digits> -> <digits><digit>',\n",
       " '<email> -> <letters>@<letters>',\n",
       " '<end> -> ',\n",
       " '<letter> -> F',\n",
       " '<letter> -> G',\n",
       " '<letter> -> J',\n",
       " '<letter> -> K',\n",
       " '<letter> -> N',\n",
       " '<letter> -> O',\n",
       " '<letter> -> S',\n",
       " '<letter> -> T',\n",
       " '<letter> -> Y',\n",
       " '<letter> -> e',\n",
       " '<letter> -> g',\n",
       " '<letter> -> h',\n",
       " '<letter> -> i',\n",
       " '<letter> -> m',\n",
       " '<letter> -> o',\n",
       " '<letter> -> p',\n",
       " '<letter> -> s',\n",
       " '<letter> -> t',\n",
       " '<letter> -> u',\n",
       " '<letter> -> v',\n",
       " '<letter> -> x',\n",
       " '<letters> -> <letter>',\n",
       " '<letters> -> <letters><letter>',\n",
       " '<number> -> <digits>',\n",
       " '<special> ->  ',\n",
       " '<start> -> <state>',\n",
       " '<state-1> -> <end>',\n",
       " '<state-1> -> <unexplored>',\n",
       " \"<state-1> -> click('order form')\\n<state-4>\",\n",
       " '<state-2> -> <end>',\n",
       " '<state-2> -> <unexplored>',\n",
       " \"<state-2> -> click('order form')\\n<state-3>\",\n",
       " \"<state-2> -> click('order form')\\n<state>\",\n",
       " '<state-3> -> <unexplored>',\n",
       " '<state-4> -> <unexplored>',\n",
       " '<state> -> <end>',\n",
       " \"<state> -> click('terms and conditions')\\n<state-1>\",\n",
       " \"<state> -> fill('email', '<email>')\\ncheck('terms', <boolean>)\\nfill('city', '<text>')\\nfill('name', '<text>')\\nfill('zip', '<number>')\\nsubmit('submit')\\n<state-2>\",\n",
       " '<string> -> <character>',\n",
       " '<string> -> <string><character>',\n",
       " '<text> -> <string>',\n",
       " '<unexplored> -> '}"
      ]
     },
     "execution_count": 141,
     "metadata": {},
     "output_type": "execute_result"
    }
   ],
   "source": [
    "gui_fuzzer.covered_expansions"
   ]
  },
  {
   "cell_type": "markdown",
   "metadata": {
    "slideshow": {
     "slide_type": "subslide"
    }
   },
   "source": [
    "Still, we haven't seen all expansions covered.  A few digits and letters remain to be used."
   ]
  },
  {
   "cell_type": "code",
   "execution_count": 142,
   "metadata": {
    "slideshow": {
     "slide_type": "subslide"
    }
   },
   "outputs": [
    {
     "data": {
      "text/plain": [
       "{'<digit> -> 0',\n",
       " '<digit> -> 2',\n",
       " '<digit> -> 3',\n",
       " '<digit> -> 9',\n",
       " '<letter> -> A',\n",
       " '<letter> -> B',\n",
       " '<letter> -> C',\n",
       " '<letter> -> D',\n",
       " '<letter> -> E',\n",
       " '<letter> -> H',\n",
       " '<letter> -> I',\n",
       " '<letter> -> L',\n",
       " '<letter> -> M',\n",
       " '<letter> -> P',\n",
       " '<letter> -> Q',\n",
       " '<letter> -> R',\n",
       " '<letter> -> U',\n",
       " '<letter> -> V',\n",
       " '<letter> -> W',\n",
       " '<letter> -> X',\n",
       " '<letter> -> Z',\n",
       " '<letter> -> a',\n",
       " '<letter> -> b',\n",
       " '<letter> -> c',\n",
       " '<letter> -> d',\n",
       " '<letter> -> f',\n",
       " '<letter> -> j',\n",
       " '<letter> -> k',\n",
       " '<letter> -> l',\n",
       " '<letter> -> n',\n",
       " '<letter> -> q',\n",
       " '<letter> -> r',\n",
       " '<letter> -> w',\n",
       " '<letter> -> y',\n",
       " '<letter> -> z',\n",
       " '<special> -> !',\n",
       " '<special> -> .',\n",
       " \"<state-1> -> click('order form')\\n<state>\"}"
      ]
     },
     "execution_count": 142,
     "metadata": {},
     "output_type": "execute_result"
    }
   ],
   "source": [
    "gui_fuzzer.missing_expansion_coverage()"
   ]
  },
  {
   "cell_type": "markdown",
   "metadata": {
    "slideshow": {
     "slide_type": "subslide"
    }
   },
   "source": [
    "Running the fuzzer again and again will eventually cover these expansions too, leading to letter and digit coverage within the order form."
   ]
  },
  {
   "cell_type": "markdown",
   "metadata": {
    "button": false,
    "new_sheet": false,
    "run_control": {
     "read_only": false
    },
    "slideshow": {
     "slide_type": "slide"
    }
   },
   "source": [
    "## Exploring Large Sites\n",
    "\n",
    "Our GUI fuzzer is robust enough to handle exploration even on nontrivial sites such as [fuzzingbook.org](https://www.fuzzingbook.org).  Let us demonstrate this:"
   ]
  },
  {
   "cell_type": "code",
   "execution_count": 143,
   "metadata": {
    "slideshow": {
     "slide_type": "fragment"
    }
   },
   "outputs": [],
   "source": [
    "gui_driver.get(\"https://www.fuzzingbook.org/html/Fuzzer.html\")"
   ]
  },
  {
   "cell_type": "code",
   "execution_count": 144,
   "metadata": {
    "slideshow": {
     "slide_type": "fragment"
    }
   },
   "outputs": [
    {
     "data": {
      "image/png": "[encoded data removed]",
      "text/plain": [
       "<IPython.core.display.Image object>"
      ]
     },
     "execution_count": 144,
     "metadata": {},
     "output_type": "execute_result"
    }
   ],
   "source": [
    "Image(gui_driver.get_screenshot_as_png())"
   ]
  },
  {
   "cell_type": "code",
   "execution_count": 145,
   "metadata": {
    "slideshow": {
     "slide_type": "fragment"
    }
   },
   "outputs": [],
   "source": [
    "book_runner = GUIRunner(gui_driver)"
   ]
  },
  {
   "cell_type": "code",
   "execution_count": 146,
   "metadata": {
    "button": false,
    "new_sheet": false,
    "run_control": {
     "read_only": false
    },
    "slideshow": {
     "slide_type": "subslide"
    }
   },
   "outputs": [],
   "source": [
    "book_fuzzer = GUICoverageFuzzer(gui_driver, log_gui_exploration=True)  # , disp_gui_exploration=True)"
   ]
  },
  {
   "cell_type": "markdown",
   "metadata": {
    "slideshow": {
     "slide_type": "fragment"
    }
   },
   "source": [
    "We explore the first few states of the site, defined in `ACTIONS`:"
   ]
  },
  {
   "cell_type": "code",
   "execution_count": 147,
   "metadata": {
    "slideshow": {
     "slide_type": "fragment"
    }
   },
   "outputs": [],
   "source": [
    "ACTIONS = 5"
   ]
  },
  {
   "cell_type": "code",
   "execution_count": 148,
   "metadata": {
    "slideshow": {
     "slide_type": "subslide"
    }
   },
   "outputs": [
    {
     "name": "stdout",
     "output_type": "stream",
     "text": [
      "Run #1\n",
      "Action click('reduce failing inputs for efficient debugging') -> <state-2>\n",
      "Run #2\n",
      "Action click('Introduction to Testing') -> <state-11>\n",
      "In new state <state-11> frozenset({\"click('Cite')\", \"ignore('Shellsort')\", \"ignore('random')\", \"ignore('MIT License')\", \"click('The Fuzzing Book')\", \"ignore('Python tutorial')\", \"click('Timer module')\", \"click('')\", \"ignore('Beizer et al, 1990.')\", \"ignore('Creative Commons Attribution-NonCommercial-ShareAlike 4.0 International License')\", \"ignore('Pezz\\xc3\\xa8 et al, 2008.')\", \"ignore('Last change: 2019-03-13 21:14:41+01:00')\", \"click('Timer')\", \"ignore('Use the notebook')\", \"ignore('')\", \"click('use fuzzing to test programs with random inputs')\", \"ignore('Imprint')\", \"ignore('fuzzingbook_utils')\", \"click('ExpectError')\", \"ignore('Myers et al, 2004.')\", \"ignore('Newton\\xe2\\x80\\x93Raphson method')\"})\n",
      "Run #3\n",
      "Action click('&quot;Introduction to Software Testing&quot;') -> <state-15>\n",
      "In existing state <state-11>\n",
      "Replacing expected state <state-15> by <state-11>\n",
      "Run #4\n",
      "Action click('chapter on information flow') -> <state-5>\n",
      "Run #5\n",
      "Action click('fuzzingbook.Fuzzer') -> <state-9>\n"
     ]
    }
   ],
   "source": [
    "book_fuzzer.explore_all(book_runner, max_actions=ACTIONS)"
   ]
  },
  {
   "cell_type": "markdown",
   "metadata": {
    "slideshow": {
     "slide_type": "subslide"
    }
   },
   "source": [
    "After the first `ACTIONS` actions already, we can see that the finite state model is quite complex, with dozens of transitions still left to explore.  Most of the yet unexplored states will eventually merge with existing states, yielding one state per chapter.  Still, following _all_ links on _all_ pages will take quite some time."
   ]
  },
  {
   "cell_type": "code",
   "execution_count": 149,
   "metadata": {
    "slideshow": {
     "slide_type": "fragment"
    }
   },
   "outputs": [
    {
     "data": {
      "image/svg+xml": [
       "<?xml version=\"1.0\" encoding=\"UTF-8\" standalone=\"no\"?>\n",
       "<!DOCTYPE svg PUBLIC \"-//W3C//DTD SVG 1.1//EN\"\n",
       " \"http://www.w3.org/Graphics/SVG/1.1/DTD/svg11.dtd\">\n",
       "<!-- Generated by graphviz version 2.40.1 (20161225.0304)\n",
       " -->\n",
       "<!-- Title: %3 Pages: 1 -->\n",
       "<svg width=\"3923pt\" height=\"385pt\"\n",
       " viewBox=\"0.00 0.00 3923.26 385.00\" xmlns=\"http://www.w3.org/2000/svg\" xmlns:xlink=\"http://www.w3.org/1999/xlink\">\n",
       "<g id=\"graph0\" class=\"graph\" transform=\"scale(1 1) rotate(0) translate(4 381)\">\n",
       "<title>%3</title>\n",
       "<polygon fill=\"#ffffff\" stroke=\"transparent\" points=\"-4,4 -4,-381 3919.262,-381 3919.262,4 -4,4\"/>\n",
       "<!-- start -->\n",
       "<g id=\"node1\" class=\"node\">\n",
       "<title>start</title>\n",
       "<ellipse fill=\"none\" stroke=\"#000000\" cx=\"2283.262\" cy=\"-359\" rx=\"36.2938\" ry=\"18\"/>\n",
       "<text text-anchor=\"middle\" x=\"2283.262\" y=\"-355.3\" font-family=\"Times,serif\" font-size=\"14.00\" fill=\"#000000\">&lt;start&gt;</text>\n",
       "</g>\n",
       "<!-- state -->\n",
       "<g id=\"node2\" class=\"node\">\n",
       "<title>state</title>\n",
       "<ellipse fill=\"none\" stroke=\"#000000\" cx=\"2283.262\" cy=\"-286\" rx=\"37.8943\" ry=\"18\"/>\n",
       "<text text-anchor=\"middle\" x=\"2283.262\" y=\"-282.3\" font-family=\"Times,serif\" font-size=\"14.00\" fill=\"#000000\">&lt;state&gt;</text>\n",
       "</g>\n",
       "<!-- start&#45;&gt;state -->\n",
       "<g id=\"edge1\" class=\"edge\">\n",
       "<title>start&#45;&gt;state</title>\n",
       "<path fill=\"none\" stroke=\"#000000\" d=\"M2283.262,-340.9551C2283.262,-332.8828 2283.262,-323.1764 2283.262,-314.1817\"/>\n",
       "<polygon fill=\"#000000\" stroke=\"#000000\" points=\"2286.7621,-314.0903 2283.262,-304.0904 2279.7621,-314.0904 2286.7621,-314.0903\"/>\n",
       "</g>\n",
       "<!-- state&#45;1 -->\n",
       "<g id=\"node3\" class=\"node\">\n",
       "<title>state&#45;1</title>\n",
       "<ellipse fill=\"none\" stroke=\"#000000\" cx=\"155.262\" cy=\"-145\" rx=\"45.4919\" ry=\"18\"/>\n",
       "<text text-anchor=\"middle\" x=\"155.262\" y=\"-141.3\" font-family=\"Times,serif\" font-size=\"14.00\" fill=\"#000000\">&lt;state&#45;1&gt;</text>\n",
       "</g>\n",
       "<!-- state&#45;&gt;state&#45;1 -->\n",
       "<g id=\"edge2\" class=\"edge\">\n",
       "<title>state&#45;&gt;state&#45;1</title>\n",
       "<path fill=\"none\" stroke=\"#000000\" d=\"M2245.1285,-285.761C1949.2276,-283.8637 30.7016,-270.7659 10.262,-250 -27.5827,-211.5512 52.5549,-176.9695 108.0802,-158.6873\"/>\n",
       "<polygon fill=\"#000000\" stroke=\"#000000\" points=\"109.3323,-161.9613 117.7846,-155.5731 107.1934,-155.2961 109.3323,-161.9613\"/>\n",
       "<text text-anchor=\"start\" x=\"10.262\" y=\"-238.8\" font-family=\"Times,serif\" font-size=\"14.00\" fill=\"#000000\">click(&#39;Cite&#39;)</text>\n",
       "</g>\n",
       "<!-- state&#45;2 -->\n",
       "<g id=\"node4\" class=\"node\">\n",
       "<title>state&#45;2</title>\n",
       "<ellipse fill=\"none\" stroke=\"#000000\" cx=\"346.262\" cy=\"-145\" rx=\"45.4919\" ry=\"18\"/>\n",
       "<text text-anchor=\"middle\" x=\"346.262\" y=\"-141.3\" font-family=\"Times,serif\" font-size=\"14.00\" fill=\"#000000\">&lt;state&#45;2&gt;</text>\n",
       "</g>\n",
       "<!-- state&#45;&gt;state&#45;2 -->\n",
       "<g id=\"edge3\" class=\"edge\">\n",
       "<title>state&#45;&gt;state&#45;2</title>\n",
       "<path fill=\"none\" stroke=\"#000000\" d=\"M2245.4386,-285.7429C1956.0268,-283.7327 103.0191,-270.083 83.262,-250 50.5442,-216.7425 210.8811,-175.0881 296.0127,-155.765\"/>\n",
       "<polygon fill=\"#000000\" stroke=\"#000000\" points=\"297.0137,-159.1275 306.0038,-153.5213 295.4798,-152.2976 297.0137,-159.1275\"/>\n",
       "<text text-anchor=\"start\" x=\"83.262\" y=\"-238.8\" font-family=\"Times,serif\" font-size=\"14.00\" fill=\"#000000\">click(&#39;reduce failing inputs for efficient debugging&#39;)</text>\n",
       "</g>\n",
       "<!-- state&#45;3 -->\n",
       "<g id=\"node5\" class=\"node\">\n",
       "<title>state&#45;3</title>\n",
       "<ellipse fill=\"none\" stroke=\"#000000\" cx=\"524.262\" cy=\"-145\" rx=\"45.4919\" ry=\"18\"/>\n",
       "<text text-anchor=\"middle\" x=\"524.262\" y=\"-141.3\" font-family=\"Times,serif\" font-size=\"14.00\" fill=\"#000000\">&lt;state&#45;3&gt;</text>\n",
       "</g>\n",
       "<!-- state&#45;&gt;state&#45;3 -->\n",
       "<g id=\"edge4\" class=\"edge\">\n",
       "<title>state&#45;&gt;state&#45;3</title>\n",
       "<path fill=\"none\" stroke=\"#000000\" d=\"M2245.2617,-285.6418C1978.8431,-283.0872 401.177,-267.2387 384.262,-250 347.5034,-212.538 424.1032,-177.8226 477.8115,-159.2054\"/>\n",
       "<polygon fill=\"#000000\" stroke=\"#000000\" points=\"479.1868,-162.4352 487.5412,-155.9195 476.947,-155.8032 479.1868,-162.4352\"/>\n",
       "<text text-anchor=\"start\" x=\"384.262\" y=\"-238.8\" font-family=\"Times,serif\" font-size=\"14.00\" fill=\"#000000\">click(&#39;use the code provided in this chapter&#39;)</text>\n",
       "</g>\n",
       "<!-- state&#45;4 -->\n",
       "<g id=\"node6\" class=\"node\">\n",
       "<title>state&#45;4</title>\n",
       "<ellipse fill=\"none\" stroke=\"#000000\" cx=\"668.262\" cy=\"-145\" rx=\"45.4919\" ry=\"18\"/>\n",
       "<text text-anchor=\"middle\" x=\"668.262\" y=\"-141.3\" font-family=\"Times,serif\" font-size=\"14.00\" fill=\"#000000\">&lt;state&#45;4&gt;</text>\n",
       "</g>\n",
       "<!-- state&#45;&gt;state&#45;4 -->\n",
       "<g id=\"edge5\" class=\"edge\">\n",
       "<title>state&#45;&gt;state&#45;4</title>\n",
       "<path fill=\"none\" stroke=\"#000000\" d=\"M2245.4638,-285.8947C2002.7307,-285.131 672.2173,-279.5979 643.262,-250 622.9015,-229.1877 636.4652,-194.9601 650.2737,-171.2682\"/>\n",
       "<polygon fill=\"#000000\" stroke=\"#000000\" points=\"653.443,-172.7964 655.7069,-162.4463 647.4827,-169.1256 653.443,-172.7964\"/>\n",
       "<text text-anchor=\"start\" x=\"643.262\" y=\"-238.8\" font-family=\"Times,serif\" font-size=\"14.00\" fill=\"#000000\">click(&#39;The Fuzzing Book&#39;)</text>\n",
       "</g>\n",
       "<!-- state&#45;5 -->\n",
       "<g id=\"node7\" class=\"node\">\n",
       "<title>state&#45;5</title>\n",
       "<ellipse fill=\"none\" stroke=\"#000000\" cx=\"798.262\" cy=\"-145\" rx=\"45.4919\" ry=\"18\"/>\n",
       "<text text-anchor=\"middle\" x=\"798.262\" y=\"-141.3\" font-family=\"Times,serif\" font-size=\"14.00\" fill=\"#000000\">&lt;state&#45;5&gt;</text>\n",
       "</g>\n",
       "<!-- state&#45;&gt;state&#45;5 -->\n",
       "<g id=\"edge6\" class=\"edge\">\n",
       "<title>state&#45;&gt;state&#45;5</title>\n",
       "<path fill=\"none\" stroke=\"#000000\" d=\"M2245.5232,-285.7898C2017.1407,-284.4319 828.7417,-276.1174 802.262,-250 782.4631,-230.472 784.8253,-196.9689 789.9764,-173.0588\"/>\n",
       "<polygon fill=\"#000000\" stroke=\"#000000\" points=\"793.4238,-173.6942 792.3836,-163.1506 786.6216,-172.0416 793.4238,-173.6942\"/>\n",
       "<text text-anchor=\"start\" x=\"802.262\" y=\"-238.8\" font-family=\"Times,serif\" font-size=\"14.00\" fill=\"#000000\">click(&#39;chapter on information flow&#39;)</text>\n",
       "</g>\n",
       "<!-- state&#45;6 -->\n",
       "<g id=\"node8\" class=\"node\">\n",
       "<title>state&#45;6</title>\n",
       "<ellipse fill=\"none\" stroke=\"#000000\" cx=\"894.262\" cy=\"-145\" rx=\"45.4919\" ry=\"18\"/>\n",
       "<text text-anchor=\"middle\" x=\"894.262\" y=\"-141.3\" font-family=\"Times,serif\" font-size=\"14.00\" fill=\"#000000\">&lt;state&#45;6&gt;</text>\n",
       "</g>\n",
       "<!-- state&#45;&gt;state&#45;6 -->\n",
       "<g id=\"edge7\" class=\"edge\">\n",
       "<title>state&#45;&gt;state&#45;6</title>\n",
       "<path fill=\"none\" stroke=\"#000000\" d=\"M2245.434,-285.6086C2041.5827,-283.4126 1080.9206,-271.9302 1022.262,-250 1020.7602,-249.4385 959.1218,-198.6112 921.9392,-167.8883\"/>\n",
       "<polygon fill=\"#000000\" stroke=\"#000000\" points=\"923.897,-164.9657 913.9591,-161.293 919.4376,-170.3615 923.897,-164.9657\"/>\n",
       "<text text-anchor=\"start\" x=\"1022.262\" y=\"-238.8\" font-family=\"Times,serif\" font-size=\"14.00\" fill=\"#000000\">click(&#39;A Fuzzing Architecture&#39;)</text>\n",
       "</g>\n",
       "<!-- state&#45;7 -->\n",
       "<g id=\"node9\" class=\"node\">\n",
       "<title>state&#45;7</title>\n",
       "<ellipse fill=\"none\" stroke=\"#000000\" cx=\"990.262\" cy=\"-145\" rx=\"45.4919\" ry=\"18\"/>\n",
       "<text text-anchor=\"middle\" x=\"990.262\" y=\"-141.3\" font-family=\"Times,serif\" font-size=\"14.00\" fill=\"#000000\">&lt;state&#45;7&gt;</text>\n",
       "</g>\n",
       "<!-- state&#45;&gt;state&#45;7 -->\n",
       "<g id=\"edge8\" class=\"edge\">\n",
       "<title>state&#45;&gt;state&#45;7</title>\n",
       "<path fill=\"none\" stroke=\"#000000\" d=\"M2245.4825,-285.3827C2061.7425,-282.2969 1268.3456,-267.9757 1219.262,-250 1209.1593,-246.3001 1209.5088,-240.5 1200.262,-235 1170.656,-217.3902 1084.555,-182.2465 1032.2483,-161.4678\"/>\n",
       "<polygon fill=\"#000000\" stroke=\"#000000\" points=\"1033.4822,-158.192 1022.896,-157.7626 1030.9038,-164.6999 1033.4822,-158.192\"/>\n",
       "<text text-anchor=\"start\" x=\"1219.262\" y=\"-238.8\" font-family=\"Times,serif\" font-size=\"14.00\" fill=\"#000000\">click(&#39;use grammars to specify the input format and thus get many more valid inputs&#39;)</text>\n",
       "</g>\n",
       "<!-- state&#45;8 -->\n",
       "<g id=\"node10\" class=\"node\">\n",
       "<title>state&#45;8</title>\n",
       "<ellipse fill=\"none\" stroke=\"#000000\" cx=\"1086.262\" cy=\"-145\" rx=\"45.4919\" ry=\"18\"/>\n",
       "<text text-anchor=\"middle\" x=\"1086.262\" y=\"-141.3\" font-family=\"Times,serif\" font-size=\"14.00\" fill=\"#000000\">&lt;state&#45;8&gt;</text>\n",
       "</g>\n",
       "<!-- state&#45;&gt;state&#45;8 -->\n",
       "<g id=\"edge9\" class=\"edge\">\n",
       "<title>state&#45;&gt;state&#45;8</title>\n",
       "<path fill=\"none\" stroke=\"#000000\" d=\"M2245.5514,-284.8847C2127.4895,-281.2127 1769.9306,-268.6604 1721.262,-250 1711.2162,-246.1483 1712.1828,-239.1629 1702.262,-235 1585.1432,-185.8555 1258.6582,-193.0894 1135.262,-163 1132.7967,-162.3988 1130.2844,-161.7139 1127.7651,-160.9706\"/>\n",
       "<polygon fill=\"#000000\" stroke=\"#000000\" points=\"1128.6878,-157.5909 1118.0966,-157.8687 1126.5494,-164.2563 1128.6878,-157.5909\"/>\n",
       "<text text-anchor=\"start\" x=\"1721.262\" y=\"-238.8\" font-family=\"Times,serif\" font-size=\"14.00\" fill=\"#000000\">click(&#39;use mutations on existing inputs to get more valid inputs&#39;)</text>\n",
       "</g>\n",
       "<!-- state&#45;9 -->\n",
       "<g id=\"node11\" class=\"node\">\n",
       "<title>state&#45;9</title>\n",
       "<ellipse fill=\"none\" stroke=\"#000000\" cx=\"1182.262\" cy=\"-145\" rx=\"45.4919\" ry=\"18\"/>\n",
       "<text text-anchor=\"middle\" x=\"1182.262\" y=\"-141.3\" font-family=\"Times,serif\" font-size=\"14.00\" fill=\"#000000\">&lt;state&#45;9&gt;</text>\n",
       "</g>\n",
       "<!-- state&#45;&gt;state&#45;9 -->\n",
       "<g id=\"edge10\" class=\"edge\">\n",
       "<title>state&#45;&gt;state&#45;9</title>\n",
       "<path fill=\"none\" stroke=\"#000000\" d=\"M2245.8365,-283.6324C2208.2903,-280.1035 2149.5497,-271.388 2103.262,-250 2093.4953,-245.4872 2094.1225,-239.3039 2084.262,-235 1941.6186,-172.7388 1893.1973,-195.7874 1738.262,-181 1626.0343,-170.2887 1341.8899,-184.7083 1231.262,-163 1228.6024,-162.4781 1225.8955,-161.8325 1223.1886,-161.0992\"/>\n",
       "<polygon fill=\"#000000\" stroke=\"#000000\" points=\"1224.0577,-157.705 1213.4712,-158.1244 1222.0085,-164.3984 1224.0577,-157.705\"/>\n",
       "<text text-anchor=\"start\" x=\"2103.262\" y=\"-238.8\" font-family=\"Times,serif\" font-size=\"14.00\" fill=\"#000000\">click(&#39;fuzzingbook.Fuzzer&#39;)</text>\n",
       "</g>\n",
       "<!-- state&#45;10 -->\n",
       "<g id=\"node12\" class=\"node\">\n",
       "<title>state&#45;10</title>\n",
       "<ellipse fill=\"none\" stroke=\"#000000\" cx=\"2187.262\" cy=\"-199\" rx=\"50.0912\" ry=\"18\"/>\n",
       "<text text-anchor=\"middle\" x=\"2187.262\" y=\"-195.3\" font-family=\"Times,serif\" font-size=\"14.00\" fill=\"#000000\">&lt;state&#45;10&gt;</text>\n",
       "</g>\n",
       "<!-- state&#45;&gt;state&#45;10 -->\n",
       "<g id=\"edge11\" class=\"edge\">\n",
       "<title>state&#45;&gt;state&#45;10</title>\n",
       "<path fill=\"none\" stroke=\"#000000\" d=\"M2278.8134,-267.6845C2275.4599,-257.0735 2269.922,-244.0635 2261.262,-235 2253.6299,-227.0123 2243.8566,-220.5655 2233.9321,-215.4574\"/>\n",
       "<polygon fill=\"#000000\" stroke=\"#000000\" points=\"2235.367,-212.2643 2224.8323,-211.137 2232.3646,-218.5877 2235.367,-212.2643\"/>\n",
       "<text text-anchor=\"start\" x=\"2272.262\" y=\"-238.8\" font-family=\"Times,serif\" font-size=\"14.00\" fill=\"#000000\">click(&#39;chapter on mining function specifications&#39;)</text>\n",
       "</g>\n",
       "<!-- state&#45;11 -->\n",
       "<g id=\"node13\" class=\"node\">\n",
       "<title>state&#45;11</title>\n",
       "<ellipse fill=\"none\" stroke=\"#000000\" cx=\"2307.262\" cy=\"-199\" rx=\"50.0912\" ry=\"18\"/>\n",
       "<text text-anchor=\"middle\" x=\"2307.262\" y=\"-195.3\" font-family=\"Times,serif\" font-size=\"14.00\" fill=\"#000000\">&lt;state&#45;11&gt;</text>\n",
       "</g>\n",
       "<!-- state&#45;&gt;state&#45;11 -->\n",
       "<g id=\"edge12\" class=\"edge\">\n",
       "<title>state&#45;&gt;state&#45;11</title>\n",
       "<path fill=\"none\" stroke=\"#000000\" d=\"M2320.9559,-285.1581C2449.9468,-282.0962 2866.8229,-270.6342 2886.262,-250 2890.8334,-245.1475 2890.8274,-239.8581 2886.262,-235 2868.6867,-216.2979 2511.9455,-204.5531 2367.3512,-200.5445\"/>\n",
       "<polygon fill=\"#000000\" stroke=\"#000000\" points=\"2367.4069,-197.0448 2357.3146,-200.2692 2367.2149,-204.0422 2367.4069,-197.0448\"/>\n",
       "<text text-anchor=\"start\" x=\"2889.262\" y=\"-238.8\" font-family=\"Times,serif\" font-size=\"14.00\" fill=\"#000000\">click(&#39;Introduction to Testing&#39;)</text>\n",
       "</g>\n",
       "<!-- state&#45;&gt;state&#45;11 -->\n",
       "<g id=\"edge16\" class=\"edge\">\n",
       "<title>state&#45;&gt;state&#45;11</title>\n",
       "<path fill=\"none\" stroke=\"#000000\" d=\"M2320.8516,-283.7944C2392.4869,-279.2058 2542.8381,-267.5747 2558.262,-250 2562.6595,-244.9893 2562.6286,-240.0376 2558.262,-235 2545.8605,-220.6929 2436.7704,-209.3569 2366.5473,-203.4602\"/>\n",
       "<polygon fill=\"#000000\" stroke=\"#000000\" points=\"2366.7386,-199.9642 2356.4847,-202.6299 2366.163,-206.9404 2366.7386,-199.9642\"/>\n",
       "<text text-anchor=\"start\" x=\"2561.262\" y=\"-238.8\" font-family=\"Times,serif\" font-size=\"14.00\" fill=\"#000000\">click(&#39;&amp;quot;Introduction to Software Testing&amp;quot;&#39;)</text>\n",
       "</g>\n",
       "<!-- state&#45;12 -->\n",
       "<g id=\"node14\" class=\"node\">\n",
       "<title>state&#45;12</title>\n",
       "<ellipse fill=\"none\" stroke=\"#000000\" cx=\"3172.262\" cy=\"-199\" rx=\"50.0912\" ry=\"18\"/>\n",
       "<text text-anchor=\"middle\" x=\"3172.262\" y=\"-195.3\" font-family=\"Times,serif\" font-size=\"14.00\" fill=\"#000000\">&lt;state&#45;12&gt;</text>\n",
       "</g>\n",
       "<!-- state&#45;&gt;state&#45;12 -->\n",
       "<g id=\"edge13\" class=\"edge\">\n",
       "<title>state&#45;&gt;state&#45;12</title>\n",
       "<path fill=\"none\" stroke=\"#000000\" d=\"M2320.9936,-285.6711C2472.3703,-284.1721 3031.0493,-276.8543 3105.262,-250 3109.798,-248.3586 3127.4676,-234.8521 3143.5218,-222.152\"/>\n",
       "<polygon fill=\"#000000\" stroke=\"#000000\" points=\"3146.0458,-224.6164 3151.6917,-215.6512 3141.6874,-219.1388 3146.0458,-224.6164\"/>\n",
       "<text text-anchor=\"start\" x=\"3125.262\" y=\"-238.8\" font-family=\"Times,serif\" font-size=\"14.00\" fill=\"#000000\">click(&#39;Intro_Testing&#39;)</text>\n",
       "</g>\n",
       "<!-- state&#45;13 -->\n",
       "<g id=\"node15\" class=\"node\">\n",
       "<title>state&#45;13</title>\n",
       "<ellipse fill=\"none\" stroke=\"#000000\" cx=\"3290.262\" cy=\"-199\" rx=\"50.0912\" ry=\"18\"/>\n",
       "<text text-anchor=\"middle\" x=\"3290.262\" y=\"-195.3\" font-family=\"Times,serif\" font-size=\"14.00\" fill=\"#000000\">&lt;state&#45;13&gt;</text>\n",
       "</g>\n",
       "<!-- state&#45;&gt;state&#45;13 -->\n",
       "<g id=\"edge14\" class=\"edge\">\n",
       "<title>state&#45;&gt;state&#45;13</title>\n",
       "<path fill=\"none\" stroke=\"#000000\" d=\"M2321.2032,-285.4275C2494.4675,-282.7059 3203.9251,-270.3549 3246.262,-250 3257.5924,-244.5525 3267.1662,-234.686 3274.4605,-225.0728\"/>\n",
       "<polygon fill=\"#000000\" stroke=\"#000000\" points=\"3277.3832,-227.0012 3280.2708,-216.8075 3271.6565,-222.9756 3277.3832,-227.0012\"/>\n",
       "<text text-anchor=\"start\" x=\"3264.262\" y=\"-238.8\" font-family=\"Times,serif\" font-size=\"14.00\" fill=\"#000000\">click(&#39;&#39;)</text>\n",
       "</g>\n",
       "<!-- state&#45;14 -->\n",
       "<g id=\"node16\" class=\"node\">\n",
       "<title>state&#45;14</title>\n",
       "<ellipse fill=\"none\" stroke=\"#000000\" cx=\"3408.262\" cy=\"-199\" rx=\"50.0912\" ry=\"18\"/>\n",
       "<text text-anchor=\"middle\" x=\"3408.262\" y=\"-195.3\" font-family=\"Times,serif\" font-size=\"14.00\" fill=\"#000000\">&lt;state&#45;14&gt;</text>\n",
       "</g>\n",
       "<!-- state&#45;&gt;state&#45;14 -->\n",
       "<g id=\"edge15\" class=\"edge\">\n",
       "<title>state&#45;&gt;state&#45;14</title>\n",
       "<path fill=\"none\" stroke=\"#000000\" d=\"M2321.151,-285.8323C2495.2877,-284.9054 3214.4024,-279.3191 3310.262,-250 3322.2906,-246.321 3323.2577,-241.0932 3334.262,-235 3345.1007,-228.9985 3357.0877,-222.932 3368.2012,-217.5332\"/>\n",
       "<polygon fill=\"#000000\" stroke=\"#000000\" points=\"3369.7867,-220.6546 3377.2868,-213.1714 3366.7571,-214.3441 3369.7867,-220.6546\"/>\n",
       "<text text-anchor=\"start\" x=\"3334.262\" y=\"-238.8\" font-family=\"Times,serif\" font-size=\"14.00\" fill=\"#000000\">click(&#39;discussed above&#39;)</text>\n",
       "</g>\n",
       "<!-- state&#45;16 -->\n",
       "<g id=\"node17\" class=\"node\">\n",
       "<title>state&#45;16</title>\n",
       "<ellipse fill=\"none\" stroke=\"#000000\" cx=\"3526.262\" cy=\"-199\" rx=\"50.0912\" ry=\"18\"/>\n",
       "<text text-anchor=\"middle\" x=\"3526.262\" y=\"-195.3\" font-family=\"Times,serif\" font-size=\"14.00\" fill=\"#000000\">&lt;state&#45;16&gt;</text>\n",
       "</g>\n",
       "<!-- state&#45;&gt;state&#45;16 -->\n",
       "<g id=\"edge17\" class=\"edge\">\n",
       "<title>state&#45;&gt;state&#45;16</title>\n",
       "<path fill=\"none\" stroke=\"#000000\" d=\"M2321.018,-285.5621C2517.1347,-283.1979 3412.6818,-271.27 3467.262,-250 3475.0973,-246.9466 3489.2202,-234.8485 3501.684,-223.2022\"/>\n",
       "<polygon fill=\"#000000\" stroke=\"#000000\" points=\"3504.3242,-225.5214 3509.159,-216.094 3499.5005,-220.4487 3504.3242,-225.5214\"/>\n",
       "<text text-anchor=\"start\" x=\"3486.262\" y=\"-238.8\" font-family=\"Times,serif\" font-size=\"14.00\" fill=\"#000000\">click(&#39;runtime verification&#39;)</text>\n",
       "</g>\n",
       "<!-- state&#45;17 -->\n",
       "<g id=\"node18\" class=\"node\">\n",
       "<title>state&#45;17</title>\n",
       "<ellipse fill=\"none\" stroke=\"#000000\" cx=\"3654.262\" cy=\"-199\" rx=\"50.0912\" ry=\"18\"/>\n",
       "<text text-anchor=\"middle\" x=\"3654.262\" y=\"-195.3\" font-family=\"Times,serif\" font-size=\"14.00\" fill=\"#000000\">&lt;state&#45;17&gt;</text>\n",
       "</g>\n",
       "<!-- state&#45;&gt;state&#45;17 -->\n",
       "<g id=\"edge18\" class=\"edge\">\n",
       "<title>state&#45;&gt;state&#45;17</title>\n",
       "<path fill=\"none\" stroke=\"#000000\" d=\"M2320.9793,-285.6392C2537.8328,-283.4873 3617.0998,-271.699 3643.262,-250 3649.9533,-244.4502 3653.1735,-235.8934 3654.5847,-227.3643\"/>\n",
       "<polygon fill=\"#000000\" stroke=\"#000000\" points=\"3658.0909,-227.4567 3655.5207,-217.1784 3651.1203,-226.8161 3658.0909,-227.4567\"/>\n",
       "<text text-anchor=\"start\" x=\"3652.262\" y=\"-238.8\" font-family=\"Times,serif\" font-size=\"14.00\" fill=\"#000000\">click(&#39;chapter on testing&#39;)</text>\n",
       "</g>\n",
       "<!-- state&#45;18 -->\n",
       "<g id=\"node19\" class=\"node\">\n",
       "<title>state&#45;18</title>\n",
       "<ellipse fill=\"none\" stroke=\"#000000\" cx=\"3801.262\" cy=\"-199\" rx=\"50.0912\" ry=\"18\"/>\n",
       "<text text-anchor=\"middle\" x=\"3801.262\" y=\"-195.3\" font-family=\"Times,serif\" font-size=\"14.00\" fill=\"#000000\">&lt;state&#45;18&gt;</text>\n",
       "</g>\n",
       "<!-- state&#45;&gt;state&#45;18 -->\n",
       "<g id=\"edge19\" class=\"edge\">\n",
       "<title>state&#45;&gt;state&#45;18</title>\n",
       "<path fill=\"none\" stroke=\"#000000\" d=\"M2321.1057,-285.8026C2552.8106,-284.509 3770.8632,-276.4563 3798.262,-250 3804.3404,-244.1307 3806.3103,-235.5672 3806.3878,-227.1274\"/>\n",
       "<polygon fill=\"#000000\" stroke=\"#000000\" points=\"3809.8748,-226.8179 3805.6927,-217.0835 3802.8915,-227.3013 3809.8748,-226.8179\"/>\n",
       "<text text-anchor=\"start\" x=\"3805.262\" y=\"-238.8\" font-family=\"Times,serif\" font-size=\"14.00\" fill=\"#000000\">click(&#39;ExpectError&#39;)</text>\n",
       "</g>\n",
       "<!-- end -->\n",
       "<g id=\"node20\" class=\"node\">\n",
       "<title>end</title>\n",
       "<ellipse fill=\"none\" stroke=\"#000000\" cx=\"3341.262\" cy=\"-91\" rx=\"34.394\" ry=\"18\"/>\n",
       "<text text-anchor=\"middle\" x=\"3341.262\" y=\"-87.3\" font-family=\"Times,serif\" font-size=\"14.00\" fill=\"#000000\">&lt;end&gt;</text>\n",
       "</g>\n",
       "<!-- state&#45;&gt;end -->\n",
       "<g id=\"edge20\" class=\"edge\">\n",
       "<title>state&#45;&gt;end</title>\n",
       "<path fill=\"none\" stroke=\"#000000\" d=\"M2320.9625,-285.1785C2472.5873,-281.7574 3031.3312,-267.9764 3064.262,-250 3097.2761,-231.9781 3080.6291,-199.7033 3113.262,-181 3152.9381,-158.2599 3282.5479,-191.5624 3318.262,-163 3331.3346,-152.5451 3337.0901,-134.6322 3339.5747,-119.2897\"/>\n",
       "<polygon fill=\"#000000\" stroke=\"#000000\" points=\"3343.0683,-119.5558 3340.8219,-109.2019 3336.1212,-118.6968 3343.0683,-119.5558\"/>\n",
       "</g>\n",
       "<!-- unexplored -->\n",
       "<g id=\"node21\" class=\"node\">\n",
       "<title>unexplored</title>\n",
       "<ellipse fill=\"none\" stroke=\"#000000\" cx=\"1906.262\" cy=\"-18\" rx=\"61.99\" ry=\"18\"/>\n",
       "<text text-anchor=\"middle\" x=\"1906.262\" y=\"-14.3\" font-family=\"Times,serif\" font-size=\"14.00\" fill=\"#000000\">&lt;unexplored&gt;</text>\n",
       "</g>\n",
       "<!-- state&#45;1&#45;&gt;unexplored -->\n",
       "<g id=\"edge21\" class=\"edge\">\n",
       "<title>state&#45;1&#45;&gt;unexplored</title>\n",
       "<path fill=\"none\" stroke=\"#000000\" d=\"M197.9725,-138.5017C282.2937,-125.7044 476.1304,-96.4452 639.262,-73 700.1085,-64.2552 715.0114,-59.2082 776.262,-54 982.9964,-36.4211 1618.9314,-23.3247 1834.1809,-19.296\"/>\n",
       "<polygon fill=\"#000000\" stroke=\"#000000\" points=\"1834.4811,-22.7911 1844.4142,-19.1054 1834.3507,-15.7923 1834.4811,-22.7911\"/>\n",
       "</g>\n",
       "<!-- state&#45;2&#45;&gt;unexplored -->\n",
       "<g id=\"edge22\" class=\"edge\">\n",
       "<title>state&#45;2&#45;&gt;unexplored</title>\n",
       "<path fill=\"none\" stroke=\"#000000\" d=\"M388.6764,-138.4355C412.6033,-134.8348 443.067,-130.4208 470.262,-127 545.2073,-117.5727 570.2744,-139.7635 639.262,-109 661.1061,-99.2591 657.1592,-82.1387 679.262,-73 785.7435,-28.9736 1587.1114,-20.0837 1834.0478,-18.3828\"/>\n",
       "<polygon fill=\"#000000\" stroke=\"#000000\" points=\"1834.3653,-21.8809 1844.3416,-18.3139 1834.3184,-14.881 1834.3653,-21.8809\"/>\n",
       "</g>\n",
       "<!-- state&#45;3&#45;&gt;unexplored -->\n",
       "<g id=\"edge23\" class=\"edge\">\n",
       "<title>state&#45;3&#45;&gt;unexplored</title>\n",
       "<path fill=\"none\" stroke=\"#000000\" d=\"M563.341,-135.7688C637.9066,-118.2724 798.0629,-81.2882 854.262,-73 1044.0884,-45.0047 1629.5053,-25.9514 1834.4811,-19.9896\"/>\n",
       "<polygon fill=\"#000000\" stroke=\"#000000\" points=\"1834.6386,-23.4866 1844.5332,-19.6989 1834.4362,-16.4896 1834.6386,-23.4866\"/>\n",
       "</g>\n",
       "<!-- state&#45;4&#45;&gt;unexplored -->\n",
       "<g id=\"edge24\" class=\"edge\">\n",
       "<title>state&#45;4&#45;&gt;unexplored</title>\n",
       "<path fill=\"none\" stroke=\"#000000\" d=\"M706.8099,-135.3151C718.7737,-132.459 732.0295,-129.4463 744.262,-127 792.8393,-117.2854 806.1828,-120.9379 854.262,-109 902.9583,-96.9088 912.1372,-83.2122 961.262,-73 1127.8462,-38.3698 1643.2007,-23.7778 1834.1354,-19.4646\"/>\n",
       "<polygon fill=\"#000000\" stroke=\"#000000\" points=\"1834.4212,-22.9592 1844.3406,-19.2369 1834.265,-15.9609 1834.4212,-22.9592\"/>\n",
       "</g>\n",
       "<!-- state&#45;5&#45;&gt;unexplored -->\n",
       "<g id=\"edge25\" class=\"edge\">\n",
       "<title>state&#45;5&#45;&gt;unexplored</title>\n",
       "<path fill=\"none\" stroke=\"#000000\" d=\"M830.3976,-132.1832C835.9624,-130.256 841.7361,-128.4365 847.262,-127 896.9064,-114.0948 912.4146,-124.6539 961.262,-109 995.3324,-98.0816 998.9772,-83.2252 1033.262,-73 1109.081,-50.3875 1639.9737,-28.1433 1834.7933,-20.6524\"/>\n",
       "<polygon fill=\"#000000\" stroke=\"#000000\" points=\"1835.0648,-24.1447 1844.9235,-20.2646 1834.7969,-17.1498 1835.0648,-24.1447\"/>\n",
       "</g>\n",
       "<!-- state&#45;6&#45;&gt;unexplored -->\n",
       "<g id=\"edge26\" class=\"edge\">\n",
       "<title>state&#45;6&#45;&gt;unexplored</title>\n",
       "<path fill=\"none\" stroke=\"#000000\" d=\"M926.7144,-132.2821C932.1911,-130.366 937.8538,-128.5243 943.262,-127 982.5245,-115.934 995.5094,-124.4513 1033.262,-109 1060.3003,-97.9338 1061.0059,-83.5183 1088.262,-73 1138.6387,-53.5594 1154.5576,-59.6207 1208.262,-54 1435.9842,-30.1667 1707.228,-21.9091 1834.1125,-19.2145\"/>\n",
       "<polygon fill=\"#000000\" stroke=\"#000000\" points=\"1834.5418,-22.7065 1844.4672,-19.0002 1834.3969,-15.708 1834.5418,-22.7065\"/>\n",
       "</g>\n",
       "<!-- state&#45;7&#45;&gt;unexplored -->\n",
       "<g id=\"edge27\" class=\"edge\">\n",
       "<title>state&#45;7&#45;&gt;unexplored</title>\n",
       "<path fill=\"none\" stroke=\"#000000\" d=\"M1023.6693,-132.7361C1052.028,-122.3243 1088.1655,-109.0531 1088.262,-109 1111.3174,-96.3196 1111.4483,-84.1917 1135.262,-73 1169.5113,-56.9038 1180.7821,-59.2305 1218.262,-54 1335.581,-37.6277 1683.227,-25.0393 1834.5468,-20.1807\"/>\n",
       "<polygon fill=\"#000000\" stroke=\"#000000\" points=\"1834.778,-23.6752 1844.6613,-19.8581 1834.5548,-16.6787 1834.778,-23.6752\"/>\n",
       "</g>\n",
       "<!-- state&#45;8&#45;&gt;unexplored -->\n",
       "<g id=\"edge28\" class=\"edge\">\n",
       "<title>state&#45;8&#45;&gt;unexplored</title>\n",
       "<path fill=\"none\" stroke=\"#000000\" d=\"M1107.9429,-128.9838C1132.6814,-110.8094 1171.7194,-82.4622 1187.262,-73 1203.052,-63.3873 1206.4145,-58.8161 1224.262,-54 1281.879,-38.4523 1670.6837,-25.0936 1834.1193,-20.097\"/>\n",
       "<polygon fill=\"#000000\" stroke=\"#000000\" points=\"1834.6636,-23.5822 1844.5527,-19.7801 1834.451,-16.5854 1834.6636,-23.5822\"/>\n",
       "</g>\n",
       "<!-- state&#45;9&#45;&gt;unexplored -->\n",
       "<g id=\"edge29\" class=\"edge\">\n",
       "<title>state&#45;9&#45;&gt;unexplored</title>\n",
       "<path fill=\"none\" stroke=\"#000000\" d=\"M1185.7223,-127.0343C1190.9001,-105.5836 1202.9067,-70.5362 1228.262,-54 1253.3278,-37.6526 1665.3712,-24.5848 1834.5876,-19.8822\"/>\n",
       "<polygon fill=\"#000000\" stroke=\"#000000\" points=\"1834.7492,-23.3791 1844.6488,-19.6045 1834.556,-16.3818 1834.7492,-23.3791\"/>\n",
       "</g>\n",
       "<!-- state&#45;10&#45;&gt;unexplored -->\n",
       "<g id=\"edge30\" class=\"edge\">\n",
       "<title>state&#45;10&#45;&gt;unexplored</title>\n",
       "<path fill=\"none\" stroke=\"#000000\" d=\"M2138.0369,-195.3535C2081.426,-191.2823 1985.6812,-184.7715 1903.262,-181 1885.5235,-180.1883 1276.6401,-175.7317 1264.262,-163 1181.7879,-78.17 1652.8442,-35.7 1835.8688,-22.5673\"/>\n",
       "<polygon fill=\"#000000\" stroke=\"#000000\" points=\"1836.2073,-26.0521 1845.9348,-21.8538 1835.7123,-19.0697 1836.2073,-26.0521\"/>\n",
       "</g>\n",
       "<!-- state&#45;11&#45;&gt;end -->\n",
       "<g id=\"edge38\" class=\"edge\">\n",
       "<title>state&#45;11&#45;&gt;end</title>\n",
       "<path fill=\"none\" stroke=\"#000000\" d=\"M2357.342,-198.1383C2548.5902,-194.8207 3223.5408,-182.098 3265.262,-163 3287.2089,-152.9537 3305.3471,-132.0489 3318.7064,-115.3405\"/>\n",
       "<polygon fill=\"#000000\" stroke=\"#000000\" points=\"3321.7932,-117.0798 3325.2517,-107.0654 3316.3029,-112.7373 3321.7932,-117.0798\"/>\n",
       "</g>\n",
       "<!-- state&#45;11&#45;&gt;end -->\n",
       "<g id=\"edge49\" class=\"edge\">\n",
       "<title>state&#45;11&#45;&gt;end</title>\n",
       "<path fill=\"none\" stroke=\"#000000\" d=\"M2357.3885,-198.2485C2551.0622,-195.111 3241.0635,-182.3165 3283.262,-163 3304.2216,-153.4057 3321.7075,-133.9078 3332.2348,-117.6196\"/>\n",
       "<polygon fill=\"#000000\" stroke=\"#000000\" points=\"3335.2643,-119.3726 3337.3453,-108.9841 3329.2402,-115.8075 3335.2643,-119.3726\"/>\n",
       "</g>\n",
       "<!-- state&#45;19 -->\n",
       "<g id=\"node22\" class=\"node\">\n",
       "<title>state&#45;19</title>\n",
       "<ellipse fill=\"none\" stroke=\"#000000\" cx=\"2027.262\" cy=\"-91\" rx=\"50.0912\" ry=\"18\"/>\n",
       "<text text-anchor=\"middle\" x=\"2027.262\" y=\"-87.3\" font-family=\"Times,serif\" font-size=\"14.00\" fill=\"#000000\">&lt;state&#45;19&gt;</text>\n",
       "</g>\n",
       "<!-- state&#45;11&#45;&gt;state&#45;19 -->\n",
       "<g id=\"edge31\" class=\"edge\">\n",
       "<title>state&#45;11&#45;&gt;state&#45;19</title>\n",
       "<path fill=\"none\" stroke=\"#000000\" d=\"M2269.7381,-186.9925C2262.0267,-184.7894 2253.923,-182.6639 2246.262,-181 2190.5522,-168.9005 2166.2408,-195.2951 2119.262,-163 2104.1788,-152.6312 2112.4825,-139.6582 2099.262,-127 2091.4593,-119.5292 2081.8044,-113.2878 2072.1271,-108.2145\"/>\n",
       "<polygon fill=\"#000000\" stroke=\"#000000\" points=\"2073.4232,-104.9523 2062.9018,-103.7063 2070.3497,-111.2415 2073.4232,-104.9523\"/>\n",
       "<text text-anchor=\"start\" x=\"2119.262\" y=\"-141.3\" font-family=\"Times,serif\" font-size=\"14.00\" fill=\"#000000\">click(&#39;Cite&#39;)</text>\n",
       "</g>\n",
       "<!-- state&#45;11&#45;&gt;state&#45;19 -->\n",
       "<g id=\"edge42\" class=\"edge\">\n",
       "<title>state&#45;11&#45;&gt;state&#45;19</title>\n",
       "<path fill=\"none\" stroke=\"#000000\" d=\"M2270.1341,-186.7375C2262.3203,-184.5265 2254.0763,-182.4627 2246.262,-181 2222.5899,-176.569 2046.9344,-180.379 2030.262,-163 2019.3897,-151.6669 2018.4586,-134.1359 2020.3336,-119.2105\"/>\n",
       "<polygon fill=\"#000000\" stroke=\"#000000\" points=\"2023.856,-119.3759 2022.0927,-108.9288 2016.9563,-118.1953 2023.856,-119.3759\"/>\n",
       "<text text-anchor=\"start\" x=\"2030.262\" y=\"-141.3\" font-family=\"Times,serif\" font-size=\"14.00\" fill=\"#000000\">click(&#39;Cite&#39;)</text>\n",
       "</g>\n",
       "<!-- state&#45;20 -->\n",
       "<g id=\"node23\" class=\"node\">\n",
       "<title>state&#45;20</title>\n",
       "<ellipse fill=\"none\" stroke=\"#000000\" cx=\"1555.262\" cy=\"-91\" rx=\"50.0912\" ry=\"18\"/>\n",
       "<text text-anchor=\"middle\" x=\"1555.262\" y=\"-87.3\" font-family=\"Times,serif\" font-size=\"14.00\" fill=\"#000000\">&lt;state&#45;20&gt;</text>\n",
       "</g>\n",
       "<!-- state&#45;11&#45;&gt;state&#45;20 -->\n",
       "<g id=\"edge32\" class=\"edge\">\n",
       "<title>state&#45;11&#45;&gt;state&#45;20</title>\n",
       "<path fill=\"none\" stroke=\"#000000\" d=\"M2270.8515,-186.5277C2262.8417,-184.2717 2254.3377,-182.2432 2246.262,-181 2219.6267,-176.8996 1295.1403,-182.2318 1276.262,-163 1265.0537,-151.5818 1265.697,-139.0158 1276.262,-127 1290.4977,-110.8094 1417.8257,-99.8268 1495.4661,-94.5703\"/>\n",
       "<polygon fill=\"#000000\" stroke=\"#000000\" points=\"1495.8624,-98.0518 1505.6085,-93.897 1495.3986,-91.0672 1495.8624,-98.0518\"/>\n",
       "<text text-anchor=\"start\" x=\"1276.262\" y=\"-141.3\" font-family=\"Times,serif\" font-size=\"14.00\" fill=\"#000000\">click(&#39;The Fuzzing Book&#39;)</text>\n",
       "</g>\n",
       "<!-- state&#45;11&#45;&gt;state&#45;20 -->\n",
       "<g id=\"edge43\" class=\"edge\">\n",
       "<title>state&#45;11&#45;&gt;state&#45;20</title>\n",
       "<path fill=\"none\" stroke=\"#000000\" d=\"M2270.8474,-186.5537C2262.8379,-184.2962 2254.3351,-182.2604 2246.262,-181 2224.602,-177.6183 1472.5857,-178.6772 1457.262,-163 1446.0781,-151.558 1448.1043,-140.1201 1457.262,-127 1463.1953,-118.4995 1483.3915,-110.4081 1503.9203,-104.0573\"/>\n",
       "<polygon fill=\"#000000\" stroke=\"#000000\" points=\"1505.05,-107.3731 1513.6436,-101.1762 1503.0612,-100.6615 1505.05,-107.3731\"/>\n",
       "<text text-anchor=\"start\" x=\"1457.262\" y=\"-141.3\" font-family=\"Times,serif\" font-size=\"14.00\" fill=\"#000000\">click(&#39;The Fuzzing Book&#39;)</text>\n",
       "</g>\n",
       "<!-- state&#45;21 -->\n",
       "<g id=\"node24\" class=\"node\">\n",
       "<title>state&#45;21</title>\n",
       "<ellipse fill=\"none\" stroke=\"#000000\" cx=\"1771.262\" cy=\"-91\" rx=\"50.0912\" ry=\"18\"/>\n",
       "<text text-anchor=\"middle\" x=\"1771.262\" y=\"-87.3\" font-family=\"Times,serif\" font-size=\"14.00\" fill=\"#000000\">&lt;state&#45;21&gt;</text>\n",
       "</g>\n",
       "<!-- state&#45;11&#45;&gt;state&#45;21 -->\n",
       "<g id=\"edge33\" class=\"edge\">\n",
       "<title>state&#45;11&#45;&gt;state&#45;21</title>\n",
       "<path fill=\"none\" stroke=\"#000000\" d=\"M2270.842,-186.5884C2262.8328,-184.3287 2254.3315,-182.2833 2246.262,-181 2211.5725,-175.4835 1638.7433,-188.1884 1614.262,-163 1603.1105,-151.5264 1604.2924,-139.5143 1614.262,-127 1626.6045,-111.5071 1673.3664,-102.1368 1712.6732,-96.8572\"/>\n",
       "<polygon fill=\"#000000\" stroke=\"#000000\" points=\"1713.2655,-100.3101 1722.7409,-95.5701 1712.3778,-93.3666 1713.2655,-100.3101\"/>\n",
       "<text text-anchor=\"start\" x=\"1614.262\" y=\"-141.3\" font-family=\"Times,serif\" font-size=\"14.00\" fill=\"#000000\">click(&#39;Timer module&#39;)</text>\n",
       "</g>\n",
       "<!-- state&#45;11&#45;&gt;state&#45;21 -->\n",
       "<g id=\"edge44\" class=\"edge\">\n",
       "<title>state&#45;11&#45;&gt;state&#45;21</title>\n",
       "<path fill=\"none\" stroke=\"#000000\" d=\"M2270.8328,-186.6449C2262.8242,-184.3817 2254.3255,-182.3205 2246.262,-181 2220.0918,-176.7141 1787.6567,-182.1019 1769.262,-163 1758.2678,-151.5831 1758.6507,-133.8215 1761.8399,-118.7966\"/>\n",
       "<polygon fill=\"#000000\" stroke=\"#000000\" points=\"1765.2726,-119.5017 1764.3907,-108.9436 1758.4961,-117.7472 1765.2726,-119.5017\"/>\n",
       "<text text-anchor=\"start\" x=\"1769.262\" y=\"-141.3\" font-family=\"Times,serif\" font-size=\"14.00\" fill=\"#000000\">click(&#39;Timer module&#39;)</text>\n",
       "</g>\n",
       "<!-- state&#45;22 -->\n",
       "<g id=\"node25\" class=\"node\">\n",
       "<title>state&#45;22</title>\n",
       "<ellipse fill=\"none\" stroke=\"#000000\" cx=\"1906.262\" cy=\"-91\" rx=\"50.0912\" ry=\"18\"/>\n",
       "<text text-anchor=\"middle\" x=\"1906.262\" y=\"-87.3\" font-family=\"Times,serif\" font-size=\"14.00\" fill=\"#000000\">&lt;state&#45;22&gt;</text>\n",
       "</g>\n",
       "<!-- state&#45;11&#45;&gt;state&#45;22 -->\n",
       "<g id=\"edge34\" class=\"edge\">\n",
       "<title>state&#45;11&#45;&gt;state&#45;22</title>\n",
       "<path fill=\"none\" stroke=\"#000000\" d=\"M2270.4927,-186.6438C2262.5804,-184.4106 2254.2066,-182.3618 2246.262,-181 2208.7564,-174.5711 1930.4526,-190.6053 1904.262,-163 1893.353,-151.5017 1893.7367,-133.7393 1896.905,-118.7343\"/>\n",
       "<polygon fill=\"#000000\" stroke=\"#000000\" points=\"1900.3336,-119.4547 1899.4387,-108.8978 1893.5549,-117.7086 1900.3336,-119.4547\"/>\n",
       "<text text-anchor=\"start\" x=\"1904.262\" y=\"-141.3\" font-family=\"Times,serif\" font-size=\"14.00\" fill=\"#000000\">click(&#39;&#39;)</text>\n",
       "</g>\n",
       "<!-- state&#45;11&#45;&gt;state&#45;22 -->\n",
       "<g id=\"edge45\" class=\"edge\">\n",
       "<title>state&#45;11&#45;&gt;state&#45;22</title>\n",
       "<path fill=\"none\" stroke=\"#000000\" d=\"M2270.4784,-186.726C2262.567,-184.4872 2254.1972,-182.4154 2246.262,-181 2186.6265,-170.3631 2027.77,-191.3975 1974.262,-163 1956.3575,-153.4978 1960.0714,-141.8379 1946.262,-127 1942.3634,-122.811 1938.0406,-118.5658 1933.7197,-114.5309\"/>\n",
       "<polygon fill=\"#000000\" stroke=\"#000000\" points=\"1935.7921,-111.6851 1926.0362,-107.5531 1931.086,-116.8671 1935.7921,-111.6851\"/>\n",
       "<text text-anchor=\"start\" x=\"1974.262\" y=\"-141.3\" font-family=\"Times,serif\" font-size=\"14.00\" fill=\"#000000\">click(&#39;&#39;)</text>\n",
       "</g>\n",
       "<!-- state&#45;23 -->\n",
       "<g id=\"node26\" class=\"node\">\n",
       "<title>state&#45;23</title>\n",
       "<ellipse fill=\"none\" stroke=\"#000000\" cx=\"2177.262\" cy=\"-91\" rx=\"50.0912\" ry=\"18\"/>\n",
       "<text text-anchor=\"middle\" x=\"2177.262\" y=\"-87.3\" font-family=\"Times,serif\" font-size=\"14.00\" fill=\"#000000\">&lt;state&#45;23&gt;</text>\n",
       "</g>\n",
       "<!-- state&#45;11&#45;&gt;state&#45;23 -->\n",
       "<g id=\"edge35\" class=\"edge\">\n",
       "<title>state&#45;11&#45;&gt;state&#45;23</title>\n",
       "<path fill=\"none\" stroke=\"#000000\" d=\"M2267.9226,-187.7628C2245.0508,-180.5967 2219.0497,-171.1571 2210.262,-163 2197.5702,-151.2189 2189.3795,-133.6045 2184.3327,-118.7472\"/>\n",
       "<polygon fill=\"#000000\" stroke=\"#000000\" points=\"2187.6197,-117.5291 2181.3244,-109.0074 2180.9315,-119.595 2187.6197,-117.5291\"/>\n",
       "<text text-anchor=\"start\" x=\"2210.262\" y=\"-141.3\" font-family=\"Times,serif\" font-size=\"14.00\" fill=\"#000000\">click(&#39;Timer&#39;)</text>\n",
       "</g>\n",
       "<!-- state&#45;11&#45;&gt;state&#45;23 -->\n",
       "<g id=\"edge46\" class=\"edge\">\n",
       "<title>state&#45;11&#45;&gt;state&#45;23</title>\n",
       "<path fill=\"none\" stroke=\"#000000\" d=\"M2306.5502,-180.6885C2304.9597,-164.5511 2300.1892,-141.4263 2286.262,-127 2277.8982,-118.3364 2253.1404,-109.8299 2229.3307,-103.2628\"/>\n",
       "<polygon fill=\"#000000\" stroke=\"#000000\" points=\"2230.153,-99.8598 2219.5887,-100.6635 2228.3484,-106.6232 2230.153,-99.8598\"/>\n",
       "<text text-anchor=\"start\" x=\"2304.262\" y=\"-141.3\" font-family=\"Times,serif\" font-size=\"14.00\" fill=\"#000000\">click(&#39;Timer&#39;)</text>\n",
       "</g>\n",
       "<!-- state&#45;24 -->\n",
       "<g id=\"node27\" class=\"node\">\n",
       "<title>state&#45;24</title>\n",
       "<ellipse fill=\"none\" stroke=\"#000000\" cx=\"2351.262\" cy=\"-91\" rx=\"50.0912\" ry=\"18\"/>\n",
       "<text text-anchor=\"middle\" x=\"2351.262\" y=\"-87.3\" font-family=\"Times,serif\" font-size=\"14.00\" fill=\"#000000\">&lt;state&#45;24&gt;</text>\n",
       "</g>\n",
       "<!-- state&#45;11&#45;&gt;state&#45;24 -->\n",
       "<g id=\"edge36\" class=\"edge\">\n",
       "<title>state&#45;11&#45;&gt;state&#45;24</title>\n",
       "<path fill=\"none\" stroke=\"#000000\" d=\"M2349.9001,-189.1832C2363.5636,-183.8042 2377.2238,-175.5629 2385.262,-163 2393.8853,-149.5226 2391.1732,-141.868 2385.262,-127 2383.6541,-122.9558 2381.3525,-119.1032 2378.6945,-115.5247\"/>\n",
       "<polygon fill=\"#000000\" stroke=\"#000000\" points=\"2381.1667,-113.0306 2372.0042,-107.7109 2375.8494,-117.5833 2381.1667,-113.0306\"/>\n",
       "<text text-anchor=\"start\" x=\"2390.262\" y=\"-141.3\" font-family=\"Times,serif\" font-size=\"14.00\" fill=\"#000000\">click(&#39;use fuzzing to test programs with random inputs&#39;)</text>\n",
       "</g>\n",
       "<!-- state&#45;11&#45;&gt;state&#45;24 -->\n",
       "<g id=\"edge47\" class=\"edge\">\n",
       "<title>state&#45;11&#45;&gt;state&#45;24</title>\n",
       "<path fill=\"none\" stroke=\"#000000\" d=\"M2357.3908,-198.1742C2459.3316,-195.9739 2683.1543,-188.2864 2706.262,-163 2717.0554,-151.1889 2716.9898,-138.8707 2706.262,-127 2686.9007,-105.576 2507.4206,-96.2626 2411.3357,-92.7836\"/>\n",
       "<polygon fill=\"#000000\" stroke=\"#000000\" points=\"2411.2934,-89.28 2401.1765,-92.4262 2411.0472,-96.2757 2411.2934,-89.28\"/>\n",
       "<text text-anchor=\"start\" x=\"2714.262\" y=\"-141.3\" font-family=\"Times,serif\" font-size=\"14.00\" fill=\"#000000\">click(&#39;use fuzzing to test programs with random inputs&#39;)</text>\n",
       "</g>\n",
       "<!-- state&#45;25 -->\n",
       "<g id=\"node28\" class=\"node\">\n",
       "<title>state&#45;25</title>\n",
       "<ellipse fill=\"none\" stroke=\"#000000\" cx=\"2773.262\" cy=\"-91\" rx=\"50.0912\" ry=\"18\"/>\n",
       "<text text-anchor=\"middle\" x=\"2773.262\" y=\"-87.3\" font-family=\"Times,serif\" font-size=\"14.00\" fill=\"#000000\">&lt;state&#45;25&gt;</text>\n",
       "</g>\n",
       "<!-- state&#45;11&#45;&gt;state&#45;25 -->\n",
       "<g id=\"edge37\" class=\"edge\">\n",
       "<title>state&#45;11&#45;&gt;state&#45;25</title>\n",
       "<path fill=\"none\" stroke=\"#000000\" d=\"M2357.3871,-198.3777C2517.432,-196.1482 3007.0888,-187.3557 3030.262,-163 3041.2908,-151.4084 3040.7617,-139.073 3030.262,-127 3017.4755,-112.2975 2904.6137,-101.0265 2832.7674,-95.263\"/>\n",
       "<polygon fill=\"#000000\" stroke=\"#000000\" points=\"2832.7255,-91.7489 2822.4815,-94.4528 2832.1758,-98.7273 2832.7255,-91.7489\"/>\n",
       "<text text-anchor=\"start\" x=\"3038.262\" y=\"-141.3\" font-family=\"Times,serif\" font-size=\"14.00\" fill=\"#000000\">click(&#39;ExpectError&#39;)</text>\n",
       "</g>\n",
       "<!-- state&#45;11&#45;&gt;state&#45;25 -->\n",
       "<g id=\"edge48\" class=\"edge\">\n",
       "<title>state&#45;11&#45;&gt;state&#45;25</title>\n",
       "<path fill=\"none\" stroke=\"#000000\" d=\"M2357.5865,-198.7541C2535.3597,-197.642 3124.6729,-191.7895 3152.262,-163 3163.3323,-151.448 3163.0275,-138.8365 3152.262,-127 3131.2751,-103.9252 2935.1699,-95.306 2833.6117,-92.3703\"/>\n",
       "<polygon fill=\"#000000\" stroke=\"#000000\" points=\"2833.5875,-88.8683 2823.4937,-92.0875 2833.392,-95.8656 2833.5875,-88.8683\"/>\n",
       "<text text-anchor=\"start\" x=\"3160.262\" y=\"-141.3\" font-family=\"Times,serif\" font-size=\"14.00\" fill=\"#000000\">click(&#39;ExpectError&#39;)</text>\n",
       "</g>\n",
       "<!-- state&#45;12&#45;&gt;unexplored -->\n",
       "<g id=\"edge39\" class=\"edge\">\n",
       "<title>state&#45;12&#45;&gt;unexplored</title>\n",
       "<path fill=\"none\" stroke=\"#000000\" d=\"M3209.5109,-186.8117C3216.683,-184.6996 3224.1701,-182.6542 3231.262,-181 3279.5061,-169.7469 3298.5258,-188.0547 3341.262,-163 3379.5053,-140.5793 3415.0204,-104.9242 3384.262,-73 3359.5982,-47.4014 2271.1528,-24.9259 1978.2182,-19.3328\"/>\n",
       "<polygon fill=\"#000000\" stroke=\"#000000\" points=\"1978.2011,-15.8319 1968.1363,-19.141 1978.0679,-22.8307 1978.2011,-15.8319\"/>\n",
       "</g>\n",
       "<!-- state&#45;13&#45;&gt;unexplored -->\n",
       "<g id=\"edge40\" class=\"edge\">\n",
       "<title>state&#45;13&#45;&gt;unexplored</title>\n",
       "<path fill=\"none\" stroke=\"#000000\" d=\"M3331.3306,-188.4737C3346.8308,-182.9035 3363.7294,-174.7174 3376.262,-163 3406.7671,-134.4791 3431.3891,-103.8685 3403.262,-73 3378.9859,-46.3578 2273.5788,-24.6042 1978.1927,-19.2596\"/>\n",
       "<polygon fill=\"#000000\" stroke=\"#000000\" points=\"1978.0913,-15.7573 1968.0298,-19.0765 1977.965,-22.7562 1978.0913,-15.7573\"/>\n",
       "</g>\n",
       "<!-- state&#45;14&#45;&gt;unexplored -->\n",
       "<g id=\"edge41\" class=\"edge\">\n",
       "<title>state&#45;14&#45;&gt;unexplored</title>\n",
       "<path fill=\"none\" stroke=\"#000000\" d=\"M3418.0413,-180.9539C3431.2338,-153.8707 3450.165,-102.7275 3423.262,-73 3366.3167,-10.0762 3317.9571,-59.3765 3233.262,-54 2985.947,-38.3003 2217.7021,-23.573 1978.2688,-19.2634\"/>\n",
       "<polygon fill=\"#000000\" stroke=\"#000000\" points=\"1978.0057,-15.7583 1967.9445,-19.0782 1977.88,-22.7571 1978.0057,-15.7583\"/>\n",
       "</g>\n",
       "<!-- state&#45;16&#45;&gt;unexplored -->\n",
       "<g id=\"edge50\" class=\"edge\">\n",
       "<title>state&#45;16&#45;&gt;unexplored</title>\n",
       "<path fill=\"none\" stroke=\"#000000\" d=\"M3519.8373,-180.9566C3508.8447,-152.9081 3483.626,-99.3401 3443.262,-73 3400.9795,-45.4079 3381.5153,-58.8722 3331.262,-54 3064.4702,-28.1339 2228.8551,-20.2658 1978.1004,-18.4573\"/>\n",
       "<polygon fill=\"#000000\" stroke=\"#000000\" points=\"1978.0378,-14.9568 1968.0132,-18.3855 1977.988,-21.9567 1978.0378,-14.9568\"/>\n",
       "</g>\n",
       "<!-- state&#45;17&#45;&gt;unexplored -->\n",
       "<g id=\"edge51\" class=\"edge\">\n",
       "<title>state&#45;17&#45;&gt;unexplored</title>\n",
       "<path fill=\"none\" stroke=\"#000000\" d=\"M3635.9101,-182.076C3605.0324,-154.5974 3539.6327,-100.5801 3474.262,-73 3432.5803,-55.4144 3419.247,-58.7927 3374.262,-54 3099.0648,-24.6804 2234.7492,-19.1988 1978.532,-18.2101\"/>\n",
       "<polygon fill=\"#000000\" stroke=\"#000000\" points=\"1978.2442,-14.7091 1968.2311,-18.1715 1978.2179,-21.709 1978.2442,-14.7091\"/>\n",
       "</g>\n",
       "<!-- state&#45;18&#45;&gt;unexplored -->\n",
       "<g id=\"edge52\" class=\"edge\">\n",
       "<title>state&#45;18&#45;&gt;unexplored</title>\n",
       "<path fill=\"none\" stroke=\"#000000\" d=\"M3773.9145,-183.6659C3724.7566,-156.8123 3617.5064,-101.4313 3520.262,-73 3465.0607,-56.8608 3449.5627,-58.928 3392.262,-54 3112.8293,-29.9681 2236.6244,-20.7926 1978.4996,-18.5703\"/>\n",
       "<polygon fill=\"#000000\" stroke=\"#000000\" points=\"1978.1547,-15.0674 1968.1252,-18.4819 1978.095,-22.0671 1978.1547,-15.0674\"/>\n",
       "</g>\n",
       "<!-- state&#45;19&#45;&gt;unexplored -->\n",
       "<g id=\"edge53\" class=\"edge\">\n",
       "<title>state&#45;19&#45;&gt;unexplored</title>\n",
       "<path fill=\"none\" stroke=\"#000000\" d=\"M1997.5404,-76.4028C1979.067,-66.058 1955.4981,-51.9885 1936.8733,-40.2509\"/>\n",
       "<polygon fill=\"#000000\" stroke=\"#000000\" points=\"1938.7503,-37.2968 1928.4362,-34.8737 1934.9881,-43.1999 1938.7503,-37.2968\"/>\n",
       "</g>\n",
       "<!-- state&#45;19&#45;&gt;unexplored -->\n",
       "<g id=\"edge60\" class=\"edge\">\n",
       "<title>state&#45;19&#45;&gt;unexplored</title>\n",
       "<path fill=\"none\" stroke=\"#000000\" d=\"M2005.8478,-74.6174C1989.3976,-63.9729 1966.3868,-50.0088 1946.5736,-38.6122\"/>\n",
       "<polygon fill=\"#000000\" stroke=\"#000000\" points=\"1948.1522,-35.4836 1937.7302,-33.5778 1944.689,-41.5669 1948.1522,-35.4836\"/>\n",
       "</g>\n",
       "<!-- state&#45;20&#45;&gt;unexplored -->\n",
       "<g id=\"edge54\" class=\"edge\">\n",
       "<title>state&#45;20&#45;&gt;unexplored</title>\n",
       "<path fill=\"none\" stroke=\"#000000\" d=\"M1597.4609,-81.2306C1658.8731,-67.9368 1773.0241,-44.1709 1844.0641,-29.8674\"/>\n",
       "<polygon fill=\"#000000\" stroke=\"#000000\" points=\"1845.1058,-33.2282 1854.2211,-27.8281 1843.7278,-26.3651 1845.1058,-33.2282\"/>\n",
       "</g>\n",
       "<!-- state&#45;20&#45;&gt;unexplored -->\n",
       "<g id=\"edge61\" class=\"edge\">\n",
       "<title>state&#45;20&#45;&gt;unexplored</title>\n",
       "<path fill=\"none\" stroke=\"#000000\" d=\"M1600.0201,-82.626C1663.0346,-70.0791 1777.7454,-46.2816 1847.5282,-31.3291\"/>\n",
       "<polygon fill=\"#000000\" stroke=\"#000000\" points=\"1848.4448,-34.7121 1857.4865,-29.1896 1846.9744,-27.8683 1848.4448,-34.7121\"/>\n",
       "</g>\n",
       "<!-- state&#45;21&#45;&gt;unexplored -->\n",
       "<g id=\"edge55\" class=\"edge\">\n",
       "<title>state&#45;21&#45;&gt;unexplored</title>\n",
       "<path fill=\"none\" stroke=\"#000000\" d=\"M1795.189,-74.9798C1814.1233,-64.061 1840.8729,-49.527 1863.4304,-37.8708\"/>\n",
       "<polygon fill=\"#000000\" stroke=\"#000000\" points=\"1865.179,-40.9076 1872.484,-33.2338 1861.9879,-34.6773 1865.179,-40.9076\"/>\n",
       "</g>\n",
       "<!-- state&#45;21&#45;&gt;unexplored -->\n",
       "<g id=\"edge62\" class=\"edge\">\n",
       "<title>state&#45;21&#45;&gt;unexplored</title>\n",
       "<path fill=\"none\" stroke=\"#000000\" d=\"M1802.7494,-76.9249C1823.738,-66.3391 1851.1671,-51.6447 1872.5781,-39.5784\"/>\n",
       "<polygon fill=\"#000000\" stroke=\"#000000\" points=\"1874.3888,-42.5751 1881.3495,-34.5877 1870.9271,-36.491 1874.3888,-42.5751\"/>\n",
       "</g>\n",
       "<!-- state&#45;22&#45;&gt;unexplored -->\n",
       "<g id=\"edge56\" class=\"edge\">\n",
       "<title>state&#45;22&#45;&gt;unexplored</title>\n",
       "<path fill=\"none\" stroke=\"#000000\" d=\"M1900.3463,-72.9551C1899.5478,-64.8828 1899.3225,-55.1764 1899.6703,-46.1817\"/>\n",
       "<polygon fill=\"#000000\" stroke=\"#000000\" points=\"1903.17,-46.3007 1900.3418,-36.0904 1896.1855,-45.8359 1903.17,-46.3007\"/>\n",
       "</g>\n",
       "<!-- state&#45;22&#45;&gt;unexplored -->\n",
       "<g id=\"edge63\" class=\"edge\">\n",
       "<title>state&#45;22&#45;&gt;unexplored</title>\n",
       "<path fill=\"none\" stroke=\"#000000\" d=\"M1912.1777,-72.9551C1912.9762,-64.8828 1913.2015,-55.1764 1912.8537,-46.1817\"/>\n",
       "<polygon fill=\"#000000\" stroke=\"#000000\" points=\"1916.3385,-45.8359 1912.1822,-36.0904 1909.354,-46.3007 1916.3385,-45.8359\"/>\n",
       "</g>\n",
       "<!-- state&#45;23&#45;&gt;unexplored -->\n",
       "<g id=\"edge57\" class=\"edge\">\n",
       "<title>state&#45;23&#45;&gt;unexplored</title>\n",
       "<path fill=\"none\" stroke=\"#000000\" d=\"M2135.332,-81.0027C2087.9654,-68.8489 2010.9812,-48.189 1959.4456,-33.8563\"/>\n",
       "<polygon fill=\"#000000\" stroke=\"#000000\" points=\"1960.067,-30.396 1949.4941,-31.0786 1958.1849,-37.1383 1960.067,-30.396\"/>\n",
       "</g>\n",
       "<!-- state&#45;23&#45;&gt;unexplored -->\n",
       "<g id=\"edge64\" class=\"edge\">\n",
       "<title>state&#45;23&#45;&gt;unexplored</title>\n",
       "<path fill=\"none\" stroke=\"#000000\" d=\"M2138.836,-79.2713C2093.2416,-66.4356 2016.9814,-45.8616 1964.2298,-32.1423\"/>\n",
       "<polygon fill=\"#000000\" stroke=\"#000000\" points=\"1964.8961,-28.6994 1954.3379,-29.579 1963.1402,-35.4756 1964.8961,-28.6994\"/>\n",
       "</g>\n",
       "<!-- state&#45;24&#45;&gt;unexplored -->\n",
       "<g id=\"edge58\" class=\"edge\">\n",
       "<title>state&#45;24&#45;&gt;unexplored</title>\n",
       "<path fill=\"none\" stroke=\"#000000\" d=\"M2304.8338,-84.0665C2224.51,-71.4041 2059.8377,-44.4374 1969.2761,-29.1609\"/>\n",
       "<polygon fill=\"#000000\" stroke=\"#000000\" points=\"1969.5884,-25.6641 1959.1448,-27.4483 1968.4215,-32.5662 1969.5884,-25.6641\"/>\n",
       "</g>\n",
       "<!-- state&#45;24&#45;&gt;unexplored -->\n",
       "<g id=\"edge65\" class=\"edge\">\n",
       "<title>state&#45;24&#45;&gt;unexplored</title>\n",
       "<path fill=\"none\" stroke=\"#000000\" d=\"M2306.3715,-82.9088C2227.2152,-69.4374 2062.8498,-42.4543 1971.2892,-27.8808\"/>\n",
       "<polygon fill=\"#000000\" stroke=\"#000000\" points=\"1971.7326,-24.4074 1961.3074,-26.2955 1970.6346,-31.3207 1971.7326,-24.4074\"/>\n",
       "</g>\n",
       "<!-- state&#45;25&#45;&gt;unexplored -->\n",
       "<g id=\"edge59\" class=\"edge\">\n",
       "<title>state&#45;25&#45;&gt;unexplored</title>\n",
       "<path fill=\"none\" stroke=\"#000000\" d=\"M2724.3307,-87.1524C2578.2045,-75.2219 2145.1247,-38.7777 1975.4675,-24.1607\"/>\n",
       "<polygon fill=\"#000000\" stroke=\"#000000\" points=\"1975.6683,-20.6651 1965.4045,-23.2926 1975.0666,-27.6392 1975.6683,-20.6651\"/>\n",
       "</g>\n",
       "<!-- state&#45;25&#45;&gt;unexplored -->\n",
       "<g id=\"edge66\" class=\"edge\">\n",
       "<title>state&#45;25&#45;&gt;unexplored</title>\n",
       "<path fill=\"none\" stroke=\"#000000\" d=\"M2724.4112,-86.5979C2578.5626,-73.9557 2146.3304,-37.5522 1976.1587,-23.5655\"/>\n",
       "<polygon fill=\"#000000\" stroke=\"#000000\" points=\"1976.3153,-20.0667 1966.0625,-22.7368 1975.7426,-27.0433 1976.3153,-20.0667\"/>\n",
       "</g>\n",
       "</g>\n",
       "</svg>\n"
      ],
      "text/plain": [
       "<graphviz.dot.Digraph at 0x11c088550>"
      ]
     },
     "metadata": {},
     "output_type": "display_data"
    }
   ],
   "source": [
    "# Inspect this graph in the notebook to see it in full glory\n",
    "fsm_diagram(book_fuzzer.grammar)"
   ]
  },
  {
   "cell_type": "markdown",
   "metadata": {
    "slideshow": {
     "slide_type": "fragment"
    }
   },
   "source": [
    "We now have all the basic capabilities we need: We can automatically explore large Web sites; we can explore \"deep\" functionality by filling out forms; and we can have our coverage-based fuzzer automatcially focus on yet unexplored states.  Still, there is a lot more one can do; the [exercises](#Exercises) will give you some ideas."
   ]
  },
  {
   "cell_type": "code",
   "execution_count": 150,
   "metadata": {
    "slideshow": {
     "slide_type": "fragment"
    }
   },
   "outputs": [],
   "source": [
    "gui_driver.quit()"
   ]
  },
  {
   "cell_type": "markdown",
   "metadata": {
    "slideshow": {
     "slide_type": "slide"
    }
   },
   "source": [
    "## Synopsis\n",
    "\n",
    "This chapter demonstrates how to programmatically interact with user interfaces, using Selenium on Web browsers.  It provides an experimental  `GUICoverageFuzzer` class that automatically explores a user interface by systematically interacting with all available user interface elements."
   ]
  },
  {
   "cell_type": "markdown",
   "metadata": {
    "slideshow": {
     "slide_type": "fragment"
    }
   },
   "source": [
    "The function `start_webdriver()` starts a headless Web browser in the background and returns a _GUI driver_ as handle for further communication."
   ]
  },
  {
   "cell_type": "code",
   "execution_count": 151,
   "metadata": {
    "slideshow": {
     "slide_type": "fragment"
    }
   },
   "outputs": [],
   "source": [
    "gui_driver = start_webdriver()"
   ]
  },
  {
   "cell_type": "markdown",
   "metadata": {
    "slideshow": {
     "slide_type": "fragment"
    }
   },
   "source": [
    "We let it the browser open the URL of the server we want to investigate (in this case, the vulnerable server from [the chapter on Web fuzzing](WebFuzzer.ipynb)) and obtain a screen shot."
   ]
  },
  {
   "cell_type": "code",
   "execution_count": 152,
   "metadata": {
    "slideshow": {
     "slide_type": "subslide"
    }
   },
   "outputs": [
    {
     "data": {
      "image/png": "[encoded data removed]",
      "text/plain": [
       "<IPython.core.display.Image object>"
      ]
     },
     "execution_count": 152,
     "metadata": {},
     "output_type": "execute_result"
    }
   ],
   "source": [
    "gui_driver.get(httpd_url)\n",
    "Image(gui_driver.get_screenshot_as_png())"
   ]
  },
  {
   "cell_type": "markdown",
   "metadata": {
    "slideshow": {
     "slide_type": "fragment"
    }
   },
   "source": [
    "The `GUICoverageFuzzer` class explores the user interface and builds a _grammar_ that encodes all states as well as the user interactions required to move from one state to the next.  It is paired with a `GUIRunner` which interacts with the GUI driver."
   ]
  },
  {
   "cell_type": "code",
   "execution_count": 153,
   "metadata": {
    "slideshow": {
     "slide_type": "fragment"
    }
   },
   "outputs": [],
   "source": [
    "gui_fuzzer = GUICoverageFuzzer(gui_driver)"
   ]
  },
  {
   "cell_type": "code",
   "execution_count": 154,
   "metadata": {
    "slideshow": {
     "slide_type": "fragment"
    }
   },
   "outputs": [],
   "source": [
    "gui_runner = GUIRunner(gui_driver)"
   ]
  },
  {
   "cell_type": "markdown",
   "metadata": {
    "slideshow": {
     "slide_type": "fragment"
    }
   },
   "source": [
    "The `explore_all()` method extracts all states and all transitions from a Web user interface."
   ]
  },
  {
   "cell_type": "code",
   "execution_count": 155,
   "metadata": {
    "slideshow": {
     "slide_type": "fragment"
    }
   },
   "outputs": [],
   "source": [
    "gui_fuzzer.explore_all(gui_runner)"
   ]
  },
  {
   "cell_type": "markdown",
   "metadata": {
    "slideshow": {
     "slide_type": "fragment"
    }
   },
   "source": [
    "The grammar embeds a finite state automation and is best visualized as such."
   ]
  },
  {
   "cell_type": "code",
   "execution_count": 156,
   "metadata": {
    "slideshow": {
     "slide_type": "subslide"
    }
   },
   "outputs": [
    {
     "data": {
      "image/svg+xml": [
       "<?xml version=\"1.0\" encoding=\"UTF-8\" standalone=\"no\"?>\n",
       "<!DOCTYPE svg PUBLIC \"-//W3C//DTD SVG 1.1//EN\"\n",
       " \"http://www.w3.org/Graphics/SVG/1.1/DTD/svg11.dtd\">\n",
       "<!-- Generated by graphviz version 2.40.1 (20161225.0304)\n",
       " -->\n",
       "<!-- Title: %3 Pages: 1 -->\n",
       "<svg width=\"620pt\" height=\"352pt\"\n",
       " viewBox=\"0.00 0.00 620.29 352.00\" xmlns=\"http://www.w3.org/2000/svg\" xmlns:xlink=\"http://www.w3.org/1999/xlink\">\n",
       "<g id=\"graph0\" class=\"graph\" transform=\"scale(1 1) rotate(0) translate(4 348)\">\n",
       "<title>%3</title>\n",
       "<polygon fill=\"#ffffff\" stroke=\"transparent\" points=\"-4,4 -4,-348 616.2856,-348 616.2856,4 -4,4\"/>\n",
       "<!-- start -->\n",
       "<g id=\"node1\" class=\"node\">\n",
       "<title>start</title>\n",
       "<ellipse fill=\"none\" stroke=\"#000000\" cx=\"325.559\" cy=\"-326\" rx=\"36.2938\" ry=\"18\"/>\n",
       "<text text-anchor=\"middle\" x=\"325.559\" y=\"-322.3\" font-family=\"Times,serif\" font-size=\"14.00\" fill=\"#000000\">&lt;start&gt;</text>\n",
       "</g>\n",
       "<!-- state -->\n",
       "<g id=\"node2\" class=\"node\">\n",
       "<title>state</title>\n",
       "<ellipse fill=\"none\" stroke=\"#000000\" cx=\"325.559\" cy=\"-253\" rx=\"37.8943\" ry=\"18\"/>\n",
       "<text text-anchor=\"middle\" x=\"325.559\" y=\"-249.3\" font-family=\"Times,serif\" font-size=\"14.00\" fill=\"#000000\">&lt;state&gt;</text>\n",
       "</g>\n",
       "<!-- start&#45;&gt;state -->\n",
       "<g id=\"edge1\" class=\"edge\">\n",
       "<title>start&#45;&gt;state</title>\n",
       "<path fill=\"none\" stroke=\"#000000\" d=\"M325.559,-307.9551C325.559,-299.8828 325.559,-290.1764 325.559,-281.1817\"/>\n",
       "<polygon fill=\"#000000\" stroke=\"#000000\" points=\"329.0591,-281.0903 325.559,-271.0904 322.0591,-281.0904 329.0591,-281.0903\"/>\n",
       "</g>\n",
       "<!-- state&#45;1 -->\n",
       "<g id=\"node3\" class=\"node\">\n",
       "<title>state&#45;1</title>\n",
       "<ellipse fill=\"none\" stroke=\"#000000\" cx=\"200.559\" cy=\"-91\" rx=\"45.4919\" ry=\"18\"/>\n",
       "<text text-anchor=\"middle\" x=\"200.559\" y=\"-87.3\" font-family=\"Times,serif\" font-size=\"14.00\" fill=\"#000000\">&lt;state&#45;1&gt;</text>\n",
       "</g>\n",
       "<!-- state&#45;&gt;state&#45;1 -->\n",
       "<g id=\"edge2\" class=\"edge\">\n",
       "<title>state&#45;&gt;state&#45;1</title>\n",
       "<path fill=\"none\" stroke=\"#000000\" d=\"M287.9696,-251.326C210.145,-247.4741 37.132,-236.7616 19.559,-217 -7.0216,-187.109 -5.817,-157.9202 19.559,-127 35.276,-107.8491 98.0593,-98.6985 145.3065,-94.4548\"/>\n",
       "<polygon fill=\"#000000\" stroke=\"#000000\" points=\"145.7619,-97.9289 155.4311,-93.5979 145.1715,-90.9538 145.7619,-97.9289\"/>\n",
       "<text text-anchor=\"start\" x=\"19.559\" y=\"-168.3\" font-family=\"Times,serif\" font-size=\"14.00\" fill=\"#000000\">click(&#39;terms and conditions&#39;)</text>\n",
       "</g>\n",
       "<!-- state&#45;2 -->\n",
       "<g id=\"node4\" class=\"node\">\n",
       "<title>state&#45;2</title>\n",
       "<ellipse fill=\"none\" stroke=\"#000000\" cx=\"409.559\" cy=\"-91\" rx=\"45.4919\" ry=\"18\"/>\n",
       "<text text-anchor=\"middle\" x=\"409.559\" y=\"-87.3\" font-family=\"Times,serif\" font-size=\"14.00\" fill=\"#000000\">&lt;state&#45;2&gt;</text>\n",
       "</g>\n",
       "<!-- state&#45;&gt;state&#45;2 -->\n",
       "<g id=\"edge3\" class=\"edge\">\n",
       "<title>state&#45;&gt;state&#45;2</title>\n",
       "<path fill=\"none\" stroke=\"#000000\" d=\"M320.0242,-234.9601C313.1594,-208.7877 304.8239,-159.834 326.559,-127 334.0896,-115.6239 346.0651,-107.8231 358.6022,-102.4812\"/>\n",
       "<polygon fill=\"#000000\" stroke=\"#000000\" points=\"360.1077,-105.6543 368.2346,-98.8569 357.6426,-99.1027 360.1077,-105.6543\"/>\n",
       "<text text-anchor=\"start\" x=\"326.559\" y=\"-205.8\" font-family=\"Times,serif\" font-size=\"14.00\" fill=\"#000000\">fill(&#39;email&#39;, &#39;&lt;email&gt;&#39;)</text>\n",
       "<text text-anchor=\"start\" x=\"326.559\" y=\"-190.8\" font-family=\"Times,serif\" font-size=\"14.00\" fill=\"#000000\">check(&#39;terms&#39;, &lt;boolean&gt;)</text>\n",
       "<text text-anchor=\"start\" x=\"326.559\" y=\"-175.8\" font-family=\"Times,serif\" font-size=\"14.00\" fill=\"#000000\">fill(&#39;city&#39;, &#39;&lt;text&gt;&#39;)</text>\n",
       "<text text-anchor=\"start\" x=\"326.559\" y=\"-160.8\" font-family=\"Times,serif\" font-size=\"14.00\" fill=\"#000000\">fill(&#39;name&#39;, &#39;&lt;text&gt;&#39;)</text>\n",
       "<text text-anchor=\"start\" x=\"326.559\" y=\"-145.8\" font-family=\"Times,serif\" font-size=\"14.00\" fill=\"#000000\">fill(&#39;zip&#39;, &#39;&lt;number&gt;&#39;)</text>\n",
       "<text text-anchor=\"start\" x=\"326.559\" y=\"-130.8\" font-family=\"Times,serif\" font-size=\"14.00\" fill=\"#000000\">submit(&#39;submit&#39;)</text>\n",
       "</g>\n",
       "<!-- end -->\n",
       "<g id=\"node5\" class=\"node\">\n",
       "<title>end</title>\n",
       "<ellipse fill=\"none\" stroke=\"#000000\" cx=\"409.559\" cy=\"-18\" rx=\"34.394\" ry=\"18\"/>\n",
       "<text text-anchor=\"middle\" x=\"409.559\" y=\"-14.3\" font-family=\"Times,serif\" font-size=\"14.00\" fill=\"#000000\">&lt;end&gt;</text>\n",
       "</g>\n",
       "<!-- state&#45;&gt;end -->\n",
       "<g id=\"edge4\" class=\"edge\">\n",
       "<title>state&#45;&gt;end</title>\n",
       "<path fill=\"none\" stroke=\"#000000\" d=\"M363.147,-250.6776C433.5438,-245.9431 579.5487,-234.1529 594.559,-217 620.9007,-186.8982 614.4058,-161.729 594.559,-127 563.7784,-73.1385 494.8403,-43.2426 450.3606,-28.9147\"/>\n",
       "<polygon fill=\"#000000\" stroke=\"#000000\" points=\"451.3032,-25.5427 440.7153,-25.9273 449.2321,-32.2293 451.3032,-25.5427\"/>\n",
       "</g>\n",
       "<!-- state&#45;1&#45;&gt;state -->\n",
       "<g id=\"edge5\" class=\"edge\">\n",
       "<title>state&#45;1&#45;&gt;state</title>\n",
       "<path fill=\"none\" stroke=\"#000000\" d=\"M195.3433,-109.0438C188.8335,-135.6645 181.2799,-185.6845 205.559,-217 214.9283,-229.0847 250.2054,-238.7545 280.1047,-245.0166\"/>\n",
       "<polygon fill=\"#000000\" stroke=\"#000000\" points=\"279.4988,-248.4648 289.9931,-247.0082 280.881,-241.6026 279.4988,-248.4648\"/>\n",
       "<text text-anchor=\"start\" x=\"205.559\" y=\"-168.3\" font-family=\"Times,serif\" font-size=\"14.00\" fill=\"#000000\">click(&#39;order form&#39;)</text>\n",
       "</g>\n",
       "<!-- state&#45;1&#45;&gt;end -->\n",
       "<g id=\"edge6\" class=\"edge\">\n",
       "<title>state&#45;1&#45;&gt;end</title>\n",
       "<path fill=\"none\" stroke=\"#000000\" d=\"M235.0711,-78.9455C272.4281,-65.8974 331.8696,-45.1355 370.805,-31.5361\"/>\n",
       "<polygon fill=\"#000000\" stroke=\"#000000\" points=\"372.4347,-34.6743 380.7213,-28.0725 370.1265,-28.0658 372.4347,-34.6743\"/>\n",
       "</g>\n",
       "<!-- state&#45;2&#45;&gt;state -->\n",
       "<g id=\"edge7\" class=\"edge\">\n",
       "<title>state&#45;2&#45;&gt;state</title>\n",
       "<path fill=\"none\" stroke=\"#000000\" d=\"M444.5179,-102.8416C455.4594,-108.3858 466.2993,-116.2134 472.559,-127 492.6361,-161.5964 497.2512,-185.531 472.559,-217 460.2382,-232.7022 410.7697,-242.4461 372.5835,-247.7735\"/>\n",
       "<polygon fill=\"#000000\" stroke=\"#000000\" points=\"372.1013,-244.3067 362.6512,-249.097 373.0259,-251.2454 372.1013,-244.3067\"/>\n",
       "<text text-anchor=\"start\" x=\"488.559\" y=\"-168.3\" font-family=\"Times,serif\" font-size=\"14.00\" fill=\"#000000\">click(&#39;order form&#39;)</text>\n",
       "</g>\n",
       "<!-- state&#45;2&#45;&gt;end -->\n",
       "<g id=\"edge8\" class=\"edge\">\n",
       "<title>state&#45;2&#45;&gt;end</title>\n",
       "<path fill=\"none\" stroke=\"#000000\" d=\"M409.559,-72.9551C409.559,-64.8828 409.559,-55.1764 409.559,-46.1817\"/>\n",
       "<polygon fill=\"#000000\" stroke=\"#000000\" points=\"413.0591,-46.0903 409.559,-36.0904 406.0591,-46.0904 413.0591,-46.0903\"/>\n",
       "</g>\n",
       "</g>\n",
       "</svg>\n"
      ],
      "text/plain": [
       "<graphviz.dot.Digraph at 0x11c088278>"
      ]
     },
     "metadata": {},
     "output_type": "display_data"
    }
   ],
   "source": [
    "fsm_diagram(gui_fuzzer.grammar)"
   ]
  },
  {
   "cell_type": "markdown",
   "metadata": {
    "slideshow": {
     "slide_type": "fragment"
    }
   },
   "source": [
    "The GUI Fuzzer `fuzz()` method produces sequences of interactions that follow paths through the finite state machine.  Since `GUICoverageFuzzer` is derived from `CoverageFuzzer` (see the [chapter on coverage-based grammar fuzzing](GrammarCoverageFuzzer.ipynb)), it automatically covers (a) as many transitions between states as well as (b) as many form elements as possible.  In our case, the first set of actions explores the transition via the \"order form\" link; the second set then goes until the \"<end>\" state."
   ]
  },
  {
   "cell_type": "code",
   "execution_count": 157,
   "metadata": {
    "slideshow": {
     "slide_type": "subslide"
    }
   },
   "outputs": [
    {
     "name": "stdout",
     "output_type": "stream",
     "text": [
      "click('terms and conditions')\n",
      "click('order form')\n",
      "fill('email', 'V@l')\n",
      "check('terms', False)\n",
      "fill('city', 'E')\n",
      "fill('name', 'MI')\n",
      "fill('zip', '3')\n",
      "submit('submit')\n",
      "click('order form')\n",
      "fill('email', 'e@J')\n",
      "check('terms', True)\n",
      "fill('city', 'i')\n",
      "fill('name', 'a')\n",
      "fill('zip', '4')\n",
      "submit('submit')\n",
      "\n"
     ]
    }
   ],
   "source": [
    "gui_driver.get(httpd_url)\n",
    "actions = gui_fuzzer.fuzz()\n",
    "print(actions)"
   ]
  },
  {
   "cell_type": "markdown",
   "metadata": {
    "slideshow": {
     "slide_type": "subslide"
    }
   },
   "source": [
    "These actions can be fed into the GUI runner, which will execute them on the given GUI driver."
   ]
  },
  {
   "cell_type": "code",
   "execution_count": 158,
   "metadata": {
    "slideshow": {
     "slide_type": "fragment"
    }
   },
   "outputs": [],
   "source": [
    "gui_driver.get(httpd_url)\n",
    "result, outcome = gui_runner.run(actions)"
   ]
  },
  {
   "cell_type": "code",
   "execution_count": 159,
   "metadata": {
    "slideshow": {
     "slide_type": "fragment"
    }
   },
   "outputs": [
    {
     "data": {
      "image/png": "[encoded data removed]",
      "text/plain": [
       "<IPython.core.display.Image object>"
      ]
     },
     "execution_count": 159,
     "metadata": {},
     "output_type": "execute_result"
    }
   ],
   "source": [
    "Image(gui_driver.get_screenshot_as_png())"
   ]
  },
  {
   "cell_type": "markdown",
   "metadata": {
    "slideshow": {
     "slide_type": "fragment"
    }
   },
   "source": [
    "Further invocations of `fuzz()` will further cover the model – for instance, exploring the terms and conditions."
   ]
  },
  {
   "cell_type": "markdown",
   "metadata": {
    "slideshow": {
     "slide_type": "fragment"
    }
   },
   "source": [
    "A tool like `GUICoverageFuzzer` will provide \"deep\" exploration of user interfaces, even filling out forms to explore what is behind them. Keep in mind, though, that `GUICoverageFuzzer` is experimental: It only supports a subset of HTML form and link features, and does not take JavaScript into account."
   ]
  },
  {
   "cell_type": "markdown",
   "metadata": {
    "button": false,
    "new_sheet": true,
    "run_control": {
     "read_only": false
    },
    "slideshow": {
     "slide_type": "slide"
    }
   },
   "source": [
    "## Lessons Learned\n",
    "\n",
    "* _Selenium_ is a powerful framework for interacting with user interfaces, especially Web-based user interfaces.\n",
    "* A _finite state model_ can encode user interface states and transitions.\n",
    "* Encoding user interface models into a _grammar_ integrates generating text (for forms) and generating user interactions (for navigating)\n",
    "* To systematically explore a user interface, cover all _state transitions_, which is equivalent to covering all _expansion alternatives_ in the equivalent grammar."
   ]
  },
  {
   "cell_type": "markdown",
   "metadata": {
    "slideshow": {
     "slide_type": "subslide"
    }
   },
   "source": [
    "We are done, so we clean up. We shut down our Web server, quit the Web driver (and the associated browser), and finally clean up temporary files left by Selenium."
   ]
  },
  {
   "cell_type": "code",
   "execution_count": 160,
   "metadata": {
    "slideshow": {
     "slide_type": "fragment"
    }
   },
   "outputs": [],
   "source": [
    "httpd_process.terminate()"
   ]
  },
  {
   "cell_type": "code",
   "execution_count": 161,
   "metadata": {
    "slideshow": {
     "slide_type": "fragment"
    }
   },
   "outputs": [],
   "source": [
    "gui_driver.quit()"
   ]
  },
  {
   "cell_type": "code",
   "execution_count": 162,
   "metadata": {
    "slideshow": {
     "slide_type": "skip"
    }
   },
   "outputs": [],
   "source": [
    "import os"
   ]
  },
  {
   "cell_type": "code",
   "execution_count": 163,
   "metadata": {
    "slideshow": {
     "slide_type": "fragment"
    }
   },
   "outputs": [],
   "source": [
    "for temp_file in [ORDERS_DB, \"geckodriver.log\", \"ghostdriver.log\"]:\n",
    "    if os.path.exists(temp_file):\n",
    "        os.remove(temp_file)"
   ]
  },
  {
   "cell_type": "markdown",
   "metadata": {
    "button": false,
    "new_sheet": false,
    "run_control": {
     "read_only": false
    },
    "slideshow": {
     "slide_type": "slide"
    }
   },
   "source": [
    "## Next Steps\n",
    "\n",
    "From here, you can learn how to\n",
    "\n",
    "* [fuzz in the large](FuzzingInTheLarge.ipynb). running a myriad of fuzzers on a same system"
   ]
  },
  {
   "cell_type": "markdown",
   "metadata": {
    "slideshow": {
     "slide_type": "slide"
    }
   },
   "source": [
    "## Background\n",
    "\n",
    "Automatic testing of graphical user interfaces is a rich field – in research as in practice.\n",
    "\n",
    "Coverage criteria for GUIs as well as how to achieve them were first discussed in \\cite{Memon2001}.  Memon also introduced the concept of *GUI Ripping* \\cite{Memon2003} – the process in which the software's GUI is automatically traversed by interacting with all its user interface elements.\n",
    "\n",
    "The CrawlJax tool \\cite{Mesbah2012} uses dynamic state changes in Web user interfaces to identify candidate elements to interact with.  As our approach above, it uses the set of interactable user interface elements as a state in a finite-state model.\n",
    "\n",
    "The [Alex framework](https://learnlib.github.io/alex/) uses a similar approach to learn automata for web applications.  Starting from a set of test inputs, it produces a mixed-mode behavioral model of the application."
   ]
  },
  {
   "cell_type": "markdown",
   "metadata": {
    "slideshow": {
     "slide_type": "slide"
    }
   },
   "source": [
    "## Exercises\n",
    "\n",
    "As powerful our GUI fuzzer is at this point, there are still several possibilities left for further optimization and extension.  Here are some ideas to get you started.  Enjoy user interface fuzzing!"
   ]
  },
  {
   "cell_type": "markdown",
   "metadata": {
    "slideshow": {
     "slide_type": "subslide"
    }
   },
   "source": [
    "### Exercise 1: Stay in Local State\n",
    "\n",
    "Rather than having each `run()` start at the very beginning, have the miner start from the current state and explore states reachable from there."
   ]
  },
  {
   "cell_type": "markdown",
   "metadata": {
    "slideshow": {
     "slide_type": "subslide"
    }
   },
   "source": [
    "### Exercise 2: Going Back\n",
    "\n",
    "Make use of the web driver `back()` method and go back to an earlier state, from which we could again start exploration.  (Note that a \"back\" functionality may not be available on non-Web user interfaces.)"
   ]
  },
  {
   "cell_type": "markdown",
   "metadata": {
    "slideshow": {
     "slide_type": "subslide"
    }
   },
   "source": [
    "### Exercise 3: Avoiding Bad Form Values\n",
    "\n",
    "Detect that some form values are _invalid_, such that the miner does not produce them again."
   ]
  },
  {
   "cell_type": "markdown",
   "metadata": {
    "slideshow": {
     "slide_type": "subslide"
    }
   },
   "source": [
    "### Exercise 4: Saving Form Values\n",
    "\n",
    "Save _successful_ form values, such that the tester does not have to infer them again and again."
   ]
  },
  {
   "cell_type": "markdown",
   "metadata": {
    "slideshow": {
     "slide_type": "subslide"
    }
   },
   "source": [
    "### Exercise 5: Same Names, Same States\n",
    "\n",
    "When the miner finds a link with a name it has already seen, it is likely to lead to a state already seen, too; therefore, one could give its exploration a lower priority."
   ]
  },
  {
   "cell_type": "markdown",
   "metadata": {
    "slideshow": {
     "slide_type": "subslide"
    }
   },
   "source": [
    "### Exercise 6: Combinatorial Coverage\n",
    "\n",
    "Extend the grammar miner such that for every boolean value, there is a separate value to be covered."
   ]
  },
  {
   "cell_type": "markdown",
   "metadata": {
    "slideshow": {
     "slide_type": "subslide"
    }
   },
   "source": [
    "### Exercise 7: Implicit Delays\n",
    "\n",
    "Rather than using _explicit_ (given) delays, use _implicit_ delays and wait for specific elements to appear. these elements could stem from previous explorations of the state."
   ]
  },
  {
   "cell_type": "markdown",
   "metadata": {
    "slideshow": {
     "slide_type": "subslide"
    }
   },
   "source": [
    "### Exercise 8: Oracles\n",
    "\n",
    "Extend the grammar miner such that it also produces _oracles_ – for instance, checking for the presence of specific UI elements."
   ]
  },
  {
   "cell_type": "markdown",
   "metadata": {
    "slideshow": {
     "slide_type": "subslide"
    }
   },
   "source": [
    "### Exercise 9: More UI Elements\n",
    "\n",
    "Run the miner on a Web site of your choice.  Find out which other types of user interface elements and actions need to be supported."
   ]
  }
 ],
 "metadata": {
  "ipub": {
   "bibliography": "fuzzingbook.bib",
   "toc": true
  },
  "kernelspec": {
   "display_name": "Python 3",
   "language": "python",
   "name": "python3"
  },
  "language_info": {
   "codemirror_mode": {
    "name": "ipython",
    "version": 3
   },
   "file_extension": ".py",
   "mimetype": "text/x-python",
   "name": "python",
   "nbconvert_exporter": "python",
   "pygments_lexer": "ipython3",
   "version": "3.6.8"
  },
  "toc": {
   "base_numbering": 1,
   "nav_menu": {},
   "number_sections": true,
   "sideBar": true,
   "skip_h1_title": true,
   "title_cell": "",
   "title_sidebar": "Contents",
   "toc_cell": false,
   "toc_position": {},
   "toc_section_display": true,
   "toc_window_display": true
  },
  "toc-autonumbering": false
 },
 "nbformat": 4,
 "nbformat_minor": 2
}