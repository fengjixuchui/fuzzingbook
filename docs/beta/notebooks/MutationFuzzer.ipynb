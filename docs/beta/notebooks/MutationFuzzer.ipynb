{
 "cells": [
  {
   "cell_type": "markdown",
   "metadata": {
    "button": false,
    "new_sheet": false,
    "run_control": {
     "read_only": false
    },
    "slideshow": {
     "slide_type": "slide"
    }
   },
   "source": [
    "# Mutation-Based Fuzzing\n",
    "\n",
    "Most [randomly generated inputs](Fuzzer.ipynb) are syntactically _invalid_ and thus are quickly rejected by the processing program.  To exercise functionality beyond input processing, we must increase chances to obtain valid inputs.  One such way is so-called *mutational fuzzing* – that is, introducing small changes to existing inputs that may still keep the input valid, yet exercise new behavior.  We show how to create such mutations, and how to guide them towards yet uncovered code, applying central concepts from the popular AFL fuzzer."
   ]
  },
  {
   "cell_type": "markdown",
   "metadata": {
    "button": false,
    "new_sheet": false,
    "run_control": {
     "read_only": false
    },
    "slideshow": {
     "slide_type": "skip"
    }
   },
   "source": [
    "**Prerequisites**\n",
    "\n",
    "* You should know how basic fuzzing works; for instance, from the [\"Fuzzing\"](Fuzzer.ipynb) chapter."
   ]
  },
  {
   "cell_type": "markdown",
   "metadata": {
    "slideshow": {
     "slide_type": "slide"
    }
   },
   "source": [
    "## Synopsis\n",
    "<!-- Automatically generated. Do not edit. -->\n",
    "\n",
    "To [use the code provided in this chapter](Importing.ipynb), write\n",
    "\n",
    "```python\n",
    ">>> from fuzzingbook.MutationFuzzer import <identifier>\n",
    "```\n",
    "\n",
    "and then make use of the following features.\n",
    "\n",
    "\n",
    "This chapter introduces a `MutationFuzzer` class that takes a list of _seed inputs_ which are then mutated:\n",
    "\n",
    "```python\n",
    ">>> seed_input = \"http://www.google.com/search?q=fuzzing\"\n",
    ">>> mutation_fuzzer = MutationFuzzer(seed=[seed_input])\n",
    ">>> [mutation_fuzzer.fuzz() for i in range(10)]\n",
    "['http://www.google.com/search?q=fuzzing',\n",
    " 'http://w}ww.google.com/search/q=fwzing',\n",
    " 'http://www.google.cAom/&szeaRch?q=fuzzing',\n",
    " 'htTp>//www.google.com/search?q=5zzing',\n",
    " 'http://www.goog.comm/search?q=ezzig',\n",
    " 'ht|p:o/www.google.com/searFch?q=fuzzing',\n",
    " '6http://www.goo^leco/sea\\\\rch?q=fbuzing',\n",
    " 'http://wv\\x7f.g\\x7fRoge.co(m@/qearch?q=fuyzzing',\n",
    " 'http://www.oogle/com/search?q=f6uzzing',\n",
    " 'http://ww.google.com/search?q9fuzzing']\n",
    "```\n",
    "The `MutationCoverageFuzzer` maintains a _population_ of inputs, which are then evolved in order to maximize coverage.\n",
    "\n",
    "```python\n",
    ">>> mutation_fuzzer = MutationCoverageFuzzer(seed=[seed_input])\n",
    ">>> mutation_fuzzer.runs(http_runner, trials=10000)\n",
    ">>> mutation_fuzzer.population[:5]\n",
    "['http://www.google.com/search?q=fuzzing',\n",
    " 'http://www.googl.com/search?q=fuzzig',\n",
    " 'http://www.googl.com/search\\x7fs=fuzzig',\n",
    " 'Http://www.googl.com/seaxrch\\x7fs=fuzzig',\n",
    " 'hTtp://ww.googl&comearch?q=fvuzigI']\n",
    "```\n"
   ]
  },
  {
   "cell_type": "markdown",
   "metadata": {
    "button": false,
    "new_sheet": false,
    "run_control": {
     "read_only": false
    },
    "slideshow": {
     "slide_type": "slide"
    }
   },
   "source": [
    "## Fuzzing with Mutations\n",
    "\n",
    "On November 2013, the first version of [American Fuzzy Lop](http://lcamtuf.coredump.cx/afl/) (AFL) was released. Since then, AFL has become one of the most successful fuzzing tools and comes in many flavours, e.g., [AFLFast](https://github.com/mboehme/aflfast), [AFLGo](https://github.com/aflgo/aflgo), and [AFLSmart](https://github.com/aflsmart/aflsmart) (which are discussed in this book). AFL has made fuzzing a popular choice for automated vulnerability detection. It was the first to demonstrate that vulnerabilities can be detected automatically at a large scale in many security-critical, real-world applications.\n",
    "\n",
    "![American Fuzzy Lop Command Line User Interface](PICS/afl_screen.png)\n",
    "<center><b>Figure 1.</b> American Fuzzy Lop Command Line User Interface</center>\n",
    "\n",
    "In this chapter, we are going to introduce the basics of mutational fuzz testing; the next chapter will then further show how to direct fuzzing towards specific code goals."
   ]
  },
  {
   "cell_type": "markdown",
   "metadata": {
    "button": false,
    "new_sheet": false,
    "run_control": {
     "read_only": false
    },
    "slideshow": {
     "slide_type": "slide"
    }
   },
   "source": [
    "## Fuzzing a URL Parser\n",
    "\n",
    "Many programs expect their inputs to come in a very specific format before they would actually process them.  As an example, think of a program that accepts a URL (a Web address).  The URL has to be in a valid format (i.e., the URL format) such that the program can deal with it.  When fuzzing with random inputs, what are our chances to actually produce a valid URL?"
   ]
  },
  {
   "cell_type": "markdown",
   "metadata": {
    "button": false,
    "new_sheet": false,
    "run_control": {
     "read_only": false
    },
    "slideshow": {
     "slide_type": "subslide"
    }
   },
   "source": [
    "To get deeper into the problem, let us explore what URLs are made of.  A URL consists of a number of elements:\n",
    "\n",
    "    scheme://netloc/path?query#fragment\n",
    "    \n",
    "where\n",
    "\n",
    "* `scheme` is the protocol to be used, including `http`, `https`, `ftp`, `file`...\n",
    "* `netloc` is the name of the host to connect to, such as `www.google.com`\n",
    "* `path` is the path on that very host, such as `search`\n",
    "* `query` is a list of key/value pairs, such as `q=fuzzing`\n",
    "* `fragment` is a marker for a location in the retrieved document, such as `#result`"
   ]
  },
  {
   "cell_type": "markdown",
   "metadata": {
    "button": false,
    "new_sheet": false,
    "run_control": {
     "read_only": false
    },
    "slideshow": {
     "slide_type": "subslide"
    }
   },
   "source": [
    "In Python, we can use the `urlparse()` function to parse and decompose a URL into its parts."
   ]
  },
  {
   "cell_type": "code",
   "execution_count": 1,
   "metadata": {
    "button": false,
    "new_sheet": false,
    "run_control": {
     "read_only": false
    },
    "slideshow": {
     "slide_type": "skip"
    }
   },
   "outputs": [],
   "source": [
    "import bookutils"
   ]
  },
  {
   "cell_type": "code",
   "execution_count": 2,
   "metadata": {
    "button": false,
    "new_sheet": false,
    "run_control": {
     "read_only": false
    },
    "slideshow": {
     "slide_type": "fragment"
    }
   },
   "outputs": [
    {
     "data": {
      "text/plain": [
       "ParseResult(scheme='http', netloc='www.google.com', path='/search', params='', query='q=fuzzing', fragment='')"
      ]
     },
     "execution_count": 2,
     "metadata": {},
     "output_type": "execute_result"
    }
   ],
   "source": [
    "try:\n",
    "    from urlparse import urlparse      # Python 2\n",
    "except ImportError:\n",
    "    from urllib.parse import urlparse  # Python 3\n",
    "\n",
    "urlparse(\"http://www.google.com/search?q=fuzzing\")"
   ]
  },
  {
   "cell_type": "markdown",
   "metadata": {
    "button": false,
    "new_sheet": false,
    "run_control": {
     "read_only": false
    },
    "slideshow": {
     "slide_type": "fragment"
    }
   },
   "source": [
    "We see how the result encodes the individual parts of the URL in different attributes."
   ]
  },
  {
   "cell_type": "markdown",
   "metadata": {
    "button": false,
    "new_sheet": false,
    "run_control": {
     "read_only": false
    },
    "slideshow": {
     "slide_type": "subslide"
    }
   },
   "source": [
    "Let us now assume we have a program that takes a URL as input.  To simplify things, we won't let it do very much; we simply have it check the passed URL for validity.  If the URL is valid, it returns True; otherwise, it raises an exception."
   ]
  },
  {
   "cell_type": "code",
   "execution_count": 3,
   "metadata": {
    "button": false,
    "new_sheet": false,
    "run_control": {
     "read_only": false
    },
    "slideshow": {
     "slide_type": "fragment"
    }
   },
   "outputs": [],
   "source": [
    "def http_program(url):\n",
    "    supported_schemes = [\"http\", \"https\"]\n",
    "    result = urlparse(url)\n",
    "    if result.scheme not in supported_schemes:\n",
    "        raise ValueError(\"Scheme must be one of \" + repr(supported_schemes))\n",
    "    if result.netloc == '':\n",
    "        raise ValueError(\"Host must be non-empty\")\n",
    "\n",
    "    # Do something with the URL\n",
    "    return True"
   ]
  },
  {
   "cell_type": "markdown",
   "metadata": {
    "button": false,
    "new_sheet": false,
    "run_control": {
     "read_only": false
    },
    "slideshow": {
     "slide_type": "subslide"
    }
   },
   "source": [
    "Let us now go and fuzz `http_program()`.  To fuzz, we use the full range of printable ASCII characters, such that `:`, `/`, and lowercase letters are included."
   ]
  },
  {
   "cell_type": "code",
   "execution_count": 4,
   "metadata": {
    "button": false,
    "new_sheet": false,
    "run_control": {
     "read_only": false
    },
    "slideshow": {
     "slide_type": "skip"
    }
   },
   "outputs": [],
   "source": [
    "from Fuzzer import fuzzer"
   ]
  },
  {
   "cell_type": "code",
   "execution_count": 5,
   "metadata": {
    "button": false,
    "new_sheet": false,
    "run_control": {
     "read_only": false
    },
    "slideshow": {
     "slide_type": "fragment"
    }
   },
   "outputs": [
    {
     "data": {
      "text/plain": [
       "'\"N&+slk%h\\x7fyp5o\\'@[3(rW*M5W]tMFPU4\\\\P@tz%[X?uo\\\\1?b4T;1bDeYtHx #UJ5w}pMmPodJM,_'"
      ]
     },
     "execution_count": 5,
     "metadata": {},
     "output_type": "execute_result"
    }
   ],
   "source": [
    "fuzzer(char_start=32, char_range=96)"
   ]
  },
  {
   "cell_type": "markdown",
   "metadata": {
    "button": false,
    "new_sheet": false,
    "run_control": {
     "read_only": false
    },
    "slideshow": {
     "slide_type": "subslide"
    }
   },
   "source": [
    "Let's try to fuzz with 1000 random inputs and see whether we have some success."
   ]
  },
  {
   "cell_type": "code",
   "execution_count": 6,
   "metadata": {
    "button": false,
    "new_sheet": false,
    "run_control": {
     "read_only": false
    },
    "slideshow": {
     "slide_type": "fragment"
    }
   },
   "outputs": [],
   "source": [
    "for i in range(1000):\n",
    "    try:\n",
    "        url = fuzzer()\n",
    "        result = http_program(url)\n",
    "        print(\"Success!\")\n",
    "    except ValueError:\n",
    "        pass"
   ]
  },
  {
   "cell_type": "markdown",
   "metadata": {
    "button": false,
    "new_sheet": false,
    "run_control": {
     "read_only": false
    },
    "slideshow": {
     "slide_type": "subslide"
    }
   },
   "source": [
    "What are the chances of actually getting a valid URL?  We need our string to start with `\"http://\"` or `\"https://\"`.  Let's take the `\"http://\"` case first.  These are seven very specific characters we need to start with.  The chance of producing these seven characters randomly (with a character range of 96 different characters) is $1 : 96^7$, or"
   ]
  },
  {
   "cell_type": "code",
   "execution_count": 7,
   "metadata": {
    "button": false,
    "new_sheet": false,
    "run_control": {
     "read_only": false
    },
    "slideshow": {
     "slide_type": "fragment"
    }
   },
   "outputs": [
    {
     "data": {
      "text/plain": [
       "75144747810816"
      ]
     },
     "execution_count": 7,
     "metadata": {},
     "output_type": "execute_result"
    }
   ],
   "source": [
    "96 ** 7"
   ]
  },
  {
   "cell_type": "markdown",
   "metadata": {
    "button": false,
    "new_sheet": false,
    "run_control": {
     "read_only": false
    },
    "slideshow": {
     "slide_type": "subslide"
    }
   },
   "source": [
    "The odds of producing a `\"https://\"` prefix are even worse, at $1 : 96^8$:"
   ]
  },
  {
   "cell_type": "code",
   "execution_count": 8,
   "metadata": {
    "button": false,
    "new_sheet": false,
    "run_control": {
     "read_only": false
    },
    "slideshow": {
     "slide_type": "fragment"
    }
   },
   "outputs": [
    {
     "data": {
      "text/plain": [
       "7213895789838336"
      ]
     },
     "execution_count": 8,
     "metadata": {},
     "output_type": "execute_result"
    }
   ],
   "source": [
    "96 ** 8"
   ]
  },
  {
   "cell_type": "markdown",
   "metadata": {
    "button": false,
    "new_sheet": false,
    "run_control": {
     "read_only": false
    },
    "slideshow": {
     "slide_type": "fragment"
    }
   },
   "source": [
    "which gives us a total chance of"
   ]
  },
  {
   "cell_type": "code",
   "execution_count": 9,
   "metadata": {
    "button": false,
    "new_sheet": false,
    "run_control": {
     "read_only": false
    },
    "slideshow": {
     "slide_type": "fragment"
    }
   },
   "outputs": [
    {
     "data": {
      "text/plain": [
       "1.344627131107667e-14"
      ]
     },
     "execution_count": 9,
     "metadata": {},
     "output_type": "execute_result"
    }
   ],
   "source": [
    "likelihood = 1 / (96 ** 7) + 1 / (96 ** 8)\n",
    "likelihood"
   ]
  },
  {
   "cell_type": "markdown",
   "metadata": {
    "button": false,
    "new_sheet": false,
    "run_control": {
     "read_only": false
    },
    "slideshow": {
     "slide_type": "subslide"
    }
   },
   "source": [
    "And this is the number of runs (on average) we'd need to produce a valid URL scheme:"
   ]
  },
  {
   "cell_type": "code",
   "execution_count": 10,
   "metadata": {
    "button": false,
    "new_sheet": false,
    "run_control": {
     "read_only": false
    },
    "slideshow": {
     "slide_type": "fragment"
    }
   },
   "outputs": [
    {
     "data": {
      "text/plain": [
       "74370059689055.02"
      ]
     },
     "execution_count": 10,
     "metadata": {},
     "output_type": "execute_result"
    }
   ],
   "source": [
    "1 / likelihood"
   ]
  },
  {
   "cell_type": "markdown",
   "metadata": {
    "button": false,
    "new_sheet": false,
    "run_control": {
     "read_only": false
    },
    "slideshow": {
     "slide_type": "subslide"
    }
   },
   "source": [
    "Let's measure how long one run of `http_program()` takes:"
   ]
  },
  {
   "cell_type": "code",
   "execution_count": 11,
   "metadata": {
    "button": false,
    "new_sheet": false,
    "run_control": {
     "read_only": false
    },
    "slideshow": {
     "slide_type": "skip"
    }
   },
   "outputs": [],
   "source": [
    "from Timer import Timer"
   ]
  },
  {
   "cell_type": "code",
   "execution_count": 12,
   "metadata": {
    "button": false,
    "new_sheet": false,
    "run_control": {
     "read_only": false
    },
    "slideshow": {
     "slide_type": "fragment"
    }
   },
   "outputs": [
    {
     "data": {
      "text/plain": [
       "6.241764600008537e-05"
      ]
     },
     "execution_count": 12,
     "metadata": {},
     "output_type": "execute_result"
    }
   ],
   "source": [
    "trials = 1000\n",
    "with Timer() as t:\n",
    "    for i in range(trials):\n",
    "        try:\n",
    "            url = fuzzer()\n",
    "            result = http_program(url)\n",
    "            print(\"Success!\")\n",
    "        except ValueError:\n",
    "            pass\n",
    "\n",
    "duration_per_run_in_seconds = t.elapsed_time() / trials\n",
    "duration_per_run_in_seconds"
   ]
  },
  {
   "cell_type": "markdown",
   "metadata": {
    "button": false,
    "new_sheet": false,
    "run_control": {
     "read_only": false
    },
    "slideshow": {
     "slide_type": "subslide"
    }
   },
   "source": [
    "That's pretty fast, isn't it?  Unfortunately, we have a lot of runs to cover."
   ]
  },
  {
   "cell_type": "code",
   "execution_count": 13,
   "metadata": {
    "button": false,
    "new_sheet": false,
    "run_control": {
     "read_only": false
    },
    "slideshow": {
     "slide_type": "fragment"
    }
   },
   "outputs": [
    {
     "data": {
      "text/plain": [
       "4642004058.676655"
      ]
     },
     "execution_count": 13,
     "metadata": {},
     "output_type": "execute_result"
    }
   ],
   "source": [
    "seconds_until_success = duration_per_run_in_seconds * (1 / likelihood)\n",
    "seconds_until_success"
   ]
  },
  {
   "cell_type": "markdown",
   "metadata": {
    "button": false,
    "new_sheet": false,
    "run_control": {
     "read_only": false
    },
    "slideshow": {
     "slide_type": "fragment"
    }
   },
   "source": [
    "which translates into"
   ]
  },
  {
   "cell_type": "code",
   "execution_count": 14,
   "metadata": {
    "button": false,
    "new_sheet": false,
    "run_control": {
     "read_only": false
    },
    "slideshow": {
     "slide_type": "fragment"
    }
   },
   "outputs": [
    {
     "data": {
      "text/plain": [
       "147.09623224442464"
      ]
     },
     "execution_count": 14,
     "metadata": {},
     "output_type": "execute_result"
    }
   ],
   "source": [
    "hours_until_success = seconds_until_success / 3600\n",
    "days_until_success = hours_until_success / 24\n",
    "years_until_success = days_until_success / 365.25\n",
    "years_until_success"
   ]
  },
  {
   "cell_type": "markdown",
   "metadata": {
    "button": false,
    "new_sheet": false,
    "run_control": {
     "read_only": false
    },
    "slideshow": {
     "slide_type": "fragment"
    }
   },
   "source": [
    "Even if we parallelize things a lot, we're still in for months to years of waiting.  And that's for getting _one_ successful run that will get deeper into `http_program()`."
   ]
  },
  {
   "cell_type": "markdown",
   "metadata": {
    "button": false,
    "new_sheet": false,
    "run_control": {
     "read_only": false
    },
    "slideshow": {
     "slide_type": "subslide"
    }
   },
   "source": [
    "What basic fuzzing will do well is to test `urlparse()`, and if there is an error in this parsing function, it has good chances of uncovering it.  But as long as we cannot produce a valid input, we are out of luck in reaching any deeper functionality."
   ]
  },
  {
   "cell_type": "markdown",
   "metadata": {
    "button": false,
    "new_sheet": false,
    "run_control": {
     "read_only": false
    },
    "slideshow": {
     "slide_type": "slide"
    }
   },
   "source": [
    "## Mutating Inputs\n",
    "\n",
    "The alternative to generating random strings from scratch is to start with a given _valid_ input, and then to subsequently _mutate_ it.  A _mutation_ in this context is a simple string manipulation - say, inserting a (random) character, deleting a character, or flipping a bit in a character representation.  This is called *mutational fuzzing* – in contrast to the _generational fuzzing_ techniques discussed earlier.\n",
    "\n",
    "Here are some mutations to get you started:"
   ]
  },
  {
   "cell_type": "code",
   "execution_count": 15,
   "metadata": {
    "button": false,
    "new_sheet": false,
    "run_control": {
     "read_only": false
    },
    "slideshow": {
     "slide_type": "skip"
    }
   },
   "outputs": [],
   "source": [
    "import random"
   ]
  },
  {
   "cell_type": "code",
   "execution_count": 16,
   "metadata": {
    "button": false,
    "new_sheet": false,
    "run_control": {
     "read_only": false
    },
    "slideshow": {
     "slide_type": "subslide"
    }
   },
   "outputs": [],
   "source": [
    "def delete_random_character(s):\n",
    "    \"\"\"Returns s with a random character deleted\"\"\"\n",
    "    if s == \"\":\n",
    "        return s\n",
    "\n",
    "    pos = random.randint(0, len(s) - 1)\n",
    "    # print(\"Deleting\", repr(s[pos]), \"at\", pos)\n",
    "    return s[:pos] + s[pos + 1:]"
   ]
  },
  {
   "cell_type": "code",
   "execution_count": 17,
   "metadata": {
    "button": false,
    "new_sheet": false,
    "run_control": {
     "read_only": false
    },
    "slideshow": {
     "slide_type": "fragment"
    }
   },
   "outputs": [
    {
     "name": "stdout",
     "output_type": "stream",
     "text": [
      "'A uick brown fox'\n",
      "'A quic brown fox'\n",
      "'A quick brown fo'\n",
      "'A quic brown fox'\n",
      "'A quick bown fox'\n",
      "'A quick bown fox'\n",
      "'A quick brown fx'\n",
      "'A quick brown ox'\n",
      "'A quick brow fox'\n",
      "'A quic brown fox'\n"
     ]
    }
   ],
   "source": [
    "seed_input = \"A quick brown fox\"\n",
    "for i in range(10):\n",
    "    x = delete_random_character(seed_input)\n",
    "    print(repr(x))"
   ]
  },
  {
   "cell_type": "code",
   "execution_count": 18,
   "metadata": {
    "button": false,
    "new_sheet": false,
    "run_control": {
     "read_only": false
    },
    "slideshow": {
     "slide_type": "subslide"
    }
   },
   "outputs": [],
   "source": [
    "def insert_random_character(s):\n",
    "    \"\"\"Returns s with a random character inserted\"\"\"\n",
    "    pos = random.randint(0, len(s))\n",
    "    random_character = chr(random.randrange(32, 127))\n",
    "    # print(\"Inserting\", repr(random_character), \"at\", pos)\n",
    "    return s[:pos] + random_character + s[pos:]"
   ]
  },
  {
   "cell_type": "code",
   "execution_count": 19,
   "metadata": {
    "button": false,
    "new_sheet": false,
    "run_control": {
     "read_only": false
    },
    "slideshow": {
     "slide_type": "fragment"
    }
   },
   "outputs": [
    {
     "name": "stdout",
     "output_type": "stream",
     "text": [
      "'A quick brvown fox'\n",
      "'A quwick brown fox'\n",
      "'A qBuick brown fox'\n",
      "'A quick broSwn fox'\n",
      "'A quick brown fvox'\n",
      "'A quick brown 3fox'\n",
      "'A quick brNown fox'\n",
      "'A quick brow4n fox'\n",
      "'A quick brown fox8'\n",
      "'A equick brown fox'\n"
     ]
    }
   ],
   "source": [
    "for i in range(10):\n",
    "    print(repr(insert_random_character(seed_input)))"
   ]
  },
  {
   "cell_type": "code",
   "execution_count": 20,
   "metadata": {
    "button": false,
    "new_sheet": false,
    "run_control": {
     "read_only": false
    },
    "slideshow": {
     "slide_type": "subslide"
    }
   },
   "outputs": [],
   "source": [
    "def flip_random_character(s):\n",
    "    \"\"\"Returns s with a random bit flipped in a random position\"\"\"\n",
    "    if s == \"\":\n",
    "        return s\n",
    "\n",
    "    pos = random.randint(0, len(s) - 1)\n",
    "    c = s[pos]\n",
    "    bit = 1 << random.randint(0, 6)\n",
    "    new_c = chr(ord(c) ^ bit)\n",
    "    # print(\"Flipping\", bit, \"in\", repr(c) + \", giving\", repr(new_c))\n",
    "    return s[:pos] + new_c + s[pos + 1:]\n"
   ]
  },
  {
   "cell_type": "code",
   "execution_count": 21,
   "metadata": {
    "button": false,
    "new_sheet": false,
    "run_control": {
     "read_only": false
    },
    "slideshow": {
     "slide_type": "fragment"
    }
   },
   "outputs": [
    {
     "name": "stdout",
     "output_type": "stream",
     "text": [
      "'A quick bRown fox'\n",
      "'A quici brown fox'\n",
      "'A\"quick brown fox'\n",
      "'A quick brown$fox'\n",
      "'A quick bpown fox'\n",
      "'A quick brown!fox'\n",
      "'A 1uick brown fox'\n",
      "'@ quick brown fox'\n",
      "'A quic+ brown fox'\n",
      "'A quick bsown fox'\n"
     ]
    }
   ],
   "source": [
    "for i in range(10):\n",
    "    print(repr(flip_random_character(seed_input)))"
   ]
  },
  {
   "cell_type": "markdown",
   "metadata": {
    "button": false,
    "new_sheet": false,
    "run_control": {
     "read_only": false
    },
    "slideshow": {
     "slide_type": "subslide"
    }
   },
   "source": [
    "Let us now create a random mutator that randomly chooses which mutation to apply:"
   ]
  },
  {
   "cell_type": "code",
   "execution_count": 22,
   "metadata": {
    "button": false,
    "new_sheet": false,
    "run_control": {
     "read_only": false
    },
    "slideshow": {
     "slide_type": "fragment"
    }
   },
   "outputs": [],
   "source": [
    "def mutate(s):\n",
    "    \"\"\"Return s with a random mutation applied\"\"\"\n",
    "    mutators = [\n",
    "        delete_random_character,\n",
    "        insert_random_character,\n",
    "        flip_random_character\n",
    "    ]\n",
    "    mutator = random.choice(mutators)\n",
    "    # print(mutator)\n",
    "    return mutator(s)"
   ]
  },
  {
   "cell_type": "code",
   "execution_count": 23,
   "metadata": {
    "button": false,
    "new_sheet": false,
    "run_control": {
     "read_only": false
    },
    "slideshow": {
     "slide_type": "fragment"
    }
   },
   "outputs": [
    {
     "name": "stdout",
     "output_type": "stream",
     "text": [
      "'A qzuick brown fox'\n",
      "' quick brown fox'\n",
      "'A quick Brown fox'\n",
      "'A qMuick brown fox'\n",
      "'A qu_ick brown fox'\n",
      "'A quick bXrown fox'\n",
      "'A quick brown fx'\n",
      "'A quick!brown fox'\n",
      "'A! quick brown fox'\n",
      "'A quick brownfox'\n"
     ]
    }
   ],
   "source": [
    "for i in range(10):\n",
    "    print(repr(mutate(\"A quick brown fox\")))"
   ]
  },
  {
   "cell_type": "markdown",
   "metadata": {
    "button": false,
    "new_sheet": false,
    "run_control": {
     "read_only": false
    },
    "slideshow": {
     "slide_type": "subslide"
    }
   },
   "source": [
    "The idea is now that _if_ we have some valid input(s) to begin with, we may create more input candidates by applying one of the above mutations.  To see how this works, let's get back to URLs."
   ]
  },
  {
   "cell_type": "markdown",
   "metadata": {
    "button": false,
    "new_sheet": false,
    "run_control": {
     "read_only": false
    },
    "slideshow": {
     "slide_type": "slide"
    }
   },
   "source": [
    "## Mutating URLs"
   ]
  },
  {
   "cell_type": "markdown",
   "metadata": {
    "button": false,
    "new_sheet": false,
    "run_control": {
     "read_only": false
    },
    "slideshow": {
     "slide_type": "fragment"
    }
   },
   "source": [
    "Let us now get back to our URL parsing problem.  Let us create a function `is_valid_url()` that checks whether `http_program()` accepts the input."
   ]
  },
  {
   "cell_type": "code",
   "execution_count": 24,
   "metadata": {
    "button": false,
    "new_sheet": false,
    "run_control": {
     "read_only": false
    },
    "slideshow": {
     "slide_type": "fragment"
    }
   },
   "outputs": [],
   "source": [
    "def is_valid_url(url):\n",
    "    try:\n",
    "        result = http_program(url)\n",
    "        return True\n",
    "    except ValueError:\n",
    "        return False"
   ]
  },
  {
   "cell_type": "code",
   "execution_count": 25,
   "metadata": {
    "slideshow": {
     "slide_type": "fragment"
    }
   },
   "outputs": [],
   "source": [
    "assert is_valid_url(\"http://www.google.com/search?q=fuzzing\")\n",
    "assert not is_valid_url(\"xyzzy\")"
   ]
  },
  {
   "cell_type": "markdown",
   "metadata": {
    "button": false,
    "new_sheet": false,
    "run_control": {
     "read_only": false
    },
    "slideshow": {
     "slide_type": "subslide"
    }
   },
   "source": [
    "Let us now apply the `mutate()` function on a given URL and see how many valid inputs we obtain."
   ]
  },
  {
   "cell_type": "code",
   "execution_count": 26,
   "metadata": {
    "button": false,
    "new_sheet": false,
    "run_control": {
     "read_only": false
    },
    "slideshow": {
     "slide_type": "fragment"
    }
   },
   "outputs": [],
   "source": [
    "seed_input = \"http://www.google.com/search?q=fuzzing\"\n",
    "valid_inputs = set()\n",
    "trials = 20\n",
    "\n",
    "for i in range(trials):\n",
    "    inp = mutate(seed_input)\n",
    "    if is_valid_url(inp):\n",
    "        valid_inputs.add(inp)"
   ]
  },
  {
   "cell_type": "markdown",
   "metadata": {
    "button": false,
    "new_sheet": false,
    "run_control": {
     "read_only": false
    },
    "slideshow": {
     "slide_type": "fragment"
    }
   },
   "source": [
    "We can now observe that by _mutating_ the original input, we get a high proportion of valid inputs:"
   ]
  },
  {
   "cell_type": "code",
   "execution_count": 27,
   "metadata": {
    "button": false,
    "new_sheet": false,
    "run_control": {
     "read_only": false
    },
    "slideshow": {
     "slide_type": "fragment"
    }
   },
   "outputs": [
    {
     "data": {
      "text/plain": [
       "0.8"
      ]
     },
     "execution_count": 27,
     "metadata": {},
     "output_type": "execute_result"
    }
   ],
   "source": [
    "len(valid_inputs) / trials"
   ]
  },
  {
   "cell_type": "markdown",
   "metadata": {
    "button": false,
    "new_sheet": false,
    "run_control": {
     "read_only": false
    },
    "slideshow": {
     "slide_type": "subslide"
    }
   },
   "source": [
    "What are the odds of also producing a `https:` prefix by mutating a `http:` sample seed input?  We have to insert ($1 : 3$) the right character `'s'` ($1 : 96$) into the correct position ($1 : l$), where $l$ is the length of our seed input.  This means that on average, we need this many runs:"
   ]
  },
  {
   "cell_type": "code",
   "execution_count": 28,
   "metadata": {
    "button": false,
    "new_sheet": false,
    "run_control": {
     "read_only": false
    },
    "slideshow": {
     "slide_type": "fragment"
    }
   },
   "outputs": [
    {
     "data": {
      "text/plain": [
       "10944"
      ]
     },
     "execution_count": 28,
     "metadata": {},
     "output_type": "execute_result"
    }
   ],
   "source": [
    "trials = 3 * 96 * len(seed_input)\n",
    "trials"
   ]
  },
  {
   "cell_type": "markdown",
   "metadata": {
    "button": false,
    "new_sheet": false,
    "run_control": {
     "read_only": false
    },
    "slideshow": {
     "slide_type": "subslide"
    }
   },
   "source": [
    "We can actually afford this.  Let's try:"
   ]
  },
  {
   "cell_type": "code",
   "execution_count": 29,
   "metadata": {
    "button": false,
    "new_sheet": false,
    "run_control": {
     "read_only": false
    },
    "slideshow": {
     "slide_type": "skip"
    }
   },
   "outputs": [],
   "source": [
    "from Timer import Timer"
   ]
  },
  {
   "cell_type": "code",
   "execution_count": 30,
   "metadata": {
    "button": false,
    "new_sheet": false,
    "run_control": {
     "read_only": false
    },
    "slideshow": {
     "slide_type": "fragment"
    }
   },
   "outputs": [
    {
     "name": "stdout",
     "output_type": "stream",
     "text": [
      "Success after 3656 trials in 0.011846093000258406 seconds\n"
     ]
    }
   ],
   "source": [
    "trials = 0\n",
    "with Timer() as t:\n",
    "    while True:\n",
    "        trials += 1\n",
    "        inp = mutate(seed_input)\n",
    "        if inp.startswith(\"https://\"):\n",
    "            print(\n",
    "                \"Success after\",\n",
    "                trials,\n",
    "                \"trials in\",\n",
    "                t.elapsed_time(),\n",
    "                \"seconds\")\n",
    "            break\n"
   ]
  },
  {
   "cell_type": "markdown",
   "metadata": {
    "button": false,
    "new_sheet": false,
    "run_control": {
     "read_only": false
    },
    "slideshow": {
     "slide_type": "fragment"
    }
   },
   "source": [
    "Of course, if we wanted to get, say, an `\"ftp://\"` prefix, we would need more mutations and more runs – most important, though, we would need to apply _multiple_ mutations."
   ]
  },
  {
   "cell_type": "markdown",
   "metadata": {
    "slideshow": {
     "slide_type": "slide"
    }
   },
   "source": [
    "## Multiple Mutations\n",
    "\n",
    "So far, we have only applied one single mutation on a sample string.  However, we can also apply _multiple_ mutations, further changing it.  What happens, for instance, if we apply, say, 20 mutations on our sample string?"
   ]
  },
  {
   "cell_type": "code",
   "execution_count": 31,
   "metadata": {
    "slideshow": {
     "slide_type": "subslide"
    }
   },
   "outputs": [],
   "source": [
    "seed_input = \"http://www.google.com/search?q=fuzzing\"\n",
    "mutations = 50"
   ]
  },
  {
   "cell_type": "code",
   "execution_count": 32,
   "metadata": {
    "button": false,
    "new_sheet": false,
    "run_control": {
     "read_only": false
    },
    "slideshow": {
     "slide_type": "fragment"
    }
   },
   "outputs": [
    {
     "name": "stdout",
     "output_type": "stream",
     "text": [
      "0 mutations: 'http://www.google.com/search?q=fuzzing'\n",
      "5 mutations: 'http:/L/www.googlej.com/seaRchq=fuz:ing'\n",
      "10 mutations: 'http:/L/www.ggoWglej.com/seaRchqfu:in'\n",
      "15 mutations: 'http:/L/wwggoWglej.com/seaR3hqf,u:in'\n",
      "20 mutations: 'htt://wwggoVgle\"j.som/seaR3hqf,u:in'\n",
      "25 mutations: 'htt://fwggoVgle\"j.som/eaRd3hqf,u^:in'\n",
      "30 mutations: 'htv://>fwggoVgle\"j.qom/ea0Rd3hqf,u^:i'\n",
      "35 mutations: 'htv://>fwggozVle\"Bj.qom/eapRd[3hqf,u^:i'\n",
      "40 mutations: 'htv://>fwgeo6zTle\"Bj.\\'qom/eapRd[3hqf,tu^:i'\n",
      "45 mutations: 'htv://>fwgeo]6zTle\"BjM.\\'qom/eaR[3hqf,tu^:i'\n"
     ]
    }
   ],
   "source": [
    "inp = seed_input\n",
    "for i in range(mutations):\n",
    "    if i % 5 == 0:\n",
    "        print(i, \"mutations:\", repr(inp))\n",
    "    inp = mutate(inp)"
   ]
  },
  {
   "cell_type": "markdown",
   "metadata": {
    "slideshow": {
     "slide_type": "fragment"
    }
   },
   "source": [
    "As you see, the original seed input is hardly recognizable anymore.  By mutating the input again and again, we get a higher variety in the input."
   ]
  },
  {
   "cell_type": "markdown",
   "metadata": {
    "slideshow": {
     "slide_type": "subslide"
    }
   },
   "source": [
    "To implement such multiple mutations in a single package, let us introduce a `MutationFuzzer` class.  It takes a seed (a list of strings) as well as a minimum and a maximum number of mutations.  "
   ]
  },
  {
   "cell_type": "code",
   "execution_count": 33,
   "metadata": {
    "button": false,
    "new_sheet": false,
    "run_control": {
     "read_only": false
    },
    "slideshow": {
     "slide_type": "skip"
    }
   },
   "outputs": [],
   "source": [
    "from Fuzzer import Fuzzer"
   ]
  },
  {
   "cell_type": "code",
   "execution_count": 34,
   "metadata": {
    "button": false,
    "new_sheet": false,
    "run_control": {
     "read_only": false
    },
    "slideshow": {
     "slide_type": "fragment"
    }
   },
   "outputs": [],
   "source": [
    "class MutationFuzzer(Fuzzer):\n",
    "    def __init__(self, seed, min_mutations=2, max_mutations=10):\n",
    "        self.seed = seed\n",
    "        self.min_mutations = min_mutations\n",
    "        self.max_mutations = max_mutations\n",
    "        self.reset()\n",
    "\n",
    "    def reset(self):\n",
    "        self.population = self.seed\n",
    "        self.seed_index = 0"
   ]
  },
  {
   "cell_type": "markdown",
   "metadata": {
    "slideshow": {
     "slide_type": "subslide"
    }
   },
   "source": [
    "In the following, let us develop `MutationFuzzer` further by adding more methods to it.  The Python language requires us to define an entire class with all methods as a single, continuous unit; however, we would like to introduce one method after another.  To avoid this problem, we use a special hack: Whenever we want to introduce a new method to some class `C`, we use the construct\n",
    "\n",
    "```python\n",
    "class C(C):\n",
    "    def new_method(self, args):\n",
    "        pass\n",
    "```\n",
    "\n",
    "This seems to define `C` as a subclass of itself, which would make no sense – but actually, it introduces a new `C` class as a subclass of the _old_ `C` class, and then shadowing the old `C` definition.  What this gets us is a `C` class with `new_method()` as a method, which is just what we want.  (`C` objects defined earlier will retain the earlier `C` definition, though, and thus must be rebuilt.)"
   ]
  },
  {
   "cell_type": "markdown",
   "metadata": {
    "slideshow": {
     "slide_type": "subslide"
    }
   },
   "source": [
    "Using this hack, we can now add a `mutate()` method that actually invokes the above `mutate()` function.  Having `mutate()` as a method is useful when we want to extend a `MutationFuzzer` later."
   ]
  },
  {
   "cell_type": "code",
   "execution_count": 35,
   "metadata": {
    "button": false,
    "new_sheet": false,
    "run_control": {
     "read_only": false
    },
    "slideshow": {
     "slide_type": "fragment"
    }
   },
   "outputs": [],
   "source": [
    "class MutationFuzzer(MutationFuzzer):\n",
    "    def mutate(self, inp):\n",
    "        return mutate(inp)"
   ]
  },
  {
   "cell_type": "markdown",
   "metadata": {
    "button": false,
    "new_sheet": false,
    "run_control": {
     "read_only": false
    },
    "slideshow": {
     "slide_type": "subslide"
    }
   },
   "source": [
    "Let's get back to our strategy, maximizing _diversity in coverage_ in our population.  First, let us create a method `create_candidate()`, which randomly picks some input from our current population (`self.population`), and then applies between `min_mutations` and `max_mutations` mutation steps, returning the final result:"
   ]
  },
  {
   "cell_type": "code",
   "execution_count": 36,
   "metadata": {
    "button": false,
    "new_sheet": false,
    "run_control": {
     "read_only": false
    },
    "slideshow": {
     "slide_type": "fragment"
    }
   },
   "outputs": [],
   "source": [
    "class MutationFuzzer(MutationFuzzer):\n",
    "    def create_candidate(self):\n",
    "        candidate = random.choice(self.population)\n",
    "        trials = random.randint(self.min_mutations, self.max_mutations)\n",
    "        for i in range(trials):\n",
    "            candidate = self.mutate(candidate)\n",
    "        return candidate"
   ]
  },
  {
   "cell_type": "markdown",
   "metadata": {
    "slideshow": {
     "slide_type": "subslide"
    }
   },
   "source": [
    "The `fuzz()` method is set to first pick the seeds; when these are gone, we mutate:"
   ]
  },
  {
   "cell_type": "code",
   "execution_count": 37,
   "metadata": {
    "button": false,
    "new_sheet": false,
    "run_control": {
     "read_only": false
    },
    "slideshow": {
     "slide_type": "fragment"
    }
   },
   "outputs": [],
   "source": [
    "class MutationFuzzer(MutationFuzzer):\n",
    "    def fuzz(self):\n",
    "        if self.seed_index < len(self.seed):\n",
    "            # Still seeding\n",
    "            self.inp = self.seed[self.seed_index]\n",
    "            self.seed_index += 1\n",
    "        else:\n",
    "            # Mutating\n",
    "            self.inp = self.create_candidate()\n",
    "        return self.inp"
   ]
  },
  {
   "cell_type": "code",
   "execution_count": 38,
   "metadata": {
    "slideshow": {
     "slide_type": "subslide"
    }
   },
   "outputs": [
    {
     "data": {
      "text/plain": [
       "'http://www.google.com/search?q=fuzzing'"
      ]
     },
     "execution_count": 38,
     "metadata": {},
     "output_type": "execute_result"
    }
   ],
   "source": [
    "seed_input = \"http://www.google.com/search?q=fuzzing\"\n",
    "mutation_fuzzer = MutationFuzzer(seed=[seed_input])\n",
    "mutation_fuzzer.fuzz()"
   ]
  },
  {
   "cell_type": "code",
   "execution_count": 39,
   "metadata": {
    "slideshow": {
     "slide_type": "fragment"
    }
   },
   "outputs": [
    {
     "data": {
      "text/plain": [
       "'http://www.gogl9ecom/earch?qfuzzing'"
      ]
     },
     "execution_count": 39,
     "metadata": {},
     "output_type": "execute_result"
    }
   ],
   "source": [
    "mutation_fuzzer.fuzz()"
   ]
  },
  {
   "cell_type": "code",
   "execution_count": 40,
   "metadata": {
    "slideshow": {
     "slide_type": "fragment"
    }
   },
   "outputs": [
    {
     "data": {
      "text/plain": [
       "'htotq:/www.googleom/yseach?q=fzzijg'"
      ]
     },
     "execution_count": 40,
     "metadata": {},
     "output_type": "execute_result"
    }
   ],
   "source": [
    "mutation_fuzzer.fuzz()"
   ]
  },
  {
   "cell_type": "markdown",
   "metadata": {
    "button": false,
    "new_sheet": false,
    "run_control": {
     "read_only": false
    },
    "slideshow": {
     "slide_type": "fragment"
    }
   },
   "source": [
    "With every new invocation of `fuzz()`, we get another variant with multiple mutations applied.  The higher variety in inputs, though, increases the risk of having an invalid input.  The key to success lies in the idea of _guiding_ these mutations – that is, _keeping those that are especially valuable._"
   ]
  },
  {
   "cell_type": "markdown",
   "metadata": {
    "button": false,
    "new_sheet": false,
    "run_control": {
     "read_only": false
    },
    "slideshow": {
     "slide_type": "slide"
    }
   },
   "source": [
    "## Guiding by Coverage\n",
    "\n",
    "To cover as much functionality as possible, one can rely on either _specified_ or _implemented_ functionality, as discussed in the [\"Coverage\"](Coverage.ipynb) chapter.  For now, we will not assume that there is a specification of program behavior (although it _definitely_ would be good to have one!).  We _will_ assume, though, that the program to be tested exists – and that we can leverage its structure to guide test generation.\n",
    "\n",
    "Since testing always executes the program at hand, one can always gather information about its execution – the least is the information needed to decide whether a test passes or fails.  Since coverage is frequently measured as well to determine test quality, let us also assume we can retrieve coverage of a test run.  The question is then: _How can we leverage coverage to guide test generation?_"
   ]
  },
  {
   "cell_type": "markdown",
   "metadata": {
    "button": false,
    "new_sheet": false,
    "run_control": {
     "read_only": false
    },
    "slideshow": {
     "slide_type": "subslide"
    }
   },
   "source": [
    "One particularly successful idea is implemented in the popular fuzzer named [American fuzzy lop](http://lcamtuf.coredump.cx/afl/), or *AFL* for short.  Just like our examples above, AFL evolves test cases that have been successful – but for AFL, \"success\" means _finding a new path through the program execution_.  This way, AFL can keep on mutating inputs that so far have found new paths; and if an input finds another path, it will be retained as well."
   ]
  },
  {
   "cell_type": "markdown",
   "metadata": {
    "slideshow": {
     "slide_type": "subslide"
    }
   },
   "source": [
    "Let us build such a strategy.  We start with introducing a `Runner` class that captures the coverage for a given function.  First, a `FunctionRunner` class:"
   ]
  },
  {
   "cell_type": "code",
   "execution_count": 41,
   "metadata": {
    "button": false,
    "new_sheet": false,
    "run_control": {
     "read_only": false
    },
    "slideshow": {
     "slide_type": "skip"
    }
   },
   "outputs": [],
   "source": [
    "from Fuzzer import Runner"
   ]
  },
  {
   "cell_type": "code",
   "execution_count": 42,
   "metadata": {
    "button": false,
    "new_sheet": false,
    "run_control": {
     "read_only": false
    },
    "slideshow": {
     "slide_type": "fragment"
    }
   },
   "outputs": [],
   "source": [
    "class FunctionRunner(Runner):\n",
    "    def __init__(self, function):\n",
    "        \"\"\"Initialize.  `function` is a function to be executed\"\"\"\n",
    "        self.function = function\n",
    "\n",
    "    def run_function(self, inp):\n",
    "        return self.function(inp)\n",
    "\n",
    "    def run(self, inp):\n",
    "        try:\n",
    "            result = self.run_function(inp)\n",
    "            outcome = self.PASS\n",
    "        except Exception:\n",
    "            result = None\n",
    "            outcome = self.FAIL\n",
    "\n",
    "        return result, outcome"
   ]
  },
  {
   "cell_type": "code",
   "execution_count": 43,
   "metadata": {
    "slideshow": {
     "slide_type": "fragment"
    }
   },
   "outputs": [
    {
     "data": {
      "text/plain": [
       "(True, 'PASS')"
      ]
     },
     "execution_count": 43,
     "metadata": {},
     "output_type": "execute_result"
    }
   ],
   "source": [
    "http_runner = FunctionRunner(http_program)\n",
    "http_runner.run(\"https://foo.bar/\")"
   ]
  },
  {
   "cell_type": "markdown",
   "metadata": {
    "slideshow": {
     "slide_type": "subslide"
    }
   },
   "source": [
    "We can now extend the `FunctionRunner` class such that it also measures coverage.  After invoking `run()`, the `coverage()` method returns the coverage achieved in the last run."
   ]
  },
  {
   "cell_type": "code",
   "execution_count": 44,
   "metadata": {
    "button": false,
    "new_sheet": false,
    "run_control": {
     "read_only": false
    },
    "slideshow": {
     "slide_type": "skip"
    }
   },
   "outputs": [],
   "source": [
    "from Coverage import Coverage, population_coverage"
   ]
  },
  {
   "cell_type": "code",
   "execution_count": 45,
   "metadata": {
    "button": false,
    "new_sheet": false,
    "run_control": {
     "read_only": false
    },
    "slideshow": {
     "slide_type": "fragment"
    }
   },
   "outputs": [],
   "source": [
    "class FunctionCoverageRunner(FunctionRunner):\n",
    "    def run_function(self, inp):\n",
    "        with Coverage() as cov:\n",
    "            try:\n",
    "                result = super().run_function(inp)\n",
    "            except Exception as exc:\n",
    "                self._coverage = cov.coverage()\n",
    "                raise exc\n",
    "\n",
    "        self._coverage = cov.coverage()\n",
    "        return result\n",
    "\n",
    "    def coverage(self):\n",
    "        return self._coverage"
   ]
  },
  {
   "cell_type": "code",
   "execution_count": 46,
   "metadata": {
    "slideshow": {
     "slide_type": "fragment"
    }
   },
   "outputs": [
    {
     "data": {
      "text/plain": [
       "(True, 'PASS')"
      ]
     },
     "execution_count": 46,
     "metadata": {},
     "output_type": "execute_result"
    }
   ],
   "source": [
    "http_runner = FunctionCoverageRunner(http_program)\n",
    "http_runner.run(\"https://foo.bar/\")"
   ]
  },
  {
   "cell_type": "markdown",
   "metadata": {
    "slideshow": {
     "slide_type": "subslide"
    }
   },
   "source": [
    "Here are the first five locations covered: "
   ]
  },
  {
   "cell_type": "code",
   "execution_count": 47,
   "metadata": {
    "slideshow": {
     "slide_type": "fragment"
    }
   },
   "outputs": [
    {
     "name": "stdout",
     "output_type": "stream",
     "text": [
      "[('http_program', 2), ('__new__', 14), ('urlparse', 368), ('_coerce_args', 119), ('urlsplit', 421)]\n"
     ]
    }
   ],
   "source": [
    "print(list(http_runner.coverage())[:5])"
   ]
  },
  {
   "cell_type": "markdown",
   "metadata": {
    "run_control": {},
    "slideshow": {
     "slide_type": "subslide"
    }
   },
   "source": [
    "Now for the main class.  We maintain the population and a set of coverages already achieved (`coverages_seen`).  The `fuzz()` helper function takes an input and runs the given `function()` on it.  If its coverage is new (i.e. not in `coverages_seen`), the input is added to `population` and the coverage to `coverages_seen`."
   ]
  },
  {
   "cell_type": "code",
   "execution_count": 48,
   "metadata": {
    "button": false,
    "new_sheet": false,
    "run_control": {
     "read_only": false
    },
    "slideshow": {
     "slide_type": "fragment"
    }
   },
   "outputs": [],
   "source": [
    "class MutationCoverageFuzzer(MutationFuzzer):\n",
    "    def reset(self):\n",
    "        super().reset()\n",
    "        self.coverages_seen = set()\n",
    "        # Now empty; we fill this with seed in the first fuzz runs\n",
    "        self.population = []\n",
    "\n",
    "    def run(self, runner):\n",
    "        \"\"\"Run function(inp) while tracking coverage.\n",
    "           If we reach new coverage,\n",
    "           add inp to population and its coverage to population_coverage\n",
    "        \"\"\"\n",
    "        result, outcome = super().run(runner)\n",
    "        new_coverage = frozenset(runner.coverage())\n",
    "        if outcome == Runner.PASS and new_coverage not in self.coverages_seen:\n",
    "            # We have new coverage\n",
    "            self.population.append(self.inp)\n",
    "            self.coverages_seen.add(new_coverage)\n",
    "\n",
    "        return result"
   ]
  },
  {
   "cell_type": "markdown",
   "metadata": {
    "run_control": {},
    "slideshow": {
     "slide_type": "subslide"
    }
   },
   "source": [
    "Let us now put this to use:"
   ]
  },
  {
   "cell_type": "code",
   "execution_count": 49,
   "metadata": {
    "slideshow": {
     "slide_type": "fragment"
    }
   },
   "outputs": [
    {
     "data": {
      "text/plain": [
       "['http://www.google.com/search?q=fuzzing',\n",
       " 'http://www.goog.com/search;q=fuzzilng',\n",
       " 'http://ww.6goog\\x0eoomosearch;/q=f}zzilng',\n",
       " 'http://uv.Lboo.comoseakrch;q=fuzilng',\n",
       " \"http://www.oogle.com/search?q=fuzzin'\",\n",
       " 'http://ww.6goog\\x0eo/mosarch;/q=f}z{il~g',\n",
       " 'Http://www.g/ogle.com/earchq=fuzzing',\n",
       " \"httP://www.o/gle.coM-search?q=fuzzin'\",\n",
       " 'Http://wwv.gogle.com/kea;rchzq=fuzz',\n",
       " 'Http://wwv.wogle.comkea;rahzq=fuzz',\n",
       " 'Http://wwv.wgle.#omke;rahzq=fuzz',\n",
       " 'hTtp://ww.6gogg\\x0eo/mksarch;/u=f}zshl|g',\n",
       " 'htTP://www.o/gle.coMR$search?q=fuzrin#',\n",
       " 'hTtp://ww.6eogg\\x0eo/mksarch;/u=fzsl|g',\n",
       " 'htTP://ww.o/gle.hcoMR$search?q=fuzrin#',\n",
       " 'http://ww.6goo#f\\x0eo/mosarch;/q=f}z{il~g',\n",
       " 'Http://w7wBv.wogle.comkea;rahq=uzz',\n",
       " 'http://fww.6go\\x0eo\\x7f/mosrch;/q=f}z{cil~g',\n",
       " 'htTP://www.o/gle.coMR$sear#h?q=fuzrij#',\n",
       " 'http://www.goog.comll/search;Jq=fuzzi,g',\n",
       " 'http://www.goog\\x0eom/sea7rch;#q=fuezzi-mog',\n",
       " 'http://ww.6googC\\x0eoomos@earch;/q=f}zzilng',\n",
       " \"hTtp://2ww.6eogg\\x0eo/mks\\\\ach\\x1b'u=fzsl|g\",\n",
       " 'http://ww.6g8mo#\\x0eo/m%osarch;/q=f}z{il~g',\n",
       " \"httP://ww(wao/gleR.coM-search?q=uz)n'T\",\n",
       " 'http://fww6go\\x0eo\\x7f/moqsrsh;/q<fx}z{ci?~g',\n",
       " 'http://fw6go\\x0eo\\x7f/oqs\\\\rsh;Ea<fx}z{ci?~g',\n",
       " 'htTp://www./gle.coMR$se;a>rchq=fuzrin#',\n",
       " 'http://fww6go\\x0eo\\x7f/m/qsrs;oq<fx}z{ci?~g',\n",
       " 'http://wwgoog\\x0eom/sea7rch;#q=fuezzi-mog',\n",
       " 'hTtp://ww.6ggogg\\x0eo/mksach;/u=f}?zshl|g',\n",
       " 'htTp://www./gle.co$se;a>rkhq=fuzrin#',\n",
       " 'hTtp://ww.6gog\\x0eo/mksrch;e=fzshl|g',\n",
       " 'hTtp://ww.6ggoPgg\\x0eo/m0ksach;+u9}?zshl|g',\n",
       " 'hTtp://ww.6ggogg\\x0eo/msch;/u=f}?zshth|g',\n",
       " 'http://fw36go\\x0eo/moqsRZh;/q<fx}~[ci?~g',\n",
       " 'http://www.kgle.com/serch?q=fOuzzi#',\n",
       " 'http://wwgoo\\x0eoM/se7rch;/#q=ruezzi-mog',\n",
       " 'http://ww.6oog\\x0eoomos@garch;2q=f}zzilng',\n",
       " 'hTtp://ww.6ggoPgge\\x0eo/m9ksacoh;+u9}?zshl|g',\n",
       " 'htTp://www./gle.wco$se;?a>rkhq=buzrin#',\n",
       " 'htTp://www./g,e.wco$s;?sa>rkhqbuzri.#',\n",
       " 'hTtp://ww.6gogg\\x0eo/mksarh;/u=v}zsh#l|g',\n",
       " \"hTtp://ww.6gogg\\x0eo/mks'arh;/u=v>s`#l|g\"]"
      ]
     },
     "execution_count": 49,
     "metadata": {},
     "output_type": "execute_result"
    }
   ],
   "source": [
    "seed_input = \"http://www.google.com/search?q=fuzzing\"\n",
    "mutation_fuzzer = MutationCoverageFuzzer(seed=[seed_input])\n",
    "mutation_fuzzer.runs(http_runner, trials=10000)\n",
    "mutation_fuzzer.population"
   ]
  },
  {
   "cell_type": "markdown",
   "metadata": {
    "button": false,
    "new_sheet": false,
    "run_control": {
     "read_only": false
    },
    "slideshow": {
     "slide_type": "subslide"
    }
   },
   "source": [
    "Success!  In our population, _each and every input_ now is valid and has a different coverage, coming from various combinations of schemes, paths, queries, and fragments."
   ]
  },
  {
   "cell_type": "code",
   "execution_count": 50,
   "metadata": {
    "button": false,
    "new_sheet": false,
    "run_control": {
     "read_only": false
    },
    "slideshow": {
     "slide_type": "subslide"
    }
   },
   "outputs": [],
   "source": [
    "all_coverage, cumulative_coverage = population_coverage(\n",
    "    mutation_fuzzer.population, http_program)"
   ]
  },
  {
   "cell_type": "code",
   "execution_count": 51,
   "metadata": {
    "button": false,
    "new_sheet": false,
    "run_control": {
     "read_only": false
    },
    "slideshow": {
     "slide_type": "subslide"
    }
   },
   "outputs": [],
   "source": [
    "import matplotlib.pyplot as plt"
   ]
  },
  {
   "cell_type": "code",
   "execution_count": 52,
   "metadata": {
    "button": false,
    "new_sheet": false,
    "run_control": {
     "read_only": false
    },
    "slideshow": {
     "slide_type": "subslide"
    }
   },
   "outputs": [
    {
     "data": {
      "image/png": "[encoded data removed]",
      "text/plain": [
       "<Figure size 432x288 with 1 Axes>"
      ]
     },
     "metadata": {
      "needs_background": "light"
     },
     "output_type": "display_data"
    }
   ],
   "source": [
    "plt.plot(cumulative_coverage)\n",
    "plt.title('Coverage of urlparse() with random inputs')\n",
    "plt.xlabel('# of inputs')\n",
    "plt.ylabel('lines covered');"
   ]
  },
  {
   "cell_type": "markdown",
   "metadata": {
    "button": false,
    "new_sheet": false,
    "run_control": {
     "read_only": false
    },
    "slideshow": {
     "slide_type": "fragment"
    }
   },
   "source": [
    "The nice thing about this strategy is that, applied to larger programs, it will happily explore one path after the other – covering functionality after functionality.  All that is needed is a means to capture the coverage."
   ]
  },
  {
   "cell_type": "markdown",
   "metadata": {
    "slideshow": {
     "slide_type": "slide"
    }
   },
   "source": [
    "## Synopsis\n",
    "\n",
    "This chapter introduces a `MutationFuzzer` class that takes a list of _seed inputs_ which are then mutated:"
   ]
  },
  {
   "cell_type": "code",
   "execution_count": 53,
   "metadata": {
    "slideshow": {
     "slide_type": "subslide"
    }
   },
   "outputs": [
    {
     "data": {
      "text/plain": [
       "['http://www.google.com/search?q=fuzzing',\n",
       " 'http://w}ww.google.com/search/q=fwzing',\n",
       " 'http://www.google.cAom/&szeaRch?q=fuzzing',\n",
       " 'htTp>//www.google.com/search?q=5zzing',\n",
       " 'http://www.goog.comm/search?q=ezzig',\n",
       " 'ht|p:o/www.google.com/searFch?q=fuzzing',\n",
       " '6http://www.goo^leco/sea\\\\rch?q=fbuzing',\n",
       " 'http://wv\\x7f.g\\x7fRoge.co(m@/qearch?q=fuyzzing',\n",
       " 'http://www.oogle/com/search?q=f6uzzing',\n",
       " 'http://ww.google.com/search?q9fuzzing']"
      ]
     },
     "execution_count": 53,
     "metadata": {},
     "output_type": "execute_result"
    }
   ],
   "source": [
    "seed_input = \"http://www.google.com/search?q=fuzzing\"\n",
    "mutation_fuzzer = MutationFuzzer(seed=[seed_input])\n",
    "[mutation_fuzzer.fuzz() for i in range(10)]"
   ]
  },
  {
   "cell_type": "markdown",
   "metadata": {
    "slideshow": {
     "slide_type": "fragment"
    }
   },
   "source": [
    "The `MutationCoverageFuzzer` maintains a _population_ of inputs, which are then evolved in order to maximize coverage."
   ]
  },
  {
   "cell_type": "code",
   "execution_count": 54,
   "metadata": {
    "slideshow": {
     "slide_type": "fragment"
    }
   },
   "outputs": [
    {
     "data": {
      "text/plain": [
       "['http://www.google.com/search?q=fuzzing',\n",
       " 'http://www.googl.com/search?q=fuzzig',\n",
       " 'http://www.googl.com/search\\x7fs=fuzzig',\n",
       " 'Http://www.googl.com/seaxrch\\x7fs=fuzzig',\n",
       " 'hTtp://ww.googl&comearch?q=fvuzigI']"
      ]
     },
     "execution_count": 54,
     "metadata": {},
     "output_type": "execute_result"
    }
   ],
   "source": [
    "mutation_fuzzer = MutationCoverageFuzzer(seed=[seed_input])\n",
    "mutation_fuzzer.runs(http_runner, trials=10000)\n",
    "mutation_fuzzer.population[:5]"
   ]
  },
  {
   "cell_type": "markdown",
   "metadata": {
    "button": false,
    "new_sheet": false,
    "run_control": {
     "read_only": false
    },
    "slideshow": {
     "slide_type": "slide"
    }
   },
   "source": [
    "## Lessons Learned\n",
    "\n",
    "* Randomly generated inputs are frequently invalid – and thus exercise mostly input processing functionality.\n",
    "* Mutations from existing valid inputs have much higher chances to be valid, and thus to exercise functionality beyond input processing.\n"
   ]
  },
  {
   "cell_type": "markdown",
   "metadata": {
    "button": false,
    "new_sheet": false,
    "run_control": {
     "read_only": false
    },
    "slideshow": {
     "slide_type": "slide"
    }
   },
   "source": [
    "## Next Steps\n",
    "\n",
    "In the next chapter on [greybox fuzzing](GreyboxFuzzer.ipynb), we further extend the concept of mutation-based testing with _power schedules_ that allow to spend more energy on seeds that exercise \"unlikely\" paths and seeds that are \"closer\" to a target location."
   ]
  },
  {
   "cell_type": "markdown",
   "metadata": {
    "button": false,
    "new_sheet": false,
    "run_control": {
     "read_only": false
    },
    "slideshow": {
     "slide_type": "slide"
    }
   },
   "source": [
    "## Exercises\n"
   ]
  },
  {
   "cell_type": "markdown",
   "metadata": {
    "button": false,
    "new_sheet": false,
    "run_control": {
     "read_only": false
    },
    "slideshow": {
     "slide_type": "subslide"
    }
   },
   "source": [
    "### Exercise 1: Fuzzing CGI decode with Mutations\n",
    "\n",
    "Apply the above _guided_ mutation-based fuzzing technique on `cgi_decode()` from the [\"Coverage\"](Coverage.ipynb) chapter.  How many trials do you need until you cover all variations of `+`, `%` (valid and invalid), and regular characters?"
   ]
  },
  {
   "cell_type": "code",
   "execution_count": 55,
   "metadata": {
    "run_control": {},
    "slideshow": {
     "slide_type": "skip"
    }
   },
   "outputs": [],
   "source": [
    "from Coverage import cgi_decode"
   ]
  },
  {
   "cell_type": "code",
   "execution_count": 56,
   "metadata": {
    "run_control": {},
    "slideshow": {
     "slide_type": "fragment"
    }
   },
   "outputs": [],
   "source": [
    "seed = [\"Hello World\"]\n",
    "cgi_runner = FunctionCoverageRunner(cgi_decode)\n",
    "m = MutationCoverageFuzzer(seed)\n",
    "results = m.runs(cgi_runner, 10000)"
   ]
  },
  {
   "cell_type": "code",
   "execution_count": 57,
   "metadata": {
    "slideshow": {
     "slide_type": "fragment"
    }
   },
   "outputs": [
    {
     "data": {
      "text/plain": [
       "['Hello World', 'he_<+llo(or<D', 'L}eml &Wol%dD', 'L)q<}aml &cWol%d3D+']"
      ]
     },
     "execution_count": 57,
     "metadata": {},
     "output_type": "execute_result"
    }
   ],
   "source": [
    "m.population"
   ]
  },
  {
   "cell_type": "code",
   "execution_count": 58,
   "metadata": {
    "slideshow": {
     "slide_type": "subslide"
    }
   },
   "outputs": [
    {
     "data": {
      "text/plain": [
       "{('__exit__', 80),\n",
       " ('cgi_decode', 10),\n",
       " ('cgi_decode', 11),\n",
       " ('cgi_decode', 12),\n",
       " ('cgi_decode', 13),\n",
       " ('cgi_decode', 16),\n",
       " ('cgi_decode', 17),\n",
       " ('cgi_decode', 18),\n",
       " ('cgi_decode', 19),\n",
       " ('cgi_decode', 20),\n",
       " ('cgi_decode', 21),\n",
       " ('cgi_decode', 22),\n",
       " ('cgi_decode', 31),\n",
       " ('cgi_decode', 32),\n",
       " ('cgi_decode', 33),\n",
       " ('run_function', 7)}"
      ]
     },
     "execution_count": 58,
     "metadata": {},
     "output_type": "execute_result"
    }
   ],
   "source": [
    "cgi_runner.coverage()"
   ]
  },
  {
   "cell_type": "code",
   "execution_count": 59,
   "metadata": {
    "button": false,
    "new_sheet": false,
    "run_control": {
     "read_only": false
    },
    "slideshow": {
     "slide_type": "fragment"
    }
   },
   "outputs": [
    {
     "data": {
      "image/png": "[encoded data removed]",
      "text/plain": [
       "<Figure size 432x288 with 1 Axes>"
      ]
     },
     "metadata": {
      "needs_background": "light"
     },
     "output_type": "display_data"
    }
   ],
   "source": [
    "all_coverage, cumulative_coverage = population_coverage(\n",
    "    m.population, cgi_decode)\n",
    "\n",
    "import matplotlib.pyplot as plt\n",
    "plt.plot(cumulative_coverage)\n",
    "plt.title('Coverage of cgi_decode() with random inputs')\n",
    "plt.xlabel('# of inputs')\n",
    "plt.ylabel('lines covered');"
   ]
  },
  {
   "cell_type": "markdown",
   "metadata": {
    "slideshow": {
     "slide_type": "fragment"
    }
   },
   "source": [
    "After 10,000 runs, we have managed to synthesize a `+` character and a valid `%xx` form.  We can still do better."
   ]
  },
  {
   "cell_type": "markdown",
   "metadata": {
    "button": false,
    "new_sheet": false,
    "run_control": {
     "read_only": false
    },
    "slideshow": {
     "slide_type": "subslide"
    },
    "solution2": "hidden",
    "solution2_first": true
   },
   "source": [
    "### Exercise 2: Fuzzing bc with Mutations\n",
    "\n",
    "Apply the above mutation-based fuzzing technique on `bc`, as in the chapter [\"Introduction to Fuzzing\"](Fuzzer.ipynb).\n",
    "\n",
    "#### Part 1: Non-Guided Mutations\n",
    "\n",
    "Start with non-guided mutations.  How many of the inputs are valid?"
   ]
  },
  {
   "cell_type": "markdown",
   "metadata": {
    "slideshow": {
     "slide_type": "skip"
    },
    "solution2": "hidden"
   },
   "source": [
    "**Solution.** This is just a matter of tying a `ProgramRunner` to a `MutationFuzzer`:"
   ]
  },
  {
   "cell_type": "code",
   "execution_count": 60,
   "metadata": {
    "slideshow": {
     "slide_type": "skip"
    },
    "solution2": "hidden"
   },
   "outputs": [],
   "source": [
    "from Fuzzer import ProgramRunner"
   ]
  },
  {
   "cell_type": "code",
   "execution_count": 61,
   "metadata": {
    "slideshow": {
     "slide_type": "skip"
    },
    "solution2": "hidden"
   },
   "outputs": [],
   "source": [
    "seed = [\"1 + 1\"]\n",
    "bc = ProgramRunner(program=\"bc\")\n",
    "m = MutationFuzzer(seed)\n",
    "outcomes = m.runs(bc, trials=100)"
   ]
  },
  {
   "cell_type": "code",
   "execution_count": 62,
   "metadata": {
    "slideshow": {
     "slide_type": "skip"
    },
    "solution2": "hidden"
   },
   "outputs": [
    {
     "data": {
      "text/plain": [
       "[(CompletedProcess(args='bc', returncode=0, stdout='', stderr='(standard_in) 1: parse error\\n'),\n",
       "  'PASS'),\n",
       " (CompletedProcess(args='bc', returncode=0, stdout='', stderr='(standard_in) 1: illegal character: $\\n(standard_in) 1: parse error\\n(standard_in) 1: illegal character: &\\n'),\n",
       "  'PASS'),\n",
       " (CompletedProcess(args='bc', returncode=0, stdout='', stderr='(standard_in) 1: parse error\\n'),\n",
       "  'PASS')]"
      ]
     },
     "execution_count": 62,
     "metadata": {},
     "output_type": "execute_result"
    }
   ],
   "source": [
    "outcomes[:3]"
   ]
  },
  {
   "cell_type": "code",
   "execution_count": 63,
   "metadata": {
    "slideshow": {
     "slide_type": "skip"
    },
    "solution2": "hidden"
   },
   "outputs": [
    {
     "data": {
      "text/plain": [
       "3"
      ]
     },
     "execution_count": 63,
     "metadata": {},
     "output_type": "execute_result"
    }
   ],
   "source": [
    "sum(1 for completed_process, outcome in outcomes if completed_process.stderr == \"\")"
   ]
  },
  {
   "cell_type": "markdown",
   "metadata": {
    "slideshow": {
     "slide_type": "subslide"
    }
   },
   "source": [
    "#### Part 2: Guided Mutations\n",
    "\n",
    "Continue with _guided_ mutations.  To this end, you will have to find a way to extract coverage from a C program such as `bc`.  Proceed in these steps:\n",
    "\n",
    "First, get [GNU bc](https://www.gnu.org/software/bc/); download, say, `bc-1.07.1.tar.gz` and unpack it:"
   ]
  },
  {
   "cell_type": "code",
   "execution_count": 64,
   "metadata": {
    "slideshow": {
     "slide_type": "fragment"
    }
   },
   "outputs": [
    {
     "name": "stdout",
     "output_type": "stream",
     "text": [
      "  % Total    % Received % Xferd  Average Speed   Time    Time     Time  Current\r\n",
      "                                 Dload  Upload   Total   Spent    Left  Speed\r\n",
      "100  410k  100  410k    0     0   345k      0  0:00:01  0:00:01 --:--:--  345k\r\n"
     ]
    }
   ],
   "source": [
    "!curl -O mirrors.kernel.org/gnu/bc/bc-1.07.1.tar.gz"
   ]
  },
  {
   "cell_type": "code",
   "execution_count": 65,
   "metadata": {
    "slideshow": {
     "slide_type": "fragment"
    }
   },
   "outputs": [],
   "source": [
    "!tar xfz bc-1.07.1.tar.gz"
   ]
  },
  {
   "cell_type": "markdown",
   "metadata": {
    "slideshow": {
     "slide_type": "subslide"
    }
   },
   "source": [
    "Second, configure the package:"
   ]
  },
  {
   "cell_type": "code",
   "execution_count": 66,
   "metadata": {
    "slideshow": {
     "slide_type": "subslide"
    }
   },
   "outputs": [
    {
     "name": "stdout",
     "output_type": "stream",
     "text": [
      "checking for a BSD-compatible install... /usr/bin/install -c\r\n",
      "checking whether build environment is sane... yes\r\n",
      "checking for a thread-safe mkdir -p... ./install-sh -c -d\r\n",
      "checking for gawk... no\r\n",
      "checking for mawk... no\r\n",
      "checking for nawk... no\r\n",
      "checking for awk... awk\r\n",
      "checking whether make sets $(MAKE)... yes\r\n",
      "checking whether make supports nested variables... yes\r\n",
      "checking for gcc... gcc\r\n",
      "checking whether the C compiler works... yes\r\n",
      "checking for C compiler default output file name... a.out\r\n",
      "checking for suffix of executables... \r\n",
      "checking whether we are cross compiling... no\r\n",
      "checking for suffix of object files... o\r\n",
      "checking whether we are using the GNU C compiler... yes\r\n",
      "checking whether gcc accepts -g... yes\r\n",
      "checking for gcc option to accept ISO C89... none needed\r\n",
      "checking whether gcc understands -c and -o together... yes\r\n",
      "checking for style of include used by make... GNU\r\n",
      "checking dependency style of gcc... gcc3\r\n",
      "checking how to run the C preprocessor... gcc -E\r\n",
      "checking for grep that handles long lines and -e... /usr/bin/grep\r\n",
      "checking for egrep... /usr/bin/grep -E\r\n",
      "checking for ANSI C header files... yes\r\n",
      "checking for sys/types.h... yes\r\n",
      "checking for sys/stat.h... yes\r\n",
      "checking for stdlib.h... yes\r\n",
      "checking for string.h... yes\r\n",
      "checking for memory.h... yes\r\n",
      "checking for strings.h... yes\r\n",
      "checking for inttypes.h... yes\r\n",
      "checking for stdint.h... yes\r\n",
      "checking for unistd.h... yes\r\n",
      "checking minix/config.h usability... no\r\n",
      "checking minix/config.h presence... no\r\n",
      "checking for minix/config.h... no\r\n",
      "checking whether it is safe to define __EXTENSIONS__... yes\r\n",
      "checking for flex... flex\r\n",
      "checking lex output file root... lex.yy\r\n",
      "checking lex library... -ll\r\n",
      "checking whether yytext is a pointer... yes\r\n",
      "checking for ar... ar\r\n",
      "checking the archiver (ar) interface... ar\r\n",
      "checking for bison... bison -y\r\n",
      "checking for ranlib... ranlib\r\n",
      "checking whether make sets $(MAKE)... (cached) yes\r\n",
      "checking for stdarg.h... yes\r\n",
      "checking for stddef.h... yes\r\n",
      "checking for stdlib.h... (cached) yes\r\n",
      "checking for string.h... (cached) yes\r\n",
      "checking for errno.h... yes\r\n",
      "checking for limits.h... yes\r\n",
      "checking for unistd.h... (cached) yes\r\n",
      "checking for lib.h... no\r\n",
      "checking for an ANSI C-conforming const... yes\r\n",
      "checking for size_t... yes\r\n",
      "checking for ptrdiff_t... yes\r\n",
      "checking for vprintf... yes\r\n",
      "checking for _doprnt... no\r\n",
      "checking for isgraph... yes\r\n",
      "checking for setvbuf... yes\r\n",
      "checking for fstat... yes\r\n",
      "checking for strtol... yes\r\n",
      "Adding GCC specific compile flags.\r\n",
      "checking that generated files are newer than configure... done\r\n",
      "configure: creating ./config.status\r\n",
      "config.status: creating Makefile\r\n",
      "config.status: creating bc/Makefile\r\n",
      "config.status: creating dc/Makefile\r\n",
      "config.status: creating lib/Makefile\r\n",
      "config.status: creating doc/Makefile\r\n",
      "config.status: creating doc/texi-ver.incl\r\n",
      "config.status: creating config.h\r\n",
      "config.status: executing depfiles commands\r\n"
     ]
    }
   ],
   "source": [
    "!cd bc-1.07.1; ./configure"
   ]
  },
  {
   "cell_type": "markdown",
   "metadata": {
    "slideshow": {
     "slide_type": "subslide"
    }
   },
   "source": [
    "Third, compile the package with special flags:"
   ]
  },
  {
   "cell_type": "code",
   "execution_count": 67,
   "metadata": {
    "slideshow": {
     "slide_type": "subslide"
    }
   },
   "outputs": [
    {
     "name": "stdout",
     "output_type": "stream",
     "text": [
      "/Library/Developer/CommandLineTools/usr/bin/make  all-recursive\r\n",
      "Making all in lib\r\n",
      "gcc -DHAVE_CONFIG_H  -I. -I..  -I. -I.. -I./../h  -g -O2 -Wall -funsigned-char --coverage -MT getopt.o -MD -MP -MF .deps/getopt.Tpo -c -o getopt.o getopt.c\r\n",
      "mv -f .deps/getopt.Tpo .deps/getopt.Po\r\n",
      "gcc -DHAVE_CONFIG_H  -I. -I..  -I. -I.. -I./../h  -g -O2 -Wall -funsigned-char --coverage -MT getopt1.o -MD -MP -MF .deps/getopt1.Tpo -c -o getopt1.o getopt1.c\r\n",
      "mv -f .deps/getopt1.Tpo .deps/getopt1.Po\r\n",
      "gcc -DHAVE_CONFIG_H  -I. -I..  -I. -I.. -I./../h  -g -O2 -Wall -funsigned-char --coverage -MT vfprintf.o -MD -MP -MF .deps/vfprintf.Tpo -c -o vfprintf.o vfprintf.c\r\n",
      "mv -f .deps/vfprintf.Tpo .deps/vfprintf.Po\r\n",
      "gcc -DHAVE_CONFIG_H  -I. -I..  -I. -I.. -I./../h  -g -O2 -Wall -funsigned-char --coverage -MT number.o -MD -MP -MF .deps/number.Tpo -c -o number.o number.c\r\n",
      "mv -f .deps/number.Tpo .deps/number.Po\r\n",
      "rm -f libbc.a\r\n",
      "ar cru libbc.a getopt.o getopt1.o vfprintf.o number.o \r\n",
      "ranlib libbc.a\r\n",
      "Making all in bc\r\n",
      "gcc -DHAVE_CONFIG_H -I. -I..  -I. -I./../h  -g -O2 -Wall -funsigned-char --coverage -MT main.o -MD -MP -MF .deps/main.Tpo -c -o main.o main.c\r\n",
      "mv -f .deps/main.Tpo .deps/main.Po\r\n",
      "gcc -DHAVE_CONFIG_H -I. -I..  -I. -I./../h  -g -O2 -Wall -funsigned-char --coverage -MT bc.o -MD -MP -MF .deps/bc.Tpo -c -o bc.o bc.c\r\n",
      "mv -f .deps/bc.Tpo .deps/bc.Po\r\n",
      "gcc -DHAVE_CONFIG_H -I. -I..  -I. -I./../h  -g -O2 -Wall -funsigned-char --coverage -MT scan.o -MD -MP -MF .deps/scan.Tpo -c -o scan.o scan.c\r\n",
      "mv -f .deps/scan.Tpo .deps/scan.Po\r\n",
      "gcc -DHAVE_CONFIG_H -I. -I..  -I. -I./../h  -g -O2 -Wall -funsigned-char --coverage -MT execute.o -MD -MP -MF .deps/execute.Tpo -c -o execute.o execute.c\r\n",
      "mv -f .deps/execute.Tpo .deps/execute.Po\r\n",
      "gcc -DHAVE_CONFIG_H -I. -I..  -I. -I./../h  -g -O2 -Wall -funsigned-char --coverage -MT load.o -MD -MP -MF .deps/load.Tpo -c -o load.o load.c\r\n",
      "mv -f .deps/load.Tpo .deps/load.Po\r\n",
      "gcc -DHAVE_CONFIG_H -I. -I..  -I. -I./../h  -g -O2 -Wall -funsigned-char --coverage -MT storage.o -MD -MP -MF .deps/storage.Tpo -c -o storage.o storage.c\r\n",
      "mv -f .deps/storage.Tpo .deps/storage.Po\r\n",
      "gcc -DHAVE_CONFIG_H -I. -I..  -I. -I./../h  -g -O2 -Wall -funsigned-char --coverage -MT util.o -MD -MP -MF .deps/util.Tpo -c -o util.o util.c\r\n",
      "mv -f .deps/util.Tpo .deps/util.Po\r\n",
      "gcc -DHAVE_CONFIG_H -I. -I..  -I. -I./../h  -g -O2 -Wall -funsigned-char --coverage -MT warranty.o -MD -MP -MF .deps/warranty.Tpo -c -o warranty.o warranty.c\r\n",
      "mv -f .deps/warranty.Tpo .deps/warranty.Po\r\n",
      "echo '{0}' > libmath.h\r\n",
      "/Library/Developer/CommandLineTools/usr/bin/make global.o\r\n",
      "gcc -DHAVE_CONFIG_H -I. -I..  -I. -I./../h  -g -O2 -Wall -funsigned-char --coverage -MT global.o -MD -MP -MF .deps/global.Tpo -c -o global.o global.c\r\n",
      "mv -f .deps/global.Tpo .deps/global.Po\r\n",
      "gcc -g -O2 -Wall -funsigned-char --coverage   -o libmath.h -o fbc main.o bc.o scan.o execute.o load.o storage.o util.o warranty.o global.o ../lib/libbc.a -ll  \r\n",
      "./fbc -c ./libmath.b </dev/null >libmath.h\r\n",
      "./fix-libmath_h\r\n",
      "2655\r\n",
      "2793\r\n",
      "rm -f ./fbc ./global.o\r\n",
      "gcc -DHAVE_CONFIG_H -I. -I..  -I. -I./../h  -g -O2 -Wall -funsigned-char --coverage -MT global.o -MD -MP -MF .deps/global.Tpo -c -o global.o global.c\r\n",
      "mv -f .deps/global.Tpo .deps/global.Po\r\n",
      "gcc -g -O2 -Wall -funsigned-char --coverage   -o bc main.o bc.o scan.o execute.o load.o storage.o util.o global.o warranty.o ../lib/libbc.a -ll  \r\n",
      "Making all in dc\r\n",
      "gcc -DHAVE_CONFIG_H -I. -I..  -I./.. -I./../h  -g -O2 -Wall -funsigned-char --coverage -MT dc.o -MD -MP -MF .deps/dc.Tpo -c -o dc.o dc.c\r\n",
      "mv -f .deps/dc.Tpo .deps/dc.Po\r\n",
      "gcc -DHAVE_CONFIG_H -I. -I..  -I./.. -I./../h  -g -O2 -Wall -funsigned-char --coverage -MT misc.o -MD -MP -MF .deps/misc.Tpo -c -o misc.o misc.c\r\n",
      "mv -f .deps/misc.Tpo .deps/misc.Po\r\n",
      "gcc -DHAVE_CONFIG_H -I. -I..  -I./.. -I./../h  -g -O2 -Wall -funsigned-char --coverage -MT eval.o -MD -MP -MF .deps/eval.Tpo -c -o eval.o eval.c\r\n",
      "mv -f .deps/eval.Tpo .deps/eval.Po\r\n",
      "gcc -DHAVE_CONFIG_H -I. -I..  -I./.. -I./../h  -g -O2 -Wall -funsigned-char --coverage -MT stack.o -MD -MP -MF .deps/stack.Tpo -c -o stack.o stack.c\r\n",
      "mv -f .deps/stack.Tpo .deps/stack.Po\r\n",
      "gcc -DHAVE_CONFIG_H -I. -I..  -I./.. -I./../h  -g -O2 -Wall -funsigned-char --coverage -MT array.o -MD -MP -MF .deps/array.Tpo -c -o array.o array.c\r\n",
      "mv -f .deps/array.Tpo .deps/array.Po\r\n",
      "gcc -DHAVE_CONFIG_H -I. -I..  -I./.. -I./../h  -g -O2 -Wall -funsigned-char --coverage -MT numeric.o -MD -MP -MF .deps/numeric.Tpo -c -o numeric.o numeric.c\r\n",
      "mv -f .deps/numeric.Tpo .deps/numeric.Po\r\n",
      "gcc -DHAVE_CONFIG_H -I. -I..  -I./.. -I./../h  -g -O2 -Wall -funsigned-char --coverage -MT string.o -MD -MP -MF .deps/string.Tpo -c -o string.o string.c\r\n",
      "mv -f .deps/string.Tpo .deps/string.Po\r\n",
      "gcc -g -O2 -Wall -funsigned-char --coverage   -o dc dc.o misc.o eval.o stack.o array.o numeric.o string.o ../lib/libbc.a \r\n",
      "Making all in doc\r\n",
      "restore=: && backupdir=\".am$$\" && \\\r\n",
      "\tam__cwd=`pwd` && CDPATH=\"${ZSH_VERSION+.}:\" && cd . && \\\r\n",
      "\trm -rf $backupdir && mkdir $backupdir && \\\r\n",
      "\tif (makeinfo --no-split --version) >/dev/null 2>&1; then \\\r\n",
      "\t  for f in bc.info bc.info-[0-9] bc.info-[0-9][0-9] bc.i[0-9] bc.i[0-9][0-9]; do \\\r\n",
      "\t    if test -f $f; then mv $f $backupdir; restore=mv; else :; fi; \\\r\n",
      "\t  done; \\\r\n",
      "\telse :; fi && \\\r\n",
      "\tcd \"$am__cwd\"; \\\r\n",
      "\tif makeinfo --no-split   -I . \\\r\n",
      "\t -o bc.info bc.texi; \\\r\n",
      "\tthen \\\r\n",
      "\t  rc=0; \\\r\n",
      "\t  CDPATH=\"${ZSH_VERSION+.}:\" && cd .; \\\r\n",
      "\telse \\\r\n",
      "\t  rc=$?; \\\r\n",
      "\t  CDPATH=\"${ZSH_VERSION+.}:\" && cd . && \\\r\n",
      "\t  $restore $backupdir/* `echo \"./bc.info\" | sed 's|[^/]*$||'`; \\\r\n",
      "\tfi; \\\r\n",
      "\trm -rf $backupdir; exit $rc\r\n",
      "restore=: && backupdir=\".am$$\" && \\\r\n",
      "\tam__cwd=`pwd` && CDPATH=\"${ZSH_VERSION+.}:\" && cd . && \\\r\n",
      "\trm -rf $backupdir && mkdir $backupdir && \\\r\n",
      "\tif (makeinfo --no-split --version) >/dev/null 2>&1; then \\\r\n",
      "\t  for f in dc.info dc.info-[0-9] dc.info-[0-9][0-9] dc.i[0-9] dc.i[0-9][0-9]; do \\\r\n",
      "\t    if test -f $f; then mv $f $backupdir; restore=mv; else :; fi; \\\r\n",
      "\t  done; \\\r\n",
      "\telse :; fi && \\\r\n",
      "\tcd \"$am__cwd\"; \\\r\n",
      "\tif makeinfo --no-split   -I . \\\r\n",
      "\t -o dc.info dc.texi; \\\r\n",
      "\tthen \\\r\n",
      "\t  rc=0; \\\r\n",
      "\t  CDPATH=\"${ZSH_VERSION+.}:\" && cd .; \\\r\n",
      "\telse \\\r\n",
      "\t  rc=$?; \\\r\n",
      "\t  CDPATH=\"${ZSH_VERSION+.}:\" && cd . && \\\r\n",
      "\t  $restore $backupdir/* `echo \"./dc.info\" | sed 's|[^/]*$||'`; \\\r\n",
      "\tfi; \\\r\n",
      "\trm -rf $backupdir; exit $rc\r\n",
      "make[4]: Nothing to be done for `all-am'.\r\n"
     ]
    }
   ],
   "source": [
    "!cd bc-1.07.1; make CFLAGS=\"--coverage\""
   ]
  },
  {
   "cell_type": "markdown",
   "metadata": {
    "slideshow": {
     "slide_type": "subslide"
    }
   },
   "source": [
    "The file `bc/bc` should now be executable..."
   ]
  },
  {
   "cell_type": "code",
   "execution_count": 68,
   "metadata": {
    "slideshow": {
     "slide_type": "fragment"
    }
   },
   "outputs": [
    {
     "name": "stdout",
     "output_type": "stream",
     "text": [
      "4\r\n"
     ]
    }
   ],
   "source": [
    "!cd bc-1.07.1/bc; echo 2 + 2 | ./bc"
   ]
  },
  {
   "cell_type": "markdown",
   "metadata": {
    "slideshow": {
     "slide_type": "fragment"
    }
   },
   "source": [
    "...and you should be able to run the `gcov` program to retrieve coverage information."
   ]
  },
  {
   "cell_type": "code",
   "execution_count": 69,
   "metadata": {
    "slideshow": {
     "slide_type": "fragment"
    }
   },
   "outputs": [
    {
     "name": "stdout",
     "output_type": "stream",
     "text": [
      "File 'main.c'\r\n",
      "Lines executed:52.42% of 124\r\n",
      "main.c:creating 'main.c.gcov'\r\n",
      "\r\n"
     ]
    }
   ],
   "source": [
    "!cd bc-1.07.1/bc; gcov main.c"
   ]
  },
  {
   "cell_type": "markdown",
   "metadata": {
    "slideshow": {
     "slide_type": "subslide"
    }
   },
   "source": [
    "As sketched in the [\"Coverage\" chapter](Coverage.ipynb), the file [bc-1.07.1/bc/main.c.gcov](bc-1.07.1/bc/main.c.gcov) now holds the coverage information for `bc.c`.  Each line is prefixed with the number of times it was executed. `#####` means zero times; `-` means non-executable line."
   ]
  },
  {
   "cell_type": "markdown",
   "metadata": {
    "slideshow": {
     "slide_type": "fragment"
    }
   },
   "source": [
    "Parse the GCOV file for `bc` and create a `coverage` set, as in `FunctionCoverageRunner`.  Make this a `ProgramCoverageRunner` class that would be constructed with a list of source files (`bc.c`, `main.c`, `load.c`) to run `gcov` on."
   ]
  },
  {
   "cell_type": "markdown",
   "metadata": {
    "slideshow": {
     "slide_type": "fragment"
    }
   },
   "source": [
    "When you're done, don't forget to clean up:"
   ]
  },
  {
   "cell_type": "code",
   "execution_count": 70,
   "metadata": {
    "slideshow": {
     "slide_type": "fragment"
    }
   },
   "outputs": [],
   "source": [
    "!rm -fr bc-1.07.1 bc-1.07.1.tar.gz"
   ]
  },
  {
   "cell_type": "markdown",
   "metadata": {
    "button": false,
    "new_sheet": false,
    "run_control": {
     "read_only": false
    },
    "slideshow": {
     "slide_type": "subslide"
    }
   },
   "source": [
    "### Exercise 3\n",
    "\n",
    "In this [blog post](https://lcamtuf.blogspot.com/2014/08/binary-fuzzing-strategies-what-works.html), the author of _American Fuzzy Lop_ (AFL), a very popular mutation-based fuzzer discusses the efficiency of various mutation operators.  Implement four of them and evaluate their efficiency as in the examples above."
   ]
  },
  {
   "cell_type": "markdown",
   "metadata": {
    "button": false,
    "new_sheet": false,
    "run_control": {
     "read_only": false
    },
    "slideshow": {
     "slide_type": "subslide"
    }
   },
   "source": [
    "### Exercise 4\n",
    "\n",
    "When adding a new element to the list of candidates, AFL does actually not compare the _coverage_, but adds an element if it exercises a new _branch_.  Using branch coverage from the exercises of the [\"Coverage\"](Coverage.ipynb) chapter, implement this \"branch\" strategy and compare it against the \"coverage\" strategy, above."
   ]
  },
  {
   "cell_type": "markdown",
   "metadata": {
    "button": false,
    "new_sheet": false,
    "run_control": {
     "read_only": false
    },
    "slideshow": {
     "slide_type": "subslide"
    }
   },
   "source": [
    "### Exercise 5\n",
    "\n",
    "Design and implement a system that will gather a population of URLs from the Web.  Can you achieve a higher coverage with these samples?  What if you use them as initial population for further mutation?"
   ]
  }
 ],
 "metadata": {
  "ipub": {
   "bibliography": "fuzzingbook.bib",
   "toc": true
  },
  "kernelspec": {
   "display_name": "Python 3",
   "language": "python",
   "name": "python3"
  },
  "language_info": {
   "codemirror_mode": {
    "name": "ipython",
    "version": 3
   },
   "file_extension": ".py",
   "mimetype": "text/x-python",
   "name": "python",
   "nbconvert_exporter": "python",
   "pygments_lexer": "ipython3",
   "version": "3.6.10"
  },
  "toc": {
   "base_numbering": 1,
   "nav_menu": {},
   "number_sections": true,
   "sideBar": true,
   "skip_h1_title": true,
   "title_cell": "",
   "title_sidebar": "Contents",
   "toc_cell": false,
   "toc_position": {},
   "toc_section_display": true,
   "toc_window_display": true
  },
  "toc-autonumbering": false
 },
 "nbformat": 4,
 "nbformat_minor": 2
}